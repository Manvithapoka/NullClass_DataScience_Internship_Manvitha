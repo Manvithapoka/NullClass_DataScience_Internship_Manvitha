{
  "nbformat": 4,
  "nbformat_minor": 0,
  "metadata": {
    "colab": {
      "provenance": []
    },
    "kernelspec": {
      "name": "python3",
      "display_name": "Python 3"
    },
    "language_info": {
      "name": "python"
    }
  },
  "cells": [
    {
      "cell_type": "code",
      "source": [
        "!pip install deepface\n",
        "!pip install opencv-python-headless\n"
      ],
      "metadata": {
        "colab": {
          "base_uri": "https://localhost:8080/"
        },
        "id": "NmNi5-3k1V0F",
        "outputId": "78e3ef33-6252-461e-bfa5-4e71cae020de"
      },
      "execution_count": 4,
      "outputs": [
        {
          "output_type": "stream",
          "name": "stdout",
          "text": [
            "Collecting deepface\n",
            "  Downloading deepface-0.0.94-py3-none-any.whl.metadata (35 kB)\n",
            "Requirement already satisfied: requests>=2.27.1 in /usr/local/lib/python3.11/dist-packages (from deepface) (2.32.3)\n",
            "Requirement already satisfied: numpy>=1.14.0 in /usr/local/lib/python3.11/dist-packages (from deepface) (2.0.2)\n",
            "Requirement already satisfied: pandas>=0.23.4 in /usr/local/lib/python3.11/dist-packages (from deepface) (2.2.2)\n",
            "Requirement already satisfied: gdown>=3.10.1 in /usr/local/lib/python3.11/dist-packages (from deepface) (5.2.0)\n",
            "Requirement already satisfied: tqdm>=4.30.0 in /usr/local/lib/python3.11/dist-packages (from deepface) (4.67.1)\n",
            "Requirement already satisfied: Pillow>=5.2.0 in /usr/local/lib/python3.11/dist-packages (from deepface) (11.3.0)\n",
            "Requirement already satisfied: opencv-python>=4.5.5.64 in /usr/local/lib/python3.11/dist-packages (from deepface) (4.12.0.88)\n",
            "Requirement already satisfied: tensorflow>=1.9.0 in /usr/local/lib/python3.11/dist-packages (from deepface) (2.18.0)\n",
            "Requirement already satisfied: keras>=2.2.0 in /usr/local/lib/python3.11/dist-packages (from deepface) (3.8.0)\n",
            "Collecting Flask<=2.0.2,>=1.1.2 (from deepface)\n",
            "  Downloading Flask-2.0.2-py3-none-any.whl.metadata (3.8 kB)\n",
            "Collecting werkzeug<=2.0.2 (from deepface)\n",
            "  Downloading Werkzeug-2.0.2-py3-none-any.whl.metadata (4.5 kB)\n",
            "Collecting flask-cors>=4.0.1 (from deepface)\n",
            "  Downloading flask_cors-6.0.1-py3-none-any.whl.metadata (5.3 kB)\n",
            "Collecting mtcnn>=0.1.0 (from deepface)\n",
            "  Downloading mtcnn-1.0.0-py3-none-any.whl.metadata (5.8 kB)\n",
            "Collecting retina-face>=0.0.14 (from deepface)\n",
            "  Downloading retina_face-0.0.17-py3-none-any.whl.metadata (10 kB)\n",
            "Collecting fire>=0.4.0 (from deepface)\n",
            "  Downloading fire-0.7.0.tar.gz (87 kB)\n",
            "\u001b[2K     \u001b[90m━━━━━━━━━━━━━━━━━━━━━━━━━━━━━━━━━━━━━━━━\u001b[0m \u001b[32m87.2/87.2 kB\u001b[0m \u001b[31m3.9 MB/s\u001b[0m eta \u001b[36m0:00:00\u001b[0m\n",
            "\u001b[?25h  Preparing metadata (setup.py) ... \u001b[?25l\u001b[?25hdone\n",
            "Collecting gunicorn>=20.1.0 (from deepface)\n",
            "  Downloading gunicorn-23.0.0-py3-none-any.whl.metadata (4.4 kB)\n",
            "Requirement already satisfied: termcolor in /usr/local/lib/python3.11/dist-packages (from fire>=0.4.0->deepface) (3.1.0)\n",
            "Requirement already satisfied: Jinja2>=3.0 in /usr/local/lib/python3.11/dist-packages (from Flask<=2.0.2,>=1.1.2->deepface) (3.1.6)\n",
            "Requirement already satisfied: itsdangerous>=2.0 in /usr/local/lib/python3.11/dist-packages (from Flask<=2.0.2,>=1.1.2->deepface) (2.2.0)\n",
            "Requirement already satisfied: click>=7.1.2 in /usr/local/lib/python3.11/dist-packages (from Flask<=2.0.2,>=1.1.2->deepface) (8.2.1)\n",
            "Requirement already satisfied: beautifulsoup4 in /usr/local/lib/python3.11/dist-packages (from gdown>=3.10.1->deepface) (4.13.4)\n",
            "Requirement already satisfied: filelock in /usr/local/lib/python3.11/dist-packages (from gdown>=3.10.1->deepface) (3.18.0)\n",
            "Requirement already satisfied: packaging in /usr/local/lib/python3.11/dist-packages (from gunicorn>=20.1.0->deepface) (25.0)\n",
            "Requirement already satisfied: absl-py in /usr/local/lib/python3.11/dist-packages (from keras>=2.2.0->deepface) (1.4.0)\n",
            "Requirement already satisfied: rich in /usr/local/lib/python3.11/dist-packages (from keras>=2.2.0->deepface) (13.9.4)\n",
            "Requirement already satisfied: namex in /usr/local/lib/python3.11/dist-packages (from keras>=2.2.0->deepface) (0.1.0)\n",
            "Requirement already satisfied: h5py in /usr/local/lib/python3.11/dist-packages (from keras>=2.2.0->deepface) (3.14.0)\n",
            "Requirement already satisfied: optree in /usr/local/lib/python3.11/dist-packages (from keras>=2.2.0->deepface) (0.17.0)\n",
            "Requirement already satisfied: ml-dtypes in /usr/local/lib/python3.11/dist-packages (from keras>=2.2.0->deepface) (0.4.1)\n",
            "Requirement already satisfied: joblib>=1.4.2 in /usr/local/lib/python3.11/dist-packages (from mtcnn>=0.1.0->deepface) (1.5.1)\n",
            "Collecting lz4>=4.3.3 (from mtcnn>=0.1.0->deepface)\n",
            "  Downloading lz4-4.4.4-cp311-cp311-manylinux_2_17_x86_64.manylinux2014_x86_64.whl.metadata (3.8 kB)\n",
            "Requirement already satisfied: python-dateutil>=2.8.2 in /usr/local/lib/python3.11/dist-packages (from pandas>=0.23.4->deepface) (2.9.0.post0)\n",
            "Requirement already satisfied: pytz>=2020.1 in /usr/local/lib/python3.11/dist-packages (from pandas>=0.23.4->deepface) (2025.2)\n",
            "Requirement already satisfied: tzdata>=2022.7 in /usr/local/lib/python3.11/dist-packages (from pandas>=0.23.4->deepface) (2025.2)\n",
            "Requirement already satisfied: charset-normalizer<4,>=2 in /usr/local/lib/python3.11/dist-packages (from requests>=2.27.1->deepface) (3.4.2)\n",
            "Requirement already satisfied: idna<4,>=2.5 in /usr/local/lib/python3.11/dist-packages (from requests>=2.27.1->deepface) (3.10)\n",
            "Requirement already satisfied: urllib3<3,>=1.21.1 in /usr/local/lib/python3.11/dist-packages (from requests>=2.27.1->deepface) (2.5.0)\n",
            "Requirement already satisfied: certifi>=2017.4.17 in /usr/local/lib/python3.11/dist-packages (from requests>=2.27.1->deepface) (2025.7.14)\n",
            "Requirement already satisfied: astunparse>=1.6.0 in /usr/local/lib/python3.11/dist-packages (from tensorflow>=1.9.0->deepface) (1.6.3)\n",
            "Requirement already satisfied: flatbuffers>=24.3.25 in /usr/local/lib/python3.11/dist-packages (from tensorflow>=1.9.0->deepface) (25.2.10)\n",
            "Requirement already satisfied: gast!=0.5.0,!=0.5.1,!=0.5.2,>=0.2.1 in /usr/local/lib/python3.11/dist-packages (from tensorflow>=1.9.0->deepface) (0.6.0)\n",
            "Requirement already satisfied: google-pasta>=0.1.1 in /usr/local/lib/python3.11/dist-packages (from tensorflow>=1.9.0->deepface) (0.2.0)\n",
            "Requirement already satisfied: libclang>=13.0.0 in /usr/local/lib/python3.11/dist-packages (from tensorflow>=1.9.0->deepface) (18.1.1)\n",
            "Requirement already satisfied: opt-einsum>=2.3.2 in /usr/local/lib/python3.11/dist-packages (from tensorflow>=1.9.0->deepface) (3.4.0)\n",
            "Requirement already satisfied: protobuf!=4.21.0,!=4.21.1,!=4.21.2,!=4.21.3,!=4.21.4,!=4.21.5,<6.0.0dev,>=3.20.3 in /usr/local/lib/python3.11/dist-packages (from tensorflow>=1.9.0->deepface) (5.29.5)\n",
            "Requirement already satisfied: setuptools in /usr/local/lib/python3.11/dist-packages (from tensorflow>=1.9.0->deepface) (75.2.0)\n",
            "Requirement already satisfied: six>=1.12.0 in /usr/local/lib/python3.11/dist-packages (from tensorflow>=1.9.0->deepface) (1.17.0)\n",
            "Requirement already satisfied: typing-extensions>=3.6.6 in /usr/local/lib/python3.11/dist-packages (from tensorflow>=1.9.0->deepface) (4.14.1)\n",
            "Requirement already satisfied: wrapt>=1.11.0 in /usr/local/lib/python3.11/dist-packages (from tensorflow>=1.9.0->deepface) (1.17.2)\n",
            "Requirement already satisfied: grpcio<2.0,>=1.24.3 in /usr/local/lib/python3.11/dist-packages (from tensorflow>=1.9.0->deepface) (1.74.0)\n",
            "Requirement already satisfied: tensorboard<2.19,>=2.18 in /usr/local/lib/python3.11/dist-packages (from tensorflow>=1.9.0->deepface) (2.18.0)\n",
            "Requirement already satisfied: tensorflow-io-gcs-filesystem>=0.23.1 in /usr/local/lib/python3.11/dist-packages (from tensorflow>=1.9.0->deepface) (0.37.1)\n",
            "Requirement already satisfied: wheel<1.0,>=0.23.0 in /usr/local/lib/python3.11/dist-packages (from astunparse>=1.6.0->tensorflow>=1.9.0->deepface) (0.45.1)\n",
            "Requirement already satisfied: MarkupSafe>=2.0 in /usr/local/lib/python3.11/dist-packages (from Jinja2>=3.0->Flask<=2.0.2,>=1.1.2->deepface) (3.0.2)\n",
            "Requirement already satisfied: markdown>=2.6.8 in /usr/local/lib/python3.11/dist-packages (from tensorboard<2.19,>=2.18->tensorflow>=1.9.0->deepface) (3.8.2)\n",
            "Requirement already satisfied: tensorboard-data-server<0.8.0,>=0.7.0 in /usr/local/lib/python3.11/dist-packages (from tensorboard<2.19,>=2.18->tensorflow>=1.9.0->deepface) (0.7.2)\n",
            "Requirement already satisfied: soupsieve>1.2 in /usr/local/lib/python3.11/dist-packages (from beautifulsoup4->gdown>=3.10.1->deepface) (2.7)\n",
            "Requirement already satisfied: PySocks!=1.5.7,>=1.5.6 in /usr/local/lib/python3.11/dist-packages (from requests[socks]->gdown>=3.10.1->deepface) (1.7.1)\n",
            "Requirement already satisfied: markdown-it-py>=2.2.0 in /usr/local/lib/python3.11/dist-packages (from rich->keras>=2.2.0->deepface) (3.0.0)\n",
            "Requirement already satisfied: pygments<3.0.0,>=2.13.0 in /usr/local/lib/python3.11/dist-packages (from rich->keras>=2.2.0->deepface) (2.19.2)\n",
            "Requirement already satisfied: mdurl~=0.1 in /usr/local/lib/python3.11/dist-packages (from markdown-it-py>=2.2.0->rich->keras>=2.2.0->deepface) (0.1.2)\n",
            "Downloading deepface-0.0.94-py3-none-any.whl (127 kB)\n",
            "\u001b[2K   \u001b[90m━━━━━━━━━━━━━━━━━━━━━━━━━━━━━━━━━━━━━━━━\u001b[0m \u001b[32m127.7/127.7 kB\u001b[0m \u001b[31m11.7 MB/s\u001b[0m eta \u001b[36m0:00:00\u001b[0m\n",
            "\u001b[?25hDownloading Flask-2.0.2-py3-none-any.whl (95 kB)\n",
            "\u001b[2K   \u001b[90m━━━━━━━━━━━━━━━━━━━━━━━━━━━━━━━━━━━━━━━━\u001b[0m \u001b[32m95.2/95.2 kB\u001b[0m \u001b[31m7.5 MB/s\u001b[0m eta \u001b[36m0:00:00\u001b[0m\n",
            "\u001b[?25hDownloading flask_cors-6.0.1-py3-none-any.whl (13 kB)\n",
            "Downloading gunicorn-23.0.0-py3-none-any.whl (85 kB)\n",
            "\u001b[2K   \u001b[90m━━━━━━━━━━━━━━━━━━━━━━━━━━━━━━━━━━━━━━━━\u001b[0m \u001b[32m85.0/85.0 kB\u001b[0m \u001b[31m6.4 MB/s\u001b[0m eta \u001b[36m0:00:00\u001b[0m\n",
            "\u001b[?25hDownloading mtcnn-1.0.0-py3-none-any.whl (1.9 MB)\n",
            "\u001b[2K   \u001b[90m━━━━━━━━━━━━━━━━━━━━━━━━━━━━━━━━━━━━━━━━\u001b[0m \u001b[32m1.9/1.9 MB\u001b[0m \u001b[31m34.1 MB/s\u001b[0m eta \u001b[36m0:00:00\u001b[0m\n",
            "\u001b[?25hDownloading retina_face-0.0.17-py3-none-any.whl (25 kB)\n",
            "Downloading Werkzeug-2.0.2-py3-none-any.whl (288 kB)\n",
            "\u001b[2K   \u001b[90m━━━━━━━━━━━━━━━━━━━━━━━━━━━━━━━━━━━━━━━━\u001b[0m \u001b[32m288.9/288.9 kB\u001b[0m \u001b[31m23.3 MB/s\u001b[0m eta \u001b[36m0:00:00\u001b[0m\n",
            "\u001b[?25hDownloading lz4-4.4.4-cp311-cp311-manylinux_2_17_x86_64.manylinux2014_x86_64.whl (1.3 MB)\n",
            "\u001b[2K   \u001b[90m━━━━━━━━━━━━━━━━━━━━━━━━━━━━━━━━━━━━━━━━\u001b[0m \u001b[32m1.3/1.3 MB\u001b[0m \u001b[31m70.1 MB/s\u001b[0m eta \u001b[36m0:00:00\u001b[0m\n",
            "\u001b[?25hBuilding wheels for collected packages: fire\n",
            "  Building wheel for fire (setup.py) ... \u001b[?25l\u001b[?25hdone\n",
            "  Created wheel for fire: filename=fire-0.7.0-py3-none-any.whl size=114249 sha256=709e861659054d5ce839dc2e04f5e44848eaa340e099ea1f77d7782db945f381\n",
            "  Stored in directory: /root/.cache/pip/wheels/46/54/24/1624fd5b8674eb1188623f7e8e17cdf7c0f6c24b609dfb8a89\n",
            "Successfully built fire\n",
            "Installing collected packages: werkzeug, lz4, gunicorn, fire, mtcnn, Flask, flask-cors, retina-face, deepface\n",
            "  Attempting uninstall: werkzeug\n",
            "    Found existing installation: Werkzeug 3.1.3\n",
            "    Uninstalling Werkzeug-3.1.3:\n",
            "      Successfully uninstalled Werkzeug-3.1.3\n",
            "  Attempting uninstall: Flask\n",
            "    Found existing installation: Flask 3.1.1\n",
            "    Uninstalling Flask-3.1.1:\n",
            "      Successfully uninstalled Flask-3.1.1\n",
            "Successfully installed Flask-2.0.2 deepface-0.0.94 fire-0.7.0 flask-cors-6.0.1 gunicorn-23.0.0 lz4-4.4.4 mtcnn-1.0.0 retina-face-0.0.17 werkzeug-2.0.2\n",
            "Requirement already satisfied: opencv-python-headless in /usr/local/lib/python3.11/dist-packages (4.12.0.88)\n",
            "Requirement already satisfied: numpy<2.3.0,>=2 in /usr/local/lib/python3.11/dist-packages (from opencv-python-headless) (2.0.2)\n"
          ]
        }
      ]
    },
    {
      "cell_type": "code",
      "execution_count": 7,
      "metadata": {
        "colab": {
          "base_uri": "https://localhost:8080/",
          "height": 1000
        },
        "id": "tPVqFRYG08Cf",
        "outputId": "c7ea04f4-dd5d-426a-a46a-dd50a8d746ef"
      },
      "outputs": [
        {
          "output_type": "stream",
          "name": "stderr",
          "text": [
            "Action: age:   0%|          | 0/2 [00:00<?, ?it/s]    "
          ]
        },
        {
          "output_type": "stream",
          "name": "stdout",
          "text": [
            "25-08-01 08:55:57 - 🔗 age_model_weights.h5 will be downloaded from https://github.com/serengil/deepface_models/releases/download/v1.0/age_model_weights.h5 to /root/.deepface/weights/age_model_weights.h5...\n"
          ]
        },
        {
          "output_type": "stream",
          "name": "stderr",
          "text": [
            "Downloading...\n",
            "From: https://github.com/serengil/deepface_models/releases/download/v1.0/age_model_weights.h5\n",
            "To: /root/.deepface/weights/age_model_weights.h5\n",
            "\n",
            "  0%|          | 0.00/539M [00:00<?, ?B/s]\u001b[A\n",
            "  2%|▏         | 11.0M/539M [00:00<00:05, 102MB/s]\u001b[A\n",
            "  8%|▊         | 42.5M/539M [00:00<00:02, 212MB/s]\u001b[A\n",
            " 14%|█▎        | 73.4M/539M [00:00<00:01, 254MB/s]\u001b[A\n",
            " 18%|█▊        | 99.1M/539M [00:00<00:01, 223MB/s]\u001b[A\n",
            " 24%|██▎       | 127M/539M [00:00<00:01, 240MB/s] \u001b[A\n",
            " 29%|██▉       | 158M/539M [00:00<00:01, 261MB/s]\u001b[A\n",
            " 35%|███▌      | 189M/539M [00:00<00:01, 262MB/s]\u001b[A\n",
            " 40%|████      | 217M/539M [00:00<00:01, 266MB/s]\u001b[A\n",
            " 46%|████▌     | 247M/539M [00:00<00:01, 277MB/s]\u001b[A\n",
            " 51%|█████     | 276M/539M [00:01<00:00, 265MB/s]\u001b[A\n",
            " 57%|█████▋    | 305M/539M [00:01<00:00, 272MB/s]\u001b[A\n",
            " 62%|██████▏   | 336M/539M [00:01<00:00, 276MB/s]\u001b[A\n",
            " 68%|██████▊   | 368M/539M [00:01<00:00, 281MB/s]\u001b[A\n",
            " 74%|███████▍  | 399M/539M [00:01<00:00, 284MB/s]\u001b[A\n",
            " 80%|███████▉  | 430M/539M [00:01<00:00, 289MB/s]\u001b[A\n",
            " 86%|████████▌ | 461M/539M [00:01<00:00, 294MB/s]\u001b[A\n",
            " 92%|█████████▏| 493M/539M [00:01<00:00, 294MB/s]\u001b[A\n",
            "100%|██████████| 539M/539M [00:01<00:00, 271MB/s]\n",
            "Action: gender:  50%|█████     | 1/2 [00:04<00:04,  4.93s/it]"
          ]
        },
        {
          "output_type": "stream",
          "name": "stdout",
          "text": [
            "25-08-01 08:56:02 - 🔗 gender_model_weights.h5 will be downloaded from https://github.com/serengil/deepface_models/releases/download/v1.0/gender_model_weights.h5 to /root/.deepface/weights/gender_model_weights.h5...\n"
          ]
        },
        {
          "output_type": "stream",
          "name": "stderr",
          "text": [
            "Downloading...\n",
            "From: https://github.com/serengil/deepface_models/releases/download/v1.0/gender_model_weights.h5\n",
            "To: /root/.deepface/weights/gender_model_weights.h5\n",
            "\n",
            "  0%|          | 0.00/537M [00:00<?, ?B/s]\u001b[A\n",
            "  2%|▏         | 11.0M/537M [00:00<00:05, 98.5MB/s]\u001b[A\n",
            "  7%|▋         | 38.8M/537M [00:00<00:02, 198MB/s] \u001b[A\n",
            " 13%|█▎        | 67.6M/537M [00:00<00:01, 238MB/s]\u001b[A\n",
            " 18%|█▊        | 98.0M/537M [00:00<00:01, 261MB/s]\u001b[A\n",
            " 24%|██▎       | 126M/537M [00:00<00:01, 265MB/s] \u001b[A\n",
            " 29%|██▉       | 155M/537M [00:00<00:01, 271MB/s]\u001b[A\n",
            " 34%|███▍      | 182M/537M [00:00<00:01, 247MB/s]\u001b[A\n",
            " 39%|███▉      | 210M/537M [00:00<00:01, 255MB/s]\u001b[A\n",
            " 44%|████▍     | 239M/537M [00:00<00:01, 263MB/s]\u001b[A\n",
            " 49%|████▉     | 265M/537M [00:01<00:01, 253MB/s]\u001b[A\n",
            " 55%|█████▍    | 293M/537M [00:01<00:00, 258MB/s]\u001b[A\n",
            " 60%|██████    | 323M/537M [00:01<00:00, 269MB/s]\u001b[A\n",
            " 66%|██████▌   | 352M/537M [00:01<00:00, 276MB/s]\u001b[A\n",
            " 71%|███████   | 380M/537M [00:01<00:00, 276MB/s]\u001b[A\n",
            " 76%|███████▌  | 408M/537M [00:01<00:00, 276MB/s]\u001b[A\n",
            " 81%|████████▏ | 437M/537M [00:01<00:00, 279MB/s]\u001b[A\n",
            " 87%|████████▋ | 467M/537M [00:01<00:00, 285MB/s]\u001b[A\n",
            " 93%|█████████▎| 499M/537M [00:01<00:00, 293MB/s]\u001b[A\n",
            "100%|██████████| 537M/537M [00:02<00:00, 256MB/s]\n",
            "Action: gender: 100%|██████████| 2/2 [00:09<00:00,  4.87s/it]\n"
          ]
        },
        {
          "output_type": "stream",
          "name": "stdout",
          "text": [
            "Detected person --> Age: 36 | Gender: {'Woman': np.float32(12.524462), 'Man': np.float32(87.47553)}\n"
          ]
        },
        {
          "output_type": "stream",
          "name": "stderr",
          "text": [
            "Action: gender: 100%|██████████| 2/2 [00:01<00:00,  1.88it/s]\n"
          ]
        },
        {
          "output_type": "stream",
          "name": "stdout",
          "text": [
            "Detected person --> Age: 36 | Gender: {'Woman': np.float32(12.445368), 'Man': np.float32(87.55464)}\n"
          ]
        },
        {
          "output_type": "stream",
          "name": "stderr",
          "text": [
            "Action: gender: 100%|██████████| 2/2 [00:00<00:00,  2.49it/s]\n"
          ]
        },
        {
          "output_type": "stream",
          "name": "stdout",
          "text": [
            "Detected person --> Age: 36 | Gender: {'Woman': np.float32(12.445112), 'Man': np.float32(87.55489)}\n"
          ]
        },
        {
          "output_type": "stream",
          "name": "stderr",
          "text": [
            "Action: gender: 100%|██████████| 2/2 [00:00<00:00,  2.46it/s]\n"
          ]
        },
        {
          "output_type": "stream",
          "name": "stdout",
          "text": [
            "Detected person --> Age: 36 | Gender: {'Woman': np.float32(12.447479), 'Man': np.float32(87.55252)}\n"
          ]
        },
        {
          "output_type": "stream",
          "name": "stderr",
          "text": [
            "Action: gender: 100%|██████████| 2/2 [00:00<00:00,  2.46it/s]\n"
          ]
        },
        {
          "output_type": "stream",
          "name": "stdout",
          "text": [
            "Detected person --> Age: 36 | Gender: {'Woman': np.float32(12.450559), 'Man': np.float32(87.549446)}\n"
          ]
        },
        {
          "output_type": "stream",
          "name": "stderr",
          "text": [
            "Action: gender: 100%|██████████| 2/2 [00:00<00:00,  2.24it/s]\n"
          ]
        },
        {
          "output_type": "stream",
          "name": "stdout",
          "text": [
            "Detected person --> Age: 36 | Gender: {'Woman': np.float32(12.403772), 'Man': np.float32(87.59622)}\n"
          ]
        },
        {
          "output_type": "stream",
          "name": "stderr",
          "text": [
            "Action: gender: 100%|██████████| 2/2 [00:00<00:00,  2.24it/s]\n"
          ]
        },
        {
          "output_type": "stream",
          "name": "stdout",
          "text": [
            "Detected person --> Age: 36 | Gender: {'Woman': np.float32(12.446058), 'Man': np.float32(87.55394)}\n"
          ]
        },
        {
          "output_type": "stream",
          "name": "stderr",
          "text": [
            "Action: gender: 100%|██████████| 2/2 [00:00<00:00,  2.29it/s]\n"
          ]
        },
        {
          "output_type": "stream",
          "name": "stdout",
          "text": [
            "Detected person --> Age: 36 | Gender: {'Woman': np.float32(12.378157), 'Man': np.float32(87.62184)}\n"
          ]
        },
        {
          "output_type": "stream",
          "name": "stderr",
          "text": [
            "Action: gender: 100%|██████████| 2/2 [00:00<00:00,  2.45it/s]\n"
          ]
        },
        {
          "output_type": "stream",
          "name": "stdout",
          "text": [
            "Detected person --> Age: 36 | Gender: {'Woman': np.float32(12.414093), 'Man': np.float32(87.58591)}\n"
          ]
        },
        {
          "output_type": "stream",
          "name": "stderr",
          "text": [
            "Action: gender: 100%|██████████| 2/2 [00:00<00:00,  2.26it/s]\n"
          ]
        },
        {
          "output_type": "stream",
          "name": "stdout",
          "text": [
            "Detected person --> Age: 36 | Gender: {'Woman': np.float32(12.3049135), 'Man': np.float32(87.69509)}\n"
          ]
        },
        {
          "output_type": "stream",
          "name": "stderr",
          "text": [
            "Action: gender: 100%|██████████| 2/2 [00:00<00:00,  2.44it/s]\n"
          ]
        },
        {
          "output_type": "stream",
          "name": "stdout",
          "text": [
            "Detected person --> Age: 36 | Gender: {'Woman': np.float32(12.263994), 'Man': np.float32(87.73601)}\n"
          ]
        },
        {
          "output_type": "stream",
          "name": "stderr",
          "text": [
            "Action: gender: 100%|██████████| 2/2 [00:00<00:00,  2.26it/s]\n"
          ]
        },
        {
          "output_type": "stream",
          "name": "stdout",
          "text": [
            "Detected person --> Age: 36 | Gender: {'Woman': np.float32(12.378715), 'Man': np.float32(87.62129)}\n"
          ]
        },
        {
          "output_type": "stream",
          "name": "stderr",
          "text": [
            "Action: gender: 100%|██████████| 2/2 [00:01<00:00,  1.81it/s]\n"
          ]
        },
        {
          "output_type": "stream",
          "name": "stdout",
          "text": [
            "Detected person --> Age: 36 | Gender: {'Woman': np.float32(12.178301), 'Man': np.float32(87.8217)}\n"
          ]
        },
        {
          "output_type": "stream",
          "name": "stderr",
          "text": [
            "Action: gender: 100%|██████████| 2/2 [00:00<00:00,  2.39it/s]\n"
          ]
        },
        {
          "output_type": "stream",
          "name": "stdout",
          "text": [
            "Detected person --> Age: 36 | Gender: {'Woman': np.float32(12.296485), 'Man': np.float32(87.703514)}\n"
          ]
        },
        {
          "output_type": "stream",
          "name": "stderr",
          "text": [
            "Action: gender: 100%|██████████| 2/2 [00:00<00:00,  2.50it/s]\n"
          ]
        },
        {
          "output_type": "stream",
          "name": "stdout",
          "text": [
            "Detected person --> Age: 36 | Gender: {'Woman': np.float32(12.24893), 'Man': np.float32(87.751076)}\n"
          ]
        },
        {
          "output_type": "stream",
          "name": "stderr",
          "text": [
            "Action: gender: 100%|██████████| 2/2 [00:00<00:00,  2.50it/s]\n"
          ]
        },
        {
          "output_type": "stream",
          "name": "stdout",
          "text": [
            "Detected person --> Age: 36 | Gender: {'Woman': np.float32(12.288501), 'Man': np.float32(87.711494)}\n"
          ]
        },
        {
          "output_type": "stream",
          "name": "stderr",
          "text": [
            "Action: gender: 100%|██████████| 2/2 [00:00<00:00,  2.50it/s]\n"
          ]
        },
        {
          "output_type": "stream",
          "name": "stdout",
          "text": [
            "Detected person --> Age: 36 | Gender: {'Woman': np.float32(12.372411), 'Man': np.float32(87.62759)}\n"
          ]
        },
        {
          "output_type": "stream",
          "name": "stderr",
          "text": [
            "Action: gender: 100%|██████████| 2/2 [00:00<00:00,  2.43it/s]\n"
          ]
        },
        {
          "output_type": "stream",
          "name": "stdout",
          "text": [
            "Detected person --> Age: 36 | Gender: {'Woman': np.float32(12.377522), 'Man': np.float32(87.622475)}\n"
          ]
        },
        {
          "output_type": "stream",
          "name": "stderr",
          "text": [
            "Action: gender: 100%|██████████| 2/2 [00:00<00:00,  2.25it/s]\n"
          ]
        },
        {
          "output_type": "stream",
          "name": "stdout",
          "text": [
            "Detected person --> Age: 36 | Gender: {'Woman': np.float32(12.42935), 'Man': np.float32(87.57065)}\n"
          ]
        },
        {
          "output_type": "stream",
          "name": "stderr",
          "text": [
            "Action: gender: 100%|██████████| 2/2 [00:00<00:00,  2.24it/s]\n"
          ]
        },
        {
          "output_type": "stream",
          "name": "stdout",
          "text": [
            "Detected person --> Age: 36 | Gender: {'Woman': np.float32(12.47265), 'Man': np.float32(87.52734)}\n"
          ]
        },
        {
          "output_type": "stream",
          "name": "stderr",
          "text": [
            "Action: gender: 100%|██████████| 2/2 [00:00<00:00,  2.34it/s]\n"
          ]
        },
        {
          "output_type": "stream",
          "name": "stdout",
          "text": [
            "Detected person --> Age: 36 | Gender: {'Woman': np.float32(12.383558), 'Man': np.float32(87.61644)}\n"
          ]
        },
        {
          "output_type": "stream",
          "name": "stderr",
          "text": [
            "Action: gender: 100%|██████████| 2/2 [00:00<00:00,  2.47it/s]\n"
          ]
        },
        {
          "output_type": "stream",
          "name": "stdout",
          "text": [
            "Detected person --> Age: 36 | Gender: {'Woman': np.float32(12.446872), 'Man': np.float32(87.55313)}\n"
          ]
        },
        {
          "output_type": "stream",
          "name": "stderr",
          "text": [
            "Action: gender: 100%|██████████| 2/2 [00:00<00:00,  2.22it/s]\n"
          ]
        },
        {
          "output_type": "stream",
          "name": "stdout",
          "text": [
            "Detected person --> Age: 36 | Gender: {'Woman': np.float32(12.504464), 'Man': np.float32(87.49554)}\n"
          ]
        },
        {
          "output_type": "stream",
          "name": "stderr",
          "text": [
            "Action: gender: 100%|██████████| 2/2 [00:01<00:00,  1.83it/s]\n"
          ]
        },
        {
          "output_type": "stream",
          "name": "stdout",
          "text": [
            "Detected person --> Age: 36 | Gender: {'Woman': np.float32(12.585391), 'Man': np.float32(87.414604)}\n"
          ]
        },
        {
          "output_type": "stream",
          "name": "stderr",
          "text": [
            "Action: gender: 100%|██████████| 2/2 [00:01<00:00,  1.69it/s]\n"
          ]
        },
        {
          "output_type": "stream",
          "name": "stdout",
          "text": [
            "Detected person --> Age: 36 | Gender: {'Woman': np.float32(12.637424), 'Man': np.float32(87.36258)}\n"
          ]
        },
        {
          "output_type": "stream",
          "name": "stderr",
          "text": [
            "Action: gender: 100%|██████████| 2/2 [00:00<00:00,  2.30it/s]\n"
          ]
        },
        {
          "output_type": "stream",
          "name": "stdout",
          "text": [
            "Detected person --> Age: 36 | Gender: {'Woman': np.float32(12.558275), 'Man': np.float32(87.44173)}\n"
          ]
        },
        {
          "output_type": "stream",
          "name": "stderr",
          "text": [
            "Action: gender: 100%|██████████| 2/2 [00:00<00:00,  2.25it/s]\n"
          ]
        },
        {
          "output_type": "stream",
          "name": "stdout",
          "text": [
            "Detected person --> Age: 36 | Gender: {'Woman': np.float32(12.349234), 'Man': np.float32(87.65077)}\n"
          ]
        },
        {
          "output_type": "stream",
          "name": "stderr",
          "text": [
            "Action: gender: 100%|██████████| 2/2 [00:00<00:00,  2.41it/s]\n"
          ]
        },
        {
          "output_type": "stream",
          "name": "stdout",
          "text": [
            "Detected person --> Age: 36 | Gender: {'Woman': np.float32(12.391262), 'Man': np.float32(87.608734)}\n"
          ]
        },
        {
          "output_type": "stream",
          "name": "stderr",
          "text": [
            "Action: gender: 100%|██████████| 2/2 [00:00<00:00,  2.49it/s]\n"
          ]
        },
        {
          "output_type": "stream",
          "name": "stdout",
          "text": [
            "Detected person --> Age: 36 | Gender: {'Woman': np.float32(12.539503), 'Man': np.float32(87.460495)}\n"
          ]
        },
        {
          "output_type": "stream",
          "name": "stderr",
          "text": [
            "Action: gender: 100%|██████████| 2/2 [00:00<00:00,  2.40it/s]\n"
          ]
        },
        {
          "output_type": "stream",
          "name": "stdout",
          "text": [
            "Detected person --> Age: 36 | Gender: {'Woman': np.float32(12.497783), 'Man': np.float32(87.50221)}\n"
          ]
        },
        {
          "output_type": "stream",
          "name": "stderr",
          "text": [
            "Action: gender: 100%|██████████| 2/2 [00:00<00:00,  2.24it/s]\n"
          ]
        },
        {
          "output_type": "stream",
          "name": "stdout",
          "text": [
            "Detected person --> Age: 36 | Gender: {'Woman': np.float32(12.423054), 'Man': np.float32(87.576935)}\n"
          ]
        },
        {
          "output_type": "stream",
          "name": "stderr",
          "text": [
            "Action: gender: 100%|██████████| 2/2 [00:00<00:00,  2.28it/s]\n"
          ]
        },
        {
          "output_type": "stream",
          "name": "stdout",
          "text": [
            "Detected person --> Age: 36 | Gender: {'Woman': np.float32(12.464079), 'Man': np.float32(87.53593)}\n"
          ]
        },
        {
          "output_type": "stream",
          "name": "stderr",
          "text": [
            "Action: gender: 100%|██████████| 2/2 [00:00<00:00,  2.46it/s]\n"
          ]
        },
        {
          "output_type": "stream",
          "name": "stdout",
          "text": [
            "Detected person --> Age: 36 | Gender: {'Woman': np.float32(12.528984), 'Man': np.float32(87.47102)}\n"
          ]
        },
        {
          "output_type": "stream",
          "name": "stderr",
          "text": [
            "Action: gender: 100%|██████████| 2/2 [00:00<00:00,  2.46it/s]\n"
          ]
        },
        {
          "output_type": "stream",
          "name": "stdout",
          "text": [
            "Detected person --> Age: 36 | Gender: {'Woman': np.float32(12.497139), 'Man': np.float32(87.50286)}\n"
          ]
        },
        {
          "output_type": "stream",
          "name": "stderr",
          "text": [
            "Action: gender: 100%|██████████| 2/2 [00:00<00:00,  2.51it/s]\n"
          ]
        },
        {
          "output_type": "stream",
          "name": "stdout",
          "text": [
            "Detected person --> Age: 35 | Gender: {'Woman': np.float32(12.296835), 'Man': np.float32(87.70317)}\n"
          ]
        },
        {
          "output_type": "stream",
          "name": "stderr",
          "text": [
            "Action: gender: 100%|██████████| 2/2 [00:00<00:00,  2.10it/s]\n"
          ]
        },
        {
          "output_type": "stream",
          "name": "stdout",
          "text": [
            "Detected person --> Age: 36 | Gender: {'Woman': np.float32(12.577976), 'Man': np.float32(87.42202)}\n"
          ]
        },
        {
          "output_type": "stream",
          "name": "stderr",
          "text": [
            "Action: gender: 100%|██████████| 2/2 [00:01<00:00,  1.97it/s]\n"
          ]
        },
        {
          "output_type": "stream",
          "name": "stdout",
          "text": [
            "Detected person --> Age: 36 | Gender: {'Woman': np.float32(12.485808), 'Man': np.float32(87.51419)}\n"
          ]
        },
        {
          "output_type": "stream",
          "name": "stderr",
          "text": [
            "Action: gender: 100%|██████████| 2/2 [00:00<00:00,  2.27it/s]\n"
          ]
        },
        {
          "output_type": "stream",
          "name": "stdout",
          "text": [
            "Detected person --> Age: 36 | Gender: {'Woman': np.float32(12.460297), 'Man': np.float32(87.53971)}\n"
          ]
        },
        {
          "output_type": "stream",
          "name": "stderr",
          "text": [
            "Action: gender: 100%|██████████| 2/2 [00:00<00:00,  2.48it/s]\n"
          ]
        },
        {
          "output_type": "stream",
          "name": "stdout",
          "text": [
            "Detected person --> Age: 36 | Gender: {'Woman': np.float32(12.321857), 'Man': np.float32(87.67814)}\n"
          ]
        },
        {
          "output_type": "stream",
          "name": "stderr",
          "text": [
            "Action: gender: 100%|██████████| 2/2 [00:00<00:00,  2.48it/s]\n"
          ]
        },
        {
          "output_type": "stream",
          "name": "stdout",
          "text": [
            "Detected person --> Age: 36 | Gender: {'Woman': np.float32(12.36745), 'Man': np.float32(87.632545)}\n"
          ]
        },
        {
          "output_type": "stream",
          "name": "stderr",
          "text": [
            "Action: gender: 100%|██████████| 2/2 [00:00<00:00,  2.27it/s]\n"
          ]
        },
        {
          "output_type": "stream",
          "name": "stdout",
          "text": [
            "Detected person --> Age: 36 | Gender: {'Woman': np.float32(12.414314), 'Man': np.float32(87.58569)}\n"
          ]
        },
        {
          "output_type": "stream",
          "name": "stderr",
          "text": [
            "Action: gender: 100%|██████████| 2/2 [00:00<00:00,  2.23it/s]\n"
          ]
        },
        {
          "output_type": "stream",
          "name": "stdout",
          "text": [
            "Detected person --> Age: 36 | Gender: {'Woman': np.float32(12.401323), 'Man': np.float32(87.59868)}\n"
          ]
        },
        {
          "output_type": "stream",
          "name": "stderr",
          "text": [
            "Action: gender: 100%|██████████| 2/2 [00:00<00:00,  2.24it/s]\n"
          ]
        },
        {
          "output_type": "stream",
          "name": "stdout",
          "text": [
            "Detected person --> Age: 36 | Gender: {'Woman': np.float32(12.411106), 'Man': np.float32(87.5889)}\n"
          ]
        },
        {
          "output_type": "stream",
          "name": "stderr",
          "text": [
            "Action: gender: 100%|██████████| 2/2 [00:00<00:00,  2.21it/s]\n"
          ]
        },
        {
          "output_type": "stream",
          "name": "stdout",
          "text": [
            "Detected person --> Age: 35 | Gender: {'Woman': np.float32(12.295868), 'Man': np.float32(87.704124)}\n"
          ]
        },
        {
          "output_type": "stream",
          "name": "stderr",
          "text": [
            "Action: gender: 100%|██████████| 2/2 [00:00<00:00,  2.44it/s]\n"
          ]
        },
        {
          "output_type": "stream",
          "name": "stdout",
          "text": [
            "Detected person --> Age: 36 | Gender: {'Woman': np.float32(11.889952), 'Man': np.float32(88.11005)}\n"
          ]
        },
        {
          "output_type": "stream",
          "name": "stderr",
          "text": [
            "Action: gender: 100%|██████████| 2/2 [00:00<00:00,  2.48it/s]\n"
          ]
        },
        {
          "output_type": "stream",
          "name": "stdout",
          "text": [
            "Detected person --> Age: 28 | Gender: {'Woman': np.float32(26.46861), 'Man': np.float32(73.53139)}\n"
          ]
        },
        {
          "output_type": "stream",
          "name": "stderr",
          "text": [
            "Action: gender: 100%|██████████| 2/2 [00:00<00:00,  2.42it/s]\n"
          ]
        },
        {
          "output_type": "stream",
          "name": "stdout",
          "text": [
            "Detected person --> Age: 27 | Gender: {'Woman': np.float32(24.2601), 'Man': np.float32(75.7399)}\n"
          ]
        },
        {
          "output_type": "stream",
          "name": "stderr",
          "text": [
            "Action: gender: 100%|██████████| 2/2 [00:01<00:00,  1.76it/s]\n"
          ]
        },
        {
          "output_type": "stream",
          "name": "stdout",
          "text": [
            "Detected person --> Age: 28 | Gender: {'Woman': np.float32(20.178215), 'Man': np.float32(79.821785)}\n"
          ]
        },
        {
          "output_type": "stream",
          "name": "stderr",
          "text": [
            "Action: gender: 100%|██████████| 2/2 [00:00<00:00,  2.31it/s]\n"
          ]
        },
        {
          "output_type": "stream",
          "name": "stdout",
          "text": [
            "Detected person --> Age: 26 | Gender: {'Woman': np.float32(15.219765), 'Man': np.float32(84.780235)}\n"
          ]
        },
        {
          "output_type": "stream",
          "name": "stderr",
          "text": [
            "Action: gender: 100%|██████████| 2/2 [00:00<00:00,  2.26it/s]\n"
          ]
        },
        {
          "output_type": "stream",
          "name": "stdout",
          "text": [
            "Detected person --> Age: 27 | Gender: {'Woman': np.float32(9.035784), 'Man': np.float32(90.96422)}\n"
          ]
        },
        {
          "output_type": "stream",
          "name": "stderr",
          "text": [
            "Action: gender: 100%|██████████| 2/2 [00:00<00:00,  2.16it/s]\n"
          ]
        },
        {
          "output_type": "stream",
          "name": "stdout",
          "text": [
            "Detected person --> Age: 26 | Gender: {'Woman': np.float32(6.121423), 'Man': np.float32(93.87858)}\n"
          ]
        },
        {
          "output_type": "stream",
          "name": "stderr",
          "text": [
            "Action: gender: 100%|██████████| 2/2 [00:00<00:00,  2.17it/s]\n"
          ]
        },
        {
          "output_type": "stream",
          "name": "stdout",
          "text": [
            "Detected person --> Age: 27 | Gender: {'Woman': np.float32(4.2221117), 'Man': np.float32(95.77789)}\n"
          ]
        },
        {
          "output_type": "stream",
          "name": "stderr",
          "text": [
            "Action: gender: 100%|██████████| 2/2 [00:00<00:00,  2.40it/s]\n"
          ]
        },
        {
          "output_type": "stream",
          "name": "stdout",
          "text": [
            "Detected person --> Age: 27 | Gender: {'Woman': np.float32(4.1546993), 'Man': np.float32(95.8453)}\n"
          ]
        },
        {
          "output_type": "stream",
          "name": "stderr",
          "text": [
            "Action: gender: 100%|██████████| 2/2 [00:00<00:00,  2.41it/s]\n"
          ]
        },
        {
          "output_type": "stream",
          "name": "stdout",
          "text": [
            "Detected person --> Age: 28 | Gender: {'Woman': np.float32(2.854633), 'Man': np.float32(97.14536)}\n"
          ]
        },
        {
          "output_type": "stream",
          "name": "stderr",
          "text": [
            "Action: gender: 100%|██████████| 2/2 [00:00<00:00,  2.44it/s]\n"
          ]
        },
        {
          "output_type": "stream",
          "name": "stdout",
          "text": [
            "Detected person --> Age: 28 | Gender: {'Woman': np.float32(2.8099911), 'Man': np.float32(97.19001)}\n"
          ]
        },
        {
          "output_type": "stream",
          "name": "stderr",
          "text": [
            "Action: gender: 100%|██████████| 2/2 [00:00<00:00,  2.35it/s]\n"
          ]
        },
        {
          "output_type": "stream",
          "name": "stdout",
          "text": [
            "Detected person --> Age: 35 | Gender: {'Woman': np.float32(12.51493), 'Man': np.float32(87.48508)}\n"
          ]
        },
        {
          "output_type": "stream",
          "name": "stderr",
          "text": [
            "Action: gender: 100%|██████████| 2/2 [00:00<00:00,  2.26it/s]\n"
          ]
        },
        {
          "output_type": "stream",
          "name": "stdout",
          "text": [
            "Detected person --> Age: 32 | Gender: {'Woman': np.float32(4.9970384), 'Man': np.float32(95.00297)}\n"
          ]
        },
        {
          "output_type": "stream",
          "name": "stderr",
          "text": [
            "Action: gender: 100%|██████████| 2/2 [00:00<00:00,  2.42it/s]\n"
          ]
        },
        {
          "output_type": "stream",
          "name": "stdout",
          "text": [
            "Detected person --> Age: 28 | Gender: {'Woman': np.float32(5.3580866), 'Man': np.float32(94.641914)}\n"
          ]
        },
        {
          "output_type": "stream",
          "name": "stderr",
          "text": [
            "Action: gender: 100%|██████████| 2/2 [00:00<00:00,  2.03it/s]\n"
          ]
        },
        {
          "output_type": "stream",
          "name": "stdout",
          "text": [
            "Detected person --> Age: 28 | Gender: {'Woman': np.float32(7.208582), 'Man': np.float32(92.79142)}\n"
          ]
        },
        {
          "output_type": "stream",
          "name": "stderr",
          "text": [
            "Action: gender: 100%|██████████| 2/2 [00:01<00:00,  1.94it/s]\n"
          ]
        },
        {
          "output_type": "stream",
          "name": "stdout",
          "text": [
            "Detected person --> Age: 35 | Gender: {'Woman': np.float32(11.864916), 'Man': np.float32(88.13508)}\n"
          ]
        },
        {
          "output_type": "stream",
          "name": "stderr",
          "text": [
            "Action: gender: 100%|██████████| 2/2 [00:00<00:00,  2.32it/s]\n"
          ]
        },
        {
          "output_type": "stream",
          "name": "stdout",
          "text": [
            "Detected person --> Age: 26 | Gender: {'Woman': np.float32(7.437431), 'Man': np.float32(92.56258)}\n"
          ]
        },
        {
          "output_type": "stream",
          "name": "stderr",
          "text": [
            "Action: gender: 100%|██████████| 2/2 [00:00<00:00,  2.31it/s]\n"
          ]
        },
        {
          "output_type": "stream",
          "name": "stdout",
          "text": [
            "Detected person --> Age: 35 | Gender: {'Woman': np.float32(11.5499115), 'Man': np.float32(88.45009)}\n"
          ]
        },
        {
          "output_type": "stream",
          "name": "stderr",
          "text": [
            "Action: gender: 100%|██████████| 2/2 [00:00<00:00,  2.21it/s]\n"
          ]
        },
        {
          "output_type": "stream",
          "name": "stdout",
          "text": [
            "Detected person --> Age: 25 | Gender: {'Woman': np.float32(5.210366), 'Man': np.float32(94.789635)}\n"
          ]
        },
        {
          "output_type": "stream",
          "name": "stderr",
          "text": [
            "Action: gender: 100%|██████████| 2/2 [00:00<00:00,  2.31it/s]\n"
          ]
        },
        {
          "output_type": "stream",
          "name": "stdout",
          "text": [
            "Detected person --> Age: 25 | Gender: {'Woman': np.float32(4.330841), 'Man': np.float32(95.66916)}\n"
          ]
        },
        {
          "output_type": "stream",
          "name": "stderr",
          "text": [
            "Action: gender: 100%|██████████| 2/2 [00:00<00:00,  2.26it/s]\n"
          ]
        },
        {
          "output_type": "stream",
          "name": "stdout",
          "text": [
            "Detected person --> Age: 24 | Gender: {'Woman': np.float32(4.1528797), 'Man': np.float32(95.847115)}\n"
          ]
        },
        {
          "output_type": "stream",
          "name": "stderr",
          "text": [
            "Action: gender: 100%|██████████| 2/2 [00:00<00:00,  2.37it/s]\n"
          ]
        },
        {
          "output_type": "stream",
          "name": "stdout",
          "text": [
            "Detected person --> Age: 27 | Gender: {'Woman': np.float32(1.8187389), 'Man': np.float32(98.18126)}\n"
          ]
        },
        {
          "output_type": "stream",
          "name": "stderr",
          "text": [
            "Action: gender: 100%|██████████| 2/2 [00:00<00:00,  2.17it/s]\n"
          ]
        },
        {
          "output_type": "stream",
          "name": "stdout",
          "text": [
            "Detected person --> Age: 30 | Gender: {'Woman': np.float32(0.5875869), 'Man': np.float32(99.412415)}\n"
          ]
        },
        {
          "output_type": "stream",
          "name": "stderr",
          "text": [
            "Action: gender: 100%|██████████| 2/2 [00:00<00:00,  2.16it/s]\n"
          ]
        },
        {
          "output_type": "stream",
          "name": "stdout",
          "text": [
            "Detected person --> Age: 29 | Gender: {'Woman': np.float32(0.16184525), 'Man': np.float32(99.83815)}\n"
          ]
        },
        {
          "output_type": "stream",
          "name": "stderr",
          "text": [
            "Action: gender: 100%|██████████| 2/2 [00:00<00:00,  2.33it/s]\n"
          ]
        },
        {
          "output_type": "stream",
          "name": "stdout",
          "text": [
            "Detected person --> Age: 33 | Gender: {'Woman': np.float32(0.09364872), 'Man': np.float32(99.90636)}\n"
          ]
        },
        {
          "output_type": "stream",
          "name": "stderr",
          "text": [
            "Action: gender: 100%|██████████| 2/2 [00:00<00:00,  2.15it/s]\n"
          ]
        },
        {
          "output_type": "stream",
          "name": "stdout",
          "text": [
            "Detected person --> Age: 33 | Gender: {'Woman': np.float32(0.072053306), 'Man': np.float32(99.92794)}\n"
          ]
        },
        {
          "output_type": "stream",
          "name": "stderr",
          "text": [
            "Action: gender: 100%|██████████| 2/2 [00:01<00:00,  1.95it/s]\n"
          ]
        },
        {
          "output_type": "stream",
          "name": "stdout",
          "text": [
            "Detected person --> Age: 32 | Gender: {'Woman': np.float32(0.16094354), 'Man': np.float32(99.83906)}\n"
          ]
        },
        {
          "output_type": "stream",
          "name": "stderr",
          "text": [
            "Action: gender: 100%|██████████| 2/2 [00:00<00:00,  2.29it/s]\n"
          ]
        },
        {
          "output_type": "stream",
          "name": "stdout",
          "text": [
            "Detected person --> Age: 32 | Gender: {'Woman': np.float32(0.16728775), 'Man': np.float32(99.83271)}\n"
          ]
        },
        {
          "output_type": "stream",
          "name": "stderr",
          "text": [
            "Action: gender: 100%|██████████| 2/2 [00:00<00:00,  2.22it/s]\n"
          ]
        },
        {
          "output_type": "stream",
          "name": "stdout",
          "text": [
            "Detected person --> Age: 35 | Gender: {'Woman': np.float32(0.14781837), 'Man': np.float32(99.85219)}\n"
          ]
        },
        {
          "output_type": "stream",
          "name": "stderr",
          "text": [
            "Action: gender: 100%|██████████| 2/2 [00:00<00:00,  2.30it/s]\n"
          ]
        },
        {
          "output_type": "stream",
          "name": "stdout",
          "text": [
            "Detected person --> Age: 32 | Gender: {'Woman': np.float32(0.3230416), 'Man': np.float32(99.676956)}\n"
          ]
        },
        {
          "output_type": "stream",
          "name": "stderr",
          "text": [
            "Action: gender: 100%|██████████| 2/2 [00:00<00:00,  2.46it/s]\n"
          ]
        },
        {
          "output_type": "stream",
          "name": "stdout",
          "text": [
            "Detected person --> Age: 33 | Gender: {'Woman': np.float32(0.596769), 'Man': np.float32(99.40323)}\n"
          ]
        },
        {
          "output_type": "stream",
          "name": "stderr",
          "text": [
            "Action: gender: 100%|██████████| 2/2 [00:00<00:00,  2.48it/s]\n"
          ]
        },
        {
          "output_type": "stream",
          "name": "stdout",
          "text": [
            "Detected person --> Age: 33 | Gender: {'Woman': np.float32(0.3976243), 'Man': np.float32(99.60238)}\n"
          ]
        },
        {
          "output_type": "stream",
          "name": "stderr",
          "text": [
            "Action: gender: 100%|██████████| 2/2 [00:00<00:00,  2.42it/s]\n"
          ]
        },
        {
          "output_type": "stream",
          "name": "stdout",
          "text": [
            "Detected person --> Age: 32 | Gender: {'Woman': np.float32(0.6884338), 'Man': np.float32(99.31157)}\n"
          ]
        },
        {
          "output_type": "stream",
          "name": "stderr",
          "text": [
            "Action: gender: 100%|██████████| 2/2 [00:00<00:00,  2.42it/s]\n"
          ]
        },
        {
          "output_type": "stream",
          "name": "stdout",
          "text": [
            "Detected person --> Age: 37 | Gender: {'Woman': np.float32(0.9051371), 'Man': np.float32(99.094864)}\n"
          ]
        },
        {
          "output_type": "stream",
          "name": "stderr",
          "text": [
            "Action: gender: 100%|██████████| 2/2 [00:00<00:00,  2.46it/s]\n"
          ]
        },
        {
          "output_type": "stream",
          "name": "stdout",
          "text": [
            "Detected person --> Age: 36 | Gender: {'Woman': np.float32(1.2852769), 'Man': np.float32(98.71472)}\n"
          ]
        },
        {
          "output_type": "stream",
          "name": "stderr",
          "text": [
            "Action: gender: 100%|██████████| 2/2 [00:00<00:00,  2.42it/s]\n"
          ]
        },
        {
          "output_type": "stream",
          "name": "stdout",
          "text": [
            "Detected person --> Age: 32 | Gender: {'Woman': np.float32(0.8475527), 'Man': np.float32(99.15244)}\n"
          ]
        },
        {
          "output_type": "stream",
          "name": "stderr",
          "text": [
            "Action: gender: 100%|██████████| 2/2 [00:00<00:00,  2.24it/s]\n"
          ]
        },
        {
          "output_type": "stream",
          "name": "stdout",
          "text": [
            "Detected person --> Age: 35 | Gender: {'Woman': np.float32(0.92267895), 'Man': np.float32(99.07732)}\n"
          ]
        },
        {
          "output_type": "stream",
          "name": "stderr",
          "text": [
            "Action: gender: 100%|██████████| 2/2 [00:01<00:00,  1.62it/s]\n"
          ]
        },
        {
          "output_type": "stream",
          "name": "stdout",
          "text": [
            "Detected person --> Age: 34 | Gender: {'Woman': np.float32(1.2925764), 'Man': np.float32(98.70743)}\n"
          ]
        },
        {
          "output_type": "stream",
          "name": "stderr",
          "text": [
            "Action: gender: 100%|██████████| 2/2 [00:00<00:00,  2.11it/s]\n"
          ]
        },
        {
          "output_type": "stream",
          "name": "stdout",
          "text": [
            "Detected person --> Age: 34 | Gender: {'Woman': np.float32(0.8445129), 'Man': np.float32(99.155495)}\n"
          ]
        },
        {
          "output_type": "stream",
          "name": "stderr",
          "text": [
            "Action: gender: 100%|██████████| 2/2 [00:00<00:00,  2.26it/s]\n"
          ]
        },
        {
          "output_type": "stream",
          "name": "stdout",
          "text": [
            "Detected person --> Age: 32 | Gender: {'Woman': np.float32(0.5789423), 'Man': np.float32(99.42106)}\n"
          ]
        },
        {
          "output_type": "stream",
          "name": "stderr",
          "text": [
            "Action: gender: 100%|██████████| 2/2 [00:00<00:00,  2.43it/s]\n"
          ]
        },
        {
          "output_type": "stream",
          "name": "stdout",
          "text": [
            "Detected person --> Age: 31 | Gender: {'Woman': np.float32(0.36102453), 'Man': np.float32(99.63897)}\n"
          ]
        },
        {
          "output_type": "stream",
          "name": "stderr",
          "text": [
            "Action: gender: 100%|██████████| 2/2 [00:00<00:00,  2.43it/s]\n"
          ]
        },
        {
          "output_type": "stream",
          "name": "stdout",
          "text": [
            "Detected person --> Age: 33 | Gender: {'Woman': np.float32(0.763807), 'Man': np.float32(99.23619)}\n"
          ]
        },
        {
          "output_type": "stream",
          "name": "stderr",
          "text": [
            "Action: gender: 100%|██████████| 2/2 [00:00<00:00,  2.17it/s]\n"
          ]
        },
        {
          "output_type": "stream",
          "name": "stdout",
          "text": [
            "Detected person --> Age: 33 | Gender: {'Woman': np.float32(0.9795321), 'Man': np.float32(99.02047)}\n"
          ]
        },
        {
          "output_type": "stream",
          "name": "stderr",
          "text": [
            "Action: gender: 100%|██████████| 2/2 [00:00<00:00,  2.25it/s]\n"
          ]
        },
        {
          "output_type": "stream",
          "name": "stdout",
          "text": [
            "Detected person --> Age: 34 | Gender: {'Woman': np.float32(0.6774989), 'Man': np.float32(99.3225)}\n"
          ]
        },
        {
          "output_type": "stream",
          "name": "stderr",
          "text": [
            "Action: gender: 100%|██████████| 2/2 [00:00<00:00,  2.47it/s]\n"
          ]
        },
        {
          "output_type": "stream",
          "name": "stdout",
          "text": [
            "Detected person --> Age: 33 | Gender: {'Woman': np.float32(0.5264861), 'Man': np.float32(99.47351)}\n"
          ]
        },
        {
          "output_type": "stream",
          "name": "stderr",
          "text": [
            "Action: gender: 100%|██████████| 2/2 [00:00<00:00,  2.24it/s]\n"
          ]
        },
        {
          "output_type": "stream",
          "name": "stdout",
          "text": [
            "Detected person --> Age: 33 | Gender: {'Woman': np.float32(0.42374307), 'Man': np.float32(99.57626)}\n"
          ]
        },
        {
          "output_type": "stream",
          "name": "stderr",
          "text": [
            "Action: gender: 100%|██████████| 2/2 [00:00<00:00,  2.24it/s]\n"
          ]
        },
        {
          "output_type": "stream",
          "name": "stdout",
          "text": [
            "Detected person --> Age: 35 | Gender: {'Woman': np.float32(0.5743991), 'Man': np.float32(99.425606)}\n"
          ]
        },
        {
          "output_type": "stream",
          "name": "stderr",
          "text": [
            "Action: gender: 100%|██████████| 2/2 [00:00<00:00,  2.19it/s]\n"
          ]
        },
        {
          "output_type": "stream",
          "name": "stdout",
          "text": [
            "Detected person --> Age: 33 | Gender: {'Woman': np.float32(0.38346708), 'Man': np.float32(99.61654)}\n"
          ]
        },
        {
          "output_type": "stream",
          "name": "stderr",
          "text": [
            "Action: gender: 100%|██████████| 2/2 [00:01<00:00,  1.89it/s]\n"
          ]
        },
        {
          "output_type": "stream",
          "name": "stdout",
          "text": [
            "Detected person --> Age: 35 | Gender: {'Woman': np.float32(0.2670114), 'Man': np.float32(99.73299)}\n"
          ]
        },
        {
          "output_type": "stream",
          "name": "stderr",
          "text": [
            "Action: gender: 100%|██████████| 2/2 [00:00<00:00,  2.13it/s]\n"
          ]
        },
        {
          "output_type": "stream",
          "name": "stdout",
          "text": [
            "Detected person --> Age: 34 | Gender: {'Woman': np.float32(0.46069366), 'Man': np.float32(99.53931)}\n"
          ]
        },
        {
          "output_type": "stream",
          "name": "stderr",
          "text": [
            "Action: gender: 100%|██████████| 2/2 [00:00<00:00,  2.26it/s]\n"
          ]
        },
        {
          "output_type": "stream",
          "name": "stdout",
          "text": [
            "Detected person --> Age: 34 | Gender: {'Woman': np.float32(0.27308112), 'Man': np.float32(99.72692)}\n"
          ]
        },
        {
          "output_type": "stream",
          "name": "stderr",
          "text": [
            "Action: gender: 100%|██████████| 2/2 [00:00<00:00,  2.41it/s]\n"
          ]
        },
        {
          "output_type": "stream",
          "name": "stdout",
          "text": [
            "Detected person --> Age: 33 | Gender: {'Woman': np.float32(0.29898894), 'Man': np.float32(99.70101)}\n"
          ]
        },
        {
          "output_type": "stream",
          "name": "stderr",
          "text": [
            "Action: gender: 100%|██████████| 2/2 [00:00<00:00,  2.40it/s]\n"
          ]
        },
        {
          "output_type": "stream",
          "name": "stdout",
          "text": [
            "Detected person --> Age: 33 | Gender: {'Woman': np.float32(0.21746622), 'Man': np.float32(99.78254)}\n"
          ]
        },
        {
          "output_type": "stream",
          "name": "stderr",
          "text": [
            "Action: gender: 100%|██████████| 2/2 [00:00<00:00,  2.40it/s]\n"
          ]
        },
        {
          "output_type": "stream",
          "name": "stdout",
          "text": [
            "Detected person --> Age: 32 | Gender: {'Woman': np.float32(0.1523587), 'Man': np.float32(99.84764)}\n"
          ]
        },
        {
          "output_type": "stream",
          "name": "stderr",
          "text": [
            "Action: gender: 100%|██████████| 2/2 [00:00<00:00,  2.41it/s]\n"
          ]
        },
        {
          "output_type": "stream",
          "name": "stdout",
          "text": [
            "Detected person --> Age: 33 | Gender: {'Woman': np.float32(0.34946948), 'Man': np.float32(99.650536)}\n"
          ]
        },
        {
          "output_type": "stream",
          "name": "stderr",
          "text": [
            "Action: gender: 100%|██████████| 2/2 [00:00<00:00,  2.18it/s]\n"
          ]
        },
        {
          "output_type": "stream",
          "name": "stdout",
          "text": [
            "Detected person --> Age: 38 | Gender: {'Woman': np.float32(0.1933753), 'Man': np.float32(99.806625)}\n"
          ]
        },
        {
          "output_type": "stream",
          "name": "stderr",
          "text": [
            "Action: gender: 100%|██████████| 2/2 [00:00<00:00,  2.37it/s]\n"
          ]
        },
        {
          "output_type": "stream",
          "name": "stdout",
          "text": [
            "Detected person --> Age: 37 | Gender: {'Woman': np.float32(0.45559537), 'Man': np.float32(99.5444)}\n"
          ]
        },
        {
          "output_type": "stream",
          "name": "stderr",
          "text": [
            "Action: gender: 100%|██████████| 2/2 [00:00<00:00,  2.43it/s]\n"
          ]
        },
        {
          "output_type": "stream",
          "name": "stdout",
          "text": [
            "Detected person --> Age: 37 | Gender: {'Woman': np.float32(0.42193928), 'Man': np.float32(99.57806)}\n"
          ]
        },
        {
          "output_type": "stream",
          "name": "stderr",
          "text": [
            "Action: gender: 100%|██████████| 2/2 [00:00<00:00,  2.27it/s]\n"
          ]
        },
        {
          "output_type": "stream",
          "name": "stdout",
          "text": [
            "Detected person --> Age: 34 | Gender: {'Woman': np.float32(0.27546027), 'Man': np.float32(99.72454)}\n"
          ]
        },
        {
          "output_type": "stream",
          "name": "stderr",
          "text": [
            "Action: gender: 100%|██████████| 2/2 [00:01<00:00,  1.94it/s]\n"
          ]
        },
        {
          "output_type": "stream",
          "name": "stdout",
          "text": [
            "Detected person --> Age: 33 | Gender: {'Woman': np.float32(0.2503201), 'Man': np.float32(99.74968)}\n"
          ]
        },
        {
          "output_type": "stream",
          "name": "stderr",
          "text": [
            "Action: gender: 100%|██████████| 2/2 [00:01<00:00,  1.79it/s]\n"
          ]
        },
        {
          "output_type": "stream",
          "name": "stdout",
          "text": [
            "Detected person --> Age: 34 | Gender: {'Woman': np.float32(0.47657415), 'Man': np.float32(99.52343)}\n"
          ]
        },
        {
          "output_type": "stream",
          "name": "stderr",
          "text": [
            "Action: gender: 100%|██████████| 2/2 [00:00<00:00,  2.17it/s]\n"
          ]
        },
        {
          "output_type": "stream",
          "name": "stdout",
          "text": [
            "Detected person --> Age: 37 | Gender: {'Woman': np.float32(0.4348216), 'Man': np.float32(99.56518)}\n"
          ]
        },
        {
          "output_type": "stream",
          "name": "stderr",
          "text": [
            "Action: gender: 100%|██████████| 2/2 [00:00<00:00,  2.18it/s]\n"
          ]
        },
        {
          "output_type": "stream",
          "name": "stdout",
          "text": [
            "Detected person --> Age: 33 | Gender: {'Woman': np.float32(0.42451113), 'Man': np.float32(99.57549)}\n"
          ]
        },
        {
          "output_type": "stream",
          "name": "stderr",
          "text": [
            "Action: gender: 100%|██████████| 2/2 [00:00<00:00,  2.44it/s]\n"
          ]
        },
        {
          "output_type": "stream",
          "name": "stdout",
          "text": [
            "Detected person --> Age: 36 | Gender: {'Woman': np.float32(0.42271376), 'Man': np.float32(99.57729)}\n"
          ]
        },
        {
          "output_type": "stream",
          "name": "stderr",
          "text": [
            "Action: gender: 100%|██████████| 2/2 [00:00<00:00,  2.46it/s]\n"
          ]
        },
        {
          "output_type": "stream",
          "name": "stdout",
          "text": [
            "Detected person --> Age: 35 | Gender: {'Woman': np.float32(0.38262153), 'Man': np.float32(99.61738)}\n"
          ]
        },
        {
          "output_type": "stream",
          "name": "stderr",
          "text": [
            "Action: gender: 100%|██████████| 2/2 [00:00<00:00,  2.18it/s]\n"
          ]
        },
        {
          "output_type": "stream",
          "name": "stdout",
          "text": [
            "Detected person --> Age: 34 | Gender: {'Woman': np.float32(0.3659949), 'Man': np.float32(99.634)}\n"
          ]
        },
        {
          "output_type": "stream",
          "name": "stderr",
          "text": [
            "Action: gender: 100%|██████████| 2/2 [00:00<00:00,  2.16it/s]\n"
          ]
        },
        {
          "output_type": "stream",
          "name": "stdout",
          "text": [
            "Detected person --> Age: 34 | Gender: {'Woman': np.float32(0.31198916), 'Man': np.float32(99.68802)}\n"
          ]
        },
        {
          "output_type": "stream",
          "name": "stderr",
          "text": [
            "Action: gender: 100%|██████████| 2/2 [00:00<00:00,  2.20it/s]\n"
          ]
        },
        {
          "output_type": "stream",
          "name": "stdout",
          "text": [
            "Detected person --> Age: 36 | Gender: {'Woman': np.float32(0.5353108), 'Man': np.float32(99.46468)}\n"
          ]
        },
        {
          "output_type": "stream",
          "name": "stderr",
          "text": [
            "Action: gender: 100%|██████████| 2/2 [00:00<00:00,  2.39it/s]\n"
          ]
        },
        {
          "output_type": "stream",
          "name": "stdout",
          "text": [
            "Detected person --> Age: 35 | Gender: {'Woman': np.float32(0.6859823), 'Man': np.float32(99.31402)}\n"
          ]
        },
        {
          "output_type": "stream",
          "name": "stderr",
          "text": [
            "Action: gender: 100%|██████████| 2/2 [00:00<00:00,  2.42it/s]\n"
          ]
        },
        {
          "output_type": "stream",
          "name": "stdout",
          "text": [
            "Detected person --> Age: 34 | Gender: {'Woman': np.float32(0.3174745), 'Man': np.float32(99.682526)}\n"
          ]
        },
        {
          "output_type": "stream",
          "name": "stderr",
          "text": [
            "Action: gender: 100%|██████████| 2/2 [00:00<00:00,  2.28it/s]\n"
          ]
        },
        {
          "output_type": "stream",
          "name": "stdout",
          "text": [
            "Detected person --> Age: 36 | Gender: {'Woman': np.float32(0.44436902), 'Man': np.float32(99.555626)}\n"
          ]
        },
        {
          "output_type": "stream",
          "name": "stderr",
          "text": [
            "Action: gender: 100%|██████████| 2/2 [00:01<00:00,  1.82it/s]\n"
          ]
        },
        {
          "output_type": "stream",
          "name": "stdout",
          "text": [
            "Detected person --> Age: 34 | Gender: {'Woman': np.float32(0.5832178), 'Man': np.float32(99.41678)}\n"
          ]
        },
        {
          "output_type": "stream",
          "name": "stderr",
          "text": [
            "Action: gender: 100%|██████████| 2/2 [00:00<00:00,  2.41it/s]\n"
          ]
        },
        {
          "output_type": "stream",
          "name": "stdout",
          "text": [
            "Detected person --> Age: 34 | Gender: {'Woman': np.float32(0.7199256), 'Man': np.float32(99.280075)}\n"
          ]
        },
        {
          "output_type": "stream",
          "name": "stderr",
          "text": [
            "Action: gender: 100%|██████████| 2/2 [00:00<00:00,  2.42it/s]\n"
          ]
        },
        {
          "output_type": "stream",
          "name": "stdout",
          "text": [
            "Detected person --> Age: 34 | Gender: {'Woman': np.float32(0.43776748), 'Man': np.float32(99.56223)}\n"
          ]
        },
        {
          "output_type": "stream",
          "name": "stderr",
          "text": [
            "Action: gender: 100%|██████████| 2/2 [00:00<00:00,  2.45it/s]\n"
          ]
        },
        {
          "output_type": "stream",
          "name": "stdout",
          "text": [
            "Detected person --> Age: 34 | Gender: {'Woman': np.float32(0.6567194), 'Man': np.float32(99.34328)}\n"
          ]
        },
        {
          "output_type": "stream",
          "name": "stderr",
          "text": [
            "Action: gender: 100%|██████████| 2/2 [00:00<00:00,  2.45it/s]\n"
          ]
        },
        {
          "output_type": "stream",
          "name": "stdout",
          "text": [
            "Detected person --> Age: 34 | Gender: {'Woman': np.float32(0.46581024), 'Man': np.float32(99.53419)}\n"
          ]
        },
        {
          "output_type": "stream",
          "name": "stderr",
          "text": [
            "Action: gender: 100%|██████████| 2/2 [00:00<00:00,  2.21it/s]\n"
          ]
        },
        {
          "output_type": "stream",
          "name": "stdout",
          "text": [
            "Detected person --> Age: 37 | Gender: {'Woman': np.float32(0.5494512), 'Man': np.float32(99.45055)}\n"
          ]
        },
        {
          "output_type": "stream",
          "name": "stderr",
          "text": [
            "Action: gender: 100%|██████████| 2/2 [00:00<00:00,  2.38it/s]\n"
          ]
        },
        {
          "output_type": "stream",
          "name": "stdout",
          "text": [
            "Detected person --> Age: 36 | Gender: {'Woman': np.float32(0.38041532), 'Man': np.float32(99.61959)}\n"
          ]
        },
        {
          "output_type": "stream",
          "name": "stderr",
          "text": [
            "Action: gender: 100%|██████████| 2/2 [00:00<00:00,  2.44it/s]\n"
          ]
        },
        {
          "output_type": "stream",
          "name": "stdout",
          "text": [
            "Detected person --> Age: 36 | Gender: {'Woman': np.float32(0.5420369), 'Man': np.float32(99.45797)}\n"
          ]
        },
        {
          "output_type": "stream",
          "name": "stderr",
          "text": [
            "Action: gender: 100%|██████████| 2/2 [00:00<00:00,  2.29it/s]\n"
          ]
        },
        {
          "output_type": "stream",
          "name": "stdout",
          "text": [
            "Detected person --> Age: 36 | Gender: {'Woman': np.float32(0.560465), 'Man': np.float32(99.43954)}\n"
          ]
        },
        {
          "output_type": "stream",
          "name": "stderr",
          "text": [
            "Action: gender: 100%|██████████| 2/2 [00:00<00:00,  2.28it/s]\n"
          ]
        },
        {
          "output_type": "stream",
          "name": "stdout",
          "text": [
            "Detected person --> Age: 36 | Gender: {'Woman': np.float32(0.348964), 'Man': np.float32(99.65103)}\n"
          ]
        },
        {
          "output_type": "stream",
          "name": "stderr",
          "text": [
            "Action: gender: 100%|██████████| 2/2 [00:00<00:00,  2.38it/s]\n"
          ]
        },
        {
          "output_type": "stream",
          "name": "stdout",
          "text": [
            "Detected person --> Age: 36 | Gender: {'Woman': np.float32(0.29394442), 'Man': np.float32(99.70605)}\n"
          ]
        },
        {
          "output_type": "stream",
          "name": "stderr",
          "text": [
            "Action: gender: 100%|██████████| 2/2 [00:01<00:00,  1.78it/s]\n"
          ]
        },
        {
          "output_type": "stream",
          "name": "stdout",
          "text": [
            "Detected person --> Age: 35 | Gender: {'Woman': np.float32(0.39575157), 'Man': np.float32(99.60425)}\n"
          ]
        },
        {
          "output_type": "stream",
          "name": "stderr",
          "text": [
            "Action: gender: 100%|██████████| 2/2 [00:00<00:00,  2.08it/s]\n"
          ]
        },
        {
          "output_type": "stream",
          "name": "stdout",
          "text": [
            "Detected person --> Age: 34 | Gender: {'Woman': np.float32(0.49831212), 'Man': np.float32(99.501686)}\n"
          ]
        },
        {
          "output_type": "stream",
          "name": "stderr",
          "text": [
            "Action: gender: 100%|██████████| 2/2 [00:00<00:00,  2.22it/s]\n"
          ]
        },
        {
          "output_type": "stream",
          "name": "stdout",
          "text": [
            "Detected person --> Age: 34 | Gender: {'Woman': np.float32(0.28915697), 'Man': np.float32(99.71084)}\n"
          ]
        },
        {
          "output_type": "stream",
          "name": "stderr",
          "text": [
            "Action: gender: 100%|██████████| 2/2 [00:00<00:00,  2.17it/s]\n"
          ]
        },
        {
          "output_type": "stream",
          "name": "stdout",
          "text": [
            "Detected person --> Age: 36 | Gender: {'Woman': np.float32(0.43055978), 'Man': np.float32(99.56944)}\n"
          ]
        },
        {
          "output_type": "stream",
          "name": "stderr",
          "text": [
            "Action: gender: 100%|██████████| 2/2 [00:00<00:00,  2.16it/s]\n"
          ]
        },
        {
          "output_type": "stream",
          "name": "stdout",
          "text": [
            "Detected person --> Age: 36 | Gender: {'Woman': np.float32(0.5676162), 'Man': np.float32(99.43239)}\n"
          ]
        },
        {
          "output_type": "stream",
          "name": "stderr",
          "text": [
            "Action: gender: 100%|██████████| 2/2 [00:00<00:00,  2.38it/s]\n"
          ]
        },
        {
          "output_type": "stream",
          "name": "stdout",
          "text": [
            "Detected person --> Age: 37 | Gender: {'Woman': np.float32(0.4434763), 'Man': np.float32(99.556526)}\n"
          ]
        },
        {
          "output_type": "stream",
          "name": "stderr",
          "text": [
            "Action: gender: 100%|██████████| 2/2 [00:00<00:00,  2.17it/s]\n"
          ]
        },
        {
          "output_type": "stream",
          "name": "stdout",
          "text": [
            "Detected person --> Age: 35 | Gender: {'Woman': np.float32(0.4234699), 'Man': np.float32(99.57653)}\n"
          ]
        },
        {
          "output_type": "stream",
          "name": "stderr",
          "text": [
            "Action: gender: 100%|██████████| 2/2 [00:00<00:00,  2.15it/s]\n"
          ]
        },
        {
          "output_type": "stream",
          "name": "stdout",
          "text": [
            "Detected person --> Age: 34 | Gender: {'Woman': np.float32(0.5533446), 'Man': np.float32(99.44666)}\n"
          ]
        },
        {
          "output_type": "stream",
          "name": "stderr",
          "text": [
            "Action: gender: 100%|██████████| 2/2 [00:00<00:00,  2.24it/s]\n"
          ]
        },
        {
          "output_type": "stream",
          "name": "stdout",
          "text": [
            "Detected person --> Age: 35 | Gender: {'Woman': np.float32(0.64481205), 'Man': np.float32(99.35519)}\n"
          ]
        },
        {
          "output_type": "stream",
          "name": "stderr",
          "text": [
            "Action: gender: 100%|██████████| 2/2 [00:00<00:00,  2.20it/s]\n"
          ]
        },
        {
          "output_type": "stream",
          "name": "stdout",
          "text": [
            "Detected person --> Age: 35 | Gender: {'Woman': np.float32(0.46993783), 'Man': np.float32(99.53007)}\n"
          ]
        },
        {
          "output_type": "stream",
          "name": "stderr",
          "text": [
            "Action: gender: 100%|██████████| 2/2 [00:00<00:00,  2.13it/s]\n"
          ]
        },
        {
          "output_type": "stream",
          "name": "stdout",
          "text": [
            "Detected person --> Age: 36 | Gender: {'Woman': np.float32(0.5907321), 'Man': np.float32(99.40926)}\n"
          ]
        },
        {
          "output_type": "stream",
          "name": "stderr",
          "text": [
            "Action: gender: 100%|██████████| 2/2 [00:01<00:00,  1.69it/s]\n"
          ]
        },
        {
          "output_type": "stream",
          "name": "stdout",
          "text": [
            "Detected person --> Age: 35 | Gender: {'Woman': np.float32(0.5612143), 'Man': np.float32(99.43878)}\n"
          ]
        },
        {
          "output_type": "stream",
          "name": "stderr",
          "text": [
            "Action: gender: 100%|██████████| 2/2 [00:00<00:00,  2.16it/s]\n"
          ]
        },
        {
          "output_type": "stream",
          "name": "stdout",
          "text": [
            "Detected person --> Age: 35 | Gender: {'Woman': np.float32(0.8004581), 'Man': np.float32(99.19955)}\n"
          ]
        },
        {
          "output_type": "stream",
          "name": "stderr",
          "text": [
            "Action: gender: 100%|██████████| 2/2 [00:00<00:00,  2.45it/s]\n"
          ]
        },
        {
          "output_type": "stream",
          "name": "stdout",
          "text": [
            "Detected person --> Age: 37 | Gender: {'Woman': np.float32(0.6650884), 'Man': np.float32(99.334915)}\n"
          ]
        },
        {
          "output_type": "stream",
          "name": "stderr",
          "text": [
            "Action: gender: 100%|██████████| 2/2 [00:00<00:00,  2.41it/s]\n"
          ]
        },
        {
          "output_type": "stream",
          "name": "stdout",
          "text": [
            "Detected person --> Age: 36 | Gender: {'Woman': np.float32(0.6121247), 'Man': np.float32(99.38788)}\n"
          ]
        },
        {
          "output_type": "stream",
          "name": "stderr",
          "text": [
            "Action: gender: 100%|██████████| 2/2 [00:00<00:00,  2.46it/s]\n"
          ]
        },
        {
          "output_type": "stream",
          "name": "stdout",
          "text": [
            "Detected person --> Age: 36 | Gender: {'Woman': np.float32(0.6524212), 'Man': np.float32(99.34759)}\n"
          ]
        },
        {
          "output_type": "stream",
          "name": "stderr",
          "text": [
            "Action: gender: 100%|██████████| 2/2 [00:00<00:00,  2.43it/s]\n"
          ]
        },
        {
          "output_type": "stream",
          "name": "stdout",
          "text": [
            "Detected person --> Age: 34 | Gender: {'Woman': np.float32(0.6263859), 'Man': np.float32(99.37361)}\n"
          ]
        },
        {
          "output_type": "stream",
          "name": "stderr",
          "text": [
            "Action: gender: 100%|██████████| 2/2 [00:00<00:00,  2.22it/s]\n"
          ]
        },
        {
          "output_type": "stream",
          "name": "stdout",
          "text": [
            "Detected person --> Age: 36 | Gender: {'Woman': np.float32(0.6181848), 'Man': np.float32(99.38181)}\n"
          ]
        },
        {
          "output_type": "stream",
          "name": "stderr",
          "text": [
            "Action: gender: 100%|██████████| 2/2 [00:00<00:00,  2.19it/s]\n"
          ]
        },
        {
          "output_type": "stream",
          "name": "stdout",
          "text": [
            "Detected person --> Age: 34 | Gender: {'Woman': np.float32(0.8347659), 'Man': np.float32(99.16523)}\n"
          ]
        },
        {
          "output_type": "stream",
          "name": "stderr",
          "text": [
            "Action: gender: 100%|██████████| 2/2 [00:00<00:00,  2.36it/s]\n"
          ]
        },
        {
          "output_type": "stream",
          "name": "stdout",
          "text": [
            "Detected person --> Age: 34 | Gender: {'Woman': np.float32(0.66026264), 'Man': np.float32(99.33974)}\n"
          ]
        },
        {
          "output_type": "stream",
          "name": "stderr",
          "text": [
            "Action: gender: 100%|██████████| 2/2 [00:00<00:00,  2.44it/s]\n"
          ]
        },
        {
          "output_type": "stream",
          "name": "stdout",
          "text": [
            "Detected person --> Age: 35 | Gender: {'Woman': np.float32(0.46643367), 'Man': np.float32(99.53356)}\n"
          ]
        },
        {
          "output_type": "stream",
          "name": "stderr",
          "text": [
            "Action: gender: 100%|██████████| 2/2 [00:00<00:00,  2.43it/s]\n"
          ]
        },
        {
          "output_type": "stream",
          "name": "stdout",
          "text": [
            "Detected person --> Age: 35 | Gender: {'Woman': np.float32(0.6735355), 'Man': np.float32(99.32647)}\n"
          ]
        },
        {
          "output_type": "stream",
          "name": "stderr",
          "text": [
            "Action: gender: 100%|██████████| 2/2 [00:00<00:00,  2.24it/s]\n"
          ]
        },
        {
          "output_type": "stream",
          "name": "stdout",
          "text": [
            "Detected person --> Age: 34 | Gender: {'Woman': np.float32(1.0258745), 'Man': np.float32(98.97412)}\n"
          ]
        },
        {
          "output_type": "stream",
          "name": "stderr",
          "text": [
            "Action: gender: 100%|██████████| 2/2 [00:01<00:00,  1.64it/s]\n"
          ]
        },
        {
          "output_type": "stream",
          "name": "stdout",
          "text": [
            "Detected person --> Age: 34 | Gender: {'Woman': np.float32(0.7959555), 'Man': np.float32(99.20405)}\n"
          ]
        },
        {
          "output_type": "stream",
          "name": "stderr",
          "text": [
            "Action: gender: 100%|██████████| 2/2 [00:00<00:00,  2.34it/s]\n"
          ]
        },
        {
          "output_type": "stream",
          "name": "stdout",
          "text": [
            "Detected person --> Age: 34 | Gender: {'Woman': np.float32(0.78922164), 'Man': np.float32(99.21078)}\n"
          ]
        },
        {
          "output_type": "stream",
          "name": "stderr",
          "text": [
            "Action: gender: 100%|██████████| 2/2 [00:00<00:00,  2.43it/s]\n"
          ]
        },
        {
          "output_type": "stream",
          "name": "stdout",
          "text": [
            "Detected person --> Age: 36 | Gender: {'Woman': np.float32(0.5968963), 'Man': np.float32(99.4031)}\n"
          ]
        },
        {
          "output_type": "stream",
          "name": "stderr",
          "text": [
            "Action: gender: 100%|██████████| 2/2 [00:00<00:00,  2.21it/s]\n"
          ]
        },
        {
          "output_type": "stream",
          "name": "stdout",
          "text": [
            "Detected person --> Age: 37 | Gender: {'Woman': np.float32(0.66331214), 'Man': np.float32(99.33669)}\n"
          ]
        },
        {
          "output_type": "stream",
          "name": "stderr",
          "text": [
            "Action: gender: 100%|██████████| 2/2 [00:00<00:00,  2.33it/s]\n"
          ]
        },
        {
          "output_type": "stream",
          "name": "stdout",
          "text": [
            "Detected person --> Age: 34 | Gender: {'Woman': np.float32(0.5983653), 'Man': np.float32(99.40163)}\n"
          ]
        },
        {
          "output_type": "stream",
          "name": "stderr",
          "text": [
            "Action: gender: 100%|██████████| 2/2 [00:00<00:00,  2.39it/s]\n"
          ]
        },
        {
          "output_type": "stream",
          "name": "stdout",
          "text": [
            "Detected person --> Age: 37 | Gender: {'Woman': np.float32(0.584651), 'Man': np.float32(99.41536)}\n"
          ]
        },
        {
          "output_type": "stream",
          "name": "stderr",
          "text": [
            "Action: gender: 100%|██████████| 2/2 [00:00<00:00,  2.47it/s]\n"
          ]
        },
        {
          "output_type": "stream",
          "name": "stdout",
          "text": [
            "Detected person --> Age: 33 | Gender: {'Woman': np.float32(0.50066775), 'Man': np.float32(99.49934)}\n"
          ]
        },
        {
          "output_type": "stream",
          "name": "stderr",
          "text": [
            "Action: gender: 100%|██████████| 2/2 [00:00<00:00,  2.40it/s]\n"
          ]
        },
        {
          "output_type": "stream",
          "name": "stdout",
          "text": [
            "Detected person --> Age: 37 | Gender: {'Woman': np.float32(0.63218945), 'Man': np.float32(99.36781)}\n"
          ]
        },
        {
          "output_type": "stream",
          "name": "stderr",
          "text": [
            "Action: gender: 100%|██████████| 2/2 [00:00<00:00,  2.39it/s]\n"
          ]
        },
        {
          "output_type": "stream",
          "name": "stdout",
          "text": [
            "Detected person --> Age: 36 | Gender: {'Woman': np.float32(0.643914), 'Man': np.float32(99.356094)}\n"
          ]
        },
        {
          "output_type": "stream",
          "name": "stderr",
          "text": [
            "Action: gender: 100%|██████████| 2/2 [00:00<00:00,  2.34it/s]\n"
          ]
        },
        {
          "output_type": "stream",
          "name": "stdout",
          "text": [
            "Detected person --> Age: 34 | Gender: {'Woman': np.float32(0.7422479), 'Man': np.float32(99.25775)}\n"
          ]
        },
        {
          "output_type": "stream",
          "name": "stderr",
          "text": [
            "Action: gender: 100%|██████████| 2/2 [00:00<00:00,  2.13it/s]\n"
          ]
        },
        {
          "output_type": "stream",
          "name": "stdout",
          "text": [
            "Detected person --> Age: 35 | Gender: {'Woman': np.float32(0.60782075), 'Man': np.float32(99.39217)}\n"
          ]
        },
        {
          "output_type": "stream",
          "name": "stderr",
          "text": [
            "Action: gender: 100%|██████████| 2/2 [00:01<00:00,  1.69it/s]\n"
          ]
        },
        {
          "output_type": "stream",
          "name": "stdout",
          "text": [
            "Detected person --> Age: 34 | Gender: {'Woman': np.float32(0.58694494), 'Man': np.float32(99.413055)}\n"
          ]
        },
        {
          "output_type": "stream",
          "name": "stderr",
          "text": [
            "Action: gender: 100%|██████████| 2/2 [00:00<00:00,  2.10it/s]\n"
          ]
        },
        {
          "output_type": "stream",
          "name": "stdout",
          "text": [
            "Detected person --> Age: 37 | Gender: {'Woman': np.float32(0.40428424), 'Man': np.float32(99.59572)}\n"
          ]
        },
        {
          "output_type": "stream",
          "name": "stderr",
          "text": [
            "Action: gender: 100%|██████████| 2/2 [00:00<00:00,  2.40it/s]\n"
          ]
        },
        {
          "output_type": "stream",
          "name": "stdout",
          "text": [
            "Detected person --> Age: 36 | Gender: {'Woman': np.float32(0.34233576), 'Man': np.float32(99.65766)}\n"
          ]
        },
        {
          "output_type": "stream",
          "name": "stderr",
          "text": [
            "Action: gender: 100%|██████████| 2/2 [00:00<00:00,  2.44it/s]\n"
          ]
        },
        {
          "output_type": "stream",
          "name": "stdout",
          "text": [
            "Detected person --> Age: 34 | Gender: {'Woman': np.float32(0.84386617), 'Man': np.float32(99.156136)}\n"
          ]
        },
        {
          "output_type": "stream",
          "name": "stderr",
          "text": [
            "Action: gender: 100%|██████████| 2/2 [00:00<00:00,  2.41it/s]\n"
          ]
        },
        {
          "output_type": "stream",
          "name": "stdout",
          "text": [
            "Detected person --> Age: 34 | Gender: {'Woman': np.float32(0.6094338), 'Man': np.float32(99.39057)}\n"
          ]
        },
        {
          "output_type": "stream",
          "name": "stderr",
          "text": [
            "Action: gender: 100%|██████████| 2/2 [00:00<00:00,  2.30it/s]\n"
          ]
        },
        {
          "output_type": "stream",
          "name": "stdout",
          "text": [
            "Detected person --> Age: 37 | Gender: {'Woman': np.float32(0.53771293), 'Man': np.float32(99.462296)}\n"
          ]
        },
        {
          "output_type": "stream",
          "name": "stderr",
          "text": [
            "Action: gender: 100%|██████████| 2/2 [00:00<00:00,  2.23it/s]\n"
          ]
        },
        {
          "output_type": "stream",
          "name": "stdout",
          "text": [
            "Detected person --> Age: 34 | Gender: {'Woman': np.float32(0.3718049), 'Man': np.float32(99.62819)}\n"
          ]
        },
        {
          "output_type": "stream",
          "name": "stderr",
          "text": [
            "Action: gender: 100%|██████████| 2/2 [00:00<00:00,  2.39it/s]\n"
          ]
        },
        {
          "output_type": "stream",
          "name": "stdout",
          "text": [
            "Detected person --> Age: 36 | Gender: {'Woman': np.float32(0.43760747), 'Man': np.float32(99.562386)}\n"
          ]
        },
        {
          "output_type": "stream",
          "name": "stderr",
          "text": [
            "Action: gender: 100%|██████████| 2/2 [00:00<00:00,  2.37it/s]\n"
          ]
        },
        {
          "output_type": "stream",
          "name": "stdout",
          "text": [
            "Detected person --> Age: 34 | Gender: {'Woman': np.float32(0.88519293), 'Man': np.float32(99.1148)}\n"
          ]
        },
        {
          "output_type": "stream",
          "name": "stderr",
          "text": [
            "Action: gender: 100%|██████████| 2/2 [00:00<00:00,  2.21it/s]\n"
          ]
        },
        {
          "output_type": "stream",
          "name": "stdout",
          "text": [
            "Detected person --> Age: 35 | Gender: {'Woman': np.float32(0.4374284), 'Man': np.float32(99.56258)}\n"
          ]
        },
        {
          "output_type": "stream",
          "name": "stderr",
          "text": [
            "Action: gender: 100%|██████████| 2/2 [00:00<00:00,  2.21it/s]\n"
          ]
        },
        {
          "output_type": "stream",
          "name": "stdout",
          "text": [
            "Detected person --> Age: 34 | Gender: {'Woman': np.float32(0.46282682), 'Man': np.float32(99.53718)}\n"
          ]
        },
        {
          "output_type": "stream",
          "name": "stderr",
          "text": [
            "Action: gender: 100%|██████████| 2/2 [00:01<00:00,  1.99it/s]\n"
          ]
        },
        {
          "output_type": "stream",
          "name": "stdout",
          "text": [
            "Detected person --> Age: 36 | Gender: {'Woman': np.float32(0.6096426), 'Man': np.float32(99.39036)}\n"
          ]
        },
        {
          "output_type": "stream",
          "name": "stderr",
          "text": [
            "Action: gender: 100%|██████████| 2/2 [00:01<00:00,  1.80it/s]\n"
          ]
        },
        {
          "output_type": "stream",
          "name": "stdout",
          "text": [
            "Detected person --> Age: 37 | Gender: {'Woman': np.float32(0.6234103), 'Man': np.float32(99.37659)}\n"
          ]
        },
        {
          "output_type": "stream",
          "name": "stderr",
          "text": [
            "Action: gender: 100%|██████████| 2/2 [00:00<00:00,  2.43it/s]\n"
          ]
        },
        {
          "output_type": "stream",
          "name": "stdout",
          "text": [
            "Detected person --> Age: 36 | Gender: {'Woman': np.float32(0.47597018), 'Man': np.float32(99.52403)}\n"
          ]
        },
        {
          "output_type": "stream",
          "name": "stderr",
          "text": [
            "Action: gender: 100%|██████████| 2/2 [00:00<00:00,  2.34it/s]\n"
          ]
        },
        {
          "output_type": "stream",
          "name": "stdout",
          "text": [
            "Detected person --> Age: 35 | Gender: {'Woman': np.float32(0.46988246), 'Man': np.float32(99.53011)}\n"
          ]
        },
        {
          "output_type": "stream",
          "name": "stderr",
          "text": [
            "Action: gender: 100%|██████████| 2/2 [00:00<00:00,  2.40it/s]\n"
          ]
        },
        {
          "output_type": "stream",
          "name": "stdout",
          "text": [
            "Detected person --> Age: 36 | Gender: {'Woman': np.float32(0.57286334), 'Man': np.float32(99.42714)}\n"
          ]
        },
        {
          "output_type": "stream",
          "name": "stderr",
          "text": [
            "Action: gender: 100%|██████████| 2/2 [00:00<00:00,  2.39it/s]\n"
          ]
        },
        {
          "output_type": "stream",
          "name": "stdout",
          "text": [
            "Detected person --> Age: 36 | Gender: {'Woman': np.float32(0.6732664), 'Man': np.float32(99.326744)}\n"
          ]
        },
        {
          "output_type": "stream",
          "name": "stderr",
          "text": [
            "Action: gender: 100%|██████████| 2/2 [00:00<00:00,  2.33it/s]\n"
          ]
        },
        {
          "output_type": "stream",
          "name": "stdout",
          "text": [
            "Detected person --> Age: 35 | Gender: {'Woman': np.float32(1.0809135), 'Man': np.float32(98.91909)}\n"
          ]
        },
        {
          "output_type": "stream",
          "name": "stderr",
          "text": [
            "Action: gender: 100%|██████████| 2/2 [00:00<00:00,  2.26it/s]\n"
          ]
        },
        {
          "output_type": "stream",
          "name": "stdout",
          "text": [
            "Detected person --> Age: 36 | Gender: {'Woman': np.float32(1.0261786), 'Man': np.float32(98.973816)}\n"
          ]
        },
        {
          "output_type": "stream",
          "name": "stderr",
          "text": [
            "Action: gender: 100%|██████████| 2/2 [00:00<00:00,  2.42it/s]\n"
          ]
        },
        {
          "output_type": "stream",
          "name": "stdout",
          "text": [
            "Detected person --> Age: 37 | Gender: {'Woman': np.float32(0.78417414), 'Man': np.float32(99.21583)}\n"
          ]
        },
        {
          "output_type": "stream",
          "name": "stderr",
          "text": [
            "Action: gender: 100%|██████████| 2/2 [00:00<00:00,  2.26it/s]\n"
          ]
        },
        {
          "output_type": "stream",
          "name": "stdout",
          "text": [
            "Detected person --> Age: 37 | Gender: {'Woman': np.float32(0.53808635), 'Man': np.float32(99.461914)}\n"
          ]
        },
        {
          "output_type": "stream",
          "name": "stderr",
          "text": [
            "Action: gender: 100%|██████████| 2/2 [00:00<00:00,  2.41it/s]\n"
          ]
        },
        {
          "output_type": "stream",
          "name": "stdout",
          "text": [
            "Detected person --> Age: 36 | Gender: {'Woman': np.float32(0.46453574), 'Man': np.float32(99.53546)}\n"
          ]
        },
        {
          "output_type": "stream",
          "name": "stderr",
          "text": [
            "Action: gender: 100%|██████████| 2/2 [00:00<00:00,  2.27it/s]\n"
          ]
        },
        {
          "output_type": "stream",
          "name": "stdout",
          "text": [
            "Detected person --> Age: 36 | Gender: {'Woman': np.float32(0.5125929), 'Man': np.float32(99.487404)}\n"
          ]
        },
        {
          "output_type": "stream",
          "name": "stderr",
          "text": [
            "Action: gender: 100%|██████████| 2/2 [00:01<00:00,  1.15it/s]\n"
          ]
        },
        {
          "output_type": "stream",
          "name": "stdout",
          "text": [
            "Detected person --> Age: 36 | Gender: {'Woman': np.float32(0.5028588), 'Man': np.float32(99.49714)}\n"
          ]
        },
        {
          "output_type": "stream",
          "name": "stderr",
          "text": [
            "Action: gender: 100%|██████████| 2/2 [00:00<00:00,  2.18it/s]\n"
          ]
        },
        {
          "output_type": "stream",
          "name": "stdout",
          "text": [
            "Detected person --> Age: 36 | Gender: {'Woman': np.float32(0.47087365), 'Man': np.float32(99.52912)}\n"
          ]
        },
        {
          "output_type": "stream",
          "name": "stderr",
          "text": [
            "Action: gender: 100%|██████████| 2/2 [00:00<00:00,  2.20it/s]\n"
          ]
        },
        {
          "output_type": "stream",
          "name": "stdout",
          "text": [
            "Detected person --> Age: 36 | Gender: {'Woman': np.float32(0.47239637), 'Man': np.float32(99.527596)}\n"
          ]
        },
        {
          "output_type": "stream",
          "name": "stderr",
          "text": [
            "Action: gender: 100%|██████████| 2/2 [00:00<00:00,  2.24it/s]\n"
          ]
        },
        {
          "output_type": "stream",
          "name": "stdout",
          "text": [
            "Detected person --> Age: 35 | Gender: {'Woman': np.float32(0.45995057), 'Man': np.float32(99.54005)}\n"
          ]
        },
        {
          "output_type": "stream",
          "name": "stderr",
          "text": [
            "Action: gender: 100%|██████████| 2/2 [00:00<00:00,  2.22it/s]\n"
          ]
        },
        {
          "output_type": "stream",
          "name": "stdout",
          "text": [
            "Detected person --> Age: 36 | Gender: {'Woman': np.float32(0.49670693), 'Man': np.float32(99.50329)}\n"
          ]
        },
        {
          "output_type": "stream",
          "name": "stderr",
          "text": [
            "Action: gender: 100%|██████████| 2/2 [00:00<00:00,  2.18it/s]\n"
          ]
        },
        {
          "output_type": "stream",
          "name": "stdout",
          "text": [
            "Detected person --> Age: 36 | Gender: {'Woman': np.float32(0.5411905), 'Man': np.float32(99.45882)}\n"
          ]
        },
        {
          "output_type": "stream",
          "name": "stderr",
          "text": [
            "Action: gender: 100%|██████████| 2/2 [00:00<00:00,  2.16it/s]\n"
          ]
        },
        {
          "output_type": "stream",
          "name": "stdout",
          "text": [
            "Detected person --> Age: 35 | Gender: {'Woman': np.float32(0.68277174), 'Man': np.float32(99.31722)}\n"
          ]
        },
        {
          "output_type": "stream",
          "name": "stderr",
          "text": [
            "Action: gender: 100%|██████████| 2/2 [00:00<00:00,  2.17it/s]\n"
          ]
        },
        {
          "output_type": "stream",
          "name": "stdout",
          "text": [
            "Detected person --> Age: 35 | Gender: {'Woman': np.float32(0.41562185), 'Man': np.float32(99.58438)}\n"
          ]
        },
        {
          "output_type": "stream",
          "name": "stderr",
          "text": [
            "Action: gender: 100%|██████████| 2/2 [00:00<00:00,  2.18it/s]\n"
          ]
        },
        {
          "output_type": "stream",
          "name": "stdout",
          "text": [
            "Detected person --> Age: 35 | Gender: {'Woman': np.float32(0.4691498), 'Man': np.float32(99.530846)}\n"
          ]
        },
        {
          "output_type": "stream",
          "name": "stderr",
          "text": [
            "Action: gender: 100%|██████████| 2/2 [00:00<00:00,  2.20it/s]\n"
          ]
        },
        {
          "output_type": "stream",
          "name": "stdout",
          "text": [
            "Detected person --> Age: 35 | Gender: {'Woman': np.float32(0.9411878), 'Man': np.float32(99.05881)}\n"
          ]
        },
        {
          "output_type": "stream",
          "name": "stderr",
          "text": [
            "Action: gender: 100%|██████████| 2/2 [00:00<00:00,  2.31it/s]\n"
          ]
        },
        {
          "output_type": "stream",
          "name": "stdout",
          "text": [
            "Detected person --> Age: 35 | Gender: {'Woman': np.float32(0.5272139), 'Man': np.float32(99.47279)}\n"
          ]
        },
        {
          "output_type": "stream",
          "name": "stderr",
          "text": [
            "Action: gender: 100%|██████████| 2/2 [00:01<00:00,  1.67it/s]\n"
          ]
        },
        {
          "output_type": "stream",
          "name": "stdout",
          "text": [
            "Detected person --> Age: 34 | Gender: {'Woman': np.float32(0.99812186), 'Man': np.float32(99.00187)}\n"
          ]
        },
        {
          "output_type": "stream",
          "name": "stderr",
          "text": [
            "Action: gender: 100%|██████████| 2/2 [00:00<00:00,  2.26it/s]\n"
          ]
        },
        {
          "output_type": "stream",
          "name": "stdout",
          "text": [
            "Detected person --> Age: 35 | Gender: {'Woman': np.float32(0.79802984), 'Man': np.float32(99.20197)}\n"
          ]
        },
        {
          "output_type": "stream",
          "name": "stderr",
          "text": [
            "Action: gender: 100%|██████████| 2/2 [00:00<00:00,  2.45it/s]\n"
          ]
        },
        {
          "output_type": "stream",
          "name": "stdout",
          "text": [
            "Detected person --> Age: 35 | Gender: {'Woman': np.float32(0.86947644), 'Man': np.float32(99.130516)}\n"
          ]
        },
        {
          "output_type": "stream",
          "name": "stderr",
          "text": [
            "Action: gender: 100%|██████████| 2/2 [00:00<00:00,  2.37it/s]\n"
          ]
        },
        {
          "output_type": "stream",
          "name": "stdout",
          "text": [
            "Detected person --> Age: 34 | Gender: {'Woman': np.float32(0.7320079), 'Man': np.float32(99.268)}\n"
          ]
        },
        {
          "output_type": "stream",
          "name": "stderr",
          "text": [
            "Action: gender: 100%|██████████| 2/2 [00:00<00:00,  2.26it/s]\n"
          ]
        },
        {
          "output_type": "stream",
          "name": "stdout",
          "text": [
            "Detected person --> Age: 35 | Gender: {'Woman': np.float32(0.76196414), 'Man': np.float32(99.23804)}\n"
          ]
        },
        {
          "output_type": "stream",
          "name": "stderr",
          "text": [
            "Action: gender: 100%|██████████| 2/2 [00:00<00:00,  2.39it/s]\n"
          ]
        },
        {
          "output_type": "stream",
          "name": "stdout",
          "text": [
            "Detected person --> Age: 38 | Gender: {'Woman': np.float32(0.59346545), 'Man': np.float32(99.406525)}\n"
          ]
        },
        {
          "output_type": "stream",
          "name": "stderr",
          "text": [
            "Action: gender: 100%|██████████| 2/2 [00:00<00:00,  2.19it/s]\n"
          ]
        },
        {
          "output_type": "stream",
          "name": "stdout",
          "text": [
            "Detected person --> Age: 38 | Gender: {'Woman': np.float32(0.5858469), 'Man': np.float32(99.414154)}\n"
          ]
        },
        {
          "output_type": "stream",
          "name": "stderr",
          "text": [
            "Action: gender: 100%|██████████| 2/2 [00:00<00:00,  2.41it/s]\n"
          ]
        },
        {
          "output_type": "stream",
          "name": "stdout",
          "text": [
            "Detected person --> Age: 36 | Gender: {'Woman': np.float32(0.83625185), 'Man': np.float32(99.16375)}\n"
          ]
        },
        {
          "output_type": "stream",
          "name": "stderr",
          "text": [
            "Action: gender: 100%|██████████| 2/2 [00:00<00:00,  2.19it/s]\n"
          ]
        },
        {
          "output_type": "stream",
          "name": "stdout",
          "text": [
            "Detected person --> Age: 37 | Gender: {'Woman': np.float32(0.6183287), 'Man': np.float32(99.38167)}\n"
          ]
        },
        {
          "output_type": "stream",
          "name": "stderr",
          "text": [
            "Action: gender: 100%|██████████| 2/2 [00:00<00:00,  2.39it/s]\n"
          ]
        },
        {
          "output_type": "stream",
          "name": "stdout",
          "text": [
            "Detected person --> Age: 36 | Gender: {'Woman': np.float32(0.54174495), 'Man': np.float32(99.45826)}\n"
          ]
        },
        {
          "output_type": "stream",
          "name": "stderr",
          "text": [
            "Action: gender: 100%|██████████| 2/2 [00:00<00:00,  2.41it/s]\n"
          ]
        },
        {
          "output_type": "stream",
          "name": "stdout",
          "text": [
            "Detected person --> Age: 34 | Gender: {'Woman': np.float32(0.9931325), 'Man': np.float32(99.00686)}\n"
          ]
        },
        {
          "output_type": "stream",
          "name": "stderr",
          "text": [
            "Action: gender: 100%|██████████| 2/2 [00:01<00:00,  1.80it/s]\n"
          ]
        },
        {
          "output_type": "stream",
          "name": "stdout",
          "text": [
            "Detected person --> Age: 34 | Gender: {'Woman': np.float32(0.66715187), 'Man': np.float32(99.33285)}\n"
          ]
        },
        {
          "output_type": "stream",
          "name": "stderr",
          "text": [
            "Action: gender: 100%|██████████| 2/2 [00:00<00:00,  2.25it/s]\n"
          ]
        },
        {
          "output_type": "stream",
          "name": "stdout",
          "text": [
            "Detected person --> Age: 36 | Gender: {'Woman': np.float32(0.48366386), 'Man': np.float32(99.516335)}\n"
          ]
        },
        {
          "output_type": "stream",
          "name": "stderr",
          "text": [
            "Action: gender: 100%|██████████| 2/2 [00:00<00:00,  2.43it/s]\n"
          ]
        },
        {
          "output_type": "stream",
          "name": "stdout",
          "text": [
            "Detected person --> Age: 34 | Gender: {'Woman': np.float32(0.66636485), 'Man': np.float32(99.33363)}\n"
          ]
        },
        {
          "output_type": "stream",
          "name": "stderr",
          "text": [
            "Action: gender: 100%|██████████| 2/2 [00:00<00:00,  2.17it/s]\n"
          ]
        },
        {
          "output_type": "stream",
          "name": "stdout",
          "text": [
            "Detected person --> Age: 35 | Gender: {'Woman': np.float32(0.3980101), 'Man': np.float32(99.60199)}\n"
          ]
        },
        {
          "output_type": "stream",
          "name": "stderr",
          "text": [
            "Action: gender: 100%|██████████| 2/2 [00:00<00:00,  2.15it/s]\n"
          ]
        },
        {
          "output_type": "stream",
          "name": "stdout",
          "text": [
            "Detected person --> Age: 36 | Gender: {'Woman': np.float32(0.43073857), 'Man': np.float32(99.56927)}\n"
          ]
        },
        {
          "output_type": "stream",
          "name": "stderr",
          "text": [
            "Action: gender: 100%|██████████| 2/2 [00:00<00:00,  2.40it/s]\n"
          ]
        },
        {
          "output_type": "stream",
          "name": "stdout",
          "text": [
            "Detected person --> Age: 35 | Gender: {'Woman': np.float32(0.47221017), 'Man': np.float32(99.52779)}\n"
          ]
        },
        {
          "output_type": "stream",
          "name": "stderr",
          "text": [
            "Action: gender: 100%|██████████| 2/2 [00:00<00:00,  2.44it/s]\n"
          ]
        },
        {
          "output_type": "stream",
          "name": "stdout",
          "text": [
            "Detected person --> Age: 35 | Gender: {'Woman': np.float32(0.6010905), 'Man': np.float32(99.39891)}\n"
          ]
        },
        {
          "output_type": "stream",
          "name": "stderr",
          "text": [
            "Action: gender: 100%|██████████| 2/2 [00:00<00:00,  2.20it/s]\n"
          ]
        },
        {
          "output_type": "stream",
          "name": "stdout",
          "text": [
            "Detected person --> Age: 36 | Gender: {'Woman': np.float32(0.45644823), 'Man': np.float32(99.54356)}\n"
          ]
        },
        {
          "output_type": "stream",
          "name": "stderr",
          "text": [
            "Action: gender: 100%|██████████| 2/2 [00:00<00:00,  2.14it/s]\n"
          ]
        },
        {
          "output_type": "stream",
          "name": "stdout",
          "text": [
            "Detected person --> Age: 34 | Gender: {'Woman': np.float32(0.72425145), 'Man': np.float32(99.27574)}\n"
          ]
        },
        {
          "output_type": "stream",
          "name": "stderr",
          "text": [
            "Action: gender: 100%|██████████| 2/2 [00:00<00:00,  2.36it/s]\n"
          ]
        },
        {
          "output_type": "stream",
          "name": "stdout",
          "text": [
            "Detected person --> Age: 34 | Gender: {'Woman': np.float32(1.0210875), 'Man': np.float32(98.978905)}\n"
          ]
        },
        {
          "output_type": "stream",
          "name": "stderr",
          "text": [
            "Action: gender: 100%|██████████| 2/2 [00:00<00:00,  2.43it/s]\n"
          ]
        },
        {
          "output_type": "stream",
          "name": "stdout",
          "text": [
            "Detected person --> Age: 34 | Gender: {'Woman': np.float32(0.53907615), 'Man': np.float32(99.46092)}\n"
          ]
        },
        {
          "output_type": "stream",
          "name": "stderr",
          "text": [
            "Action: gender: 100%|██████████| 2/2 [00:01<00:00,  1.97it/s]\n"
          ]
        },
        {
          "output_type": "stream",
          "name": "stdout",
          "text": [
            "Detected person --> Age: 33 | Gender: {'Woman': np.float32(0.46358657), 'Man': np.float32(99.53641)}\n"
          ]
        },
        {
          "output_type": "stream",
          "name": "stderr",
          "text": [
            "Action: gender: 100%|██████████| 2/2 [00:01<00:00,  1.85it/s]\n"
          ]
        },
        {
          "output_type": "stream",
          "name": "stdout",
          "text": [
            "Detected person --> Age: 32 | Gender: {'Woman': np.float32(0.39366615), 'Man': np.float32(99.60633)}\n"
          ]
        },
        {
          "output_type": "stream",
          "name": "stderr",
          "text": [
            "Action: gender: 100%|██████████| 2/2 [00:00<00:00,  2.19it/s]\n"
          ]
        },
        {
          "output_type": "stream",
          "name": "stdout",
          "text": [
            "Detected person --> Age: 34 | Gender: {'Woman': np.float32(0.6219329), 'Man': np.float32(99.37807)}\n"
          ]
        },
        {
          "output_type": "stream",
          "name": "stderr",
          "text": [
            "Action: gender: 100%|██████████| 2/2 [00:00<00:00,  2.40it/s]\n"
          ]
        },
        {
          "output_type": "stream",
          "name": "stdout",
          "text": [
            "Detected person --> Age: 31 | Gender: {'Woman': np.float32(0.43088737), 'Man': np.float32(99.569115)}\n"
          ]
        },
        {
          "output_type": "stream",
          "name": "stderr",
          "text": [
            "Action: gender: 100%|██████████| 2/2 [00:00<00:00,  2.39it/s]\n"
          ]
        },
        {
          "output_type": "stream",
          "name": "stdout",
          "text": [
            "Detected person --> Age: 30 | Gender: {'Woman': np.float32(0.35212544), 'Man': np.float32(99.64787)}\n"
          ]
        },
        {
          "output_type": "stream",
          "name": "stderr",
          "text": [
            "Action: gender: 100%|██████████| 2/2 [00:00<00:00,  2.45it/s]\n"
          ]
        },
        {
          "output_type": "stream",
          "name": "stdout",
          "text": [
            "Detected person --> Age: 28 | Gender: {'Woman': np.float32(0.63739425), 'Man': np.float32(99.36261)}\n"
          ]
        },
        {
          "output_type": "stream",
          "name": "stderr",
          "text": [
            "Action: gender: 100%|██████████| 2/2 [00:00<00:00,  2.19it/s]\n"
          ]
        },
        {
          "output_type": "stream",
          "name": "stdout",
          "text": [
            "Detected person --> Age: 27 | Gender: {'Woman': np.float32(1.3704197), 'Man': np.float32(98.629585)}\n"
          ]
        },
        {
          "output_type": "stream",
          "name": "stderr",
          "text": [
            "Action: gender: 100%|██████████| 2/2 [00:00<00:00,  2.35it/s]\n"
          ]
        },
        {
          "output_type": "stream",
          "name": "stdout",
          "text": [
            "Detected person --> Age: 25 | Gender: {'Woman': np.float32(5.901808), 'Man': np.float32(94.09819)}\n"
          ]
        },
        {
          "output_type": "stream",
          "name": "stderr",
          "text": [
            "Action: gender: 100%|██████████| 2/2 [00:00<00:00,  2.42it/s]\n"
          ]
        },
        {
          "output_type": "stream",
          "name": "stdout",
          "text": [
            "Detected person --> Age: 27 | Gender: {'Woman': np.float32(11.37665), 'Man': np.float32(88.62335)}\n"
          ]
        },
        {
          "output_type": "stream",
          "name": "stderr",
          "text": [
            "Action: gender: 100%|██████████| 2/2 [00:00<00:00,  2.42it/s]\n"
          ]
        },
        {
          "output_type": "stream",
          "name": "stdout",
          "text": [
            "Detected person --> Age: 36 | Gender: {'Woman': np.float32(10.968697), 'Man': np.float32(89.03131)}\n"
          ]
        },
        {
          "output_type": "stream",
          "name": "stderr",
          "text": [
            "Action: gender: 100%|██████████| 2/2 [00:00<00:00,  2.23it/s]\n"
          ]
        },
        {
          "output_type": "stream",
          "name": "stdout",
          "text": [
            "Detected person --> Age: 34 | Gender: {'Woman': np.float32(10.7519455), 'Man': np.float32(89.24806)}\n"
          ]
        },
        {
          "output_type": "stream",
          "name": "stderr",
          "text": [
            "Action: gender: 100%|██████████| 2/2 [00:00<00:00,  2.07it/s]\n"
          ]
        },
        {
          "output_type": "stream",
          "name": "stdout",
          "text": [
            "Detected person --> Age: 34 | Gender: {'Woman': np.float32(9.662871), 'Man': np.float32(90.33713)}\n"
          ]
        },
        {
          "output_type": "stream",
          "name": "stderr",
          "text": [
            "Action: gender: 100%|██████████| 2/2 [00:01<00:00,  1.78it/s]\n"
          ]
        },
        {
          "output_type": "stream",
          "name": "stdout",
          "text": [
            "Detected person --> Age: 32 | Gender: {'Woman': np.float32(8.370339), 'Man': np.float32(91.62967)}\n"
          ]
        },
        {
          "output_type": "stream",
          "name": "stderr",
          "text": [
            "Action: gender: 100%|██████████| 2/2 [00:00<00:00,  2.39it/s]\n"
          ]
        },
        {
          "output_type": "stream",
          "name": "stdout",
          "text": [
            "Detected person --> Age: 33 | Gender: {'Woman': np.float32(7.632073), 'Man': np.float32(92.36793)}\n"
          ]
        },
        {
          "output_type": "stream",
          "name": "stderr",
          "text": [
            "Action: gender: 100%|██████████| 2/2 [00:00<00:00,  2.43it/s]\n"
          ]
        },
        {
          "output_type": "stream",
          "name": "stdout",
          "text": [
            "Detected person --> Age: 34 | Gender: {'Woman': np.float32(9.07482), 'Man': np.float32(90.92518)}\n"
          ]
        },
        {
          "output_type": "stream",
          "name": "stderr",
          "text": [
            "Action: gender: 100%|██████████| 2/2 [00:00<00:00,  2.43it/s]\n"
          ]
        },
        {
          "output_type": "stream",
          "name": "stdout",
          "text": [
            "Detected person --> Age: 35 | Gender: {'Woman': np.float32(11.465723), 'Man': np.float32(88.53428)}\n"
          ]
        },
        {
          "output_type": "stream",
          "name": "stderr",
          "text": [
            "Action: gender: 100%|██████████| 2/2 [00:00<00:00,  2.16it/s]\n"
          ]
        },
        {
          "output_type": "stream",
          "name": "stdout",
          "text": [
            "Detected person --> Age: 35 | Gender: {'Woman': np.float32(11.784196), 'Man': np.float32(88.2158)}\n"
          ]
        },
        {
          "output_type": "stream",
          "name": "stderr",
          "text": [
            "Action: gender: 100%|██████████| 2/2 [00:00<00:00,  2.28it/s]\n"
          ]
        },
        {
          "output_type": "stream",
          "name": "stdout",
          "text": [
            "Detected person --> Age: 35 | Gender: {'Woman': np.float32(12.190271), 'Man': np.float32(87.80972)}\n"
          ]
        },
        {
          "output_type": "stream",
          "name": "stderr",
          "text": [
            "Action: gender: 100%|██████████| 2/2 [00:00<00:00,  2.40it/s]\n"
          ]
        },
        {
          "output_type": "stream",
          "name": "stdout",
          "text": [
            "Detected person --> Age: 35 | Gender: {'Woman': np.float32(12.202622), 'Man': np.float32(87.797386)}\n"
          ]
        },
        {
          "output_type": "stream",
          "name": "stderr",
          "text": [
            "Action: gender: 100%|██████████| 2/2 [00:00<00:00,  2.42it/s]\n"
          ]
        },
        {
          "output_type": "stream",
          "name": "stdout",
          "text": [
            "Detected person --> Age: 35 | Gender: {'Woman': np.float32(12.095109), 'Man': np.float32(87.90489)}\n"
          ]
        },
        {
          "output_type": "stream",
          "name": "stderr",
          "text": [
            "Action: gender: 100%|██████████| 2/2 [00:00<00:00,  2.32it/s]\n"
          ]
        },
        {
          "output_type": "stream",
          "name": "stdout",
          "text": [
            "Detected person --> Age: 35 | Gender: {'Woman': np.float32(12.248256), 'Man': np.float32(87.75175)}\n"
          ]
        },
        {
          "output_type": "stream",
          "name": "stderr",
          "text": [
            "Action: gender: 100%|██████████| 2/2 [00:00<00:00,  2.22it/s]\n"
          ]
        },
        {
          "output_type": "stream",
          "name": "stdout",
          "text": [
            "Detected person --> Age: 35 | Gender: {'Woman': np.float32(12.162838), 'Man': np.float32(87.83716)}\n"
          ]
        },
        {
          "output_type": "stream",
          "name": "stderr",
          "text": [
            "Action: gender: 100%|██████████| 2/2 [00:00<00:00,  2.29it/s]\n"
          ]
        },
        {
          "output_type": "stream",
          "name": "stdout",
          "text": [
            "Detected person --> Age: 35 | Gender: {'Woman': np.float32(12.147698), 'Man': np.float32(87.8523)}\n"
          ]
        },
        {
          "output_type": "stream",
          "name": "stderr",
          "text": [
            "Action: gender: 100%|██████████| 2/2 [00:01<00:00,  1.81it/s]\n"
          ]
        },
        {
          "output_type": "stream",
          "name": "stdout",
          "text": [
            "Detected person --> Age: 35 | Gender: {'Woman': np.float32(12.225322), 'Man': np.float32(87.77467)}\n"
          ]
        },
        {
          "output_type": "stream",
          "name": "stderr",
          "text": [
            "Action: gender: 100%|██████████| 2/2 [00:00<00:00,  2.20it/s]\n"
          ]
        },
        {
          "output_type": "stream",
          "name": "stdout",
          "text": [
            "Detected person --> Age: 35 | Gender: {'Woman': np.float32(12.466676), 'Man': np.float32(87.533325)}\n"
          ]
        },
        {
          "output_type": "stream",
          "name": "stderr",
          "text": [
            "Action: gender: 100%|██████████| 2/2 [00:00<00:00,  2.40it/s]\n"
          ]
        },
        {
          "output_type": "stream",
          "name": "stdout",
          "text": [
            "Detected person --> Age: 36 | Gender: {'Woman': np.float32(12.513912), 'Man': np.float32(87.48609)}\n"
          ]
        },
        {
          "output_type": "stream",
          "name": "stderr",
          "text": [
            "Action: gender: 100%|██████████| 2/2 [00:00<00:00,  2.43it/s]\n"
          ]
        },
        {
          "output_type": "stream",
          "name": "stdout",
          "text": [
            "Detected person --> Age: 36 | Gender: {'Woman': np.float32(12.473518), 'Man': np.float32(87.52648)}\n"
          ]
        },
        {
          "output_type": "stream",
          "name": "stderr",
          "text": [
            "Action: gender: 100%|██████████| 2/2 [00:00<00:00,  2.39it/s]\n"
          ]
        },
        {
          "output_type": "stream",
          "name": "stdout",
          "text": [
            "Detected person --> Age: 35 | Gender: {'Woman': np.float32(12.363304), 'Man': np.float32(87.63669)}\n"
          ]
        },
        {
          "output_type": "stream",
          "name": "stderr",
          "text": [
            "Action: gender: 100%|██████████| 2/2 [00:00<00:00,  2.40it/s]\n"
          ]
        },
        {
          "output_type": "stream",
          "name": "stdout",
          "text": [
            "Detected person --> Age: 35 | Gender: {'Woman': np.float32(12.421723), 'Man': np.float32(87.57827)}\n"
          ]
        },
        {
          "output_type": "stream",
          "name": "stderr",
          "text": [
            "Action: gender: 100%|██████████| 2/2 [00:00<00:00,  2.35it/s]\n"
          ]
        },
        {
          "output_type": "stream",
          "name": "stdout",
          "text": [
            "Detected person --> Age: 35 | Gender: {'Woman': np.float32(12.367704), 'Man': np.float32(87.63229)}\n"
          ]
        },
        {
          "output_type": "stream",
          "name": "stderr",
          "text": [
            "Action: gender: 100%|██████████| 2/2 [00:00<00:00,  2.27it/s]\n"
          ]
        },
        {
          "output_type": "stream",
          "name": "stdout",
          "text": [
            "Detected person --> Age: 35 | Gender: {'Woman': np.float32(12.386293), 'Man': np.float32(87.61371)}\n"
          ]
        },
        {
          "output_type": "stream",
          "name": "stderr",
          "text": [
            "Action: gender: 100%|██████████| 2/2 [00:00<00:00,  2.46it/s]\n"
          ]
        },
        {
          "output_type": "stream",
          "name": "stdout",
          "text": [
            "Detected person --> Age: 36 | Gender: {'Woman': np.float32(12.453211), 'Man': np.float32(87.54679)}\n"
          ]
        },
        {
          "output_type": "stream",
          "name": "stderr",
          "text": [
            "Action: gender: 100%|██████████| 2/2 [00:00<00:00,  2.42it/s]\n"
          ]
        },
        {
          "output_type": "stream",
          "name": "stdout",
          "text": [
            "Detected person --> Age: 35 | Gender: {'Woman': np.float32(12.4958), 'Man': np.float32(87.5042)}\n"
          ]
        },
        {
          "output_type": "stream",
          "name": "stderr",
          "text": [
            "Action: gender: 100%|██████████| 2/2 [00:00<00:00,  2.19it/s]\n"
          ]
        },
        {
          "output_type": "stream",
          "name": "stdout",
          "text": [
            "Detected person --> Age: 36 | Gender: {'Woman': np.float32(12.775503), 'Man': np.float32(87.224495)}\n"
          ]
        },
        {
          "output_type": "stream",
          "name": "stderr",
          "text": [
            "Action: gender: 100%|██████████| 2/2 [00:00<00:00,  2.03it/s]\n"
          ]
        },
        {
          "output_type": "stream",
          "name": "stdout",
          "text": [
            "Detected person --> Age: 36 | Gender: {'Woman': np.float32(12.796664), 'Man': np.float32(87.20334)}\n"
          ]
        },
        {
          "output_type": "stream",
          "name": "stderr",
          "text": [
            "Action: gender: 100%|██████████| 2/2 [00:01<00:00,  1.81it/s]\n"
          ]
        },
        {
          "output_type": "stream",
          "name": "stdout",
          "text": [
            "Detected person --> Age: 36 | Gender: {'Woman': np.float32(13.075805), 'Man': np.float32(86.924194)}\n"
          ]
        },
        {
          "output_type": "stream",
          "name": "stderr",
          "text": [
            "Action: gender: 100%|██████████| 2/2 [00:00<00:00,  2.23it/s]\n"
          ]
        },
        {
          "output_type": "stream",
          "name": "stdout",
          "text": [
            "Detected person --> Age: 36 | Gender: {'Woman': np.float32(12.918371), 'Man': np.float32(87.08163)}\n"
          ]
        },
        {
          "output_type": "stream",
          "name": "stderr",
          "text": [
            "Action: gender: 100%|██████████| 2/2 [00:00<00:00,  2.31it/s]\n"
          ]
        },
        {
          "output_type": "stream",
          "name": "stdout",
          "text": [
            "Detected person --> Age: 36 | Gender: {'Woman': np.float32(12.884748), 'Man': np.float32(87.11525)}\n"
          ]
        },
        {
          "output_type": "stream",
          "name": "stderr",
          "text": [
            "Action: gender: 100%|██████████| 2/2 [00:00<00:00,  2.28it/s]\n"
          ]
        },
        {
          "output_type": "stream",
          "name": "stdout",
          "text": [
            "Detected person --> Age: 36 | Gender: {'Woman': np.float32(12.740728), 'Man': np.float32(87.25927)}\n"
          ]
        },
        {
          "output_type": "stream",
          "name": "stderr",
          "text": [
            "Action: gender: 100%|██████████| 2/2 [00:00<00:00,  2.34it/s]\n"
          ]
        },
        {
          "output_type": "stream",
          "name": "stdout",
          "text": [
            "Detected person --> Age: 36 | Gender: {'Woman': np.float32(12.836708), 'Man': np.float32(87.163284)}\n"
          ]
        },
        {
          "output_type": "stream",
          "name": "stderr",
          "text": [
            "Action: gender: 100%|██████████| 2/2 [00:00<00:00,  2.29it/s]\n"
          ]
        },
        {
          "output_type": "stream",
          "name": "stdout",
          "text": [
            "Detected person --> Age: 36 | Gender: {'Woman': np.float32(12.831694), 'Man': np.float32(87.168304)}\n"
          ]
        },
        {
          "output_type": "stream",
          "name": "stderr",
          "text": [
            "Action: gender: 100%|██████████| 2/2 [00:00<00:00,  2.42it/s]\n"
          ]
        },
        {
          "output_type": "stream",
          "name": "stdout",
          "text": [
            "Detected person --> Age: 36 | Gender: {'Woman': np.float32(12.894434), 'Man': np.float32(87.10556)}\n"
          ]
        },
        {
          "output_type": "stream",
          "name": "stderr",
          "text": [
            "Action: gender: 100%|██████████| 2/2 [00:00<00:00,  2.09it/s]\n"
          ]
        },
        {
          "output_type": "stream",
          "name": "stdout",
          "text": [
            "Detected person --> Age: 36 | Gender: {'Woman': np.float32(12.894622), 'Man': np.float32(87.105385)}\n"
          ]
        },
        {
          "output_type": "stream",
          "name": "stderr",
          "text": [
            "Action: gender: 100%|██████████| 2/2 [00:00<00:00,  2.41it/s]\n"
          ]
        },
        {
          "output_type": "stream",
          "name": "stdout",
          "text": [
            "Detected person --> Age: 36 | Gender: {'Woman': np.float32(12.883848), 'Man': np.float32(87.11616)}\n"
          ]
        },
        {
          "output_type": "stream",
          "name": "stderr",
          "text": [
            "Action: gender: 100%|██████████| 2/2 [00:00<00:00,  2.42it/s]\n"
          ]
        },
        {
          "output_type": "stream",
          "name": "stdout",
          "text": [
            "Detected person --> Age: 36 | Gender: {'Woman': np.float32(12.764791), 'Man': np.float32(87.235214)}\n"
          ]
        },
        {
          "output_type": "stream",
          "name": "stderr",
          "text": [
            "Action: gender: 100%|██████████| 2/2 [00:00<00:00,  2.40it/s]\n"
          ]
        },
        {
          "output_type": "stream",
          "name": "stdout",
          "text": [
            "Detected person --> Age: 36 | Gender: {'Woman': np.float32(12.883608), 'Man': np.float32(87.116394)}\n"
          ]
        },
        {
          "output_type": "stream",
          "name": "stderr",
          "text": [
            "Action: gender: 100%|██████████| 2/2 [00:01<00:00,  1.78it/s]\n"
          ]
        },
        {
          "output_type": "stream",
          "name": "stdout",
          "text": [
            "Detected person --> Age: 36 | Gender: {'Woman': np.float32(12.895088), 'Man': np.float32(87.10491)}\n"
          ]
        },
        {
          "output_type": "stream",
          "name": "stderr",
          "text": [
            "Action: gender: 100%|██████████| 2/2 [00:00<00:00,  2.25it/s]\n"
          ]
        },
        {
          "output_type": "stream",
          "name": "stdout",
          "text": [
            "Detected person --> Age: 36 | Gender: {'Woman': np.float32(12.869279), 'Man': np.float32(87.13072)}\n"
          ]
        },
        {
          "output_type": "stream",
          "name": "stderr",
          "text": [
            "Action: gender: 100%|██████████| 2/2 [00:00<00:00,  2.18it/s]\n"
          ]
        },
        {
          "output_type": "stream",
          "name": "stdout",
          "text": [
            "Detected person --> Age: 36 | Gender: {'Woman': np.float32(12.905723), 'Man': np.float32(87.09428)}\n"
          ]
        },
        {
          "output_type": "stream",
          "name": "stderr",
          "text": [
            "Action: gender: 100%|██████████| 2/2 [00:00<00:00,  2.37it/s]\n"
          ]
        },
        {
          "output_type": "stream",
          "name": "stdout",
          "text": [
            "Detected person --> Age: 36 | Gender: {'Woman': np.float32(12.794775), 'Man': np.float32(87.20522)}\n"
          ]
        },
        {
          "output_type": "stream",
          "name": "stderr",
          "text": [
            "Action: gender: 100%|██████████| 2/2 [00:00<00:00,  2.31it/s]\n"
          ]
        },
        {
          "output_type": "stream",
          "name": "stdout",
          "text": [
            "Detected person --> Age: 36 | Gender: {'Woman': np.float32(12.777814), 'Man': np.float32(87.22219)}\n"
          ]
        },
        {
          "output_type": "stream",
          "name": "stderr",
          "text": [
            "Action: gender: 100%|██████████| 2/2 [00:01<00:00,  1.69it/s]\n"
          ]
        },
        {
          "output_type": "stream",
          "name": "stdout",
          "text": [
            "Detected person --> Age: 36 | Gender: {'Woman': np.float32(12.733598), 'Man': np.float32(87.266396)}\n"
          ]
        },
        {
          "output_type": "stream",
          "name": "stderr",
          "text": [
            "Action: gender: 100%|██████████| 2/2 [00:01<00:00,  1.48it/s]\n"
          ]
        },
        {
          "output_type": "stream",
          "name": "stdout",
          "text": [
            "Detected person --> Age: 36 | Gender: {'Woman': np.float32(12.958741), 'Man': np.float32(87.04126)}\n"
          ]
        },
        {
          "output_type": "stream",
          "name": "stderr",
          "text": [
            "Action: gender: 100%|██████████| 2/2 [00:01<00:00,  1.77it/s]\n"
          ]
        },
        {
          "output_type": "stream",
          "name": "stdout",
          "text": [
            "Detected person --> Age: 36 | Gender: {'Woman': np.float32(12.872858), 'Man': np.float32(87.12714)}\n"
          ]
        },
        {
          "output_type": "stream",
          "name": "stderr",
          "text": [
            "Action: gender: 100%|██████████| 2/2 [00:00<00:00,  2.30it/s]\n"
          ]
        },
        {
          "output_type": "stream",
          "name": "stdout",
          "text": [
            "Detected person --> Age: 36 | Gender: {'Woman': np.float32(12.880102), 'Man': np.float32(87.1199)}\n"
          ]
        },
        {
          "output_type": "stream",
          "name": "stderr",
          "text": [
            "Action: gender: 100%|██████████| 2/2 [00:00<00:00,  2.04it/s]\n"
          ]
        },
        {
          "output_type": "stream",
          "name": "stdout",
          "text": [
            "Detected person --> Age: 36 | Gender: {'Woman': np.float32(12.799909), 'Man': np.float32(87.200096)}\n"
          ]
        },
        {
          "output_type": "stream",
          "name": "stderr",
          "text": [
            "Action: gender: 100%|██████████| 2/2 [00:01<00:00,  1.51it/s]\n"
          ]
        },
        {
          "output_type": "stream",
          "name": "stdout",
          "text": [
            "Detected person --> Age: 36 | Gender: {'Woman': np.float32(12.729259), 'Man': np.float32(87.270744)}\n"
          ]
        },
        {
          "output_type": "stream",
          "name": "stderr",
          "text": [
            "Action: gender: 100%|██████████| 2/2 [00:00<00:00,  2.27it/s]\n"
          ]
        },
        {
          "output_type": "stream",
          "name": "stdout",
          "text": [
            "Detected person --> Age: 36 | Gender: {'Woman': np.float32(12.678771), 'Man': np.float32(87.32123)}\n"
          ]
        },
        {
          "output_type": "stream",
          "name": "stderr",
          "text": [
            "Action: gender: 100%|██████████| 2/2 [00:00<00:00,  2.26it/s]\n"
          ]
        },
        {
          "output_type": "stream",
          "name": "stdout",
          "text": [
            "Detected person --> Age: 36 | Gender: {'Woman': np.float32(12.901494), 'Man': np.float32(87.09851)}\n"
          ]
        },
        {
          "output_type": "stream",
          "name": "stderr",
          "text": [
            "Action: gender: 100%|██████████| 2/2 [00:00<00:00,  2.17it/s]\n"
          ]
        },
        {
          "output_type": "stream",
          "name": "stdout",
          "text": [
            "Detected person --> Age: 36 | Gender: {'Woman': np.float32(12.714076), 'Man': np.float32(87.28593)}\n"
          ]
        },
        {
          "output_type": "stream",
          "name": "stderr",
          "text": [
            "Action: gender: 100%|██████████| 2/2 [00:00<00:00,  2.23it/s]\n"
          ]
        },
        {
          "output_type": "stream",
          "name": "stdout",
          "text": [
            "Detected person --> Age: 36 | Gender: {'Woman': np.float32(12.814983), 'Man': np.float32(87.18502)}\n"
          ]
        },
        {
          "output_type": "stream",
          "name": "stderr",
          "text": [
            "Action: gender: 100%|██████████| 2/2 [00:00<00:00,  2.38it/s]\n"
          ]
        },
        {
          "output_type": "stream",
          "name": "stdout",
          "text": [
            "Detected person --> Age: 36 | Gender: {'Woman': np.float32(12.771021), 'Man': np.float32(87.22898)}\n"
          ]
        },
        {
          "output_type": "stream",
          "name": "stderr",
          "text": [
            "Action: gender: 100%|██████████| 2/2 [00:00<00:00,  2.31it/s]\n"
          ]
        },
        {
          "output_type": "stream",
          "name": "stdout",
          "text": [
            "Detected person --> Age: 36 | Gender: {'Woman': np.float32(12.658183), 'Man': np.float32(87.34182)}\n"
          ]
        },
        {
          "output_type": "stream",
          "name": "stderr",
          "text": [
            "Action: gender: 100%|██████████| 2/2 [00:00<00:00,  2.22it/s]\n"
          ]
        },
        {
          "output_type": "stream",
          "name": "stdout",
          "text": [
            "Detected person --> Age: 35 | Gender: {'Woman': np.float32(12.7788725), 'Man': np.float32(87.22113)}\n"
          ]
        },
        {
          "output_type": "stream",
          "name": "stderr",
          "text": [
            "Action: gender: 100%|██████████| 2/2 [00:00<00:00,  2.35it/s]\n"
          ]
        },
        {
          "output_type": "stream",
          "name": "stdout",
          "text": [
            "Detected person --> Age: 36 | Gender: {'Woman': np.float32(12.633179), 'Man': np.float32(87.36682)}\n"
          ]
        },
        {
          "output_type": "stream",
          "name": "stderr",
          "text": [
            "Action: gender: 100%|██████████| 2/2 [00:00<00:00,  2.32it/s]\n"
          ]
        },
        {
          "output_type": "stream",
          "name": "stdout",
          "text": [
            "Detected person --> Age: 36 | Gender: {'Woman': np.float32(12.505846), 'Man': np.float32(87.494156)}\n"
          ]
        },
        {
          "output_type": "stream",
          "name": "stderr",
          "text": [
            "Action: gender: 100%|██████████| 2/2 [00:00<00:00,  2.22it/s]\n"
          ]
        },
        {
          "output_type": "stream",
          "name": "stdout",
          "text": [
            "Detected person --> Age: 36 | Gender: {'Woman': np.float32(12.597735), 'Man': np.float32(87.40227)}\n"
          ]
        },
        {
          "output_type": "stream",
          "name": "stderr",
          "text": [
            "Action: gender: 100%|██████████| 2/2 [00:01<00:00,  1.86it/s]\n"
          ]
        },
        {
          "output_type": "stream",
          "name": "stdout",
          "text": [
            "Detected person --> Age: 36 | Gender: {'Woman': np.float32(12.663396), 'Man': np.float32(87.33661)}\n"
          ]
        },
        {
          "output_type": "stream",
          "name": "stderr",
          "text": [
            "Action: gender: 100%|██████████| 2/2 [00:00<00:00,  2.07it/s]\n"
          ]
        },
        {
          "output_type": "stream",
          "name": "stdout",
          "text": [
            "Detected person --> Age: 36 | Gender: {'Woman': np.float32(12.5892105), 'Man': np.float32(87.41079)}\n"
          ]
        },
        {
          "output_type": "stream",
          "name": "stderr",
          "text": [
            "Action: gender: 100%|██████████| 2/2 [00:00<00:00,  2.26it/s]\n"
          ]
        },
        {
          "output_type": "stream",
          "name": "stdout",
          "text": [
            "Detected person --> Age: 36 | Gender: {'Woman': np.float32(12.669232), 'Man': np.float32(87.33077)}\n"
          ]
        },
        {
          "output_type": "stream",
          "name": "stderr",
          "text": [
            "Action: gender: 100%|██████████| 2/2 [00:00<00:00,  2.21it/s]\n"
          ]
        },
        {
          "output_type": "stream",
          "name": "stdout",
          "text": [
            "Detected person --> Age: 36 | Gender: {'Woman': np.float32(12.492011), 'Man': np.float32(87.507996)}\n"
          ]
        },
        {
          "output_type": "stream",
          "name": "stderr",
          "text": [
            "Action: gender: 100%|██████████| 2/2 [00:00<00:00,  2.34it/s]\n"
          ]
        },
        {
          "output_type": "stream",
          "name": "stdout",
          "text": [
            "Detected person --> Age: 36 | Gender: {'Woman': np.float32(12.670067), 'Man': np.float32(87.32993)}\n"
          ]
        },
        {
          "output_type": "stream",
          "name": "stderr",
          "text": [
            "Action: gender: 100%|██████████| 2/2 [00:00<00:00,  2.34it/s]\n"
          ]
        },
        {
          "output_type": "stream",
          "name": "stdout",
          "text": [
            "Detected person --> Age: 36 | Gender: {'Woman': np.float32(12.430174), 'Man': np.float32(87.569824)}\n"
          ]
        },
        {
          "output_type": "stream",
          "name": "stderr",
          "text": [
            "Action: gender: 100%|██████████| 2/2 [00:00<00:00,  2.38it/s]\n"
          ]
        },
        {
          "output_type": "stream",
          "name": "stdout",
          "text": [
            "Detected person --> Age: 36 | Gender: {'Woman': np.float32(12.477526), 'Man': np.float32(87.52247)}\n"
          ]
        },
        {
          "output_type": "stream",
          "name": "stderr",
          "text": [
            "Action: gender: 100%|██████████| 2/2 [00:00<00:00,  2.36it/s]\n"
          ]
        },
        {
          "output_type": "stream",
          "name": "stdout",
          "text": [
            "Detected person --> Age: 36 | Gender: {'Woman': np.float32(12.593597), 'Man': np.float32(87.40641)}\n"
          ]
        },
        {
          "output_type": "stream",
          "name": "stderr",
          "text": [
            "Action: gender: 100%|██████████| 2/2 [00:00<00:00,  2.32it/s]\n"
          ]
        },
        {
          "output_type": "stream",
          "name": "stdout",
          "text": [
            "Detected person --> Age: 35 | Gender: {'Woman': np.float32(12.509298), 'Man': np.float32(87.49069)}\n"
          ]
        },
        {
          "output_type": "stream",
          "name": "stderr",
          "text": [
            "Action: gender: 100%|██████████| 2/2 [00:00<00:00,  2.33it/s]\n"
          ]
        },
        {
          "output_type": "stream",
          "name": "stdout",
          "text": [
            "Detected person --> Age: 36 | Gender: {'Woman': np.float32(12.508482), 'Man': np.float32(87.491516)}\n"
          ]
        },
        {
          "output_type": "stream",
          "name": "stderr",
          "text": [
            "Action: gender: 100%|██████████| 2/2 [00:00<00:00,  2.36it/s]\n"
          ]
        },
        {
          "output_type": "stream",
          "name": "stdout",
          "text": [
            "Detected person --> Age: 36 | Gender: {'Woman': np.float32(12.557141), 'Man': np.float32(87.44286)}\n"
          ]
        },
        {
          "output_type": "stream",
          "name": "stderr",
          "text": [
            "Action: gender: 100%|██████████| 2/2 [00:00<00:00,  2.28it/s]\n"
          ]
        },
        {
          "output_type": "stream",
          "name": "stdout",
          "text": [
            "Detected person --> Age: 36 | Gender: {'Woman': np.float32(12.518306), 'Man': np.float32(87.48169)}\n"
          ]
        },
        {
          "output_type": "stream",
          "name": "stderr",
          "text": [
            "Action: gender: 100%|██████████| 2/2 [00:01<00:00,  1.72it/s]\n"
          ]
        },
        {
          "output_type": "stream",
          "name": "stdout",
          "text": [
            "Detected person --> Age: 36 | Gender: {'Woman': np.float32(12.666234), 'Man': np.float32(87.33376)}\n"
          ]
        },
        {
          "output_type": "stream",
          "name": "stderr",
          "text": [
            "Action: gender: 100%|██████████| 2/2 [00:00<00:00,  2.13it/s]\n"
          ]
        },
        {
          "output_type": "stream",
          "name": "stdout",
          "text": [
            "Detected person --> Age: 36 | Gender: {'Woman': np.float32(12.589317), 'Man': np.float32(87.41068)}\n"
          ]
        },
        {
          "output_type": "stream",
          "name": "stderr",
          "text": [
            "Action: gender: 100%|██████████| 2/2 [00:00<00:00,  2.30it/s]\n"
          ]
        },
        {
          "output_type": "stream",
          "name": "stdout",
          "text": [
            "Detected person --> Age: 35 | Gender: {'Woman': np.float32(12.440725), 'Man': np.float32(87.55928)}\n"
          ]
        },
        {
          "output_type": "stream",
          "name": "stderr",
          "text": [
            "Action: gender: 100%|██████████| 2/2 [00:00<00:00,  2.15it/s]\n"
          ]
        },
        {
          "output_type": "stream",
          "name": "stdout",
          "text": [
            "Detected person --> Age: 36 | Gender: {'Woman': np.float32(12.595703), 'Man': np.float32(87.40429)}\n"
          ]
        },
        {
          "output_type": "stream",
          "name": "stderr",
          "text": [
            "Action: gender: 100%|██████████| 2/2 [00:00<00:00,  2.17it/s]\n"
          ]
        },
        {
          "output_type": "stream",
          "name": "stdout",
          "text": [
            "Detected person --> Age: 35 | Gender: {'Woman': np.float32(12.476276), 'Man': np.float32(87.52372)}\n"
          ]
        },
        {
          "output_type": "stream",
          "name": "stderr",
          "text": [
            "Action: gender: 100%|██████████| 2/2 [00:00<00:00,  2.43it/s]\n"
          ]
        },
        {
          "output_type": "stream",
          "name": "stdout",
          "text": [
            "Detected person --> Age: 36 | Gender: {'Woman': np.float32(12.543154), 'Man': np.float32(87.45685)}\n"
          ]
        },
        {
          "output_type": "stream",
          "name": "stderr",
          "text": [
            "Action: gender: 100%|██████████| 2/2 [00:00<00:00,  2.35it/s]\n"
          ]
        },
        {
          "output_type": "stream",
          "name": "stdout",
          "text": [
            "Detected person --> Age: 36 | Gender: {'Woman': np.float32(12.494835), 'Man': np.float32(87.50517)}\n"
          ]
        },
        {
          "output_type": "stream",
          "name": "stderr",
          "text": [
            "Action: gender: 100%|██████████| 2/2 [00:00<00:00,  2.32it/s]\n"
          ]
        },
        {
          "output_type": "stream",
          "name": "stdout",
          "text": [
            "Detected person --> Age: 35 | Gender: {'Woman': np.float32(12.506559), 'Man': np.float32(87.49345)}\n"
          ]
        },
        {
          "output_type": "stream",
          "name": "stderr",
          "text": [
            "Action: gender: 100%|██████████| 2/2 [00:00<00:00,  2.16it/s]\n"
          ]
        },
        {
          "output_type": "stream",
          "name": "stdout",
          "text": [
            "Detected person --> Age: 35 | Gender: {'Woman': np.float32(12.5192375), 'Man': np.float32(87.48076)}\n"
          ]
        },
        {
          "output_type": "stream",
          "name": "stderr",
          "text": [
            "Action: gender: 100%|██████████| 2/2 [00:00<00:00,  2.36it/s]\n"
          ]
        },
        {
          "output_type": "stream",
          "name": "stdout",
          "text": [
            "Detected person --> Age: 35 | Gender: {'Woman': np.float32(12.505393), 'Man': np.float32(87.4946)}\n"
          ]
        },
        {
          "output_type": "stream",
          "name": "stderr",
          "text": [
            "Action: gender: 100%|██████████| 2/2 [00:00<00:00,  2.05it/s]\n"
          ]
        },
        {
          "output_type": "stream",
          "name": "stdout",
          "text": [
            "Detected person --> Age: 35 | Gender: {'Woman': np.float32(12.4799385), 'Man': np.float32(87.520065)}\n"
          ]
        },
        {
          "output_type": "stream",
          "name": "stderr",
          "text": [
            "Action: gender: 100%|██████████| 2/2 [00:01<00:00,  1.53it/s]\n"
          ]
        },
        {
          "output_type": "stream",
          "name": "stdout",
          "text": [
            "Detected person --> Age: 35 | Gender: {'Woman': np.float32(12.470482), 'Man': np.float32(87.529526)}\n"
          ]
        },
        {
          "output_type": "stream",
          "name": "stderr",
          "text": [
            "Action: gender: 100%|██████████| 2/2 [00:00<00:00,  2.30it/s]\n"
          ]
        },
        {
          "output_type": "stream",
          "name": "stdout",
          "text": [
            "Detected person --> Age: 36 | Gender: {'Woman': np.float32(12.483874), 'Man': np.float32(87.51613)}\n"
          ]
        },
        {
          "output_type": "stream",
          "name": "stderr",
          "text": [
            "Action: gender: 100%|██████████| 2/2 [00:00<00:00,  2.37it/s]\n"
          ]
        },
        {
          "output_type": "stream",
          "name": "stdout",
          "text": [
            "Detected person --> Age: 35 | Gender: {'Woman': np.float32(12.480677), 'Man': np.float32(87.519325)}\n"
          ]
        },
        {
          "output_type": "stream",
          "name": "stderr",
          "text": [
            "Action: gender: 100%|██████████| 2/2 [00:00<00:00,  2.29it/s]\n"
          ]
        },
        {
          "output_type": "stream",
          "name": "stdout",
          "text": [
            "Detected person --> Age: 36 | Gender: {'Woman': np.float32(12.555239), 'Man': np.float32(87.444756)}\n"
          ]
        },
        {
          "output_type": "stream",
          "name": "stderr",
          "text": [
            "Action: gender: 100%|██████████| 2/2 [00:00<00:00,  2.19it/s]\n"
          ]
        },
        {
          "output_type": "stream",
          "name": "stdout",
          "text": [
            "Detected person --> Age: 35 | Gender: {'Woman': np.float32(12.552826), 'Man': np.float32(87.447174)}\n"
          ]
        },
        {
          "output_type": "stream",
          "name": "stderr",
          "text": [
            "Action: gender: 100%|██████████| 2/2 [00:00<00:00,  2.32it/s]\n"
          ]
        },
        {
          "output_type": "stream",
          "name": "stdout",
          "text": [
            "Detected person --> Age: 36 | Gender: {'Woman': np.float32(12.606901), 'Man': np.float32(87.3931)}\n"
          ]
        },
        {
          "output_type": "stream",
          "name": "stderr",
          "text": [
            "Action: gender: 100%|██████████| 2/2 [00:00<00:00,  2.11it/s]\n"
          ]
        },
        {
          "output_type": "stream",
          "name": "stdout",
          "text": [
            "Detected person --> Age: 35 | Gender: {'Woman': np.float32(12.438281), 'Man': np.float32(87.56172)}\n"
          ]
        },
        {
          "output_type": "stream",
          "name": "stderr",
          "text": [
            "Action: gender: 100%|██████████| 2/2 [00:00<00:00,  2.14it/s]\n"
          ]
        },
        {
          "output_type": "stream",
          "name": "stdout",
          "text": [
            "Detected person --> Age: 36 | Gender: {'Woman': np.float32(12.640889), 'Man': np.float32(87.359116)}\n"
          ]
        },
        {
          "output_type": "stream",
          "name": "stderr",
          "text": [
            "Action: gender: 100%|██████████| 2/2 [00:00<00:00,  2.11it/s]\n"
          ]
        },
        {
          "output_type": "stream",
          "name": "stdout",
          "text": [
            "Detected person --> Age: 35 | Gender: {'Woman': np.float32(12.460658), 'Man': np.float32(87.53934)}\n"
          ]
        },
        {
          "output_type": "stream",
          "name": "stderr",
          "text": [
            "Action: gender: 100%|██████████| 2/2 [00:00<00:00,  2.22it/s]\n"
          ]
        },
        {
          "output_type": "stream",
          "name": "stdout",
          "text": [
            "Detected person --> Age: 36 | Gender: {'Woman': np.float32(12.60563), 'Man': np.float32(87.39437)}\n"
          ]
        },
        {
          "output_type": "stream",
          "name": "stderr",
          "text": [
            "Action: gender: 100%|██████████| 2/2 [00:00<00:00,  2.07it/s]\n"
          ]
        },
        {
          "output_type": "stream",
          "name": "stdout",
          "text": [
            "Detected person --> Age: 36 | Gender: {'Woman': np.float32(12.598212), 'Man': np.float32(87.40179)}\n"
          ]
        },
        {
          "output_type": "stream",
          "name": "stderr",
          "text": [
            "Action: gender: 100%|██████████| 2/2 [00:01<00:00,  1.63it/s]\n"
          ]
        },
        {
          "output_type": "stream",
          "name": "stdout",
          "text": [
            "Detected person --> Age: 36 | Gender: {'Woman': np.float32(12.61514), 'Man': np.float32(87.384865)}\n"
          ]
        },
        {
          "output_type": "stream",
          "name": "stderr",
          "text": [
            "Action: gender: 100%|██████████| 2/2 [00:00<00:00,  2.19it/s]\n"
          ]
        },
        {
          "output_type": "stream",
          "name": "stdout",
          "text": [
            "Detected person --> Age: 35 | Gender: {'Woman': np.float32(12.529768), 'Man': np.float32(87.47023)}\n"
          ]
        },
        {
          "output_type": "stream",
          "name": "stderr",
          "text": [
            "Action: gender: 100%|██████████| 2/2 [00:00<00:00,  2.13it/s]\n"
          ]
        },
        {
          "output_type": "stream",
          "name": "stdout",
          "text": [
            "Detected person --> Age: 36 | Gender: {'Woman': np.float32(12.620269), 'Man': np.float32(87.37973)}\n"
          ]
        },
        {
          "output_type": "stream",
          "name": "stderr",
          "text": [
            "Action: gender: 100%|██████████| 2/2 [00:00<00:00,  2.13it/s]\n"
          ]
        },
        {
          "output_type": "stream",
          "name": "stdout",
          "text": [
            "Detected person --> Age: 36 | Gender: {'Woman': np.float32(12.643264), 'Man': np.float32(87.356735)}\n"
          ]
        },
        {
          "output_type": "stream",
          "name": "stderr",
          "text": [
            "Action: gender: 100%|██████████| 2/2 [00:00<00:00,  2.45it/s]\n"
          ]
        },
        {
          "output_type": "stream",
          "name": "stdout",
          "text": [
            "Detected person --> Age: 36 | Gender: {'Woman': np.float32(12.626761), 'Man': np.float32(87.37323)}\n"
          ]
        },
        {
          "output_type": "stream",
          "name": "stderr",
          "text": [
            "Action: gender: 100%|██████████| 2/2 [00:00<00:00,  2.41it/s]\n"
          ]
        },
        {
          "output_type": "stream",
          "name": "stdout",
          "text": [
            "Detected person --> Age: 36 | Gender: {'Woman': np.float32(12.52518), 'Man': np.float32(87.47482)}\n"
          ]
        },
        {
          "output_type": "stream",
          "name": "stderr",
          "text": [
            "Action: gender: 100%|██████████| 2/2 [00:00<00:00,  2.40it/s]\n"
          ]
        },
        {
          "output_type": "stream",
          "name": "stdout",
          "text": [
            "Detected person --> Age: 36 | Gender: {'Woman': np.float32(12.606253), 'Man': np.float32(87.393745)}\n"
          ]
        },
        {
          "output_type": "stream",
          "name": "stderr",
          "text": [
            "Action: gender: 100%|██████████| 2/2 [00:00<00:00,  2.17it/s]\n"
          ]
        },
        {
          "output_type": "stream",
          "name": "stdout",
          "text": [
            "Detected person --> Age: 36 | Gender: {'Woman': np.float32(12.475441), 'Man': np.float32(87.52457)}\n"
          ]
        },
        {
          "output_type": "stream",
          "name": "stderr",
          "text": [
            "Action: gender: 100%|██████████| 2/2 [00:00<00:00,  2.34it/s]\n"
          ]
        },
        {
          "output_type": "stream",
          "name": "stdout",
          "text": [
            "Detected person --> Age: 36 | Gender: {'Woman': np.float32(12.514514), 'Man': np.float32(87.48549)}\n"
          ]
        },
        {
          "output_type": "stream",
          "name": "stderr",
          "text": [
            "Action: gender: 100%|██████████| 2/2 [00:00<00:00,  2.39it/s]\n"
          ]
        },
        {
          "output_type": "stream",
          "name": "stdout",
          "text": [
            "Detected person --> Age: 35 | Gender: {'Woman': np.float32(12.409062), 'Man': np.float32(87.59094)}\n"
          ]
        },
        {
          "output_type": "stream",
          "name": "stderr",
          "text": [
            "Action: gender: 100%|██████████| 2/2 [00:00<00:00,  2.14it/s]\n"
          ]
        },
        {
          "output_type": "stream",
          "name": "stdout",
          "text": [
            "Detected person --> Age: 36 | Gender: {'Woman': np.float32(12.575958), 'Man': np.float32(87.42405)}\n"
          ]
        },
        {
          "output_type": "stream",
          "name": "stderr",
          "text": [
            "Action: gender: 100%|██████████| 2/2 [00:01<00:00,  1.57it/s]\n"
          ]
        },
        {
          "output_type": "stream",
          "name": "stdout",
          "text": [
            "Detected person --> Age: 36 | Gender: {'Woman': np.float32(12.534803), 'Man': np.float32(87.465195)}\n"
          ]
        },
        {
          "output_type": "stream",
          "name": "stderr",
          "text": [
            "Action: gender: 100%|██████████| 2/2 [00:00<00:00,  2.37it/s]\n"
          ]
        },
        {
          "output_type": "stream",
          "name": "stdout",
          "text": [
            "Detected person --> Age: 36 | Gender: {'Woman': np.float32(12.63677), 'Man': np.float32(87.36323)}\n"
          ]
        },
        {
          "output_type": "stream",
          "name": "stderr",
          "text": [
            "Action: gender: 100%|██████████| 2/2 [00:00<00:00,  2.13it/s]\n"
          ]
        },
        {
          "output_type": "stream",
          "name": "stdout",
          "text": [
            "Detected person --> Age: 35 | Gender: {'Woman': np.float32(12.505822), 'Man': np.float32(87.49419)}\n"
          ]
        },
        {
          "output_type": "stream",
          "name": "stderr",
          "text": [
            "Action: gender: 100%|██████████| 2/2 [00:00<00:00,  2.40it/s]\n"
          ]
        },
        {
          "output_type": "stream",
          "name": "stdout",
          "text": [
            "Detected person --> Age: 35 | Gender: {'Woman': np.float32(12.357094), 'Man': np.float32(87.64291)}\n"
          ]
        },
        {
          "output_type": "stream",
          "name": "stderr",
          "text": [
            "Action: gender: 100%|██████████| 2/2 [00:00<00:00,  2.41it/s]\n"
          ]
        },
        {
          "output_type": "stream",
          "name": "stdout",
          "text": [
            "Detected person --> Age: 35 | Gender: {'Woman': np.float32(12.118781), 'Man': np.float32(87.88122)}\n"
          ]
        },
        {
          "output_type": "stream",
          "name": "stderr",
          "text": [
            "Action: gender: 100%|██████████| 2/2 [00:00<00:00,  2.14it/s]\n"
          ]
        },
        {
          "output_type": "stream",
          "name": "stdout",
          "text": [
            "Detected person --> Age: 35 | Gender: {'Woman': np.float32(11.93103), 'Man': np.float32(88.06897)}\n"
          ]
        },
        {
          "output_type": "stream",
          "name": "stderr",
          "text": [
            "Action: gender: 100%|██████████| 2/2 [00:00<00:00,  2.08it/s]\n"
          ]
        },
        {
          "output_type": "stream",
          "name": "stdout",
          "text": [
            "Detected person --> Age: 35 | Gender: {'Woman': np.float32(11.956148), 'Man': np.float32(88.04385)}\n"
          ]
        },
        {
          "output_type": "stream",
          "name": "stderr",
          "text": [
            "Action: gender: 100%|██████████| 2/2 [00:00<00:00,  2.18it/s]\n"
          ]
        },
        {
          "output_type": "stream",
          "name": "stdout",
          "text": [
            "Detected person --> Age: 35 | Gender: {'Woman': np.float32(11.828078), 'Man': np.float32(88.17192)}\n"
          ]
        },
        {
          "output_type": "stream",
          "name": "stderr",
          "text": [
            "Action: gender: 100%|██████████| 2/2 [00:00<00:00,  2.39it/s]\n"
          ]
        },
        {
          "output_type": "stream",
          "name": "stdout",
          "text": [
            "Detected person --> Age: 35 | Gender: {'Woman': np.float32(11.925515), 'Man': np.float32(88.074486)}\n"
          ]
        },
        {
          "output_type": "stream",
          "name": "stderr",
          "text": [
            "Action: gender: 100%|██████████| 2/2 [00:00<00:00,  2.39it/s]\n"
          ]
        },
        {
          "output_type": "stream",
          "name": "stdout",
          "text": [
            "Detected person --> Age: 35 | Gender: {'Woman': np.float32(11.994486), 'Man': np.float32(88.005516)}\n"
          ]
        },
        {
          "output_type": "stream",
          "name": "stderr",
          "text": [
            "Action: gender: 100%|██████████| 2/2 [00:00<00:00,  2.35it/s]\n"
          ]
        },
        {
          "output_type": "stream",
          "name": "stdout",
          "text": [
            "Detected person --> Age: 35 | Gender: {'Woman': np.float32(11.967052), 'Man': np.float32(88.03295)}\n"
          ]
        },
        {
          "output_type": "stream",
          "name": "stderr",
          "text": [
            "Action: gender: 100%|██████████| 2/2 [00:01<00:00,  1.70it/s]\n"
          ]
        },
        {
          "output_type": "stream",
          "name": "stdout",
          "text": [
            "Detected person --> Age: 35 | Gender: {'Woman': np.float32(12.068389), 'Man': np.float32(87.93161)}\n"
          ]
        },
        {
          "output_type": "stream",
          "name": "stderr",
          "text": [
            "Action: gender: 100%|██████████| 2/2 [00:00<00:00,  2.11it/s]\n"
          ]
        },
        {
          "output_type": "stream",
          "name": "stdout",
          "text": [
            "Detected person --> Age: 34 | Gender: {'Woman': np.float32(12.026885), 'Man': np.float32(87.973114)}\n"
          ]
        },
        {
          "output_type": "stream",
          "name": "stderr",
          "text": [
            "Action: gender: 100%|██████████| 2/2 [00:00<00:00,  2.13it/s]\n"
          ]
        },
        {
          "output_type": "stream",
          "name": "stdout",
          "text": [
            "Detected person --> Age: 35 | Gender: {'Woman': np.float32(11.975037), 'Man': np.float32(88.02496)}\n"
          ]
        },
        {
          "output_type": "stream",
          "name": "stderr",
          "text": [
            "Action: gender: 100%|██████████| 2/2 [00:00<00:00,  2.18it/s]\n"
          ]
        },
        {
          "output_type": "stream",
          "name": "stdout",
          "text": [
            "Detected person --> Age: 35 | Gender: {'Woman': np.float32(11.691945), 'Man': np.float32(88.30805)}\n"
          ]
        },
        {
          "output_type": "stream",
          "name": "stderr",
          "text": [
            "Action: gender: 100%|██████████| 2/2 [00:00<00:00,  2.08it/s]\n"
          ]
        },
        {
          "output_type": "stream",
          "name": "stdout",
          "text": [
            "Detected person --> Age: 35 | Gender: {'Woman': np.float32(11.746106), 'Man': np.float32(88.25389)}\n"
          ]
        },
        {
          "output_type": "stream",
          "name": "stderr",
          "text": [
            "Action: gender: 100%|██████████| 2/2 [00:00<00:00,  2.17it/s]\n"
          ]
        },
        {
          "output_type": "stream",
          "name": "stdout",
          "text": [
            "Detected person --> Age: 35 | Gender: {'Woman': np.float32(11.944864), 'Man': np.float32(88.05514)}\n"
          ]
        },
        {
          "output_type": "stream",
          "name": "stderr",
          "text": [
            "Action: gender: 100%|██████████| 2/2 [00:00<00:00,  2.34it/s]\n"
          ]
        },
        {
          "output_type": "stream",
          "name": "stdout",
          "text": [
            "Detected person --> Age: 35 | Gender: {'Woman': np.float32(11.97248), 'Man': np.float32(88.02752)}\n"
          ]
        },
        {
          "output_type": "stream",
          "name": "stderr",
          "text": [
            "Action: gender: 100%|██████████| 2/2 [00:00<00:00,  2.36it/s]\n"
          ]
        },
        {
          "output_type": "stream",
          "name": "stdout",
          "text": [
            "Detected person --> Age: 35 | Gender: {'Woman': np.float32(12.049315), 'Man': np.float32(87.95069)}\n"
          ]
        },
        {
          "output_type": "stream",
          "name": "stderr",
          "text": [
            "Action: gender: 100%|██████████| 2/2 [00:00<00:00,  2.41it/s]\n"
          ]
        },
        {
          "output_type": "stream",
          "name": "stdout",
          "text": [
            "Detected person --> Age: 35 | Gender: {'Woman': np.float32(12.105805), 'Man': np.float32(87.894196)}\n"
          ]
        },
        {
          "output_type": "stream",
          "name": "stderr",
          "text": [
            "Action: gender: 100%|██████████| 2/2 [00:00<00:00,  2.16it/s]\n"
          ]
        },
        {
          "output_type": "stream",
          "name": "stdout",
          "text": [
            "Detected person --> Age: 35 | Gender: {'Woman': np.float32(12.168895), 'Man': np.float32(87.8311)}\n"
          ]
        },
        {
          "output_type": "stream",
          "name": "stderr",
          "text": [
            "Action: gender: 100%|██████████| 2/2 [00:00<00:00,  2.21it/s]\n"
          ]
        },
        {
          "output_type": "stream",
          "name": "stdout",
          "text": [
            "Detected person --> Age: 35 | Gender: {'Woman': np.float32(12.355476), 'Man': np.float32(87.64452)}\n"
          ]
        },
        {
          "output_type": "stream",
          "name": "stderr",
          "text": [
            "Action: gender: 100%|██████████| 2/2 [00:01<00:00,  1.81it/s]\n"
          ]
        },
        {
          "output_type": "stream",
          "name": "stdout",
          "text": [
            "Detected person --> Age: 35 | Gender: {'Woman': np.float32(12.342927), 'Man': np.float32(87.657074)}\n"
          ]
        },
        {
          "output_type": "stream",
          "name": "stderr",
          "text": [
            "Action: gender: 100%|██████████| 2/2 [00:00<00:00,  2.26it/s]\n"
          ]
        },
        {
          "output_type": "stream",
          "name": "stdout",
          "text": [
            "Detected person --> Age: 29 | Gender: {'Woman': np.float32(51.98893), 'Man': np.float32(48.011074)}\n"
          ]
        },
        {
          "output_type": "stream",
          "name": "stderr",
          "text": [
            "Action: gender: 100%|██████████| 2/2 [00:00<00:00,  2.22it/s]\n"
          ]
        },
        {
          "output_type": "stream",
          "name": "stdout",
          "text": [
            "Detected person --> Age: 29 | Gender: {'Woman': np.float32(46.666077), 'Man': np.float32(53.333927)}\n"
          ]
        },
        {
          "output_type": "stream",
          "name": "stderr",
          "text": [
            "Action: gender: 100%|██████████| 2/2 [00:00<00:00,  2.35it/s]\n"
          ]
        },
        {
          "output_type": "stream",
          "name": "stdout",
          "text": [
            "Detected person --> Age: 29 | Gender: {'Woman': np.float32(49.205273), 'Man': np.float32(50.794727)}\n"
          ]
        },
        {
          "output_type": "stream",
          "name": "stderr",
          "text": [
            "Action: gender: 100%|██████████| 2/2 [00:00<00:00,  2.36it/s]\n"
          ]
        },
        {
          "output_type": "stream",
          "name": "stdout",
          "text": [
            "Detected person --> Age: 30 | Gender: {'Woman': np.float32(32.78372), 'Man': np.float32(67.216286)}\n"
          ]
        },
        {
          "output_type": "stream",
          "name": "stderr",
          "text": [
            "Action: gender: 100%|██████████| 2/2 [00:00<00:00,  2.27it/s]\n",
            "Action: gender: 100%|██████████| 2/2 [00:00<00:00,  2.10it/s]\n"
          ]
        },
        {
          "output_type": "stream",
          "name": "stdout",
          "text": [
            "Detected person --> Age: 27 | Gender: {'Woman': np.float32(21.744392), 'Man': np.float32(78.25561)}\n",
            "Detected person --> Age: 25 | Gender: {'Woman': np.float32(21.047516), 'Man': np.float32(78.95248)}\n"
          ]
        },
        {
          "output_type": "stream",
          "name": "stderr",
          "text": [
            "Action: gender: 100%|██████████| 2/2 [00:00<00:00,  2.11it/s]\n"
          ]
        },
        {
          "output_type": "stream",
          "name": "stdout",
          "text": [
            "Detected person --> Age: 25 | Gender: {'Woman': np.float32(23.985083), 'Man': np.float32(76.014915)}\n"
          ]
        },
        {
          "output_type": "stream",
          "name": "stderr",
          "text": [
            "Action: gender: 100%|██████████| 2/2 [00:00<00:00,  2.06it/s]\n"
          ]
        },
        {
          "output_type": "stream",
          "name": "stdout",
          "text": [
            "Detected person --> Age: 28 | Gender: {'Woman': np.float32(38.682808), 'Man': np.float32(61.317192)}\n"
          ]
        },
        {
          "output_type": "stream",
          "name": "stderr",
          "text": [
            "Action: gender: 100%|██████████| 2/2 [00:00<00:00,  2.19it/s]\n",
            "Action: gender: 100%|██████████| 2/2 [00:00<00:00,  2.33it/s]\n"
          ]
        },
        {
          "output_type": "stream",
          "name": "stdout",
          "text": [
            "Detected person --> Age: 26 | Gender: {'Woman': np.float32(15.797353), 'Man': np.float32(84.202644)}\n",
            "Detected person --> Age: 26 | Gender: {'Woman': np.float32(24.681429), 'Man': np.float32(75.318565)}\n"
          ]
        },
        {
          "output_type": "stream",
          "name": "stderr",
          "text": [
            "Action: gender: 100%|██████████| 2/2 [00:01<00:00,  1.72it/s]\n"
          ]
        },
        {
          "output_type": "stream",
          "name": "stdout",
          "text": [
            "Detected person --> Age: 34 | Gender: {'Woman': np.float32(10.59531), 'Man': np.float32(89.40469)}\n"
          ]
        },
        {
          "output_type": "stream",
          "name": "stderr",
          "text": [
            "Action: gender: 100%|██████████| 2/2 [00:00<00:00,  2.36it/s]\n",
            "Action: gender: 100%|██████████| 2/2 [00:00<00:00,  2.35it/s]\n"
          ]
        },
        {
          "output_type": "stream",
          "name": "stdout",
          "text": [
            "Detected person --> Age: 27 | Gender: {'Woman': np.float32(6.1228657), 'Man': np.float32(93.87713)}\n",
            "Detected person --> Age: 26 | Gender: {'Woman': np.float32(25.084642), 'Man': np.float32(74.91535)}\n"
          ]
        },
        {
          "output_type": "stream",
          "name": "stderr",
          "text": [
            "Action: gender: 100%|██████████| 2/2 [00:00<00:00,  2.38it/s]\n",
            "Action: gender: 100%|██████████| 2/2 [00:00<00:00,  2.43it/s]\n"
          ]
        },
        {
          "output_type": "stream",
          "name": "stdout",
          "text": [
            "Detected person --> Age: 28 | Gender: {'Woman': np.float32(4.275813), 'Man': np.float32(95.72418)}\n",
            "Detected person --> Age: 25 | Gender: {'Woman': np.float32(24.872355), 'Man': np.float32(75.12764)}\n"
          ]
        },
        {
          "output_type": "stream",
          "name": "stderr",
          "text": [
            "Action: gender: 100%|██████████| 2/2 [00:00<00:00,  2.39it/s]\n"
          ]
        },
        {
          "output_type": "stream",
          "name": "stdout",
          "text": [
            "Detected person --> Age: 30 | Gender: {'Woman': np.float32(3.2288172), 'Man': np.float32(96.77118)}\n"
          ]
        },
        {
          "output_type": "stream",
          "name": "stderr",
          "text": [
            "Action: gender: 100%|██████████| 2/2 [00:00<00:00,  2.15it/s]\n",
            "Action: gender: 100%|██████████| 2/2 [00:00<00:00,  2.35it/s]\n"
          ]
        },
        {
          "output_type": "stream",
          "name": "stdout",
          "text": [
            "Detected person --> Age: 32 | Gender: {'Woman': np.float32(6.6586313), 'Man': np.float32(93.34136)}\n",
            "Detected person --> Age: 27 | Gender: {'Woman': np.float32(31.988447), 'Man': np.float32(68.01156)}\n"
          ]
        },
        {
          "output_type": "stream",
          "name": "stderr",
          "text": [
            "Action: gender: 100%|██████████| 2/2 [00:00<00:00,  2.16it/s]\n",
            "Action: gender: 100%|██████████| 2/2 [00:00<00:00,  2.32it/s]\n"
          ]
        },
        {
          "output_type": "stream",
          "name": "stdout",
          "text": [
            "Detected person --> Age: 29 | Gender: {'Woman': np.float32(7.5265927), 'Man': np.float32(92.47341)}\n",
            "Detected person --> Age: 28 | Gender: {'Woman': np.float32(42.07361), 'Man': np.float32(57.92639)}\n"
          ]
        },
        {
          "output_type": "stream",
          "name": "stderr",
          "text": [
            "Action: gender: 100%|██████████| 2/2 [00:00<00:00,  2.36it/s]\n",
            "Action: gender: 100%|██████████| 2/2 [00:00<00:00,  2.16it/s]\n"
          ]
        },
        {
          "output_type": "stream",
          "name": "stdout",
          "text": [
            "Detected person --> Age: 28 | Gender: {'Woman': np.float32(7.010032), 'Man': np.float32(92.98996)}\n",
            "Detected person --> Age: 27 | Gender: {'Woman': np.float32(39.897236), 'Man': np.float32(60.10276)}\n"
          ]
        },
        {
          "output_type": "stream",
          "name": "stderr",
          "text": [
            "Action: gender: 100%|██████████| 2/2 [00:01<00:00,  1.81it/s]\n",
            "Action: gender: 100%|██████████| 2/2 [00:00<00:00,  2.16it/s]\n"
          ]
        },
        {
          "output_type": "stream",
          "name": "stdout",
          "text": [
            "Detected person --> Age: 29 | Gender: {'Woman': np.float32(6.3459716), 'Man': np.float32(93.65402)}\n",
            "Detected person --> Age: 28 | Gender: {'Woman': np.float32(29.026684), 'Man': np.float32(70.973305)}\n"
          ]
        },
        {
          "output_type": "stream",
          "name": "stderr",
          "text": [
            "Action: gender: 100%|██████████| 2/2 [00:00<00:00,  2.12it/s]\n"
          ]
        },
        {
          "output_type": "stream",
          "name": "stdout",
          "text": [
            "Detected person --> Age: 29 | Gender: {'Woman': np.float32(26.856104), 'Man': np.float32(73.143906)}\n"
          ]
        },
        {
          "output_type": "stream",
          "name": "stderr",
          "text": [
            "Action: gender: 100%|██████████| 2/2 [00:00<00:00,  2.31it/s]\n"
          ]
        },
        {
          "output_type": "stream",
          "name": "stdout",
          "text": [
            "Detected person --> Age: 32 | Gender: {'Woman': np.float32(5.9841895), 'Man': np.float32(94.015816)}\n"
          ]
        },
        {
          "output_type": "stream",
          "name": "stderr",
          "text": [
            "Action: gender: 100%|██████████| 2/2 [00:00<00:00,  2.34it/s]\n"
          ]
        },
        {
          "output_type": "stream",
          "name": "stdout",
          "text": [
            "Detected person --> Age: 28 | Gender: {'Woman': np.float32(5.6388354), 'Man': np.float32(94.36116)}\n"
          ]
        },
        {
          "output_type": "stream",
          "name": "stderr",
          "text": [
            "Action: gender: 100%|██████████| 2/2 [00:00<00:00,  2.12it/s]\n"
          ]
        },
        {
          "output_type": "stream",
          "name": "stdout",
          "text": [
            "Detected person --> Age: 28 | Gender: {'Woman': np.float32(3.582504), 'Man': np.float32(96.417496)}\n"
          ]
        },
        {
          "output_type": "stream",
          "name": "stderr",
          "text": [
            "Action: gender: 100%|██████████| 2/2 [00:00<00:00,  2.18it/s]\n"
          ]
        },
        {
          "output_type": "stream",
          "name": "stdout",
          "text": [
            "Detected person --> Age: 31 | Gender: {'Woman': np.float32(5.15042), 'Man': np.float32(94.84958)}\n"
          ]
        },
        {
          "output_type": "stream",
          "name": "stderr",
          "text": [
            "Action: gender: 100%|██████████| 2/2 [00:00<00:00,  2.32it/s]\n"
          ]
        },
        {
          "output_type": "stream",
          "name": "stdout",
          "text": [
            "Detected person --> Age: 28 | Gender: {'Woman': np.float32(5.523911), 'Man': np.float32(94.47609)}\n"
          ]
        },
        {
          "output_type": "stream",
          "name": "stderr",
          "text": [
            "Action: gender: 100%|██████████| 2/2 [00:00<00:00,  2.15it/s]\n"
          ]
        },
        {
          "output_type": "stream",
          "name": "stdout",
          "text": [
            "Detected person --> Age: 27 | Gender: {'Woman': np.float32(6.6988335), 'Man': np.float32(93.30116)}\n"
          ]
        },
        {
          "output_type": "stream",
          "name": "stderr",
          "text": [
            "Action: gender: 100%|██████████| 2/2 [00:00<00:00,  2.31it/s]\n"
          ]
        },
        {
          "output_type": "stream",
          "name": "stdout",
          "text": [
            "Detected person --> Age: 26 | Gender: {'Woman': np.float32(3.569112), 'Man': np.float32(96.43089)}\n"
          ]
        },
        {
          "output_type": "stream",
          "name": "stderr",
          "text": [
            "Action: gender: 100%|██████████| 2/2 [00:01<00:00,  1.92it/s]\n"
          ]
        },
        {
          "output_type": "stream",
          "name": "stdout",
          "text": [
            "Detected person --> Age: 28 | Gender: {'Woman': np.float32(3.4223013), 'Man': np.float32(96.577705)}\n"
          ]
        },
        {
          "output_type": "stream",
          "name": "stderr",
          "text": [
            "Action: gender: 100%|██████████| 2/2 [00:01<00:00,  1.65it/s]\n"
          ]
        },
        {
          "output_type": "stream",
          "name": "stdout",
          "text": [
            "Detected person --> Age: 30 | Gender: {'Woman': np.float32(3.5686097), 'Man': np.float32(96.43139)}\n"
          ]
        },
        {
          "output_type": "stream",
          "name": "stderr",
          "text": [
            "Action: gender: 100%|██████████| 2/2 [00:00<00:00,  2.23it/s]\n"
          ]
        },
        {
          "output_type": "stream",
          "name": "stdout",
          "text": [
            "Detected person --> Age: 32 | Gender: {'Woman': np.float32(3.7962), 'Man': np.float32(96.203804)}\n"
          ]
        },
        {
          "output_type": "stream",
          "name": "stderr",
          "text": [
            "Action: gender: 100%|██████████| 2/2 [00:00<00:00,  2.31it/s]\n"
          ]
        },
        {
          "output_type": "stream",
          "name": "stdout",
          "text": [
            "Detected person --> Age: 30 | Gender: {'Woman': np.float32(3.8964872), 'Man': np.float32(96.10351)}\n"
          ]
        },
        {
          "output_type": "stream",
          "name": "stderr",
          "text": [
            "Action: gender: 100%|██████████| 2/2 [00:00<00:00,  2.35it/s]\n"
          ]
        },
        {
          "output_type": "stream",
          "name": "stdout",
          "text": [
            "Detected person --> Age: 34 | Gender: {'Woman': np.float32(5.000469), 'Man': np.float32(94.999535)}\n"
          ]
        },
        {
          "output_type": "stream",
          "name": "stderr",
          "text": [
            "Action: gender: 100%|██████████| 2/2 [00:00<00:00,  2.31it/s]\n",
            "Action: gender: 100%|██████████| 2/2 [00:00<00:00,  2.10it/s]\n"
          ]
        },
        {
          "output_type": "stream",
          "name": "stdout",
          "text": [
            "Detected person --> Age: 29 | Gender: {'Woman': np.float32(3.64503), 'Man': np.float32(96.35497)}\n",
            "Detected person --> Age: 32 | Gender: {'Woman': np.float32(27.397861), 'Man': np.float32(72.60214)}\n"
          ]
        },
        {
          "output_type": "stream",
          "name": "stderr",
          "text": [
            "Action: gender: 100%|██████████| 2/2 [00:00<00:00,  2.14it/s]\n",
            "Action: gender: 100%|██████████| 2/2 [00:00<00:00,  2.09it/s]\n",
            "Action: gender: 100%|██████████| 2/2 [00:00<00:00,  2.11it/s]\n"
          ]
        },
        {
          "output_type": "stream",
          "name": "stdout",
          "text": [
            "Detected person --> Age: 29 | Gender: {'Woman': np.float32(4.703945), 'Man': np.float32(95.29606)}\n",
            "Detected person --> Age: 32 | Gender: {'Woman': np.float32(22.22206), 'Man': np.float32(77.77795)}\n",
            "Detected person --> Age: 32 | Gender: {'Woman': np.float32(16.824568), 'Man': np.float32(83.17543)}\n"
          ]
        },
        {
          "output_type": "stream",
          "name": "stderr",
          "text": [
            "Action: gender: 100%|██████████| 2/2 [00:00<00:00,  2.33it/s]\n",
            "Action: gender: 100%|██████████| 2/2 [00:00<00:00,  2.02it/s]\n"
          ]
        },
        {
          "output_type": "stream",
          "name": "stdout",
          "text": [
            "Detected person --> Age: 30 | Gender: {'Woman': np.float32(5.097511), 'Man': np.float32(94.90249)}\n",
            "Detected person --> Age: 30 | Gender: {'Woman': np.float32(22.63184), 'Man': np.float32(77.36816)}\n"
          ]
        },
        {
          "output_type": "stream",
          "name": "stderr",
          "text": [
            "Action: gender: 100%|██████████| 2/2 [00:01<00:00,  1.64it/s]\n",
            "Action: gender: 100%|██████████| 2/2 [00:00<00:00,  2.34it/s]\n"
          ]
        },
        {
          "output_type": "stream",
          "name": "stdout",
          "text": [
            "Detected person --> Age: 29 | Gender: {'Woman': np.float32(4.6087203), 'Man': np.float32(95.39128)}\n",
            "Detected person --> Age: 30 | Gender: {'Woman': np.float32(17.529076), 'Man': np.float32(82.47092)}\n"
          ]
        },
        {
          "output_type": "stream",
          "name": "stderr",
          "text": [
            "Action: gender: 100%|██████████| 2/2 [00:00<00:00,  2.31it/s]\n",
            "Action: gender: 100%|██████████| 2/2 [00:00<00:00,  2.28it/s]\n"
          ]
        },
        {
          "output_type": "stream",
          "name": "stdout",
          "text": [
            "Detected person --> Age: 30 | Gender: {'Woman': np.float32(5.1284647), 'Man': np.float32(94.87153)}\n",
            "Detected person --> Age: 33 | Gender: {'Woman': np.float32(18.795147), 'Man': np.float32(81.20485)}\n"
          ]
        },
        {
          "output_type": "stream",
          "name": "stderr",
          "text": [
            "Action: gender: 100%|██████████| 2/2 [00:00<00:00,  2.21it/s]\n",
            "Action: gender: 100%|██████████| 2/2 [00:00<00:00,  2.36it/s]\n"
          ]
        },
        {
          "output_type": "stream",
          "name": "stdout",
          "text": [
            "Detected person --> Age: 29 | Gender: {'Woman': np.float32(4.9200406), 'Man': np.float32(95.079956)}\n",
            "Detected person --> Age: 30 | Gender: {'Woman': np.float32(14.85198), 'Man': np.float32(85.148026)}\n"
          ]
        },
        {
          "output_type": "stream",
          "name": "stderr",
          "text": [
            "Action: gender: 100%|██████████| 2/2 [00:00<00:00,  2.14it/s]\n",
            "Action: gender: 100%|██████████| 2/2 [00:00<00:00,  2.08it/s]\n"
          ]
        },
        {
          "output_type": "stream",
          "name": "stdout",
          "text": [
            "Detected person --> Age: 29 | Gender: {'Woman': np.float32(8.831986), 'Man': np.float32(91.168015)}\n",
            "Detected person --> Age: 29 | Gender: {'Woman': np.float32(18.165508), 'Man': np.float32(81.83449)}\n"
          ]
        },
        {
          "output_type": "stream",
          "name": "stderr",
          "text": [
            "Action: gender: 100%|██████████| 2/2 [00:00<00:00,  2.09it/s]\n",
            "Action: gender: 100%|██████████| 2/2 [00:00<00:00,  2.09it/s]\n"
          ]
        },
        {
          "output_type": "stream",
          "name": "stdout",
          "text": [
            "Detected person --> Age: 29 | Gender: {'Woman': np.float32(7.750559), 'Man': np.float32(92.24944)}\n",
            "Detected person --> Age: 29 | Gender: {'Woman': np.float32(24.793356), 'Man': np.float32(75.20665)}\n"
          ]
        },
        {
          "output_type": "stream",
          "name": "stderr",
          "text": [
            "Action: gender: 100%|██████████| 2/2 [00:00<00:00,  2.12it/s]\n",
            "Action: gender: 100%|██████████| 2/2 [00:01<00:00,  1.74it/s]\n"
          ]
        },
        {
          "output_type": "stream",
          "name": "stdout",
          "text": [
            "Detected person --> Age: 29 | Gender: {'Woman': np.float32(8.864067), 'Man': np.float32(91.13594)}\n",
            "Detected person --> Age: 29 | Gender: {'Woman': np.float32(23.661997), 'Man': np.float32(76.338005)}\n"
          ]
        },
        {
          "output_type": "stream",
          "name": "stderr",
          "text": [
            "Action: gender: 100%|██████████| 2/2 [00:00<00:00,  2.23it/s]\n",
            "Action: gender: 100%|██████████| 2/2 [00:00<00:00,  2.39it/s]\n"
          ]
        },
        {
          "output_type": "stream",
          "name": "stdout",
          "text": [
            "Detected person --> Age: 30 | Gender: {'Woman': np.float32(6.6413403), 'Man': np.float32(93.35866)}\n",
            "Detected person --> Age: 30 | Gender: {'Woman': np.float32(21.557808), 'Man': np.float32(78.44219)}\n"
          ]
        },
        {
          "output_type": "stream",
          "name": "stderr",
          "text": [
            "Action: gender: 100%|██████████| 2/2 [00:00<00:00,  2.40it/s]\n"
          ]
        },
        {
          "output_type": "stream",
          "name": "stdout",
          "text": [
            "Detected person --> Age: 30 | Gender: {'Woman': np.float32(10.898299), 'Man': np.float32(89.1017)}\n"
          ]
        },
        {
          "output_type": "stream",
          "name": "stderr",
          "text": [
            "Action: gender: 100%|██████████| 2/2 [00:00<00:00,  2.30it/s]\n"
          ]
        },
        {
          "output_type": "stream",
          "name": "stdout",
          "text": [
            "Detected person --> Age: 33 | Gender: {'Woman': np.float32(9.802347), 'Man': np.float32(90.197655)}\n"
          ]
        },
        {
          "output_type": "stream",
          "name": "stderr",
          "text": [
            "Action: gender: 100%|██████████| 2/2 [00:00<00:00,  2.23it/s]\n"
          ]
        },
        {
          "output_type": "stream",
          "name": "stdout",
          "text": [
            "Detected person --> Age: 31 | Gender: {'Woman': np.float32(8.958041), 'Man': np.float32(91.04196)}\n"
          ]
        },
        {
          "output_type": "stream",
          "name": "stderr",
          "text": [
            "Action: gender: 100%|██████████| 2/2 [00:00<00:00,  2.27it/s]\n",
            "Action: gender: 100%|██████████| 2/2 [00:00<00:00,  2.13it/s]\n",
            "Action: gender: 100%|██████████| 2/2 [00:00<00:00,  2.33it/s]\n"
          ]
        },
        {
          "output_type": "stream",
          "name": "stdout",
          "text": [
            "Detected person --> Age: 29 | Gender: {'Woman': np.float32(9.833379), 'Man': np.float32(90.16662)}\n",
            "Detected person --> Age: 27 | Gender: {'Woman': np.float32(19.72602), 'Man': np.float32(80.27399)}\n",
            "Detected person --> Age: 34 | Gender: {'Woman': np.float32(42.259525), 'Man': np.float32(57.740467)}\n"
          ]
        },
        {
          "output_type": "stream",
          "name": "stderr",
          "text": [
            "Action: gender: 100%|██████████| 2/2 [00:00<00:00,  2.12it/s]\n",
            "Action: gender: 100%|██████████| 2/2 [00:00<00:00,  2.10it/s]\n"
          ]
        },
        {
          "output_type": "stream",
          "name": "stdout",
          "text": [
            "Detected person --> Age: 30 | Gender: {'Woman': np.float32(10.870485), 'Man': np.float32(89.12952)}\n",
            "Detected person --> Age: 33 | Gender: {'Woman': np.float32(21.186775), 'Man': np.float32(78.813225)}\n"
          ]
        },
        {
          "output_type": "stream",
          "name": "stderr",
          "text": [
            "Action: gender: 100%|██████████| 2/2 [00:01<00:00,  1.68it/s]\n",
            "Action: gender: 100%|██████████| 2/2 [00:01<00:00,  1.92it/s]\n"
          ]
        },
        {
          "output_type": "stream",
          "name": "stdout",
          "text": [
            "Detected person --> Age: 31 | Gender: {'Woman': np.float32(12.343659), 'Man': np.float32(87.656334)}\n",
            "Detected person --> Age: 32 | Gender: {'Woman': np.float32(26.918762), 'Man': np.float32(73.08124)}\n"
          ]
        },
        {
          "output_type": "stream",
          "name": "stderr",
          "text": [
            "Action: gender: 100%|██████████| 2/2 [00:00<00:00,  2.25it/s]\n",
            "Action: gender: 100%|██████████| 2/2 [00:00<00:00,  2.36it/s]\n"
          ]
        },
        {
          "output_type": "stream",
          "name": "stdout",
          "text": [
            "Detected person --> Age: 32 | Gender: {'Woman': np.float32(9.943647), 'Man': np.float32(90.05635)}\n",
            "Detected person --> Age: 33 | Gender: {'Woman': np.float32(23.45253), 'Man': np.float32(76.54747)}\n"
          ]
        },
        {
          "output_type": "stream",
          "name": "stderr",
          "text": [
            "Action: gender: 100%|██████████| 2/2 [00:00<00:00,  2.25it/s]\n",
            "Action: gender: 100%|██████████| 2/2 [00:00<00:00,  2.15it/s]\n"
          ]
        },
        {
          "output_type": "stream",
          "name": "stdout",
          "text": [
            "Detected person --> Age: 30 | Gender: {'Woman': np.float32(9.2626705), 'Man': np.float32(90.73733)}\n",
            "Detected person --> Age: 32 | Gender: {'Woman': np.float32(20.581135), 'Man': np.float32(79.41886)}\n"
          ]
        },
        {
          "output_type": "stream",
          "name": "stderr",
          "text": [
            "Action: gender: 100%|██████████| 2/2 [00:00<00:00,  2.32it/s]\n",
            "Action: gender: 100%|██████████| 2/2 [00:01<00:00,  1.72it/s]\n",
            "Action: gender: 100%|██████████| 2/2 [00:00<00:00,  2.10it/s]\n"
          ]
        },
        {
          "output_type": "stream",
          "name": "stdout",
          "text": [
            "Detected person --> Age: 28 | Gender: {'Woman': np.float32(13.492799), 'Man': np.float32(86.50721)}\n",
            "Detected person --> Age: 31 | Gender: {'Woman': np.float32(33.536037), 'Man': np.float32(66.46396)}\n",
            "Detected person --> Age: 34 | Gender: {'Woman': np.float32(37.286182), 'Man': np.float32(62.71382)}\n"
          ]
        },
        {
          "output_type": "stream",
          "name": "stderr",
          "text": [
            "Action: gender: 100%|██████████| 2/2 [00:00<00:00,  2.30it/s]\n",
            "Action: gender: 100%|██████████| 2/2 [00:00<00:00,  2.12it/s]\n"
          ]
        },
        {
          "output_type": "stream",
          "name": "stdout",
          "text": [
            "Detected person --> Age: 32 | Gender: {'Woman': np.float32(14.529054), 'Man': np.float32(85.47095)}\n",
            "Detected person --> Age: 33 | Gender: {'Woman': np.float32(27.711641), 'Man': np.float32(72.28836)}\n"
          ]
        },
        {
          "output_type": "stream",
          "name": "stderr",
          "text": [
            "Action: gender: 100%|██████████| 2/2 [00:01<00:00,  1.91it/s]\n",
            "Action: gender: 100%|██████████| 2/2 [00:01<00:00,  1.95it/s]\n"
          ]
        },
        {
          "output_type": "stream",
          "name": "stdout",
          "text": [
            "Detected person --> Age: 38 | Gender: {'Woman': np.float32(11.672921), 'Man': np.float32(88.32708)}\n",
            "Detected person --> Age: 33 | Gender: {'Woman': np.float32(42.277378), 'Man': np.float32(57.722622)}\n"
          ]
        },
        {
          "output_type": "stream",
          "name": "stderr",
          "text": [
            "Action: gender: 100%|██████████| 2/2 [00:00<00:00,  2.28it/s]\n",
            "Action: gender: 100%|██████████| 2/2 [00:00<00:00,  2.08it/s]\n"
          ]
        },
        {
          "output_type": "stream",
          "name": "stdout",
          "text": [
            "Detected person --> Age: 31 | Gender: {'Woman': np.float32(13.015439), 'Man': np.float32(86.98456)}\n",
            "Detected person --> Age: 34 | Gender: {'Woman': np.float32(29.994658), 'Man': np.float32(70.00535)}\n"
          ]
        },
        {
          "output_type": "stream",
          "name": "stderr",
          "text": [
            "Action: gender: 100%|██████████| 2/2 [00:00<00:00,  2.07it/s]\n",
            "Action: gender: 100%|██████████| 2/2 [00:00<00:00,  2.14it/s]\n"
          ]
        },
        {
          "output_type": "stream",
          "name": "stdout",
          "text": [
            "Detected person --> Age: 29 | Gender: {'Woman': np.float32(12.979434), 'Man': np.float32(87.02056)}\n",
            "Detected person --> Age: 33 | Gender: {'Woman': np.float32(23.344038), 'Man': np.float32(76.65596)}\n"
          ]
        },
        {
          "output_type": "stream",
          "name": "stderr",
          "text": [
            "Action: gender: 100%|██████████| 2/2 [00:00<00:00,  2.28it/s]\n",
            "Action: gender: 100%|██████████| 2/2 [00:00<00:00,  2.15it/s]\n"
          ]
        },
        {
          "output_type": "stream",
          "name": "stdout",
          "text": [
            "Detected person --> Age: 28 | Gender: {'Woman': np.float32(11.529728), 'Man': np.float32(88.470276)}\n",
            "Detected person --> Age: 31 | Gender: {'Woman': np.float32(24.51209), 'Man': np.float32(75.487915)}\n"
          ]
        },
        {
          "output_type": "stream",
          "name": "stderr",
          "text": [
            "Action: gender: 100%|██████████| 2/2 [00:00<00:00,  2.36it/s]\n",
            "Action: gender: 100%|██████████| 2/2 [00:00<00:00,  2.35it/s]\n"
          ]
        },
        {
          "output_type": "stream",
          "name": "stdout",
          "text": [
            "Detected person --> Age: 27 | Gender: {'Woman': np.float32(9.110418), 'Man': np.float32(90.88958)}\n",
            "Detected person --> Age: 27 | Gender: {'Woman': np.float32(21.559013), 'Man': np.float32(78.44099)}\n"
          ]
        },
        {
          "output_type": "stream",
          "name": "stderr",
          "text": [
            "Action: gender: 100%|██████████| 2/2 [00:00<00:00,  2.11it/s]\n",
            "Action: gender: 100%|██████████| 2/2 [00:00<00:00,  2.23it/s]\n"
          ]
        },
        {
          "output_type": "stream",
          "name": "stdout",
          "text": [
            "Detected person --> Age: 28 | Gender: {'Woman': np.float32(7.1896486), 'Man': np.float32(92.81035)}\n",
            "Detected person --> Age: 27 | Gender: {'Woman': np.float32(24.301989), 'Man': np.float32(75.698006)}\n"
          ]
        },
        {
          "output_type": "stream",
          "name": "stderr",
          "text": [
            "Action: gender: 100%|██████████| 2/2 [00:01<00:00,  1.62it/s]\n",
            "Action: gender: 100%|██████████| 2/2 [00:00<00:00,  2.12it/s]\n"
          ]
        },
        {
          "output_type": "stream",
          "name": "stdout",
          "text": [
            "Detected person --> Age: 29 | Gender: {'Woman': np.float32(11.229357), 'Man': np.float32(88.77064)}\n",
            "Detected person --> Age: 29 | Gender: {'Woman': np.float32(32.80617), 'Man': np.float32(67.19383)}\n"
          ]
        },
        {
          "output_type": "stream",
          "name": "stderr",
          "text": [
            "Action: gender: 100%|██████████| 2/2 [00:00<00:00,  2.16it/s]\n",
            "Action: gender: 100%|██████████| 2/2 [00:00<00:00,  2.19it/s]\n"
          ]
        },
        {
          "output_type": "stream",
          "name": "stdout",
          "text": [
            "Detected person --> Age: 36 | Gender: {'Woman': np.float32(14.382118), 'Man': np.float32(85.61788)}\n",
            "Detected person --> Age: 28 | Gender: {'Woman': np.float32(35.28803), 'Man': np.float32(64.711975)}\n"
          ]
        },
        {
          "output_type": "stream",
          "name": "stderr",
          "text": [
            "Action: gender: 100%|██████████| 2/2 [00:00<00:00,  2.39it/s]\n",
            "Action: gender: 100%|██████████| 2/2 [00:00<00:00,  2.39it/s]\n",
            "Action: gender: 100%|██████████| 2/2 [00:00<00:00,  2.32it/s]\n"
          ]
        },
        {
          "output_type": "stream",
          "name": "stdout",
          "text": [
            "Detected person --> Age: 33 | Gender: {'Woman': np.float32(14.921768), 'Man': np.float32(85.078224)}\n",
            "Detected person --> Age: 30 | Gender: {'Woman': np.float32(29.044136), 'Man': np.float32(70.955864)}\n",
            "Detected person --> Age: 33 | Gender: {'Woman': np.float32(36.021217), 'Man': np.float32(63.978786)}\n"
          ]
        },
        {
          "output_type": "stream",
          "name": "stderr",
          "text": [
            "Action: gender: 100%|██████████| 2/2 [00:00<00:00,  2.35it/s]\n",
            "Action: gender: 100%|██████████| 2/2 [00:00<00:00,  2.31it/s]\n",
            "Action: gender: 100%|██████████| 2/2 [00:00<00:00,  2.37it/s]\n"
          ]
        },
        {
          "output_type": "stream",
          "name": "stdout",
          "text": [
            "Detected person --> Age: 35 | Gender: {'Woman': np.float32(12.535689), 'Man': np.float32(87.46431)}\n",
            "Detected person --> Age: 35 | Gender: {'Woman': np.float32(38.10914), 'Man': np.float32(61.890858)}\n",
            "Detected person --> Age: 35 | Gender: {'Woman': np.float32(29.555979), 'Man': np.float32(70.44402)}\n"
          ]
        },
        {
          "output_type": "stream",
          "name": "stderr",
          "text": [
            "Action: gender: 100%|██████████| 2/2 [00:00<00:00,  2.16it/s]\n",
            "Action: gender: 100%|██████████| 2/2 [00:01<00:00,  1.70it/s]\n",
            "Action: gender: 100%|██████████| 2/2 [00:01<00:00,  1.98it/s]\n"
          ]
        },
        {
          "output_type": "stream",
          "name": "stdout",
          "text": [
            "Detected person --> Age: 39 | Gender: {'Woman': np.float32(8.215752), 'Man': np.float32(91.78425)}\n",
            "Detected person --> Age: 33 | Gender: {'Woman': np.float32(30.562172), 'Man': np.float32(69.43783)}\n",
            "Detected person --> Age: 34 | Gender: {'Woman': np.float32(36.88924), 'Man': np.float32(63.110764)}\n"
          ]
        },
        {
          "output_type": "stream",
          "name": "stderr",
          "text": [
            "Action: gender: 100%|██████████| 2/2 [00:00<00:00,  2.35it/s]\n",
            "Action: gender: 100%|██████████| 2/2 [00:00<00:00,  2.14it/s]\n"
          ]
        },
        {
          "output_type": "stream",
          "name": "stdout",
          "text": [
            "Detected person --> Age: 36 | Gender: {'Woman': np.float32(5.7043586), 'Man': np.float32(94.29564)}\n",
            "Detected person --> Age: 31 | Gender: {'Woman': np.float32(28.93228), 'Man': np.float32(71.06772)}\n"
          ]
        },
        {
          "output_type": "stream",
          "name": "stderr",
          "text": [
            "Action: gender: 100%|██████████| 2/2 [00:00<00:00,  2.15it/s]\n",
            "Action: gender: 100%|██████████| 2/2 [00:00<00:00,  2.26it/s]\n"
          ]
        },
        {
          "output_type": "stream",
          "name": "stdout",
          "text": [
            "Detected person --> Age: 37 | Gender: {'Woman': np.float32(7.3828406), 'Man': np.float32(92.61716)}\n",
            "Detected person --> Age: 30 | Gender: {'Woman': np.float32(26.434135), 'Man': np.float32(73.565865)}\n"
          ]
        },
        {
          "output_type": "stream",
          "name": "stderr",
          "text": [
            "Action: gender: 100%|██████████| 2/2 [00:00<00:00,  2.18it/s]\n",
            "Action: gender: 100%|██████████| 2/2 [00:00<00:00,  2.11it/s]\n"
          ]
        },
        {
          "output_type": "stream",
          "name": "stdout",
          "text": [
            "Detected person --> Age: 34 | Gender: {'Woman': np.float32(8.116141), 'Man': np.float32(91.883865)}\n",
            "Detected person --> Age: 30 | Gender: {'Woman': np.float32(28.815422), 'Man': np.float32(71.18458)}\n"
          ]
        },
        {
          "output_type": "stream",
          "name": "stderr",
          "text": [
            "Action: gender: 100%|██████████| 2/2 [00:00<00:00,  2.32it/s]\n",
            "Action: gender: 100%|██████████| 2/2 [00:00<00:00,  2.16it/s]\n"
          ]
        },
        {
          "output_type": "stream",
          "name": "stdout",
          "text": [
            "Detected person --> Age: 34 | Gender: {'Woman': np.float32(8.727088), 'Man': np.float32(91.27291)}\n",
            "Detected person --> Age: 32 | Gender: {'Woman': np.float32(32.049667), 'Man': np.float32(67.95033)}\n"
          ]
        },
        {
          "output_type": "stream",
          "name": "stderr",
          "text": [
            "Action: gender: 100%|██████████| 2/2 [00:00<00:00,  2.07it/s]\n",
            "Action: gender: 100%|██████████| 2/2 [00:01<00:00,  1.98it/s]\n"
          ]
        },
        {
          "output_type": "stream",
          "name": "stdout",
          "text": [
            "Detected person --> Age: 33 | Gender: {'Woman': np.float32(9.023738), 'Man': np.float32(90.976265)}\n",
            "Detected person --> Age: 30 | Gender: {'Woman': np.float32(37.335396), 'Man': np.float32(62.664597)}\n"
          ]
        },
        {
          "output_type": "stream",
          "name": "stderr",
          "text": [
            "Action: gender: 100%|██████████| 2/2 [00:01<00:00,  1.96it/s]\n",
            "Action: gender: 100%|██████████| 2/2 [00:00<00:00,  2.39it/s]\n"
          ]
        },
        {
          "output_type": "stream",
          "name": "stdout",
          "text": [
            "Detected person --> Age: 32 | Gender: {'Woman': np.float32(7.831254), 'Man': np.float32(92.16875)}\n",
            "Detected person --> Age: 28 | Gender: {'Woman': np.float32(46.97172), 'Man': np.float32(53.02828)}\n"
          ]
        },
        {
          "output_type": "stream",
          "name": "stderr",
          "text": [
            "Action: gender: 100%|██████████| 2/2 [00:00<00:00,  2.35it/s]\n",
            "Action: gender: 100%|██████████| 2/2 [00:00<00:00,  2.30it/s]\n"
          ]
        },
        {
          "output_type": "stream",
          "name": "stdout",
          "text": [
            "Detected person --> Age: 35 | Gender: {'Woman': np.float32(9.61523), 'Man': np.float32(90.384766)}\n",
            "Detected person --> Age: 26 | Gender: {'Woman': np.float32(43.630764), 'Man': np.float32(56.369232)}\n"
          ]
        },
        {
          "output_type": "stream",
          "name": "stderr",
          "text": [
            "Action: gender: 100%|██████████| 2/2 [00:00<00:00,  2.35it/s]\n",
            "Action: gender: 100%|██████████| 2/2 [00:00<00:00,  2.39it/s]\n"
          ]
        },
        {
          "output_type": "stream",
          "name": "stdout",
          "text": [
            "Detected person --> Age: 35 | Gender: {'Woman': np.float32(8.884129), 'Man': np.float32(91.11587)}\n",
            "Detected person --> Age: 26 | Gender: {'Woman': np.float32(44.969624), 'Man': np.float32(55.030376)}\n"
          ]
        },
        {
          "output_type": "stream",
          "name": "stderr",
          "text": [
            "Action: gender: 100%|██████████| 2/2 [00:00<00:00,  2.38it/s]\n",
            "Action: gender: 100%|██████████| 2/2 [00:00<00:00,  2.36it/s]\n"
          ]
        },
        {
          "output_type": "stream",
          "name": "stdout",
          "text": [
            "Detected person --> Age: 34 | Gender: {'Woman': np.float32(8.275415), 'Man': np.float32(91.72459)}\n",
            "Detected person --> Age: 28 | Gender: {'Woman': np.float32(45.34777), 'Man': np.float32(54.652233)}\n"
          ]
        },
        {
          "output_type": "stream",
          "name": "stderr",
          "text": [
            "Action: gender: 100%|██████████| 2/2 [00:00<00:00,  2.28it/s]\n",
            "Action: gender: 100%|██████████| 2/2 [00:00<00:00,  2.08it/s]\n"
          ]
        },
        {
          "output_type": "stream",
          "name": "stdout",
          "text": [
            "Detected person --> Age: 37 | Gender: {'Woman': np.float32(8.135674), 'Man': np.float32(91.86433)}\n",
            "Detected person --> Age: 25 | Gender: {'Woman': np.float32(34.743343), 'Man': np.float32(65.25665)}\n"
          ]
        },
        {
          "output_type": "stream",
          "name": "stderr",
          "text": [
            "Action: gender: 100%|██████████| 2/2 [00:00<00:00,  2.18it/s]\n",
            "Action: gender: 100%|██████████| 2/2 [00:01<00:00,  1.70it/s]\n"
          ]
        },
        {
          "output_type": "stream",
          "name": "stdout",
          "text": [
            "Detected person --> Age: 37 | Gender: {'Woman': np.float32(7.4906917), 'Man': np.float32(92.50931)}\n",
            "Detected person --> Age: 28 | Gender: {'Woman': np.float32(36.45961), 'Man': np.float32(63.540386)}\n"
          ]
        },
        {
          "output_type": "stream",
          "name": "stderr",
          "text": [
            "Action: gender: 100%|██████████| 2/2 [00:00<00:00,  2.06it/s]\n",
            "Action: gender: 100%|██████████| 2/2 [00:00<00:00,  2.30it/s]\n"
          ]
        },
        {
          "output_type": "stream",
          "name": "stdout",
          "text": [
            "Detected person --> Age: 36 | Gender: {'Woman': np.float32(8.06592), 'Man': np.float32(91.93408)}\n",
            "Detected person --> Age: 28 | Gender: {'Woman': np.float32(42.493046), 'Man': np.float32(57.50696)}\n"
          ]
        },
        {
          "output_type": "stream",
          "name": "stderr",
          "text": [
            "Action: gender: 100%|██████████| 2/2 [00:00<00:00,  2.20it/s]\n",
            "Action: gender: 100%|██████████| 2/2 [00:00<00:00,  2.03it/s]\n"
          ]
        },
        {
          "output_type": "stream",
          "name": "stdout",
          "text": [
            "Detected person --> Age: 36 | Gender: {'Woman': np.float32(7.552082), 'Man': np.float32(92.44792)}\n",
            "Detected person --> Age: 26 | Gender: {'Woman': np.float32(30.935066), 'Man': np.float32(69.06493)}\n"
          ]
        },
        {
          "output_type": "stream",
          "name": "stderr",
          "text": [
            "Action: gender: 100%|██████████| 2/2 [00:00<00:00,  2.14it/s]\n",
            "Action: gender: 100%|██████████| 2/2 [00:00<00:00,  2.27it/s]\n"
          ]
        },
        {
          "output_type": "stream",
          "name": "stdout",
          "text": [
            "Detected person --> Age: 37 | Gender: {'Woman': np.float32(6.9948516), 'Man': np.float32(93.00515)}\n",
            "Detected person --> Age: 25 | Gender: {'Woman': np.float32(27.252966), 'Man': np.float32(72.74704)}\n"
          ]
        },
        {
          "output_type": "stream",
          "name": "stderr",
          "text": [
            "Action: gender: 100%|██████████| 2/2 [00:00<00:00,  2.36it/s]\n",
            "Action: gender: 100%|██████████| 2/2 [00:00<00:00,  2.27it/s]\n"
          ]
        },
        {
          "output_type": "stream",
          "name": "stdout",
          "text": [
            "Detected person --> Age: 37 | Gender: {'Woman': np.float32(7.3304176), 'Man': np.float32(92.669586)}\n",
            "Detected person --> Age: 25 | Gender: {'Woman': np.float32(24.379152), 'Man': np.float32(75.62084)}\n"
          ]
        },
        {
          "output_type": "stream",
          "name": "stderr",
          "text": [
            "Action: gender: 100%|██████████| 2/2 [00:00<00:00,  2.12it/s]\n",
            "Action: gender: 100%|██████████| 2/2 [00:00<00:00,  2.20it/s]\n"
          ]
        },
        {
          "output_type": "stream",
          "name": "stdout",
          "text": [
            "Detected person --> Age: 36 | Gender: {'Woman': np.float32(8.0681305), 'Man': np.float32(91.93187)}\n",
            "Detected person --> Age: 26 | Gender: {'Woman': np.float32(25.648806), 'Man': np.float32(74.35119)}\n"
          ]
        },
        {
          "output_type": "stream",
          "name": "stderr",
          "text": [
            "Action: gender: 100%|██████████| 2/2 [00:01<00:00,  1.77it/s]\n",
            "Action: gender: 100%|██████████| 2/2 [00:01<00:00,  1.92it/s]\n"
          ]
        },
        {
          "output_type": "stream",
          "name": "stdout",
          "text": [
            "Detected person --> Age: 35 | Gender: {'Woman': np.float32(8.198321), 'Man': np.float32(91.80168)}\n",
            "Detected person --> Age: 26 | Gender: {'Woman': np.float32(30.051254), 'Man': np.float32(69.94875)}\n"
          ]
        },
        {
          "output_type": "stream",
          "name": "stderr",
          "text": [
            "Action: gender: 100%|██████████| 2/2 [00:00<00:00,  2.34it/s]\n",
            "Action: gender: 100%|██████████| 2/2 [00:00<00:00,  2.24it/s]\n"
          ]
        },
        {
          "output_type": "stream",
          "name": "stdout",
          "text": [
            "Detected person --> Age: 36 | Gender: {'Woman': np.float32(8.24034), 'Man': np.float32(91.75965)}\n",
            "Detected person --> Age: 26 | Gender: {'Woman': np.float32(31.597069), 'Man': np.float32(68.40293)}\n"
          ]
        },
        {
          "output_type": "stream",
          "name": "stderr",
          "text": [
            "Action: gender: 100%|██████████| 2/2 [00:00<00:00,  2.13it/s]\n",
            "Action: gender: 100%|██████████| 2/2 [00:00<00:00,  2.19it/s]\n"
          ]
        },
        {
          "output_type": "stream",
          "name": "stdout",
          "text": [
            "Detected person --> Age: 36 | Gender: {'Woman': np.float32(8.729475), 'Man': np.float32(91.27052)}\n",
            "Detected person --> Age: 28 | Gender: {'Woman': np.float32(36.13228), 'Man': np.float32(63.867718)}\n"
          ]
        },
        {
          "output_type": "stream",
          "name": "stderr",
          "text": [
            "Action: gender: 100%|██████████| 2/2 [00:00<00:00,  2.41it/s]\n",
            "Action: gender: 100%|██████████| 2/2 [00:00<00:00,  2.37it/s]\n"
          ]
        },
        {
          "output_type": "stream",
          "name": "stdout",
          "text": [
            "Detected person --> Age: 36 | Gender: {'Woman': np.float32(7.2979293), 'Man': np.float32(92.702065)}\n",
            "Detected person --> Age: 29 | Gender: {'Woman': np.float32(37.949554), 'Man': np.float32(62.05045)}\n"
          ]
        },
        {
          "output_type": "stream",
          "name": "stderr",
          "text": [
            "Action: gender: 100%|██████████| 2/2 [00:00<00:00,  2.30it/s]\n",
            "Action: gender: 100%|██████████| 2/2 [00:00<00:00,  2.17it/s]\n"
          ]
        },
        {
          "output_type": "stream",
          "name": "stdout",
          "text": [
            "Detected person --> Age: 34 | Gender: {'Woman': np.float32(7.6459527), 'Man': np.float32(92.35405)}\n",
            "Detected person --> Age: 28 | Gender: {'Woman': np.float32(22.408554), 'Man': np.float32(77.591446)}\n"
          ]
        },
        {
          "output_type": "stream",
          "name": "stderr",
          "text": [
            "Action: gender: 100%|██████████| 2/2 [00:00<00:00,  2.33it/s]\n",
            "Action: gender: 100%|██████████| 2/2 [00:00<00:00,  2.23it/s]\n"
          ]
        },
        {
          "output_type": "stream",
          "name": "stdout",
          "text": [
            "Detected person --> Age: 35 | Gender: {'Woman': np.float32(6.483298), 'Man': np.float32(93.5167)}\n",
            "Detected person --> Age: 27 | Gender: {'Woman': np.float32(23.423832), 'Man': np.float32(76.576164)}\n"
          ]
        },
        {
          "output_type": "stream",
          "name": "stderr",
          "text": [
            "Action: gender: 100%|██████████| 2/2 [00:01<00:00,  1.84it/s]\n",
            "Action: gender: 100%|██████████| 2/2 [00:00<00:00,  2.37it/s]\n"
          ]
        },
        {
          "output_type": "stream",
          "name": "stdout",
          "text": [
            "Detected person --> Age: 38 | Gender: {'Woman': np.float32(6.567625), 'Man': np.float32(93.43237)}\n",
            "Detected person --> Age: 27 | Gender: {'Woman': np.float32(22.536419), 'Man': np.float32(77.46357)}\n"
          ]
        },
        {
          "output_type": "stream",
          "name": "stderr",
          "text": [
            "Action: gender: 100%|██████████| 2/2 [00:00<00:00,  2.26it/s]\n",
            "Action: gender: 100%|██████████| 2/2 [00:00<00:00,  2.12it/s]\n"
          ]
        },
        {
          "output_type": "stream",
          "name": "stdout",
          "text": [
            "Detected person --> Age: 33 | Gender: {'Woman': np.float32(7.4190087), 'Man': np.float32(92.58099)}\n",
            "Detected person --> Age: 27 | Gender: {'Woman': np.float32(24.71532), 'Man': np.float32(75.284676)}\n"
          ]
        },
        {
          "output_type": "stream",
          "name": "stderr",
          "text": [
            "Action: gender: 100%|██████████| 2/2 [00:00<00:00,  2.36it/s]\n",
            "Action: gender: 100%|██████████| 2/2 [00:00<00:00,  2.35it/s]\n"
          ]
        },
        {
          "output_type": "stream",
          "name": "stdout",
          "text": [
            "Detected person --> Age: 36 | Gender: {'Woman': np.float32(6.9695697), 'Man': np.float32(93.03043)}\n",
            "Detected person --> Age: 29 | Gender: {'Woman': np.float32(30.77709), 'Man': np.float32(69.22291)}\n"
          ]
        },
        {
          "output_type": "stream",
          "name": "stderr",
          "text": [
            "Action: gender: 100%|██████████| 2/2 [00:00<00:00,  2.36it/s]\n",
            "Action: gender: 100%|██████████| 2/2 [00:00<00:00,  2.39it/s]\n",
            "Action: gender: 100%|██████████| 2/2 [00:00<00:00,  2.35it/s]\n"
          ]
        },
        {
          "output_type": "stream",
          "name": "stdout",
          "text": [
            "Detected person --> Age: 36 | Gender: {'Woman': np.float32(6.661622), 'Man': np.float32(93.33837)}\n",
            "Detected person --> Age: 27 | Gender: {'Woman': np.float32(20.718756), 'Man': np.float32(79.28124)}\n",
            "Detected person --> Age: 34 | Gender: {'Woman': np.float32(24.141083), 'Man': np.float32(75.85892)}\n"
          ]
        },
        {
          "output_type": "stream",
          "name": "stderr",
          "text": [
            "Action: gender: 100%|██████████| 2/2 [00:00<00:00,  2.36it/s]\n",
            "Action: gender: 100%|██████████| 2/2 [00:00<00:00,  2.34it/s]\n"
          ]
        },
        {
          "output_type": "stream",
          "name": "stdout",
          "text": [
            "Detected person --> Age: 35 | Gender: {'Woman': np.float32(7.750719), 'Man': np.float32(92.24928)}\n",
            "Detected person --> Age: 28 | Gender: {'Woman': np.float32(18.287159), 'Man': np.float32(81.71284)}\n"
          ]
        },
        {
          "output_type": "stream",
          "name": "stderr",
          "text": [
            "Action: gender: 100%|██████████| 2/2 [00:01<00:00,  1.96it/s]\n",
            "Action: gender: 100%|██████████| 2/2 [00:01<00:00,  1.81it/s]\n"
          ]
        },
        {
          "output_type": "stream",
          "name": "stdout",
          "text": [
            "Detected person --> Age: 39 | Gender: {'Woman': np.float32(8.654341), 'Man': np.float32(91.34566)}\n",
            "Detected person --> Age: 29 | Gender: {'Woman': np.float32(30.32829), 'Man': np.float32(69.67171)}\n"
          ]
        },
        {
          "output_type": "stream",
          "name": "stderr",
          "text": [
            "Action: gender: 100%|██████████| 2/2 [00:00<00:00,  2.41it/s]\n",
            "Action: gender: 100%|██████████| 2/2 [00:00<00:00,  2.38it/s]\n"
          ]
        },
        {
          "output_type": "stream",
          "name": "stdout",
          "text": [
            "Detected person --> Age: 40 | Gender: {'Woman': np.float32(8.430497), 'Man': np.float32(91.5695)}\n",
            "Detected person --> Age: 28 | Gender: {'Woman': np.float32(19.71203), 'Man': np.float32(80.28797)}\n"
          ]
        },
        {
          "output_type": "stream",
          "name": "stderr",
          "text": [
            "Action: gender: 100%|██████████| 2/2 [00:00<00:00,  2.36it/s]\n",
            "Action: gender: 100%|██████████| 2/2 [00:00<00:00,  2.28it/s]\n"
          ]
        },
        {
          "output_type": "stream",
          "name": "stdout",
          "text": [
            "Detected person --> Age: 38 | Gender: {'Woman': np.float32(7.254143), 'Man': np.float32(92.74586)}\n",
            "Detected person --> Age: 27 | Gender: {'Woman': np.float32(25.39466), 'Man': np.float32(74.60534)}\n"
          ]
        },
        {
          "output_type": "stream",
          "name": "stderr",
          "text": [
            "Action: gender: 100%|██████████| 2/2 [00:00<00:00,  2.22it/s]\n",
            "Action: gender: 100%|██████████| 2/2 [00:00<00:00,  2.29it/s]\n"
          ]
        },
        {
          "output_type": "stream",
          "name": "stdout",
          "text": [
            "Detected person --> Age: 39 | Gender: {'Woman': np.float32(7.3797994), 'Man': np.float32(92.6202)}\n",
            "Detected person --> Age: 29 | Gender: {'Woman': np.float32(29.58399), 'Man': np.float32(70.416)}\n"
          ]
        },
        {
          "output_type": "stream",
          "name": "stderr",
          "text": [
            "Action: gender: 100%|██████████| 2/2 [00:00<00:00,  2.11it/s]\n",
            "Action: gender: 100%|██████████| 2/2 [00:00<00:00,  2.15it/s]\n"
          ]
        },
        {
          "output_type": "stream",
          "name": "stdout",
          "text": [
            "Detected person --> Age: 37 | Gender: {'Woman': np.float32(8.189865), 'Man': np.float32(91.810135)}\n",
            "Detected person --> Age: 28 | Gender: {'Woman': np.float32(27.456978), 'Man': np.float32(72.54302)}\n"
          ]
        },
        {
          "output_type": "stream",
          "name": "stderr",
          "text": [
            "Action: gender: 100%|██████████| 2/2 [00:00<00:00,  2.40it/s]\n",
            "Action: gender: 100%|██████████| 2/2 [00:00<00:00,  2.36it/s]\n"
          ]
        },
        {
          "output_type": "stream",
          "name": "stdout",
          "text": [
            "Detected person --> Age: 37 | Gender: {'Woman': np.float32(7.449367), 'Man': np.float32(92.55064)}\n",
            "Detected person --> Age: 29 | Gender: {'Woman': np.float32(40.88724), 'Man': np.float32(59.11276)}\n"
          ]
        },
        {
          "output_type": "stream",
          "name": "stderr",
          "text": [
            "Action: gender: 100%|██████████| 2/2 [00:01<00:00,  1.55it/s]\n",
            "Action: gender: 100%|██████████| 2/2 [00:01<00:00,  1.92it/s]\n"
          ]
        },
        {
          "output_type": "stream",
          "name": "stdout",
          "text": [
            "Detected person --> Age: 36 | Gender: {'Woman': np.float32(7.592495), 'Man': np.float32(92.4075)}\n",
            "Detected person --> Age: 28 | Gender: {'Woman': np.float32(47.52292), 'Man': np.float32(52.47708)}\n"
          ]
        },
        {
          "output_type": "stream",
          "name": "stderr",
          "text": [
            "Action: gender: 100%|██████████| 2/2 [00:00<00:00,  2.17it/s]\n",
            "Action: gender: 100%|██████████| 2/2 [00:00<00:00,  2.23it/s]\n"
          ]
        },
        {
          "output_type": "stream",
          "name": "stdout",
          "text": [
            "Detected person --> Age: 35 | Gender: {'Woman': np.float32(7.7089615), 'Man': np.float32(92.29103)}\n",
            "Detected person --> Age: 26 | Gender: {'Woman': np.float32(42.640877), 'Man': np.float32(57.359123)}\n"
          ]
        },
        {
          "output_type": "stream",
          "name": "stderr",
          "text": [
            "Action: gender: 100%|██████████| 2/2 [00:00<00:00,  2.26it/s]\n",
            "Action: gender: 100%|██████████| 2/2 [00:00<00:00,  2.06it/s]\n"
          ]
        },
        {
          "output_type": "stream",
          "name": "stdout",
          "text": [
            "Detected person --> Age: 35 | Gender: {'Woman': np.float32(7.5270386), 'Man': np.float32(92.47296)}\n",
            "Detected person --> Age: 28 | Gender: {'Woman': np.float32(46.16956), 'Man': np.float32(53.830444)}\n"
          ]
        },
        {
          "output_type": "stream",
          "name": "stderr",
          "text": [
            "Action: gender: 100%|██████████| 2/2 [00:00<00:00,  2.09it/s]\n",
            "Action: gender: 100%|██████████| 2/2 [00:00<00:00,  2.20it/s]\n"
          ]
        },
        {
          "output_type": "stream",
          "name": "stdout",
          "text": [
            "Detected person --> Age: 34 | Gender: {'Woman': np.float32(8.75722), 'Man': np.float32(91.24278)}\n",
            "Detected person --> Age: 28 | Gender: {'Woman': np.float32(43.35269), 'Man': np.float32(56.6473)}\n"
          ]
        },
        {
          "output_type": "stream",
          "name": "stderr",
          "text": [
            "Action: gender: 100%|██████████| 2/2 [00:00<00:00,  2.32it/s]\n",
            "Action: gender: 100%|██████████| 2/2 [00:00<00:00,  2.34it/s]\n"
          ]
        },
        {
          "output_type": "stream",
          "name": "stdout",
          "text": [
            "Detected person --> Age: 34 | Gender: {'Woman': np.float32(8.244702), 'Man': np.float32(91.7553)}\n",
            "Detected person --> Age: 28 | Gender: {'Woman': np.float32(36.13052), 'Man': np.float32(63.869476)}\n"
          ]
        },
        {
          "output_type": "stream",
          "name": "stderr",
          "text": [
            "Action: gender: 100%|██████████| 2/2 [00:00<00:00,  2.28it/s]\n",
            "Action: gender: 100%|██████████| 2/2 [00:01<00:00,  1.78it/s]\n"
          ]
        },
        {
          "output_type": "stream",
          "name": "stdout",
          "text": [
            "Detected person --> Age: 36 | Gender: {'Woman': np.float32(7.6427474), 'Man': np.float32(92.357254)}\n",
            "Detected person --> Age: 26 | Gender: {'Woman': np.float32(34.747116), 'Man': np.float32(65.252884)}\n"
          ]
        },
        {
          "output_type": "stream",
          "name": "stderr",
          "text": [
            "Action: gender: 100%|██████████| 2/2 [00:00<00:00,  2.07it/s]\n",
            "Action: gender: 100%|██████████| 2/2 [00:00<00:00,  2.37it/s]\n"
          ]
        },
        {
          "output_type": "stream",
          "name": "stdout",
          "text": [
            "Detected person --> Age: 36 | Gender: {'Woman': np.float32(8.43506), 'Man': np.float32(91.56493)}\n",
            "Detected person --> Age: 28 | Gender: {'Woman': np.float32(27.928288), 'Man': np.float32(72.07172)}\n"
          ]
        },
        {
          "output_type": "stream",
          "name": "stderr",
          "text": [
            "Action: gender: 100%|██████████| 2/2 [00:00<00:00,  2.29it/s]\n",
            "Action: gender: 100%|██████████| 2/2 [00:00<00:00,  2.05it/s]\n"
          ]
        },
        {
          "output_type": "stream",
          "name": "stdout",
          "text": [
            "Detected person --> Age: 34 | Gender: {'Woman': np.float32(9.149548), 'Man': np.float32(90.85045)}\n",
            "Detected person --> Age: 27 | Gender: {'Woman': np.float32(25.845062), 'Man': np.float32(74.15494)}\n"
          ]
        },
        {
          "output_type": "stream",
          "name": "stderr",
          "text": [
            "Action: gender: 100%|██████████| 2/2 [00:00<00:00,  2.16it/s]\n",
            "Action: gender: 100%|██████████| 2/2 [00:00<00:00,  2.39it/s]\n"
          ]
        },
        {
          "output_type": "stream",
          "name": "stdout",
          "text": [
            "Detected person --> Age: 32 | Gender: {'Woman': np.float32(8.218227), 'Man': np.float32(91.78177)}\n",
            "Detected person --> Age: 26 | Gender: {'Woman': np.float32(18.905252), 'Man': np.float32(81.09475)}\n"
          ]
        },
        {
          "output_type": "stream",
          "name": "stderr",
          "text": [
            "Action: gender: 100%|██████████| 2/2 [00:00<00:00,  2.24it/s]\n",
            "Action: gender: 100%|██████████| 2/2 [00:00<00:00,  2.10it/s]\n"
          ]
        },
        {
          "output_type": "stream",
          "name": "stdout",
          "text": [
            "Detected person --> Age: 35 | Gender: {'Woman': np.float32(7.0540867), 'Man': np.float32(92.94591)}\n",
            "Detected person --> Age: 26 | Gender: {'Woman': np.float32(42.767822), 'Man': np.float32(57.232178)}\n"
          ]
        },
        {
          "output_type": "stream",
          "name": "stderr",
          "text": [
            "Action: gender: 100%|██████████| 2/2 [00:00<00:00,  2.11it/s]\n",
            "Action: gender: 100%|██████████| 2/2 [00:00<00:00,  2.08it/s]\n"
          ]
        },
        {
          "output_type": "stream",
          "name": "stdout",
          "text": [
            "Detected person --> Age: 34 | Gender: {'Woman': np.float32(7.801815), 'Man': np.float32(92.19819)}\n",
            "Detected person --> Age: 29 | Gender: {'Woman': np.float32(32.07467), 'Man': np.float32(67.92534)}\n"
          ]
        },
        {
          "output_type": "stream",
          "name": "stderr",
          "text": [
            "Action: gender: 100%|██████████| 2/2 [00:01<00:00,  1.79it/s]\n",
            "Action: gender: 100%|██████████| 2/2 [00:01<00:00,  1.90it/s]\n"
          ]
        },
        {
          "output_type": "stream",
          "name": "stdout",
          "text": [
            "Detected person --> Age: 34 | Gender: {'Woman': np.float32(7.6527395), 'Man': np.float32(92.34726)}\n",
            "Detected person --> Age: 26 | Gender: {'Woman': np.float32(25.941996), 'Man': np.float32(74.058)}\n"
          ]
        },
        {
          "output_type": "stream",
          "name": "stderr",
          "text": [
            "Action: gender: 100%|██████████| 2/2 [00:00<00:00,  2.31it/s]\n",
            "Action: gender: 100%|██████████| 2/2 [00:00<00:00,  2.36it/s]\n"
          ]
        },
        {
          "output_type": "stream",
          "name": "stdout",
          "text": [
            "Detected person --> Age: 35 | Gender: {'Woman': np.float32(7.5561523), 'Man': np.float32(92.44385)}\n",
            "Detected person --> Age: 28 | Gender: {'Woman': np.float32(24.408255), 'Man': np.float32(75.59174)}\n"
          ]
        },
        {
          "output_type": "stream",
          "name": "stderr",
          "text": [
            "Action: gender: 100%|██████████| 2/2 [00:00<00:00,  2.24it/s]\n",
            "Action: gender: 100%|██████████| 2/2 [00:00<00:00,  2.18it/s]\n"
          ]
        },
        {
          "output_type": "stream",
          "name": "stdout",
          "text": [
            "Detected person --> Age: 34 | Gender: {'Woman': np.float32(7.9748273), 'Man': np.float32(92.02517)}\n",
            "Detected person --> Age: 26 | Gender: {'Woman': np.float32(24.112366), 'Man': np.float32(75.88764)}\n"
          ]
        },
        {
          "output_type": "stream",
          "name": "stderr",
          "text": [
            "Action: gender: 100%|██████████| 2/2 [00:00<00:00,  2.34it/s]\n",
            "Action: gender: 100%|██████████| 2/2 [00:00<00:00,  2.37it/s]\n"
          ]
        },
        {
          "output_type": "stream",
          "name": "stdout",
          "text": [
            "Detected person --> Age: 34 | Gender: {'Woman': np.float32(8.674842), 'Man': np.float32(91.32515)}\n",
            "Detected person --> Age: 25 | Gender: {'Woman': np.float32(20.73985), 'Man': np.float32(79.26016)}\n"
          ]
        },
        {
          "output_type": "stream",
          "name": "stderr",
          "text": [
            "Action: gender: 100%|██████████| 2/2 [00:00<00:00,  2.08it/s]\n",
            "Action: gender: 100%|██████████| 2/2 [00:00<00:00,  2.18it/s]\n"
          ]
        },
        {
          "output_type": "stream",
          "name": "stdout",
          "text": [
            "Detected person --> Age: 32 | Gender: {'Woman': np.float32(8.003976), 'Man': np.float32(91.996025)}\n",
            "Detected person --> Age: 26 | Gender: {'Woman': np.float32(20.406618), 'Man': np.float32(79.593376)}\n"
          ]
        },
        {
          "output_type": "stream",
          "name": "stderr",
          "text": [
            "Action: gender: 100%|██████████| 2/2 [00:00<00:00,  2.17it/s]\n",
            "Action: gender: 100%|██████████| 2/2 [00:00<00:00,  2.32it/s]\n"
          ]
        },
        {
          "output_type": "stream",
          "name": "stdout",
          "text": [
            "Detected person --> Age: 33 | Gender: {'Woman': np.float32(7.986877), 'Man': np.float32(92.01312)}\n",
            "Detected person --> Age: 25 | Gender: {'Woman': np.float32(24.327831), 'Man': np.float32(75.672165)}\n"
          ]
        },
        {
          "output_type": "stream",
          "name": "stderr",
          "text": [
            "Action: gender: 100%|██████████| 2/2 [00:01<00:00,  1.68it/s]\n",
            "Action: gender: 100%|██████████| 2/2 [00:00<00:00,  2.24it/s]\n"
          ]
        },
        {
          "output_type": "stream",
          "name": "stdout",
          "text": [
            "Detected person --> Age: 34 | Gender: {'Woman': np.float32(8.429471), 'Man': np.float32(91.57053)}\n",
            "Detected person --> Age: 26 | Gender: {'Woman': np.float32(34.327663), 'Man': np.float32(65.67233)}\n"
          ]
        },
        {
          "output_type": "stream",
          "name": "stderr",
          "text": [
            "Action: gender: 100%|██████████| 2/2 [00:00<00:00,  2.29it/s]\n",
            "Action: gender: 100%|██████████| 2/2 [00:00<00:00,  2.11it/s]\n"
          ]
        },
        {
          "output_type": "stream",
          "name": "stdout",
          "text": [
            "Detected person --> Age: 36 | Gender: {'Woman': np.float32(6.860669), 'Man': np.float32(93.139336)}\n",
            "Detected person --> Age: 27 | Gender: {'Woman': np.float32(50.04077), 'Man': np.float32(49.95923)}\n"
          ]
        },
        {
          "output_type": "stream",
          "name": "stderr",
          "text": [
            "Action: gender: 100%|██████████| 2/2 [00:00<00:00,  2.14it/s]\n",
            "Action: gender: 100%|██████████| 2/2 [00:00<00:00,  2.18it/s]\n"
          ]
        },
        {
          "output_type": "stream",
          "name": "stdout",
          "text": [
            "Detected person --> Age: 34 | Gender: {'Woman': np.float32(7.6279244), 'Man': np.float32(92.372086)}\n",
            "Detected person --> Age: 26 | Gender: {'Woman': np.float32(32.251064), 'Man': np.float32(67.74894)}\n"
          ]
        },
        {
          "output_type": "stream",
          "name": "stderr",
          "text": [
            "Action: gender: 100%|██████████| 2/2 [00:00<00:00,  2.36it/s]\n",
            "Action: gender: 100%|██████████| 2/2 [00:00<00:00,  2.38it/s]\n"
          ]
        },
        {
          "output_type": "stream",
          "name": "stdout",
          "text": [
            "Detected person --> Age: 35 | Gender: {'Woman': np.float32(7.5174036), 'Man': np.float32(92.4826)}\n",
            "Detected person --> Age: 27 | Gender: {'Woman': np.float32(37.90822), 'Man': np.float32(62.091785)}\n"
          ]
        },
        {
          "output_type": "stream",
          "name": "stderr",
          "text": [
            "Action: gender: 100%|██████████| 2/2 [00:00<00:00,  2.34it/s]\n",
            "Action: gender: 100%|██████████| 2/2 [00:00<00:00,  2.36it/s]\n"
          ]
        },
        {
          "output_type": "stream",
          "name": "stdout",
          "text": [
            "Detected person --> Age: 35 | Gender: {'Woman': np.float32(7.835415), 'Man': np.float32(92.16459)}\n",
            "Detected person --> Age: 27 | Gender: {'Woman': np.float32(31.67599), 'Man': np.float32(68.32401)}\n"
          ]
        },
        {
          "output_type": "stream",
          "name": "stderr",
          "text": [
            "Action: gender: 100%|██████████| 2/2 [00:00<00:00,  2.32it/s]\n",
            "Action: gender: 100%|██████████| 2/2 [00:01<00:00,  1.87it/s]\n"
          ]
        },
        {
          "output_type": "stream",
          "name": "stdout",
          "text": [
            "Detected person --> Age: 34 | Gender: {'Woman': np.float32(9.593105), 'Man': np.float32(90.40689)}\n",
            "Detected person --> Age: 27 | Gender: {'Woman': np.float32(23.6035), 'Man': np.float32(76.3965)}\n"
          ]
        },
        {
          "output_type": "stream",
          "name": "stderr",
          "text": [
            "Action: gender: 100%|██████████| 2/2 [00:00<00:00,  2.05it/s]\n",
            "Action: gender: 100%|██████████| 2/2 [00:00<00:00,  2.29it/s]\n"
          ]
        },
        {
          "output_type": "stream",
          "name": "stdout",
          "text": [
            "Detected person --> Age: 35 | Gender: {'Woman': np.float32(8.653198), 'Man': np.float32(91.3468)}\n",
            "Detected person --> Age: 27 | Gender: {'Woman': np.float32(18.068594), 'Man': np.float32(81.93141)}\n"
          ]
        },
        {
          "output_type": "stream",
          "name": "stderr",
          "text": [
            "Action: gender: 100%|██████████| 2/2 [00:00<00:00,  2.34it/s]\n",
            "Action: gender: 100%|██████████| 2/2 [00:00<00:00,  2.20it/s]\n"
          ]
        },
        {
          "output_type": "stream",
          "name": "stdout",
          "text": [
            "Detected person --> Age: 33 | Gender: {'Woman': np.float32(9.169916), 'Man': np.float32(90.830086)}\n",
            "Detected person --> Age: 27 | Gender: {'Woman': np.float32(17.091806), 'Man': np.float32(82.908195)}\n"
          ]
        },
        {
          "output_type": "stream",
          "name": "stderr",
          "text": [
            "Action: gender: 100%|██████████| 2/2 [00:00<00:00,  2.12it/s]\n",
            "Action: gender: 100%|██████████| 2/2 [00:00<00:00,  2.10it/s]\n"
          ]
        },
        {
          "output_type": "stream",
          "name": "stdout",
          "text": [
            "Detected person --> Age: 33 | Gender: {'Woman': np.float32(8.44943), 'Man': np.float32(91.55057)}\n",
            "Detected person --> Age: 27 | Gender: {'Woman': np.float32(16.953463), 'Man': np.float32(83.04654)}\n"
          ]
        },
        {
          "output_type": "stream",
          "name": "stderr",
          "text": [
            "Action: gender: 100%|██████████| 2/2 [00:00<00:00,  2.38it/s]\n",
            "Action: gender: 100%|██████████| 2/2 [00:00<00:00,  2.37it/s]\n",
            "Action: gender: 100%|██████████| 2/2 [00:00<00:00,  2.40it/s]\n"
          ]
        },
        {
          "output_type": "stream",
          "name": "stdout",
          "text": [
            "Detected person --> Age: 35 | Gender: {'Woman': np.float32(7.923165), 'Man': np.float32(92.076836)}\n",
            "Detected person --> Age: 26 | Gender: {'Woman': np.float32(19.504019), 'Man': np.float32(80.49599)}\n",
            "Detected person --> Age: 37 | Gender: {'Woman': np.float32(29.148739), 'Man': np.float32(70.85126)}\n"
          ]
        },
        {
          "output_type": "stream",
          "name": "stderr",
          "text": [
            "Action: gender: 100%|██████████| 2/2 [00:00<00:00,  2.37it/s]\n",
            "Action: gender: 100%|██████████| 2/2 [00:00<00:00,  2.36it/s]\n"
          ]
        },
        {
          "output_type": "stream",
          "name": "stdout",
          "text": [
            "Detected person --> Age: 37 | Gender: {'Woman': np.float32(8.251189), 'Man': np.float32(91.7488)}\n",
            "Detected person --> Age: 25 | Gender: {'Woman': np.float32(36.80652), 'Man': np.float32(63.19348)}\n"
          ]
        },
        {
          "output_type": "stream",
          "name": "stderr",
          "text": [
            "Action: gender: 100%|██████████| 2/2 [00:01<00:00,  1.62it/s]\n",
            "Action: gender: 100%|██████████| 2/2 [00:01<00:00,  1.98it/s]\n"
          ]
        },
        {
          "output_type": "stream",
          "name": "stdout",
          "text": [
            "Detected person --> Age: 36 | Gender: {'Woman': np.float32(8.680251), 'Man': np.float32(91.31975)}\n",
            "Detected person --> Age: 25 | Gender: {'Woman': np.float32(31.057796), 'Man': np.float32(68.9422)}\n"
          ]
        },
        {
          "output_type": "stream",
          "name": "stderr",
          "text": [
            "Action: gender: 100%|██████████| 2/2 [00:00<00:00,  2.10it/s]\n",
            "Action: gender: 100%|██████████| 2/2 [00:00<00:00,  2.28it/s]\n"
          ]
        },
        {
          "output_type": "stream",
          "name": "stdout",
          "text": [
            "Detected person --> Age: 34 | Gender: {'Woman': np.float32(7.759691), 'Man': np.float32(92.24032)}\n",
            "Detected person --> Age: 27 | Gender: {'Woman': np.float32(18.300034), 'Man': np.float32(81.69997)}\n"
          ]
        },
        {
          "output_type": "stream",
          "name": "stderr",
          "text": [
            "Action: gender: 100%|██████████| 2/2 [00:00<00:00,  2.39it/s]\n",
            "Action: gender: 100%|██████████| 2/2 [00:00<00:00,  2.34it/s]\n"
          ]
        },
        {
          "output_type": "stream",
          "name": "stdout",
          "text": [
            "Detected person --> Age: 31 | Gender: {'Woman': np.float32(5.7906637), 'Man': np.float32(94.20933)}\n",
            "Detected person --> Age: 26 | Gender: {'Woman': np.float32(38.063725), 'Man': np.float32(61.936275)}\n"
          ]
        },
        {
          "output_type": "stream",
          "name": "stderr",
          "text": [
            "Action: gender: 100%|██████████| 2/2 [00:00<00:00,  2.34it/s]\n",
            "Action: gender: 100%|██████████| 2/2 [00:00<00:00,  2.35it/s]\n"
          ]
        },
        {
          "output_type": "stream",
          "name": "stdout",
          "text": [
            "Detected person --> Age: 31 | Gender: {'Woman': np.float32(7.796158), 'Man': np.float32(92.20384)}\n",
            "Detected person --> Age: 26 | Gender: {'Woman': np.float32(24.728342), 'Man': np.float32(75.27166)}\n"
          ]
        },
        {
          "output_type": "stream",
          "name": "stderr",
          "text": [
            "Action: gender: 100%|██████████| 2/2 [00:00<00:00,  2.30it/s]\n",
            "Action: gender: 100%|██████████| 2/2 [00:00<00:00,  2.38it/s]\n"
          ]
        },
        {
          "output_type": "stream",
          "name": "stdout",
          "text": [
            "Detected person --> Age: 30 | Gender: {'Woman': np.float32(7.492893), 'Man': np.float32(92.5071)}\n",
            "Detected person --> Age: 26 | Gender: {'Woman': np.float32(20.045097), 'Man': np.float32(79.9549)}\n"
          ]
        },
        {
          "output_type": "stream",
          "name": "stderr",
          "text": [
            "Action: gender: 100%|██████████| 2/2 [00:00<00:00,  2.34it/s]\n",
            "Action: gender: 100%|██████████| 2/2 [00:00<00:00,  2.02it/s]\n"
          ]
        },
        {
          "output_type": "stream",
          "name": "stdout",
          "text": [
            "Detected person --> Age: 33 | Gender: {'Woman': np.float32(8.595004), 'Man': np.float32(91.405)}\n",
            "Detected person --> Age: 28 | Gender: {'Woman': np.float32(19.61644), 'Man': np.float32(80.38356)}\n"
          ]
        },
        {
          "output_type": "stream",
          "name": "stderr",
          "text": [
            "Action: gender: 100%|██████████| 2/2 [00:01<00:00,  1.87it/s]\n",
            "Action: gender: 100%|██████████| 2/2 [00:00<00:00,  2.33it/s]\n"
          ]
        },
        {
          "output_type": "stream",
          "name": "stdout",
          "text": [
            "Detected person --> Age: 31 | Gender: {'Woman': np.float32(8.498782), 'Man': np.float32(91.50121)}\n",
            "Detected person --> Age: 29 | Gender: {'Woman': np.float32(18.690363), 'Man': np.float32(81.30964)}\n"
          ]
        },
        {
          "output_type": "stream",
          "name": "stderr",
          "text": [
            "Action: gender: 100%|██████████| 2/2 [00:00<00:00,  2.22it/s]\n",
            "Action: gender: 100%|██████████| 2/2 [00:00<00:00,  2.36it/s]\n"
          ]
        },
        {
          "output_type": "stream",
          "name": "stdout",
          "text": [
            "Detected person --> Age: 32 | Gender: {'Woman': np.float32(7.9804564), 'Man': np.float32(92.01954)}\n",
            "Detected person --> Age: 26 | Gender: {'Woman': np.float32(20.1232), 'Man': np.float32(79.8768)}\n"
          ]
        },
        {
          "output_type": "stream",
          "name": "stderr",
          "text": [
            "Action: gender: 100%|██████████| 2/2 [00:00<00:00,  2.29it/s]\n",
            "Action: gender: 100%|██████████| 2/2 [00:00<00:00,  2.13it/s]\n"
          ]
        },
        {
          "output_type": "stream",
          "name": "stdout",
          "text": [
            "Detected person --> Age: 32 | Gender: {'Woman': np.float32(8.765893), 'Man': np.float32(91.2341)}\n",
            "Detected person --> Age: 27 | Gender: {'Woman': np.float32(46.55157), 'Man': np.float32(53.448425)}\n"
          ]
        },
        {
          "output_type": "stream",
          "name": "stderr",
          "text": [
            "Action: gender: 100%|██████████| 2/2 [00:00<00:00,  2.34it/s]\n",
            "Action: gender: 100%|██████████| 2/2 [00:00<00:00,  2.10it/s]\n"
          ]
        },
        {
          "output_type": "stream",
          "name": "stdout",
          "text": [
            "Detected person --> Age: 29 | Gender: {'Woman': np.float32(8.849951), 'Man': np.float32(91.15005)}\n",
            "Detected person --> Age: 27 | Gender: {'Woman': np.float32(46.69145), 'Man': np.float32(53.30855)}\n"
          ]
        },
        {
          "output_type": "stream",
          "name": "stderr",
          "text": [
            "Action: gender: 100%|██████████| 2/2 [00:00<00:00,  2.13it/s]\n",
            "Action: gender: 100%|██████████| 2/2 [00:00<00:00,  2.26it/s]\n"
          ]
        },
        {
          "output_type": "stream",
          "name": "stdout",
          "text": [
            "Detected person --> Age: 30 | Gender: {'Woman': np.float32(9.555934), 'Man': np.float32(90.44407)}\n",
            "Detected person --> Age: 27 | Gender: {'Woman': np.float32(44.373043), 'Man': np.float32(55.626953)}\n"
          ]
        },
        {
          "output_type": "stream",
          "name": "stderr",
          "text": [
            "Action: gender: 100%|██████████| 2/2 [00:00<00:00,  2.02it/s]\n",
            "Action: gender: 100%|██████████| 2/2 [00:01<00:00,  1.63it/s]\n"
          ]
        },
        {
          "output_type": "stream",
          "name": "stdout",
          "text": [
            "Detected person --> Age: 30 | Gender: {'Woman': np.float32(7.4065404), 'Man': np.float32(92.59345)}\n",
            "Detected person --> Age: 27 | Gender: {'Woman': np.float32(40.40519), 'Man': np.float32(59.59481)}\n"
          ]
        },
        {
          "output_type": "stream",
          "name": "stderr",
          "text": [
            "Action: gender: 100%|██████████| 2/2 [00:00<00:00,  2.11it/s]\n",
            "Action: gender: 100%|██████████| 2/2 [00:00<00:00,  2.19it/s]\n"
          ]
        },
        {
          "output_type": "stream",
          "name": "stdout",
          "text": [
            "Detected person --> Age: 29 | Gender: {'Woman': np.float32(6.673765), 'Man': np.float32(93.32623)}\n",
            "Detected person --> Age: 27 | Gender: {'Woman': np.float32(47.217133), 'Man': np.float32(52.782867)}\n"
          ]
        },
        {
          "output_type": "stream",
          "name": "stderr",
          "text": [
            "Action: gender: 100%|██████████| 2/2 [00:00<00:00,  2.26it/s]\n",
            "Action: gender: 100%|██████████| 2/2 [00:00<00:00,  2.21it/s]\n"
          ]
        },
        {
          "output_type": "stream",
          "name": "stdout",
          "text": [
            "Detected person --> Age: 33 | Gender: {'Woman': np.float32(6.343444), 'Man': np.float32(93.656555)}\n",
            "Detected person --> Age: 27 | Gender: {'Woman': np.float32(46.67947), 'Man': np.float32(53.320526)}\n"
          ]
        },
        {
          "output_type": "stream",
          "name": "stderr",
          "text": [
            "Action: gender: 100%|██████████| 2/2 [00:00<00:00,  2.29it/s]\n",
            "Action: gender: 100%|██████████| 2/2 [00:00<00:00,  2.16it/s]\n"
          ]
        },
        {
          "output_type": "stream",
          "name": "stdout",
          "text": [
            "Detected person --> Age: 32 | Gender: {'Woman': np.float32(7.875232), 'Man': np.float32(92.12477)}\n",
            "Detected person --> Age: 27 | Gender: {'Woman': np.float32(56.736504), 'Man': np.float32(43.263496)}\n"
          ]
        },
        {
          "output_type": "stream",
          "name": "stderr",
          "text": [
            "Action: gender: 100%|██████████| 2/2 [00:00<00:00,  2.35it/s]\n",
            "Action: gender: 100%|██████████| 2/2 [00:00<00:00,  2.39it/s]\n"
          ]
        },
        {
          "output_type": "stream",
          "name": "stdout",
          "text": [
            "Detected person --> Age: 29 | Gender: {'Woman': np.float32(6.4814463), 'Man': np.float32(93.518555)}\n",
            "Detected person --> Age: 29 | Gender: {'Woman': np.float32(50.869854), 'Man': np.float32(49.13014)}\n"
          ]
        },
        {
          "output_type": "stream",
          "name": "stderr",
          "text": [
            "Action: gender: 100%|██████████| 2/2 [00:00<00:00,  2.37it/s]\n",
            "Action: gender: 100%|██████████| 2/2 [00:00<00:00,  2.10it/s]\n"
          ]
        },
        {
          "output_type": "stream",
          "name": "stdout",
          "text": [
            "Detected person --> Age: 31 | Gender: {'Woman': np.float32(7.075132), 'Man': np.float32(92.92487)}\n",
            "Detected person --> Age: 27 | Gender: {'Woman': np.float32(58.332188), 'Man': np.float32(41.66781)}\n"
          ]
        },
        {
          "output_type": "stream",
          "name": "stderr",
          "text": [
            "Action: gender: 100%|██████████| 2/2 [00:01<00:00,  1.59it/s]\n",
            "Action: gender: 100%|██████████| 2/2 [00:00<00:00,  2.10it/s]\n"
          ]
        },
        {
          "output_type": "stream",
          "name": "stdout",
          "text": [
            "Detected person --> Age: 31 | Gender: {'Woman': np.float32(7.269443), 'Man': np.float32(92.73055)}\n",
            "Detected person --> Age: 27 | Gender: {'Woman': np.float32(32.569122), 'Man': np.float32(67.43088)}\n"
          ]
        },
        {
          "output_type": "stream",
          "name": "stderr",
          "text": [
            "Action: gender: 100%|██████████| 2/2 [00:00<00:00,  2.28it/s]\n",
            "Action: gender: 100%|██████████| 2/2 [00:00<00:00,  2.12it/s]\n"
          ]
        },
        {
          "output_type": "stream",
          "name": "stdout",
          "text": [
            "Detected person --> Age: 31 | Gender: {'Woman': np.float32(8.327728), 'Man': np.float32(91.67227)}\n",
            "Detected person --> Age: 28 | Gender: {'Woman': np.float32(45.77151), 'Man': np.float32(54.228485)}\n"
          ]
        },
        {
          "output_type": "stream",
          "name": "stderr",
          "text": [
            "Action: gender: 100%|██████████| 2/2 [00:00<00:00,  2.13it/s]\n",
            "Action: gender: 100%|██████████| 2/2 [00:00<00:00,  2.21it/s]\n",
            "Action: gender: 100%|██████████| 2/2 [00:00<00:00,  2.39it/s]\n"
          ]
        },
        {
          "output_type": "stream",
          "name": "stdout",
          "text": [
            "Detected person --> Age: 30 | Gender: {'Woman': np.float32(9.3724575), 'Man': np.float32(90.62753)}\n",
            "Detected person --> Age: 28 | Gender: {'Woman': np.float32(48.87846), 'Man': np.float32(51.121544)}\n",
            "Detected person --> Age: 34 | Gender: {'Woman': np.float32(38.823837), 'Man': np.float32(61.176163)}\n"
          ]
        },
        {
          "output_type": "stream",
          "name": "stderr",
          "text": [
            "Action: gender: 100%|██████████| 2/2 [00:00<00:00,  2.38it/s]\n",
            "Action: gender: 100%|██████████| 2/2 [00:00<00:00,  2.17it/s]\n"
          ]
        },
        {
          "output_type": "stream",
          "name": "stdout",
          "text": [
            "Detected person --> Age: 31 | Gender: {'Woman': np.float32(9.364858), 'Man': np.float32(90.63515)}\n",
            "Detected person --> Age: 28 | Gender: {'Woman': np.float32(35.577263), 'Man': np.float32(64.42273)}\n"
          ]
        },
        {
          "output_type": "stream",
          "name": "stderr",
          "text": [
            "Action: gender: 100%|██████████| 2/2 [00:00<00:00,  2.16it/s]\n",
            "Action: gender: 100%|██████████| 2/2 [00:00<00:00,  2.32it/s]\n"
          ]
        },
        {
          "output_type": "stream",
          "name": "stdout",
          "text": [
            "Detected person --> Age: 33 | Gender: {'Woman': np.float32(9.063463), 'Man': np.float32(90.93654)}\n",
            "Detected person --> Age: 28 | Gender: {'Woman': np.float32(29.163002), 'Man': np.float32(70.837)}\n"
          ]
        },
        {
          "output_type": "stream",
          "name": "stderr",
          "text": [
            "Action: gender: 100%|██████████| 2/2 [00:00<00:00,  2.08it/s]\n",
            "Action: gender: 100%|██████████| 2/2 [00:01<00:00,  1.62it/s]\n"
          ]
        },
        {
          "output_type": "stream",
          "name": "stdout",
          "text": [
            "Detected person --> Age: 31 | Gender: {'Woman': np.float32(8.320187), 'Man': np.float32(91.6798)}\n",
            "Detected person --> Age: 27 | Gender: {'Woman': np.float32(32.716713), 'Man': np.float32(67.28329)}\n"
          ]
        },
        {
          "output_type": "stream",
          "name": "stderr",
          "text": [
            "Action: gender: 100%|██████████| 2/2 [00:00<00:00,  2.33it/s]\n",
            "Action: gender: 100%|██████████| 2/2 [00:00<00:00,  2.16it/s]\n"
          ]
        },
        {
          "output_type": "stream",
          "name": "stdout",
          "text": [
            "Detected person --> Age: 32 | Gender: {'Woman': np.float32(7.327497), 'Man': np.float32(92.67251)}\n",
            "Detected person --> Age: 28 | Gender: {'Woman': np.float32(47.747784), 'Man': np.float32(52.25222)}\n"
          ]
        },
        {
          "output_type": "stream",
          "name": "stderr",
          "text": [
            "Action: gender: 100%|██████████| 2/2 [00:00<00:00,  2.38it/s]\n",
            "Action: gender: 100%|██████████| 2/2 [00:00<00:00,  2.13it/s]\n"
          ]
        },
        {
          "output_type": "stream",
          "name": "stdout",
          "text": [
            "Detected person --> Age: 30 | Gender: {'Woman': np.float32(8.669249), 'Man': np.float32(91.33075)}\n",
            "Detected person --> Age: 27 | Gender: {'Woman': np.float32(22.757214), 'Man': np.float32(77.24278)}\n"
          ]
        },
        {
          "output_type": "stream",
          "name": "stderr",
          "text": [
            "Action: gender: 100%|██████████| 2/2 [00:00<00:00,  2.31it/s]\n",
            "Action: gender: 100%|██████████| 2/2 [00:00<00:00,  2.11it/s]\n"
          ]
        },
        {
          "output_type": "stream",
          "name": "stdout",
          "text": [
            "Detected person --> Age: 31 | Gender: {'Woman': np.float32(8.05388), 'Man': np.float32(91.94612)}\n",
            "Detected person --> Age: 26 | Gender: {'Woman': np.float32(13.715953), 'Man': np.float32(86.28404)}\n"
          ]
        },
        {
          "output_type": "stream",
          "name": "stderr",
          "text": [
            "Action: gender: 100%|██████████| 2/2 [00:00<00:00,  2.11it/s]\n",
            "Action: gender: 100%|██████████| 2/2 [00:00<00:00,  2.11it/s]\n"
          ]
        },
        {
          "output_type": "stream",
          "name": "stdout",
          "text": [
            "Detected person --> Age: 31 | Gender: {'Woman': np.float32(8.091407), 'Man': np.float32(91.908585)}\n",
            "Detected person --> Age: 26 | Gender: {'Woman': np.float32(27.020813), 'Man': np.float32(72.97919)}\n"
          ]
        },
        {
          "output_type": "stream",
          "name": "stderr",
          "text": [
            "Action: gender: 100%|██████████| 2/2 [00:00<00:00,  2.32it/s]\n",
            "Action: gender: 100%|██████████| 2/2 [00:00<00:00,  2.13it/s]\n"
          ]
        },
        {
          "output_type": "stream",
          "name": "stdout",
          "text": [
            "Detected person --> Age: 33 | Gender: {'Woman': np.float32(4.112321), 'Man': np.float32(95.88768)}\n",
            "Detected person --> Age: 27 | Gender: {'Woman': np.float32(35.461617), 'Man': np.float32(64.53839)}\n"
          ]
        },
        {
          "output_type": "stream",
          "name": "stderr",
          "text": [
            "Action: gender: 100%|██████████| 2/2 [00:01<00:00,  1.77it/s]\n",
            "Action: gender: 100%|██████████| 2/2 [00:00<00:00,  2.34it/s]\n"
          ]
        },
        {
          "output_type": "stream",
          "name": "stdout",
          "text": [
            "Detected person --> Age: 26 | Gender: {'Woman': np.float32(31.899267), 'Man': np.float32(68.10074)}\n",
            "Detected person --> Age: 35 | Gender: {'Woman': np.float32(9.327478), 'Man': np.float32(90.672516)}\n"
          ]
        },
        {
          "output_type": "stream",
          "name": "stderr",
          "text": [
            "Action: gender: 100%|██████████| 2/2 [00:00<00:00,  2.11it/s]\n",
            "Action: gender: 100%|██████████| 2/2 [00:00<00:00,  2.34it/s]\n"
          ]
        },
        {
          "output_type": "stream",
          "name": "stdout",
          "text": [
            "Detected person --> Age: 31 | Gender: {'Woman': np.float32(8.888665), 'Man': np.float32(91.111336)}\n",
            "Detected person --> Age: 27 | Gender: {'Woman': np.float32(34.887127), 'Man': np.float32(65.11287)}\n"
          ]
        },
        {
          "output_type": "stream",
          "name": "stderr",
          "text": [
            "Action: gender: 100%|██████████| 2/2 [00:00<00:00,  2.39it/s]\n",
            "Action: gender: 100%|██████████| 2/2 [00:00<00:00,  2.11it/s]\n"
          ]
        },
        {
          "output_type": "stream",
          "name": "stdout",
          "text": [
            "Detected person --> Age: 30 | Gender: {'Woman': np.float32(4.9431367), 'Man': np.float32(95.05687)}\n",
            "Detected person --> Age: 27 | Gender: {'Woman': np.float32(26.087513), 'Man': np.float32(73.91248)}\n"
          ]
        },
        {
          "output_type": "stream",
          "name": "stderr",
          "text": [
            "Action: gender: 100%|██████████| 2/2 [00:00<00:00,  2.11it/s]\n",
            "Action: gender: 100%|██████████| 2/2 [00:00<00:00,  2.30it/s]\n"
          ]
        },
        {
          "output_type": "stream",
          "name": "stdout",
          "text": [
            "Detected person --> Age: 34 | Gender: {'Woman': np.float32(6.3325157), 'Man': np.float32(93.66748)}\n",
            "Detected person --> Age: 28 | Gender: {'Woman': np.float32(30.709913), 'Man': np.float32(69.29009)}\n"
          ]
        },
        {
          "output_type": "stream",
          "name": "stderr",
          "text": [
            "Action: gender: 100%|██████████| 2/2 [00:00<00:00,  2.34it/s]\n",
            "Action: gender: 100%|██████████| 2/2 [00:00<00:00,  2.37it/s]\n"
          ]
        },
        {
          "output_type": "stream",
          "name": "stdout",
          "text": [
            "Detected person --> Age: 29 | Gender: {'Woman': np.float32(6.0938144), 'Man': np.float32(93.90619)}\n",
            "Detected person --> Age: 27 | Gender: {'Woman': np.float32(38.913544), 'Man': np.float32(61.086456)}\n"
          ]
        },
        {
          "output_type": "stream",
          "name": "stderr",
          "text": [
            "Action: gender: 100%|██████████| 2/2 [00:00<00:00,  2.13it/s]\n",
            "Action: gender: 100%|██████████| 2/2 [00:01<00:00,  1.76it/s]\n"
          ]
        },
        {
          "output_type": "stream",
          "name": "stdout",
          "text": [
            "Detected person --> Age: 29 | Gender: {'Woman': np.float32(4.1229672), 'Man': np.float32(95.87704)}\n",
            "Detected person --> Age: 26 | Gender: {'Woman': np.float32(20.736328), 'Man': np.float32(79.26367)}\n"
          ]
        },
        {
          "output_type": "stream",
          "name": "stderr",
          "text": [
            "Action: gender: 100%|██████████| 2/2 [00:00<00:00,  2.11it/s]\n",
            "Action: gender: 100%|██████████| 2/2 [00:00<00:00,  2.09it/s]\n"
          ]
        },
        {
          "output_type": "stream",
          "name": "stdout",
          "text": [
            "Detected person --> Age: 31 | Gender: {'Woman': np.float32(7.4874454), 'Man': np.float32(92.51255)}\n",
            "Detected person --> Age: 28 | Gender: {'Woman': np.float32(26.459003), 'Man': np.float32(73.541)}\n"
          ]
        },
        {
          "output_type": "stream",
          "name": "stderr",
          "text": [
            "Action: gender: 100%|██████████| 2/2 [00:00<00:00,  2.35it/s]\n",
            "Action: gender: 100%|██████████| 2/2 [00:00<00:00,  2.21it/s]\n"
          ]
        },
        {
          "output_type": "stream",
          "name": "stdout",
          "text": [
            "Detected person --> Age: 33 | Gender: {'Woman': np.float32(8.029365), 'Man': np.float32(91.97063)}\n",
            "Detected person --> Age: 27 | Gender: {'Woman': np.float32(32.01704), 'Man': np.float32(67.982956)}\n"
          ]
        },
        {
          "output_type": "stream",
          "name": "stderr",
          "text": [
            "Action: gender: 100%|██████████| 2/2 [00:00<00:00,  2.33it/s]\n",
            "Action: gender: 100%|██████████| 2/2 [00:00<00:00,  2.34it/s]\n"
          ]
        },
        {
          "output_type": "stream",
          "name": "stdout",
          "text": [
            "Detected person --> Age: 30 | Gender: {'Woman': np.float32(8.021289), 'Man': np.float32(91.97871)}\n",
            "Detected person --> Age: 28 | Gender: {'Woman': np.float32(27.666218), 'Man': np.float32(72.333786)}\n"
          ]
        },
        {
          "output_type": "stream",
          "name": "stderr",
          "text": [
            "Action: gender: 100%|██████████| 2/2 [00:00<00:00,  2.13it/s]\n",
            "Action: gender: 100%|██████████| 2/2 [00:00<00:00,  2.28it/s]\n"
          ]
        },
        {
          "output_type": "stream",
          "name": "stdout",
          "text": [
            "Detected person --> Age: 28 | Gender: {'Woman': np.float32(5.3085084), 'Man': np.float32(94.6915)}\n",
            "Detected person --> Age: 28 | Gender: {'Woman': np.float32(17.089273), 'Man': np.float32(82.91073)}\n"
          ]
        },
        {
          "output_type": "stream",
          "name": "stderr",
          "text": [
            "Action: gender: 100%|██████████| 2/2 [00:00<00:00,  2.37it/s]\n",
            "Action: gender: 100%|██████████| 2/2 [00:00<00:00,  2.37it/s]\n"
          ]
        },
        {
          "output_type": "stream",
          "name": "stdout",
          "text": [
            "Detected person --> Age: 28 | Gender: {'Woman': np.float32(7.2188454), 'Man': np.float32(92.78116)}\n",
            "Detected person --> Age: 30 | Gender: {'Woman': np.float32(22.175074), 'Man': np.float32(77.82493)}\n"
          ]
        },
        {
          "output_type": "stream",
          "name": "stderr",
          "text": [
            "Action: gender: 100%|██████████| 2/2 [00:00<00:00,  2.11it/s]\n",
            "Action: gender: 100%|██████████| 2/2 [00:01<00:00,  1.73it/s]\n"
          ]
        },
        {
          "output_type": "stream",
          "name": "stdout",
          "text": [
            "Detected person --> Age: 28 | Gender: {'Woman': np.float32(5.401052), 'Man': np.float32(94.598946)}\n",
            "Detected person --> Age: 27 | Gender: {'Woman': np.float32(18.27956), 'Man': np.float32(81.72044)}\n"
          ]
        },
        {
          "output_type": "stream",
          "name": "stderr",
          "text": [
            "Action: gender: 100%|██████████| 2/2 [00:00<00:00,  2.35it/s]\n",
            "Action: gender: 100%|██████████| 2/2 [00:00<00:00,  2.33it/s]\n"
          ]
        },
        {
          "output_type": "stream",
          "name": "stdout",
          "text": [
            "Detected person --> Age: 36 | Gender: {'Woman': np.float32(9.58622), 'Man': np.float32(90.41379)}\n",
            "Detected person --> Age: 30 | Gender: {'Woman': np.float32(18.631897), 'Man': np.float32(81.3681)}\n"
          ]
        },
        {
          "output_type": "stream",
          "name": "stderr",
          "text": [
            "Action: gender: 100%|██████████| 2/2 [00:00<00:00,  2.31it/s]\n",
            "Action: gender: 100%|██████████| 2/2 [00:00<00:00,  2.31it/s]\n"
          ]
        },
        {
          "output_type": "stream",
          "name": "stdout",
          "text": [
            "Detected person --> Age: 36 | Gender: {'Woman': np.float32(6.393581), 'Man': np.float32(93.60642)}\n",
            "Detected person --> Age: 28 | Gender: {'Woman': np.float32(17.216715), 'Man': np.float32(82.78328)}\n"
          ]
        },
        {
          "output_type": "stream",
          "name": "stderr",
          "text": [
            "Action: gender: 100%|██████████| 2/2 [00:00<00:00,  2.34it/s]\n"
          ]
        },
        {
          "output_type": "stream",
          "name": "stdout",
          "text": [
            "Detected person --> Age: 33 | Gender: {'Woman': np.float32(8.257823), 'Man': np.float32(91.74217)}\n"
          ]
        },
        {
          "output_type": "stream",
          "name": "stderr",
          "text": [
            "Action: gender: 100%|██████████| 2/2 [00:00<00:00,  2.35it/s]\n"
          ]
        },
        {
          "output_type": "stream",
          "name": "stdout",
          "text": [
            "Detected person --> Age: 30 | Gender: {'Woman': np.float32(12.825756), 'Man': np.float32(87.17424)}\n"
          ]
        },
        {
          "output_type": "stream",
          "name": "stderr",
          "text": [
            "Action: gender: 100%|██████████| 2/2 [00:00<00:00,  2.34it/s]\n"
          ]
        },
        {
          "output_type": "stream",
          "name": "stdout",
          "text": [
            "Detected person --> Age: 39 | Gender: {'Woman': np.float32(8.948025), 'Man': np.float32(91.05198)}\n"
          ]
        },
        {
          "output_type": "stream",
          "name": "stderr",
          "text": [
            "Action: gender: 100%|██████████| 2/2 [00:00<00:00,  2.33it/s]\n"
          ]
        },
        {
          "output_type": "stream",
          "name": "stdout",
          "text": [
            "Detected person --> Age: 39 | Gender: {'Woman': np.float32(8.780395), 'Man': np.float32(91.21961)}\n"
          ]
        },
        {
          "output_type": "stream",
          "name": "stderr",
          "text": [
            "Action: gender: 100%|██████████| 2/2 [00:00<00:00,  2.17it/s]\n"
          ]
        },
        {
          "output_type": "stream",
          "name": "stdout",
          "text": [
            "Detected person --> Age: 41 | Gender: {'Woman': np.float32(6.102861), 'Man': np.float32(93.89714)}\n"
          ]
        },
        {
          "output_type": "stream",
          "name": "stderr",
          "text": [
            "Action: gender: 100%|██████████| 2/2 [00:00<00:00,  2.38it/s]\n"
          ]
        },
        {
          "output_type": "stream",
          "name": "stdout",
          "text": [
            "Detected person --> Age: 39 | Gender: {'Woman': np.float32(8.245557), 'Man': np.float32(91.75445)}\n"
          ]
        },
        {
          "output_type": "stream",
          "name": "stderr",
          "text": [
            "Action: gender: 100%|██████████| 2/2 [00:01<00:00,  1.70it/s]\n"
          ]
        },
        {
          "output_type": "stream",
          "name": "stdout",
          "text": [
            "Detected person --> Age: 40 | Gender: {'Woman': np.float32(9.875133), 'Man': np.float32(90.12486)}\n"
          ]
        },
        {
          "output_type": "stream",
          "name": "stderr",
          "text": [
            "Action: gender: 100%|██████████| 2/2 [00:00<00:00,  2.26it/s]\n"
          ]
        },
        {
          "output_type": "stream",
          "name": "stdout",
          "text": [
            "Detected person --> Age: 41 | Gender: {'Woman': np.float32(11.100449), 'Man': np.float32(88.89955)}\n"
          ]
        },
        {
          "output_type": "stream",
          "name": "stderr",
          "text": [
            "Action: gender: 100%|██████████| 2/2 [00:00<00:00,  2.09it/s]\n"
          ]
        },
        {
          "output_type": "stream",
          "name": "stdout",
          "text": [
            "Detected person --> Age: 38 | Gender: {'Woman': np.float32(12.280339), 'Man': np.float32(87.71966)}\n"
          ]
        },
        {
          "output_type": "stream",
          "name": "stderr",
          "text": [
            "Action: gender: 100%|██████████| 2/2 [00:00<00:00,  2.14it/s]\n"
          ]
        },
        {
          "output_type": "stream",
          "name": "stdout",
          "text": [
            "Detected person --> Age: 37 | Gender: {'Woman': np.float32(10.974823), 'Man': np.float32(89.02518)}\n"
          ]
        },
        {
          "output_type": "stream",
          "name": "stderr",
          "text": [
            "Action: gender: 100%|██████████| 2/2 [00:00<00:00,  2.28it/s]\n"
          ]
        },
        {
          "output_type": "stream",
          "name": "stdout",
          "text": [
            "Detected person --> Age: 39 | Gender: {'Woman': np.float32(14.433421), 'Man': np.float32(85.566574)}\n"
          ]
        },
        {
          "output_type": "stream",
          "name": "stderr",
          "text": [
            "Action: gender: 100%|██████████| 2/2 [00:01<00:00,  1.85it/s]\n"
          ]
        },
        {
          "output_type": "stream",
          "name": "stdout",
          "text": [
            "Detected person --> Age: 38 | Gender: {'Woman': np.float32(11.802744), 'Man': np.float32(88.19726)}\n"
          ]
        },
        {
          "output_type": "stream",
          "name": "stderr",
          "text": [
            "Action: gender: 100%|██████████| 2/2 [00:01<00:00,  1.85it/s]\n"
          ]
        },
        {
          "output_type": "stream",
          "name": "stdout",
          "text": [
            "Detected person --> Age: 38 | Gender: {'Woman': np.float32(11.51192), 'Man': np.float32(88.488075)}\n"
          ]
        },
        {
          "output_type": "stream",
          "name": "stderr",
          "text": [
            "Action: gender: 100%|██████████| 2/2 [00:00<00:00,  2.15it/s]\n"
          ]
        },
        {
          "output_type": "stream",
          "name": "stdout",
          "text": [
            "Detected person --> Age: 35 | Gender: {'Woman': np.float32(12.669121), 'Man': np.float32(87.33089)}\n"
          ]
        },
        {
          "output_type": "stream",
          "name": "stderr",
          "text": [
            "Action: gender: 100%|██████████| 2/2 [00:00<00:00,  2.12it/s]\n"
          ]
        },
        {
          "output_type": "stream",
          "name": "stdout",
          "text": [
            "Detected person --> Age: 35 | Gender: {'Woman': np.float32(11.802634), 'Man': np.float32(88.197365)}\n"
          ]
        },
        {
          "output_type": "stream",
          "name": "stderr",
          "text": [
            "Action: gender: 100%|██████████| 2/2 [00:00<00:00,  2.18it/s]\n"
          ]
        },
        {
          "output_type": "stream",
          "name": "stdout",
          "text": [
            "Detected person --> Age: 35 | Gender: {'Woman': np.float32(11.815835), 'Man': np.float32(88.184166)}\n"
          ]
        },
        {
          "output_type": "stream",
          "name": "stderr",
          "text": [
            "Action: gender: 100%|██████████| 2/2 [00:01<00:00,  1.75it/s]\n"
          ]
        },
        {
          "output_type": "stream",
          "name": "stdout",
          "text": [
            "Detected person --> Age: 35 | Gender: {'Woman': np.float32(12.187295), 'Man': np.float32(87.812706)}\n"
          ]
        },
        {
          "output_type": "stream",
          "name": "stderr",
          "text": [
            "Action: gender: 100%|██████████| 2/2 [00:00<00:00,  2.04it/s]\n"
          ]
        },
        {
          "output_type": "stream",
          "name": "stdout",
          "text": [
            "Detected person --> Age: 35 | Gender: {'Woman': np.float32(11.920838), 'Man': np.float32(88.07916)}\n"
          ]
        },
        {
          "output_type": "stream",
          "name": "stderr",
          "text": [
            "Action: gender: 100%|██████████| 2/2 [00:00<00:00,  2.21it/s]\n"
          ]
        },
        {
          "output_type": "stream",
          "name": "stdout",
          "text": [
            "Detected person --> Age: 35 | Gender: {'Woman': np.float32(12.137632), 'Man': np.float32(87.86237)}\n"
          ]
        },
        {
          "output_type": "stream",
          "name": "stderr",
          "text": [
            "Action: gender: 100%|██████████| 2/2 [00:00<00:00,  2.22it/s]\n"
          ]
        },
        {
          "output_type": "stream",
          "name": "stdout",
          "text": [
            "Detected person --> Age: 35 | Gender: {'Woman': np.float32(11.997995), 'Man': np.float32(88.002)}\n"
          ]
        },
        {
          "output_type": "stream",
          "name": "stderr",
          "text": [
            "Action: gender: 100%|██████████| 2/2 [00:00<00:00,  2.33it/s]\n"
          ]
        },
        {
          "output_type": "stream",
          "name": "stdout",
          "text": [
            "Detected person --> Age: 35 | Gender: {'Woman': np.float32(12.131911), 'Man': np.float32(87.86809)}\n"
          ]
        },
        {
          "output_type": "stream",
          "name": "stderr",
          "text": [
            "Action: gender: 100%|██████████| 2/2 [00:00<00:00,  2.36it/s]\n"
          ]
        },
        {
          "output_type": "stream",
          "name": "stdout",
          "text": [
            "Detected person --> Age: 35 | Gender: {'Woman': np.float32(11.956896), 'Man': np.float32(88.043106)}\n"
          ]
        },
        {
          "output_type": "stream",
          "name": "stderr",
          "text": [
            "Action: gender: 100%|██████████| 2/2 [00:00<00:00,  2.38it/s]\n"
          ]
        },
        {
          "output_type": "stream",
          "name": "stdout",
          "text": [
            "Detected person --> Age: 35 | Gender: {'Woman': np.float32(12.1854925), 'Man': np.float32(87.81451)}\n"
          ]
        },
        {
          "output_type": "stream",
          "name": "stderr",
          "text": [
            "Action: gender: 100%|██████████| 2/2 [00:00<00:00,  2.37it/s]\n"
          ]
        },
        {
          "output_type": "stream",
          "name": "stdout",
          "text": [
            "Detected person --> Age: 35 | Gender: {'Woman': np.float32(12.119604), 'Man': np.float32(87.880394)}\n"
          ]
        },
        {
          "output_type": "stream",
          "name": "stderr",
          "text": [
            "Action: gender: 100%|██████████| 2/2 [00:00<00:00,  2.26it/s]\n"
          ]
        },
        {
          "output_type": "stream",
          "name": "stdout",
          "text": [
            "Detected person --> Age: 35 | Gender: {'Woman': np.float32(12.133452), 'Man': np.float32(87.866554)}\n"
          ]
        },
        {
          "output_type": "stream",
          "name": "stderr",
          "text": [
            "Action: gender: 100%|██████████| 2/2 [00:00<00:00,  2.08it/s]\n"
          ]
        },
        {
          "output_type": "stream",
          "name": "stdout",
          "text": [
            "Detected person --> Age: 35 | Gender: {'Woman': np.float32(12.08312), 'Man': np.float32(87.91688)}\n"
          ]
        },
        {
          "output_type": "stream",
          "name": "stderr",
          "text": [
            "Action: gender: 100%|██████████| 2/2 [00:00<00:00,  2.12it/s]\n"
          ]
        },
        {
          "output_type": "stream",
          "name": "stdout",
          "text": [
            "Detected person --> Age: 35 | Gender: {'Woman': np.float32(12.407949), 'Man': np.float32(87.59205)}\n"
          ]
        },
        {
          "output_type": "stream",
          "name": "stderr",
          "text": [
            "Action: gender: 100%|██████████| 2/2 [00:01<00:00,  1.69it/s]\n"
          ]
        },
        {
          "output_type": "stream",
          "name": "stdout",
          "text": [
            "Detected person --> Age: 36 | Gender: {'Woman': np.float32(12.620643), 'Man': np.float32(87.379364)}\n"
          ]
        },
        {
          "output_type": "stream",
          "name": "stderr",
          "text": [
            "Action: gender: 100%|██████████| 2/2 [00:01<00:00,  1.85it/s]\n"
          ]
        },
        {
          "output_type": "stream",
          "name": "stdout",
          "text": [
            "Detected person --> Age: 36 | Gender: {'Woman': np.float32(12.695074), 'Man': np.float32(87.304924)}\n"
          ]
        },
        {
          "output_type": "stream",
          "name": "stderr",
          "text": [
            "Action: gender: 100%|██████████| 2/2 [00:00<00:00,  2.15it/s]\n"
          ]
        },
        {
          "output_type": "stream",
          "name": "stdout",
          "text": [
            "Detected person --> Age: 35 | Gender: {'Woman': np.float32(12.307221), 'Man': np.float32(87.69278)}\n"
          ]
        },
        {
          "output_type": "stream",
          "name": "stderr",
          "text": [
            "Action: gender: 100%|██████████| 2/2 [00:00<00:00,  2.13it/s]\n"
          ]
        },
        {
          "output_type": "stream",
          "name": "stdout",
          "text": [
            "Detected person --> Age: 35 | Gender: {'Woman': np.float32(12.111846), 'Man': np.float32(87.88816)}\n"
          ]
        },
        {
          "output_type": "stream",
          "name": "stderr",
          "text": [
            "Action: gender: 100%|██████████| 2/2 [00:00<00:00,  2.05it/s]\n"
          ]
        },
        {
          "output_type": "stream",
          "name": "stdout",
          "text": [
            "Detected person --> Age: 35 | Gender: {'Woman': np.float32(12.0943365), 'Man': np.float32(87.90566)}\n"
          ]
        },
        {
          "output_type": "stream",
          "name": "stderr",
          "text": [
            "Action: gender: 100%|██████████| 2/2 [00:00<00:00,  2.31it/s]\n"
          ]
        },
        {
          "output_type": "stream",
          "name": "stdout",
          "text": [
            "Detected person --> Age: 35 | Gender: {'Woman': np.float32(12.481378), 'Man': np.float32(87.51862)}\n"
          ]
        },
        {
          "output_type": "stream",
          "name": "stderr",
          "text": [
            "Action: gender: 100%|██████████| 2/2 [00:00<00:00,  2.37it/s]\n"
          ]
        },
        {
          "output_type": "stream",
          "name": "stdout",
          "text": [
            "Detected person --> Age: 35 | Gender: {'Woman': np.float32(12.403681), 'Man': np.float32(87.59632)}\n"
          ]
        },
        {
          "output_type": "stream",
          "name": "stderr",
          "text": [
            "Action: gender: 100%|██████████| 2/2 [00:00<00:00,  2.38it/s]\n"
          ]
        },
        {
          "output_type": "stream",
          "name": "stdout",
          "text": [
            "Detected person --> Age: 35 | Gender: {'Woman': np.float32(12.504774), 'Man': np.float32(87.495224)}\n"
          ]
        },
        {
          "output_type": "stream",
          "name": "stderr",
          "text": [
            "Action: gender: 100%|██████████| 2/2 [00:00<00:00,  2.35it/s]\n"
          ]
        },
        {
          "output_type": "stream",
          "name": "stdout",
          "text": [
            "Detected person --> Age: 35 | Gender: {'Woman': np.float32(12.549442), 'Man': np.float32(87.45056)}\n"
          ]
        },
        {
          "output_type": "stream",
          "name": "stderr",
          "text": [
            "Action: gender: 100%|██████████| 2/2 [00:00<00:00,  2.36it/s]\n"
          ]
        },
        {
          "output_type": "stream",
          "name": "stdout",
          "text": [
            "Detected person --> Age: 35 | Gender: {'Woman': np.float32(12.700997), 'Man': np.float32(87.299)}\n"
          ]
        },
        {
          "output_type": "stream",
          "name": "stderr",
          "text": [
            "Action: gender: 100%|██████████| 2/2 [00:00<00:00,  2.17it/s]\n"
          ]
        },
        {
          "output_type": "stream",
          "name": "stdout",
          "text": [
            "Detected person --> Age: 35 | Gender: {'Woman': np.float32(12.619692), 'Man': np.float32(87.3803)}\n"
          ]
        },
        {
          "output_type": "stream",
          "name": "stderr",
          "text": [
            "Action: gender: 100%|██████████| 2/2 [00:01<00:00,  1.67it/s]\n"
          ]
        },
        {
          "output_type": "stream",
          "name": "stdout",
          "text": [
            "Detected person --> Age: 35 | Gender: {'Woman': np.float32(12.516382), 'Man': np.float32(87.48361)}\n"
          ]
        },
        {
          "output_type": "stream",
          "name": "stderr",
          "text": [
            "Action: gender: 100%|██████████| 2/2 [00:01<00:00,  1.89it/s]\n"
          ]
        },
        {
          "output_type": "stream",
          "name": "stdout",
          "text": [
            "Detected person --> Age: 35 | Gender: {'Woman': np.float32(12.449669), 'Man': np.float32(87.55033)}\n"
          ]
        },
        {
          "output_type": "stream",
          "name": "stderr",
          "text": [
            "Action: gender: 100%|██████████| 2/2 [00:00<00:00,  2.25it/s]\n"
          ]
        },
        {
          "output_type": "stream",
          "name": "stdout",
          "text": [
            "Detected person --> Age: 35 | Gender: {'Woman': np.float32(12.611705), 'Man': np.float32(87.3883)}\n"
          ]
        },
        {
          "output_type": "stream",
          "name": "stderr",
          "text": [
            "Action: gender: 100%|██████████| 2/2 [00:00<00:00,  2.35it/s]\n"
          ]
        },
        {
          "output_type": "stream",
          "name": "stdout",
          "text": [
            "Detected person --> Age: 35 | Gender: {'Woman': np.float32(12.565533), 'Man': np.float32(87.43447)}\n"
          ]
        },
        {
          "output_type": "stream",
          "name": "stderr",
          "text": [
            "Action: gender: 100%|██████████| 2/2 [00:00<00:00,  2.37it/s]\n"
          ]
        },
        {
          "output_type": "stream",
          "name": "stdout",
          "text": [
            "Detected person --> Age: 35 | Gender: {'Woman': np.float32(12.681659), 'Man': np.float32(87.31834)}\n"
          ]
        },
        {
          "output_type": "stream",
          "name": "stderr",
          "text": [
            "Action: gender: 100%|██████████| 2/2 [00:00<00:00,  2.15it/s]\n"
          ]
        },
        {
          "output_type": "stream",
          "name": "stdout",
          "text": [
            "Detected person --> Age: 36 | Gender: {'Woman': np.float32(12.652601), 'Man': np.float32(87.3474)}\n"
          ]
        },
        {
          "output_type": "stream",
          "name": "stderr",
          "text": [
            "Action: gender: 100%|██████████| 2/2 [00:00<00:00,  2.28it/s]\n"
          ]
        },
        {
          "output_type": "stream",
          "name": "stdout",
          "text": [
            "Detected person --> Age: 35 | Gender: {'Woman': np.float32(12.590366), 'Man': np.float32(87.40963)}\n"
          ]
        },
        {
          "output_type": "stream",
          "name": "stderr",
          "text": [
            "Action: gender: 100%|██████████| 2/2 [00:00<00:00,  2.34it/s]\n"
          ]
        },
        {
          "output_type": "stream",
          "name": "stdout",
          "text": [
            "Detected person --> Age: 35 | Gender: {'Woman': np.float32(12.733427), 'Man': np.float32(87.26658)}\n"
          ]
        },
        {
          "output_type": "stream",
          "name": "stderr",
          "text": [
            "Action: gender: 100%|██████████| 2/2 [00:00<00:00,  2.36it/s]\n"
          ]
        },
        {
          "output_type": "stream",
          "name": "stdout",
          "text": [
            "Detected person --> Age: 35 | Gender: {'Woman': np.float32(12.632286), 'Man': np.float32(87.36772)}\n"
          ]
        },
        {
          "output_type": "stream",
          "name": "stderr",
          "text": [
            "Action: gender: 100%|██████████| 2/2 [00:00<00:00,  2.38it/s]\n"
          ]
        },
        {
          "output_type": "stream",
          "name": "stdout",
          "text": [
            "Detected person --> Age: 35 | Gender: {'Woman': np.float32(12.765808), 'Man': np.float32(87.234184)}\n"
          ]
        },
        {
          "output_type": "stream",
          "name": "stderr",
          "text": [
            "Action: gender: 100%|██████████| 2/2 [00:00<00:00,  2.36it/s]\n"
          ]
        },
        {
          "output_type": "stream",
          "name": "stdout",
          "text": [
            "Detected person --> Age: 35 | Gender: {'Woman': np.float32(12.481171), 'Man': np.float32(87.51883)}\n"
          ]
        },
        {
          "output_type": "stream",
          "name": "stderr",
          "text": [
            "Action: gender: 100%|██████████| 2/2 [00:01<00:00,  1.72it/s]\n"
          ]
        },
        {
          "output_type": "stream",
          "name": "stdout",
          "text": [
            "Detected person --> Age: 36 | Gender: {'Woman': np.float32(12.709472), 'Man': np.float32(87.290535)}\n"
          ]
        },
        {
          "output_type": "stream",
          "name": "stderr",
          "text": [
            "Action: gender: 100%|██████████| 2/2 [00:01<00:00,  2.00it/s]\n"
          ]
        },
        {
          "output_type": "stream",
          "name": "stdout",
          "text": [
            "Detected person --> Age: 35 | Gender: {'Woman': np.float32(12.62334), 'Man': np.float32(87.37666)}\n"
          ]
        },
        {
          "output_type": "stream",
          "name": "stderr",
          "text": [
            "Action: gender: 100%|██████████| 2/2 [00:00<00:00,  2.15it/s]\n"
          ]
        },
        {
          "output_type": "stream",
          "name": "stdout",
          "text": [
            "Detected person --> Age: 35 | Gender: {'Woman': np.float32(12.845212), 'Man': np.float32(87.154785)}\n"
          ]
        },
        {
          "output_type": "stream",
          "name": "stderr",
          "text": [
            "Action: gender: 100%|██████████| 2/2 [00:00<00:00,  2.15it/s]\n"
          ]
        },
        {
          "output_type": "stream",
          "name": "stdout",
          "text": [
            "Detected person --> Age: 35 | Gender: {'Woman': np.float32(12.717205), 'Man': np.float32(87.28279)}\n"
          ]
        },
        {
          "output_type": "stream",
          "name": "stderr",
          "text": [
            "Action: gender: 100%|██████████| 2/2 [00:00<00:00,  2.28it/s]\n"
          ]
        },
        {
          "output_type": "stream",
          "name": "stdout",
          "text": [
            "Detected person --> Age: 36 | Gender: {'Woman': np.float32(12.856465), 'Man': np.float32(87.14353)}\n"
          ]
        },
        {
          "output_type": "stream",
          "name": "stderr",
          "text": [
            "Action: gender: 100%|██████████| 2/2 [00:00<00:00,  2.17it/s]\n"
          ]
        },
        {
          "output_type": "stream",
          "name": "stdout",
          "text": [
            "Detected person --> Age: 35 | Gender: {'Woman': np.float32(12.527137), 'Man': np.float32(87.47286)}\n"
          ]
        },
        {
          "output_type": "stream",
          "name": "stderr",
          "text": [
            "Action: gender: 100%|██████████| 2/2 [00:00<00:00,  2.31it/s]\n"
          ]
        },
        {
          "output_type": "stream",
          "name": "stdout",
          "text": [
            "Detected person --> Age: 35 | Gender: {'Woman': np.float32(12.662789), 'Man': np.float32(87.337204)}\n"
          ]
        },
        {
          "output_type": "stream",
          "name": "stderr",
          "text": [
            "Action: gender: 100%|██████████| 2/2 [00:00<00:00,  2.13it/s]\n"
          ]
        },
        {
          "output_type": "stream",
          "name": "stdout",
          "text": [
            "Detected person --> Age: 35 | Gender: {'Woman': np.float32(12.562208), 'Man': np.float32(87.4378)}\n"
          ]
        },
        {
          "output_type": "stream",
          "name": "stderr",
          "text": [
            "Action: gender: 100%|██████████| 2/2 [00:00<00:00,  2.14it/s]\n"
          ]
        },
        {
          "output_type": "stream",
          "name": "stdout",
          "text": [
            "Detected person --> Age: 35 | Gender: {'Woman': np.float32(12.824472), 'Man': np.float32(87.17552)}\n"
          ]
        },
        {
          "output_type": "stream",
          "name": "stderr",
          "text": [
            "Action: gender: 100%|██████████| 2/2 [00:00<00:00,  2.19it/s]\n"
          ]
        },
        {
          "output_type": "stream",
          "name": "stdout",
          "text": [
            "Detected person --> Age: 36 | Gender: {'Woman': np.float32(12.80555), 'Man': np.float32(87.19445)}\n"
          ]
        },
        {
          "output_type": "stream",
          "name": "stderr",
          "text": [
            "Action: gender: 100%|██████████| 2/2 [00:00<00:00,  2.27it/s]\n"
          ]
        },
        {
          "output_type": "stream",
          "name": "stdout",
          "text": [
            "Detected person --> Age: 36 | Gender: {'Woman': np.float32(12.716558), 'Man': np.float32(87.28344)}\n"
          ]
        },
        {
          "output_type": "stream",
          "name": "stderr",
          "text": [
            "Action: gender: 100%|██████████| 2/2 [00:01<00:00,  1.68it/s]\n"
          ]
        },
        {
          "output_type": "stream",
          "name": "stdout",
          "text": [
            "Detected person --> Age: 35 | Gender: {'Woman': np.float32(12.732317), 'Man': np.float32(87.267685)}\n"
          ]
        },
        {
          "output_type": "stream",
          "name": "stderr",
          "text": [
            "Action: gender: 100%|██████████| 2/2 [00:01<00:00,  1.99it/s]\n"
          ]
        },
        {
          "output_type": "stream",
          "name": "stdout",
          "text": [
            "Detected person --> Age: 35 | Gender: {'Woman': np.float32(12.759463), 'Man': np.float32(87.24053)}\n"
          ]
        },
        {
          "output_type": "stream",
          "name": "stderr",
          "text": [
            "Action: gender: 100%|██████████| 2/2 [00:00<00:00,  2.12it/s]\n"
          ]
        },
        {
          "output_type": "stream",
          "name": "stdout",
          "text": [
            "Detected person --> Age: 35 | Gender: {'Woman': np.float32(12.470309), 'Man': np.float32(87.529686)}\n"
          ]
        },
        {
          "output_type": "stream",
          "name": "stderr",
          "text": [
            "Action: gender: 100%|██████████| 2/2 [00:00<00:00,  2.32it/s]\n"
          ]
        },
        {
          "output_type": "stream",
          "name": "stdout",
          "text": [
            "Detected person --> Age: 35 | Gender: {'Woman': np.float32(12.661552), 'Man': np.float32(87.33845)}\n"
          ]
        },
        {
          "output_type": "stream",
          "name": "stderr",
          "text": [
            "Action: gender: 100%|██████████| 2/2 [00:00<00:00,  2.35it/s]\n"
          ]
        },
        {
          "output_type": "stream",
          "name": "stdout",
          "text": [
            "Detected person --> Age: 36 | Gender: {'Woman': np.float32(12.6032715), 'Man': np.float32(87.39673)}\n"
          ]
        },
        {
          "output_type": "stream",
          "name": "stderr",
          "text": [
            "Action: gender: 100%|██████████| 2/2 [00:00<00:00,  2.17it/s]\n"
          ]
        },
        {
          "output_type": "stream",
          "name": "stdout",
          "text": [
            "Detected person --> Age: 36 | Gender: {'Woman': np.float32(12.760944), 'Man': np.float32(87.23906)}\n"
          ]
        },
        {
          "output_type": "stream",
          "name": "stderr",
          "text": [
            "Action: gender: 100%|██████████| 2/2 [00:00<00:00,  2.06it/s]\n"
          ]
        },
        {
          "output_type": "stream",
          "name": "stdout",
          "text": [
            "Detected person --> Age: 35 | Gender: {'Woman': np.float32(12.640351), 'Man': np.float32(87.35965)}\n"
          ]
        },
        {
          "output_type": "stream",
          "name": "stderr",
          "text": [
            "Action: gender: 100%|██████████| 2/2 [00:00<00:00,  2.35it/s]\n"
          ]
        },
        {
          "output_type": "stream",
          "name": "stdout",
          "text": [
            "Detected person --> Age: 36 | Gender: {'Woman': np.float32(12.695604), 'Man': np.float32(87.3044)}\n"
          ]
        },
        {
          "output_type": "stream",
          "name": "stderr",
          "text": [
            "Action: gender: 100%|██████████| 2/2 [00:00<00:00,  2.32it/s]\n"
          ]
        },
        {
          "output_type": "stream",
          "name": "stdout",
          "text": [
            "Detected person --> Age: 35 | Gender: {'Woman': np.float32(12.491373), 'Man': np.float32(87.50863)}\n"
          ]
        },
        {
          "output_type": "stream",
          "name": "stderr",
          "text": [
            "Action: gender: 100%|██████████| 2/2 [00:00<00:00,  2.35it/s]\n"
          ]
        },
        {
          "output_type": "stream",
          "name": "stdout",
          "text": [
            "Detected person --> Age: 35 | Gender: {'Woman': np.float32(12.593065), 'Man': np.float32(87.40694)}\n"
          ]
        },
        {
          "output_type": "stream",
          "name": "stderr",
          "text": [
            "Action: gender: 100%|██████████| 2/2 [00:00<00:00,  2.22it/s]\n"
          ]
        },
        {
          "output_type": "stream",
          "name": "stdout",
          "text": [
            "Detected person --> Age: 35 | Gender: {'Woman': np.float32(12.579492), 'Man': np.float32(87.42051)}\n"
          ]
        },
        {
          "output_type": "stream",
          "name": "stderr",
          "text": [
            "Action: gender: 100%|██████████| 2/2 [00:01<00:00,  1.60it/s]\n"
          ]
        },
        {
          "output_type": "stream",
          "name": "stdout",
          "text": [
            "Detected person --> Age: 35 | Gender: {'Woman': np.float32(12.564899), 'Man': np.float32(87.43511)}\n"
          ]
        },
        {
          "output_type": "stream",
          "name": "stderr",
          "text": [
            "Action: gender: 100%|██████████| 2/2 [00:00<00:00,  2.18it/s]\n"
          ]
        },
        {
          "output_type": "stream",
          "name": "stdout",
          "text": [
            "Detected person --> Age: 35 | Gender: {'Woman': np.float32(12.725979), 'Man': np.float32(87.27402)}\n"
          ]
        },
        {
          "output_type": "stream",
          "name": "stderr",
          "text": [
            "Action: gender: 100%|██████████| 2/2 [00:00<00:00,  2.37it/s]\n"
          ]
        },
        {
          "output_type": "stream",
          "name": "stdout",
          "text": [
            "Detected person --> Age: 35 | Gender: {'Woman': np.float32(12.666262), 'Man': np.float32(87.33374)}\n"
          ]
        },
        {
          "output_type": "stream",
          "name": "stderr",
          "text": [
            "Action: gender: 100%|██████████| 2/2 [00:00<00:00,  2.37it/s]\n"
          ]
        },
        {
          "output_type": "stream",
          "name": "stdout",
          "text": [
            "Detected person --> Age: 35 | Gender: {'Woman': np.float32(12.677402), 'Man': np.float32(87.3226)}\n"
          ]
        },
        {
          "output_type": "stream",
          "name": "stderr",
          "text": [
            "Action: gender: 100%|██████████| 2/2 [00:00<00:00,  2.36it/s]\n"
          ]
        },
        {
          "output_type": "stream",
          "name": "stdout",
          "text": [
            "Detected person --> Age: 35 | Gender: {'Woman': np.float32(12.785853), 'Man': np.float32(87.21415)}\n"
          ]
        },
        {
          "output_type": "stream",
          "name": "stderr",
          "text": [
            "Action: gender: 100%|██████████| 2/2 [00:00<00:00,  2.37it/s]\n"
          ]
        },
        {
          "output_type": "stream",
          "name": "stdout",
          "text": [
            "Detected person --> Age: 36 | Gender: {'Woman': np.float32(12.785405), 'Man': np.float32(87.21459)}\n"
          ]
        },
        {
          "output_type": "stream",
          "name": "stderr",
          "text": [
            "Action: gender: 100%|██████████| 2/2 [00:00<00:00,  2.36it/s]\n"
          ]
        },
        {
          "output_type": "stream",
          "name": "stdout",
          "text": [
            "Detected person --> Age: 36 | Gender: {'Woman': np.float32(12.707041), 'Man': np.float32(87.29295)}\n"
          ]
        },
        {
          "output_type": "stream",
          "name": "stderr",
          "text": [
            "Action: gender: 100%|██████████| 2/2 [00:00<00:00,  2.35it/s]\n"
          ]
        },
        {
          "output_type": "stream",
          "name": "stdout",
          "text": [
            "Detected person --> Age: 36 | Gender: {'Woman': np.float32(12.818087), 'Man': np.float32(87.181915)}\n"
          ]
        },
        {
          "output_type": "stream",
          "name": "stderr",
          "text": [
            "Action: gender: 100%|██████████| 2/2 [00:00<00:00,  2.25it/s]\n"
          ]
        },
        {
          "output_type": "stream",
          "name": "stdout",
          "text": [
            "Detected person --> Age: 35 | Gender: {'Woman': np.float32(12.811729), 'Man': np.float32(87.18827)}\n"
          ]
        },
        {
          "output_type": "stream",
          "name": "stderr",
          "text": [
            "Action: gender: 100%|██████████| 2/2 [00:00<00:00,  2.11it/s]\n"
          ]
        },
        {
          "output_type": "stream",
          "name": "stdout",
          "text": [
            "Detected person --> Age: 35 | Gender: {'Woman': np.float32(12.691729), 'Man': np.float32(87.30827)}\n"
          ]
        },
        {
          "output_type": "stream",
          "name": "stderr",
          "text": [
            "Action: gender: 100%|██████████| 2/2 [00:00<00:00,  2.24it/s]\n"
          ]
        },
        {
          "output_type": "stream",
          "name": "stdout",
          "text": [
            "Detected person --> Age: 35 | Gender: {'Woman': np.float32(12.657494), 'Man': np.float32(87.342514)}\n"
          ]
        },
        {
          "output_type": "stream",
          "name": "stderr",
          "text": [
            "Action: gender: 100%|██████████| 2/2 [00:01<00:00,  1.86it/s]\n"
          ]
        },
        {
          "output_type": "stream",
          "name": "stdout",
          "text": [
            "Detected person --> Age: 35 | Gender: {'Woman': np.float32(12.5702915), 'Man': np.float32(87.42971)}\n"
          ]
        },
        {
          "output_type": "stream",
          "name": "stderr",
          "text": [
            "Action: gender: 100%|██████████| 2/2 [00:01<00:00,  1.82it/s]\n"
          ]
        },
        {
          "output_type": "stream",
          "name": "stdout",
          "text": [
            "Detected person --> Age: 36 | Gender: {'Woman': np.float32(12.794371), 'Man': np.float32(87.20563)}\n"
          ]
        },
        {
          "output_type": "stream",
          "name": "stderr",
          "text": [
            "Action: gender: 100%|██████████| 2/2 [00:00<00:00,  2.17it/s]\n"
          ]
        },
        {
          "output_type": "stream",
          "name": "stdout",
          "text": [
            "Detected person --> Age: 35 | Gender: {'Woman': np.float32(12.59226), 'Man': np.float32(87.40774)}\n"
          ]
        },
        {
          "output_type": "stream",
          "name": "stderr",
          "text": [
            "Action: gender: 100%|██████████| 2/2 [00:00<00:00,  2.10it/s]\n"
          ]
        },
        {
          "output_type": "stream",
          "name": "stdout",
          "text": [
            "Detected person --> Age: 35 | Gender: {'Woman': np.float32(12.68259), 'Man': np.float32(87.317406)}\n"
          ]
        },
        {
          "output_type": "stream",
          "name": "stderr",
          "text": [
            "Action: gender: 100%|██████████| 2/2 [00:00<00:00,  2.11it/s]\n"
          ]
        },
        {
          "output_type": "stream",
          "name": "stdout",
          "text": [
            "Detected person --> Age: 35 | Gender: {'Woman': np.float32(12.520986), 'Man': np.float32(87.47902)}\n"
          ]
        },
        {
          "output_type": "stream",
          "name": "stderr",
          "text": [
            "Action: gender: 100%|██████████| 2/2 [00:00<00:00,  2.40it/s]\n"
          ]
        },
        {
          "output_type": "stream",
          "name": "stdout",
          "text": [
            "Detected person --> Age: 35 | Gender: {'Woman': np.float32(12.714217), 'Man': np.float32(87.28578)}\n"
          ]
        },
        {
          "output_type": "stream",
          "name": "stderr",
          "text": [
            "Action: gender: 100%|██████████| 2/2 [00:00<00:00,  2.35it/s]\n"
          ]
        },
        {
          "output_type": "stream",
          "name": "stdout",
          "text": [
            "Detected person --> Age: 35 | Gender: {'Woman': np.float32(12.726535), 'Man': np.float32(87.27347)}\n"
          ]
        },
        {
          "output_type": "stream",
          "name": "stderr",
          "text": [
            "Action: gender: 100%|██████████| 2/2 [00:00<00:00,  2.38it/s]\n"
          ]
        },
        {
          "output_type": "stream",
          "name": "stdout",
          "text": [
            "Detected person --> Age: 35 | Gender: {'Woman': np.float32(12.718654), 'Man': np.float32(87.28135)}\n"
          ]
        },
        {
          "output_type": "stream",
          "name": "stderr",
          "text": [
            "Action: gender: 100%|██████████| 2/2 [00:00<00:00,  2.37it/s]\n"
          ]
        },
        {
          "output_type": "stream",
          "name": "stdout",
          "text": [
            "Detected person --> Age: 35 | Gender: {'Woman': np.float32(12.738238), 'Man': np.float32(87.261765)}\n"
          ]
        },
        {
          "output_type": "stream",
          "name": "stderr",
          "text": [
            "Action: gender: 100%|██████████| 2/2 [00:00<00:00,  2.38it/s]\n"
          ]
        },
        {
          "output_type": "stream",
          "name": "stdout",
          "text": [
            "Detected person --> Age: 35 | Gender: {'Woman': np.float32(12.733753), 'Man': np.float32(87.26625)}\n"
          ]
        },
        {
          "output_type": "stream",
          "name": "stderr",
          "text": [
            "Action: gender: 100%|██████████| 2/2 [00:00<00:00,  2.10it/s]\n"
          ]
        },
        {
          "output_type": "stream",
          "name": "stdout",
          "text": [
            "Detected person --> Age: 35 | Gender: {'Woman': np.float32(12.728405), 'Man': np.float32(87.27159)}\n"
          ]
        },
        {
          "output_type": "stream",
          "name": "stderr",
          "text": [
            "Action: gender: 100%|██████████| 2/2 [00:01<00:00,  1.68it/s]\n"
          ]
        },
        {
          "output_type": "stream",
          "name": "stdout",
          "text": [
            "Detected person --> Age: 35 | Gender: {'Woman': np.float32(12.724924), 'Man': np.float32(87.27508)}\n"
          ]
        },
        {
          "output_type": "stream",
          "name": "stderr",
          "text": [
            "Action: gender: 100%|██████████| 2/2 [00:00<00:00,  2.01it/s]\n"
          ]
        },
        {
          "output_type": "stream",
          "name": "stdout",
          "text": [
            "Detected person --> Age: 35 | Gender: {'Woman': np.float32(12.7262335), 'Man': np.float32(87.27377)}\n"
          ]
        },
        {
          "output_type": "stream",
          "name": "stderr",
          "text": [
            "Action: gender: 100%|██████████| 2/2 [00:00<00:00,  2.10it/s]\n"
          ]
        },
        {
          "output_type": "stream",
          "name": "stdout",
          "text": [
            "Detected person --> Age: 35 | Gender: {'Woman': np.float32(12.559767), 'Man': np.float32(87.44023)}\n"
          ]
        },
        {
          "output_type": "stream",
          "name": "stderr",
          "text": [
            "Action: gender: 100%|██████████| 2/2 [00:00<00:00,  2.11it/s]\n"
          ]
        },
        {
          "output_type": "stream",
          "name": "stdout",
          "text": [
            "Detected person --> Age: 35 | Gender: {'Woman': np.float32(12.5160265), 'Man': np.float32(87.48397)}\n"
          ]
        },
        {
          "output_type": "stream",
          "name": "stderr",
          "text": [
            "Action: gender: 100%|██████████| 2/2 [00:00<00:00,  2.13it/s]\n"
          ]
        },
        {
          "output_type": "stream",
          "name": "stdout",
          "text": [
            "Detected person --> Age: 35 | Gender: {'Woman': np.float32(12.618041), 'Man': np.float32(87.38196)}\n"
          ]
        },
        {
          "output_type": "stream",
          "name": "stderr",
          "text": [
            "Action: gender: 100%|██████████| 2/2 [00:00<00:00,  2.24it/s]\n"
          ]
        },
        {
          "output_type": "stream",
          "name": "stdout",
          "text": [
            "Detected person --> Age: 36 | Gender: {'Woman': np.float32(12.694266), 'Man': np.float32(87.30573)}\n"
          ]
        },
        {
          "output_type": "stream",
          "name": "stderr",
          "text": [
            "Action: gender: 100%|██████████| 2/2 [00:00<00:00,  2.20it/s]\n"
          ]
        },
        {
          "output_type": "stream",
          "name": "stdout",
          "text": [
            "Detected person --> Age: 36 | Gender: {'Woman': np.float32(12.648357), 'Man': np.float32(87.35165)}\n"
          ]
        },
        {
          "output_type": "stream",
          "name": "stderr",
          "text": [
            "Action: gender: 100%|██████████| 2/2 [00:00<00:00,  2.28it/s]\n"
          ]
        },
        {
          "output_type": "stream",
          "name": "stdout",
          "text": [
            "Detected person --> Age: 35 | Gender: {'Woman': np.float32(12.572598), 'Man': np.float32(87.42741)}\n"
          ]
        },
        {
          "output_type": "stream",
          "name": "stderr",
          "text": [
            "Action: gender: 100%|██████████| 2/2 [00:00<00:00,  2.12it/s]\n"
          ]
        },
        {
          "output_type": "stream",
          "name": "stdout",
          "text": [
            "Detected person --> Age: 35 | Gender: {'Woman': np.float32(12.772865), 'Man': np.float32(87.22713)}\n"
          ]
        },
        {
          "output_type": "stream",
          "name": "stderr",
          "text": [
            "Action: gender: 100%|██████████| 2/2 [00:00<00:00,  2.13it/s]\n"
          ]
        },
        {
          "output_type": "stream",
          "name": "stdout",
          "text": [
            "Detected person --> Age: 35 | Gender: {'Woman': np.float32(12.475474), 'Man': np.float32(87.52453)}\n"
          ]
        },
        {
          "output_type": "stream",
          "name": "stderr",
          "text": [
            "Action: gender: 100%|██████████| 2/2 [00:00<00:00,  2.13it/s]\n"
          ]
        },
        {
          "output_type": "stream",
          "name": "stdout",
          "text": [
            "Detected person --> Age: 35 | Gender: {'Woman': np.float32(12.650222), 'Man': np.float32(87.34978)}\n"
          ]
        },
        {
          "output_type": "stream",
          "name": "stderr",
          "text": [
            "Action: gender: 100%|██████████| 2/2 [00:01<00:00,  1.52it/s]\n"
          ]
        },
        {
          "output_type": "stream",
          "name": "stdout",
          "text": [
            "Detected person --> Age: 36 | Gender: {'Woman': np.float32(12.7133665), 'Man': np.float32(87.28664)}\n"
          ]
        },
        {
          "output_type": "stream",
          "name": "stderr",
          "text": [
            "Action: gender: 100%|██████████| 2/2 [00:00<00:00,  2.17it/s]\n"
          ]
        },
        {
          "output_type": "stream",
          "name": "stdout",
          "text": [
            "Detected person --> Age: 35 | Gender: {'Woman': np.float32(12.683906), 'Man': np.float32(87.31609)}\n"
          ]
        },
        {
          "output_type": "stream",
          "name": "stderr",
          "text": [
            "Action: gender: 100%|██████████| 2/2 [00:00<00:00,  2.15it/s]\n"
          ]
        },
        {
          "output_type": "stream",
          "name": "stdout",
          "text": [
            "Detected person --> Age: 35 | Gender: {'Woman': np.float32(12.589526), 'Man': np.float32(87.41047)}\n"
          ]
        },
        {
          "output_type": "stream",
          "name": "stderr",
          "text": [
            "Action: gender: 100%|██████████| 2/2 [00:00<00:00,  2.11it/s]\n"
          ]
        },
        {
          "output_type": "stream",
          "name": "stdout",
          "text": [
            "Detected person --> Age: 35 | Gender: {'Woman': np.float32(12.536235), 'Man': np.float32(87.46377)}\n"
          ]
        },
        {
          "output_type": "stream",
          "name": "stderr",
          "text": [
            "Action: gender: 100%|██████████| 2/2 [00:00<00:00,  2.13it/s]\n"
          ]
        },
        {
          "output_type": "stream",
          "name": "stdout",
          "text": [
            "Detected person --> Age: 35 | Gender: {'Woman': np.float32(12.45531), 'Man': np.float32(87.544685)}\n"
          ]
        },
        {
          "output_type": "stream",
          "name": "stderr",
          "text": [
            "Action: gender: 100%|██████████| 2/2 [00:00<00:00,  2.08it/s]\n"
          ]
        },
        {
          "output_type": "stream",
          "name": "stdout",
          "text": [
            "Detected person --> Age: 35 | Gender: {'Woman': np.float32(12.5850725), 'Man': np.float32(87.41493)}\n"
          ]
        },
        {
          "output_type": "stream",
          "name": "stderr",
          "text": [
            "Action: gender: 100%|██████████| 2/2 [00:00<00:00,  2.07it/s]\n"
          ]
        },
        {
          "output_type": "stream",
          "name": "stdout",
          "text": [
            "Detected person --> Age: 35 | Gender: {'Woman': np.float32(12.523951), 'Man': np.float32(87.47605)}\n"
          ]
        },
        {
          "output_type": "stream",
          "name": "stderr",
          "text": [
            "Action: gender: 100%|██████████| 2/2 [00:00<00:00,  2.16it/s]\n"
          ]
        },
        {
          "output_type": "stream",
          "name": "stdout",
          "text": [
            "Detected person --> Age: 35 | Gender: {'Woman': np.float32(12.558028), 'Man': np.float32(87.44198)}\n"
          ]
        },
        {
          "output_type": "stream",
          "name": "stderr",
          "text": [
            "Action: gender: 100%|██████████| 2/2 [00:00<00:00,  2.41it/s]\n"
          ]
        },
        {
          "output_type": "stream",
          "name": "stdout",
          "text": [
            "Detected person --> Age: 35 | Gender: {'Woman': np.float32(12.624858), 'Man': np.float32(87.375145)}\n"
          ]
        },
        {
          "output_type": "stream",
          "name": "stderr",
          "text": [
            "Action: gender: 100%|██████████| 2/2 [00:00<00:00,  2.11it/s]\n"
          ]
        },
        {
          "output_type": "stream",
          "name": "stdout",
          "text": [
            "Detected person --> Age: 35 | Gender: {'Woman': np.float32(12.630134), 'Man': np.float32(87.369865)}\n"
          ]
        },
        {
          "output_type": "stream",
          "name": "stderr",
          "text": [
            "Action: gender: 100%|██████████| 2/2 [00:00<00:00,  2.08it/s]\n"
          ]
        },
        {
          "output_type": "stream",
          "name": "stdout",
          "text": [
            "Detected person --> Age: 35 | Gender: {'Woman': np.float32(12.58494), 'Man': np.float32(87.41506)}\n"
          ]
        },
        {
          "output_type": "stream",
          "name": "stderr",
          "text": [
            "Action: gender: 100%|██████████| 2/2 [00:01<00:00,  1.83it/s]\n"
          ]
        },
        {
          "output_type": "stream",
          "name": "stdout",
          "text": [
            "Detected person --> Age: 36 | Gender: {'Woman': np.float32(12.592855), 'Man': np.float32(87.40715)}\n"
          ]
        },
        {
          "output_type": "stream",
          "name": "stderr",
          "text": [
            "Action: gender: 100%|██████████| 2/2 [00:00<00:00,  2.36it/s]\n"
          ]
        },
        {
          "output_type": "stream",
          "name": "stdout",
          "text": [
            "Detected person --> Age: 35 | Gender: {'Woman': np.float32(12.704047), 'Man': np.float32(87.29595)}\n"
          ]
        },
        {
          "output_type": "stream",
          "name": "stderr",
          "text": [
            "Action: gender: 100%|██████████| 2/2 [00:00<00:00,  2.35it/s]\n"
          ]
        },
        {
          "output_type": "stream",
          "name": "stdout",
          "text": [
            "Detected person --> Age: 36 | Gender: {'Woman': np.float32(12.572511), 'Man': np.float32(87.42748)}\n"
          ]
        },
        {
          "output_type": "stream",
          "name": "stderr",
          "text": [
            "Action: gender: 100%|██████████| 2/2 [00:00<00:00,  2.27it/s]\n"
          ]
        },
        {
          "output_type": "stream",
          "name": "stdout",
          "text": [
            "Detected person --> Age: 36 | Gender: {'Woman': np.float32(12.4152775), 'Man': np.float32(87.584724)}\n"
          ]
        },
        {
          "output_type": "stream",
          "name": "stderr",
          "text": [
            "Action: gender: 100%|██████████| 2/2 [00:00<00:00,  2.13it/s]\n"
          ]
        },
        {
          "output_type": "stream",
          "name": "stdout",
          "text": [
            "Detected person --> Age: 36 | Gender: {'Woman': np.float32(12.629846), 'Man': np.float32(87.370155)}\n"
          ]
        },
        {
          "output_type": "stream",
          "name": "stderr",
          "text": [
            "Action: gender: 100%|██████████| 2/2 [00:00<00:00,  2.07it/s]\n"
          ]
        },
        {
          "output_type": "stream",
          "name": "stdout",
          "text": [
            "Detected person --> Age: 36 | Gender: {'Woman': np.float32(12.660284), 'Man': np.float32(87.339714)}\n"
          ]
        },
        {
          "output_type": "stream",
          "name": "stderr",
          "text": [
            "Action: gender: 100%|██████████| 2/2 [00:00<00:00,  2.16it/s]\n"
          ]
        },
        {
          "output_type": "stream",
          "name": "stdout",
          "text": [
            "Detected person --> Age: 36 | Gender: {'Woman': np.float32(12.512845), 'Man': np.float32(87.48715)}\n"
          ]
        },
        {
          "output_type": "stream",
          "name": "stderr",
          "text": [
            "Action: gender: 100%|██████████| 2/2 [00:00<00:00,  2.34it/s]\n"
          ]
        },
        {
          "output_type": "stream",
          "name": "stdout",
          "text": [
            "Detected person --> Age: 35 | Gender: {'Woman': np.float32(12.570329), 'Man': np.float32(87.42967)}\n"
          ]
        },
        {
          "output_type": "stream",
          "name": "stderr",
          "text": [
            "Action: gender: 100%|██████████| 2/2 [00:00<00:00,  2.24it/s]\n"
          ]
        },
        {
          "output_type": "stream",
          "name": "stdout",
          "text": [
            "Detected person --> Age: 36 | Gender: {'Woman': np.float32(12.714742), 'Man': np.float32(87.285255)}\n"
          ]
        },
        {
          "output_type": "stream",
          "name": "stderr",
          "text": [
            "Action: gender: 100%|██████████| 2/2 [00:00<00:00,  2.18it/s]\n"
          ]
        },
        {
          "output_type": "stream",
          "name": "stdout",
          "text": [
            "Detected person --> Age: 36 | Gender: {'Woman': np.float32(12.535602), 'Man': np.float32(87.4644)}\n"
          ]
        },
        {
          "output_type": "stream",
          "name": "stderr",
          "text": [
            "Action: gender: 100%|██████████| 2/2 [00:01<00:00,  1.79it/s]\n"
          ]
        },
        {
          "output_type": "stream",
          "name": "stdout",
          "text": [
            "Detected person --> Age: 36 | Gender: {'Woman': np.float32(12.489382), 'Man': np.float32(87.51061)}\n"
          ]
        },
        {
          "output_type": "stream",
          "name": "stderr",
          "text": [
            "Action: gender: 100%|██████████| 2/2 [00:01<00:00,  1.85it/s]\n"
          ]
        },
        {
          "output_type": "stream",
          "name": "stdout",
          "text": [
            "Detected person --> Age: 36 | Gender: {'Woman': np.float32(12.461391), 'Man': np.float32(87.53861)}\n"
          ]
        },
        {
          "output_type": "stream",
          "name": "stderr",
          "text": [
            "Action: gender: 100%|██████████| 2/2 [00:00<00:00,  2.33it/s]\n"
          ]
        },
        {
          "output_type": "stream",
          "name": "stdout",
          "text": [
            "Detected person --> Age: 36 | Gender: {'Woman': np.float32(12.623051), 'Man': np.float32(87.376945)}\n"
          ]
        },
        {
          "output_type": "stream",
          "name": "stderr",
          "text": [
            "Action: gender: 100%|██████████| 2/2 [00:00<00:00,  2.34it/s]\n"
          ]
        },
        {
          "output_type": "stream",
          "name": "stdout",
          "text": [
            "Detected person --> Age: 35 | Gender: {'Woman': np.float32(12.630385), 'Man': np.float32(87.369606)}\n"
          ]
        },
        {
          "output_type": "stream",
          "name": "stderr",
          "text": [
            "Action: gender: 100%|██████████| 2/2 [00:00<00:00,  2.13it/s]\n"
          ]
        },
        {
          "output_type": "stream",
          "name": "stdout",
          "text": [
            "Detected person --> Age: 35 | Gender: {'Woman': np.float32(12.566796), 'Man': np.float32(87.433205)}\n"
          ]
        },
        {
          "output_type": "stream",
          "name": "stderr",
          "text": [
            "Action: gender: 100%|██████████| 2/2 [00:00<00:00,  2.10it/s]\n"
          ]
        },
        {
          "output_type": "stream",
          "name": "stdout",
          "text": [
            "Detected person --> Age: 36 | Gender: {'Woman': np.float32(12.482692), 'Man': np.float32(87.5173)}\n"
          ]
        },
        {
          "output_type": "stream",
          "name": "stderr",
          "text": [
            "Action: gender: 100%|██████████| 2/2 [00:00<00:00,  2.31it/s]\n"
          ]
        },
        {
          "output_type": "stream",
          "name": "stdout",
          "text": [
            "Detected person --> Age: 36 | Gender: {'Woman': np.float32(12.503059), 'Man': np.float32(87.49693)}\n"
          ]
        },
        {
          "output_type": "stream",
          "name": "stderr",
          "text": [
            "Action: gender: 100%|██████████| 2/2 [00:00<00:00,  2.33it/s]\n"
          ]
        },
        {
          "output_type": "stream",
          "name": "stdout",
          "text": [
            "Detected person --> Age: 36 | Gender: {'Woman': np.float32(12.490126), 'Man': np.float32(87.50987)}\n"
          ]
        },
        {
          "output_type": "stream",
          "name": "stderr",
          "text": [
            "Action: gender: 100%|██████████| 2/2 [00:00<00:00,  2.36it/s]\n"
          ]
        },
        {
          "output_type": "stream",
          "name": "stdout",
          "text": [
            "Detected person --> Age: 36 | Gender: {'Woman': np.float32(12.479906), 'Man': np.float32(87.520096)}\n"
          ]
        },
        {
          "output_type": "stream",
          "name": "stderr",
          "text": [
            "Action: gender: 100%|██████████| 2/2 [00:00<00:00,  2.33it/s]\n"
          ]
        },
        {
          "output_type": "stream",
          "name": "stdout",
          "text": [
            "Detected person --> Age: 36 | Gender: {'Woman': np.float32(12.307377), 'Man': np.float32(87.69263)}\n"
          ]
        },
        {
          "output_type": "stream",
          "name": "stderr",
          "text": [
            "Action: gender: 100%|██████████| 2/2 [00:00<00:00,  2.34it/s]\n"
          ]
        },
        {
          "output_type": "stream",
          "name": "stdout",
          "text": [
            "Detected person --> Age: 36 | Gender: {'Woman': np.float32(12.370927), 'Man': np.float32(87.62907)}\n"
          ]
        },
        {
          "output_type": "stream",
          "name": "stderr",
          "text": [
            "Action: gender: 100%|██████████| 2/2 [00:00<00:00,  2.09it/s]\n"
          ]
        },
        {
          "output_type": "stream",
          "name": "stdout",
          "text": [
            "Detected person --> Age: 36 | Gender: {'Woman': np.float32(12.377839), 'Man': np.float32(87.62216)}\n"
          ]
        },
        {
          "output_type": "stream",
          "name": "stderr",
          "text": [
            "Action: gender: 100%|██████████| 2/2 [00:01<00:00,  1.72it/s]\n"
          ]
        },
        {
          "output_type": "stream",
          "name": "stdout",
          "text": [
            "Detected person --> Age: 36 | Gender: {'Woman': np.float32(12.499194), 'Man': np.float32(87.50081)}\n"
          ]
        },
        {
          "output_type": "stream",
          "name": "stderr",
          "text": [
            "Action: gender: 100%|██████████| 2/2 [00:00<00:00,  2.17it/s]\n"
          ]
        },
        {
          "output_type": "stream",
          "name": "stdout",
          "text": [
            "Detected person --> Age: 35 | Gender: {'Woman': np.float32(12.387312), 'Man': np.float32(87.612686)}\n"
          ]
        },
        {
          "output_type": "stream",
          "name": "stderr",
          "text": [
            "Action: gender: 100%|██████████| 2/2 [00:00<00:00,  2.31it/s]\n"
          ]
        },
        {
          "output_type": "stream",
          "name": "stdout",
          "text": [
            "Detected person --> Age: 35 | Gender: {'Woman': np.float32(12.512189), 'Man': np.float32(87.48781)}\n"
          ]
        },
        {
          "output_type": "stream",
          "name": "stderr",
          "text": [
            "Action: gender: 100%|██████████| 2/2 [00:00<00:00,  2.38it/s]\n"
          ]
        },
        {
          "output_type": "stream",
          "name": "stdout",
          "text": [
            "Detected person --> Age: 35 | Gender: {'Woman': np.float32(12.515369), 'Man': np.float32(87.48463)}\n"
          ]
        },
        {
          "output_type": "stream",
          "name": "stderr",
          "text": [
            "Action: gender: 100%|██████████| 2/2 [00:00<00:00,  2.34it/s]\n"
          ]
        },
        {
          "output_type": "stream",
          "name": "stdout",
          "text": [
            "Detected person --> Age: 35 | Gender: {'Woman': np.float32(12.526014), 'Man': np.float32(87.47398)}\n"
          ]
        },
        {
          "output_type": "stream",
          "name": "stderr",
          "text": [
            "Action: gender: 100%|██████████| 2/2 [00:00<00:00,  2.36it/s]\n"
          ]
        },
        {
          "output_type": "stream",
          "name": "stdout",
          "text": [
            "Detected person --> Age: 35 | Gender: {'Woman': np.float32(12.317648), 'Man': np.float32(87.68236)}\n"
          ]
        },
        {
          "output_type": "stream",
          "name": "stderr",
          "text": [
            "Action: gender: 100%|██████████| 2/2 [00:00<00:00,  2.35it/s]\n"
          ]
        },
        {
          "output_type": "stream",
          "name": "stdout",
          "text": [
            "Detected person --> Age: 35 | Gender: {'Woman': np.float32(12.546825), 'Man': np.float32(87.45317)}\n"
          ]
        },
        {
          "output_type": "stream",
          "name": "stderr",
          "text": [
            "Action: gender: 100%|██████████| 2/2 [00:00<00:00,  2.21it/s]\n"
          ]
        },
        {
          "output_type": "stream",
          "name": "stdout",
          "text": [
            "Detected person --> Age: 35 | Gender: {'Woman': np.float32(12.47897), 'Man': np.float32(87.52103)}\n"
          ]
        },
        {
          "output_type": "stream",
          "name": "stderr",
          "text": [
            "Action: gender: 100%|██████████| 2/2 [00:00<00:00,  2.28it/s]\n"
          ]
        },
        {
          "output_type": "stream",
          "name": "stdout",
          "text": [
            "Detected person --> Age: 35 | Gender: {'Woman': np.float32(12.488173), 'Man': np.float32(87.511826)}\n"
          ]
        },
        {
          "output_type": "stream",
          "name": "stderr",
          "text": [
            "Action: gender: 100%|██████████| 2/2 [00:00<00:00,  2.33it/s]\n"
          ]
        },
        {
          "output_type": "stream",
          "name": "stdout",
          "text": [
            "Detected person --> Age: 36 | Gender: {'Woman': np.float32(12.442229), 'Man': np.float32(87.55777)}\n"
          ]
        },
        {
          "output_type": "stream",
          "name": "stderr",
          "text": [
            "Action: gender: 100%|██████████| 2/2 [00:00<00:00,  2.37it/s]\n"
          ]
        },
        {
          "output_type": "stream",
          "name": "stdout",
          "text": [
            "Detected person --> Age: 36 | Gender: {'Woman': np.float32(12.437335), 'Man': np.float32(87.56266)}\n"
          ]
        },
        {
          "output_type": "stream",
          "name": "stderr",
          "text": [
            "Action: gender: 100%|██████████| 2/2 [00:01<00:00,  1.58it/s]\n"
          ]
        },
        {
          "output_type": "stream",
          "name": "stdout",
          "text": [
            "Detected person --> Age: 36 | Gender: {'Woman': np.float32(12.366415), 'Man': np.float32(87.63358)}\n"
          ]
        },
        {
          "output_type": "stream",
          "name": "stderr",
          "text": [
            "Action: gender: 100%|██████████| 2/2 [00:00<00:00,  2.12it/s]\n"
          ]
        },
        {
          "output_type": "stream",
          "name": "stdout",
          "text": [
            "Detected person --> Age: 36 | Gender: {'Woman': np.float32(12.307258), 'Man': np.float32(87.69274)}\n"
          ]
        },
        {
          "output_type": "stream",
          "name": "stderr",
          "text": [
            "Action: gender: 100%|██████████| 2/2 [00:00<00:00,  2.34it/s]\n"
          ]
        },
        {
          "output_type": "stream",
          "name": "stdout",
          "text": [
            "Detected person --> Age: 36 | Gender: {'Woman': np.float32(12.370198), 'Man': np.float32(87.6298)}\n"
          ]
        },
        {
          "output_type": "stream",
          "name": "stderr",
          "text": [
            "Action: gender: 100%|██████████| 2/2 [00:00<00:00,  2.32it/s]\n"
          ]
        },
        {
          "output_type": "stream",
          "name": "stdout",
          "text": [
            "Detected person --> Age: 36 | Gender: {'Woman': np.float32(12.278119), 'Man': np.float32(87.72188)}\n"
          ]
        },
        {
          "output_type": "stream",
          "name": "stderr",
          "text": [
            "Action: gender: 100%|██████████| 2/2 [00:00<00:00,  2.11it/s]\n"
          ]
        },
        {
          "output_type": "stream",
          "name": "stdout",
          "text": [
            "Detected person --> Age: 36 | Gender: {'Woman': np.float32(12.400568), 'Man': np.float32(87.59944)}\n"
          ]
        },
        {
          "output_type": "stream",
          "name": "stderr",
          "text": [
            "Action: gender: 100%|██████████| 2/2 [00:00<00:00,  2.22it/s]\n"
          ]
        },
        {
          "output_type": "stream",
          "name": "stdout",
          "text": [
            "Detected person --> Age: 36 | Gender: {'Woman': np.float32(12.273931), 'Man': np.float32(87.72607)}\n"
          ]
        },
        {
          "output_type": "stream",
          "name": "stderr",
          "text": [
            "Action: gender: 100%|██████████| 2/2 [00:00<00:00,  2.32it/s]\n"
          ]
        },
        {
          "output_type": "stream",
          "name": "stdout",
          "text": [
            "Detected person --> Age: 36 | Gender: {'Woman': np.float32(12.1076), 'Man': np.float32(87.8924)}\n"
          ]
        },
        {
          "output_type": "stream",
          "name": "stderr",
          "text": [
            "Action: gender: 100%|██████████| 2/2 [00:00<00:00,  2.36it/s]\n"
          ]
        },
        {
          "output_type": "stream",
          "name": "stdout",
          "text": [
            "Detected person --> Age: 36 | Gender: {'Woman': np.float32(12.053376), 'Man': np.float32(87.94663)}\n"
          ]
        },
        {
          "output_type": "stream",
          "name": "stderr",
          "text": [
            "Action: gender: 100%|██████████| 2/2 [00:00<00:00,  2.37it/s]\n"
          ]
        },
        {
          "output_type": "stream",
          "name": "stdout",
          "text": [
            "Detected person --> Age: 35 | Gender: {'Woman': np.float32(11.810098), 'Man': np.float32(88.1899)}\n"
          ]
        },
        {
          "output_type": "stream",
          "name": "stderr",
          "text": [
            "Action: gender: 100%|██████████| 2/2 [00:00<00:00,  2.36it/s]\n"
          ]
        },
        {
          "output_type": "stream",
          "name": "stdout",
          "text": [
            "Detected person --> Age: 35 | Gender: {'Woman': np.float32(11.710048), 'Man': np.float32(88.28995)}\n"
          ]
        },
        {
          "output_type": "stream",
          "name": "stderr",
          "text": [
            "Action: gender: 100%|██████████| 2/2 [00:00<00:00,  2.18it/s]\n"
          ]
        },
        {
          "output_type": "stream",
          "name": "stdout",
          "text": [
            "Detected person --> Age: 35 | Gender: {'Woman': np.float32(11.2872), 'Man': np.float32(88.7128)}\n"
          ]
        },
        {
          "output_type": "stream",
          "name": "stderr",
          "text": [
            "Action: gender: 100%|██████████| 2/2 [00:01<00:00,  1.48it/s]\n"
          ]
        },
        {
          "output_type": "stream",
          "name": "stdout",
          "text": [
            "Detected person --> Age: 35 | Gender: {'Woman': np.float32(11.2360735), 'Man': np.float32(88.76392)}\n"
          ]
        },
        {
          "output_type": "stream",
          "name": "stderr",
          "text": [
            "Action: gender: 100%|██████████| 2/2 [00:00<00:00,  2.35it/s]\n"
          ]
        },
        {
          "output_type": "stream",
          "name": "stdout",
          "text": [
            "Detected person --> Age: 35 | Gender: {'Woman': np.float32(11.292562), 'Man': np.float32(88.707436)}\n"
          ]
        },
        {
          "output_type": "stream",
          "name": "stderr",
          "text": [
            "Action: gender: 100%|██████████| 2/2 [00:00<00:00,  2.34it/s]\n"
          ]
        },
        {
          "output_type": "stream",
          "name": "stdout",
          "text": [
            "Detected person --> Age: 35 | Gender: {'Woman': np.float32(11.322381), 'Man': np.float32(88.67761)}\n"
          ]
        },
        {
          "output_type": "stream",
          "name": "stderr",
          "text": [
            "Action: gender: 100%|██████████| 2/2 [00:00<00:00,  2.34it/s]\n"
          ]
        },
        {
          "output_type": "stream",
          "name": "stdout",
          "text": [
            "Detected person --> Age: 35 | Gender: {'Woman': np.float32(11.356577), 'Man': np.float32(88.64342)}\n"
          ]
        },
        {
          "output_type": "stream",
          "name": "stderr",
          "text": [
            "Action: gender: 100%|██████████| 2/2 [00:00<00:00,  2.34it/s]\n"
          ]
        },
        {
          "output_type": "stream",
          "name": "stdout",
          "text": [
            "Detected person --> Age: 35 | Gender: {'Woman': np.float32(11.034241), 'Man': np.float32(88.96576)}\n"
          ]
        },
        {
          "output_type": "stream",
          "name": "stderr",
          "text": [
            "Action: gender: 100%|██████████| 2/2 [00:00<00:00,  2.38it/s]\n"
          ]
        },
        {
          "output_type": "stream",
          "name": "stdout",
          "text": [
            "Detected person --> Age: 36 | Gender: {'Woman': np.float32(10.756474), 'Man': np.float32(89.24353)}\n"
          ]
        },
        {
          "output_type": "stream",
          "name": "stderr",
          "text": [
            "Action: gender: 100%|██████████| 2/2 [00:00<00:00,  2.15it/s]\n"
          ]
        },
        {
          "output_type": "stream",
          "name": "stdout",
          "text": [
            "Detected person --> Age: 27 | Gender: {'Woman': np.float32(26.981428), 'Man': np.float32(73.01858)}\n"
          ]
        },
        {
          "output_type": "stream",
          "name": "stderr",
          "text": [
            "Action: gender: 100%|██████████| 2/2 [00:00<00:00,  2.13it/s]\n"
          ]
        },
        {
          "output_type": "stream",
          "name": "stdout",
          "text": [
            "Detected person --> Age: 36 | Gender: {'Woman': np.float32(10.652171), 'Man': np.float32(89.347824)}\n"
          ]
        },
        {
          "output_type": "stream",
          "name": "stderr",
          "text": [
            "Action: gender: 100%|██████████| 2/2 [00:00<00:00,  2.35it/s]\n"
          ]
        },
        {
          "output_type": "stream",
          "name": "stdout",
          "text": [
            "Detected person --> Age: 36 | Gender: {'Woman': np.float32(10.608712), 'Man': np.float32(89.39129)}\n"
          ]
        },
        {
          "output_type": "stream",
          "name": "stderr",
          "text": [
            "Action: gender: 100%|██████████| 2/2 [00:00<00:00,  2.32it/s]\n"
          ]
        },
        {
          "output_type": "stream",
          "name": "stdout",
          "text": [
            "Detected person --> Age: 36 | Gender: {'Woman': np.float32(10.479301), 'Man': np.float32(89.5207)}\n"
          ]
        },
        {
          "output_type": "stream",
          "name": "stderr",
          "text": [
            "Action: gender: 100%|██████████| 2/2 [00:00<00:00,  2.34it/s]\n"
          ]
        },
        {
          "output_type": "stream",
          "name": "stdout",
          "text": [
            "Detected person --> Age: 27 | Gender: {'Woman': np.float32(48.730633), 'Man': np.float32(51.269363)}\n"
          ]
        },
        {
          "output_type": "stream",
          "name": "stderr",
          "text": [
            "Action: gender: 100%|██████████| 2/2 [00:01<00:00,  1.70it/s]\n"
          ]
        },
        {
          "output_type": "stream",
          "name": "stdout",
          "text": [
            "Detected person --> Age: 28 | Gender: {'Woman': np.float32(69.46159), 'Man': np.float32(30.538416)}\n"
          ]
        },
        {
          "output_type": "stream",
          "name": "stderr",
          "text": [
            "Action: gender: 100%|██████████| 2/2 [00:00<00:00,  2.26it/s]\n"
          ]
        },
        {
          "output_type": "stream",
          "name": "stdout",
          "text": [
            "Detected person --> Age: 26 | Gender: {'Woman': np.float32(71.95189), 'Man': np.float32(28.048117)}\n"
          ]
        },
        {
          "output_type": "stream",
          "name": "stderr",
          "text": [
            "Action: gender: 100%|██████████| 2/2 [00:00<00:00,  2.17it/s]\n"
          ]
        },
        {
          "output_type": "stream",
          "name": "stdout",
          "text": [
            "Detected person --> Age: 28 | Gender: {'Woman': np.float32(43.254883), 'Man': np.float32(56.745117)}\n"
          ]
        },
        {
          "output_type": "stream",
          "name": "stderr",
          "text": [
            "Action: gender: 100%|██████████| 2/2 [00:00<00:00,  2.34it/s]\n"
          ]
        },
        {
          "output_type": "stream",
          "name": "stdout",
          "text": [
            "Detected person --> Age: 26 | Gender: {'Woman': np.float32(35.921707), 'Man': np.float32(64.07829)}\n"
          ]
        },
        {
          "output_type": "stream",
          "name": "stderr",
          "text": [
            "Action: gender: 100%|██████████| 2/2 [00:00<00:00,  2.29it/s]\n"
          ]
        },
        {
          "output_type": "stream",
          "name": "stdout",
          "text": [
            "Detected person --> Age: 26 | Gender: {'Woman': np.float32(28.549723), 'Man': np.float32(71.45027)}\n"
          ]
        },
        {
          "output_type": "stream",
          "name": "stderr",
          "text": [
            "Action: gender: 100%|██████████| 2/2 [00:00<00:00,  2.17it/s]\n"
          ]
        },
        {
          "output_type": "stream",
          "name": "stdout",
          "text": [
            "Detected person --> Age: 26 | Gender: {'Woman': np.float32(41.652946), 'Man': np.float32(58.347054)}\n"
          ]
        },
        {
          "output_type": "stream",
          "name": "stderr",
          "text": [
            "Action: gender: 100%|██████████| 2/2 [00:00<00:00,  2.34it/s]\n"
          ]
        },
        {
          "output_type": "stream",
          "name": "stdout",
          "text": [
            "Detected person --> Age: 25 | Gender: {'Woman': np.float32(20.254862), 'Man': np.float32(79.74514)}\n"
          ]
        },
        {
          "output_type": "stream",
          "name": "stderr",
          "text": [
            "Action: gender: 100%|██████████| 2/2 [00:00<00:00,  2.28it/s]\n"
          ]
        },
        {
          "output_type": "stream",
          "name": "stdout",
          "text": [
            "Detected person --> Age: 29 | Gender: {'Woman': np.float32(18.21204), 'Man': np.float32(81.787964)}\n"
          ]
        },
        {
          "output_type": "stream",
          "name": "stderr",
          "text": [
            "Action: gender: 100%|██████████| 2/2 [00:00<00:00,  2.11it/s]\n"
          ]
        },
        {
          "output_type": "stream",
          "name": "stdout",
          "text": [
            "Detected person --> Age: 25 | Gender: {'Woman': np.float32(19.354874), 'Man': np.float32(80.645134)}\n"
          ]
        },
        {
          "output_type": "stream",
          "name": "stderr",
          "text": [
            "Action: gender: 100%|██████████| 2/2 [00:00<00:00,  2.35it/s]\n"
          ]
        },
        {
          "output_type": "stream",
          "name": "stdout",
          "text": [
            "Detected person --> Age: 26 | Gender: {'Woman': np.float32(19.832787), 'Man': np.float32(80.16721)}\n"
          ]
        },
        {
          "output_type": "stream",
          "name": "stderr",
          "text": [
            "Action: gender: 100%|██████████| 2/2 [00:00<00:00,  2.36it/s]\n"
          ]
        },
        {
          "output_type": "stream",
          "name": "stdout",
          "text": [
            "Detected person --> Age: 27 | Gender: {'Woman': np.float32(17.394045), 'Man': np.float32(82.60595)}\n"
          ]
        },
        {
          "output_type": "stream",
          "name": "stderr",
          "text": [
            "Action: gender: 100%|██████████| 2/2 [00:01<00:00,  1.63it/s]\n"
          ]
        },
        {
          "output_type": "stream",
          "name": "stdout",
          "text": [
            "Detected person --> Age: 27 | Gender: {'Woman': np.float32(18.628069), 'Man': np.float32(81.37193)}\n"
          ]
        },
        {
          "output_type": "stream",
          "name": "stderr",
          "text": [
            "Action: gender: 100%|██████████| 2/2 [00:00<00:00,  2.16it/s]\n"
          ]
        },
        {
          "output_type": "stream",
          "name": "stdout",
          "text": [
            "Detected person --> Age: 28 | Gender: {'Woman': np.float32(16.163513), 'Man': np.float32(83.83649)}\n"
          ]
        },
        {
          "output_type": "stream",
          "name": "stderr",
          "text": [
            "Action: gender: 100%|██████████| 2/2 [00:00<00:00,  2.25it/s]\n"
          ]
        },
        {
          "output_type": "stream",
          "name": "stdout",
          "text": [
            "Detected person --> Age: 28 | Gender: {'Woman': np.float32(18.447523), 'Man': np.float32(81.55248)}\n"
          ]
        },
        {
          "output_type": "stream",
          "name": "stderr",
          "text": [
            "Action: gender: 100%|██████████| 2/2 [00:00<00:00,  2.37it/s]\n"
          ]
        },
        {
          "output_type": "stream",
          "name": "stdout",
          "text": [
            "Detected person --> Age: 29 | Gender: {'Woman': np.float32(21.540922), 'Man': np.float32(78.45908)}\n"
          ]
        },
        {
          "output_type": "stream",
          "name": "stderr",
          "text": [
            "Action: gender: 100%|██████████| 2/2 [00:00<00:00,  2.25it/s]\n"
          ]
        },
        {
          "output_type": "stream",
          "name": "stdout",
          "text": [
            "Detected person --> Age: 29 | Gender: {'Woman': np.float32(22.79661), 'Man': np.float32(77.203384)}\n"
          ]
        },
        {
          "output_type": "stream",
          "name": "stderr",
          "text": [
            "Action: gender: 100%|██████████| 2/2 [00:00<00:00,  2.12it/s]\n"
          ]
        },
        {
          "output_type": "stream",
          "name": "stdout",
          "text": [
            "Detected person --> Age: 29 | Gender: {'Woman': np.float32(24.647465), 'Man': np.float32(75.35254)}\n"
          ]
        },
        {
          "output_type": "stream",
          "name": "stderr",
          "text": [
            "Action: gender: 100%|██████████| 2/2 [00:00<00:00,  2.24it/s]\n"
          ]
        },
        {
          "output_type": "stream",
          "name": "stdout",
          "text": [
            "Detected person --> Age: 28 | Gender: {'Woman': np.float32(20.54276), 'Man': np.float32(79.457245)}\n"
          ]
        },
        {
          "output_type": "stream",
          "name": "stderr",
          "text": [
            "Action: gender: 100%|██████████| 2/2 [00:00<00:00,  2.33it/s]\n"
          ]
        },
        {
          "output_type": "stream",
          "name": "stdout",
          "text": [
            "Detected person --> Age: 28 | Gender: {'Woman': np.float32(24.516346), 'Man': np.float32(75.48366)}\n"
          ]
        },
        {
          "output_type": "stream",
          "name": "stderr",
          "text": [
            "Action: gender: 100%|██████████| 2/2 [00:00<00:00,  2.34it/s]\n"
          ]
        },
        {
          "output_type": "stream",
          "name": "stdout",
          "text": [
            "Detected person --> Age: 29 | Gender: {'Woman': np.float32(32.23532), 'Man': np.float32(67.76469)}\n"
          ]
        },
        {
          "output_type": "stream",
          "name": "stderr",
          "text": [
            "Action: gender: 100%|██████████| 2/2 [00:00<00:00,  2.34it/s]\n"
          ]
        },
        {
          "output_type": "stream",
          "name": "stdout",
          "text": [
            "Detected person --> Age: 28 | Gender: {'Woman': np.float32(46.477764), 'Man': np.float32(53.522236)}\n"
          ]
        },
        {
          "output_type": "stream",
          "name": "stderr",
          "text": [
            "Action: gender: 100%|██████████| 2/2 [00:00<00:00,  2.28it/s]\n",
            "Action: gender: 100%|██████████| 2/2 [00:01<00:00,  1.62it/s]\n"
          ]
        },
        {
          "output_type": "stream",
          "name": "stdout",
          "text": [
            "Detected person --> Age: 29 | Gender: {'Woman': np.float32(31.472958), 'Man': np.float32(68.52704)}\n",
            "Detected person --> Age: 31 | Gender: {'Woman': np.float32(4.7861595), 'Man': np.float32(95.213844)}\n"
          ]
        },
        {
          "output_type": "stream",
          "name": "stderr",
          "text": [
            "Action: gender: 100%|██████████| 2/2 [00:00<00:00,  2.28it/s]\n",
            "Action: gender: 100%|██████████| 2/2 [00:00<00:00,  2.12it/s]\n"
          ]
        },
        {
          "output_type": "stream",
          "name": "stdout",
          "text": [
            "Detected person --> Age: 29 | Gender: {'Woman': np.float32(58.033497), 'Man': np.float32(41.966515)}\n",
            "Detected person --> Age: 34 | Gender: {'Woman': np.float32(3.6555223), 'Man': np.float32(96.34448)}\n"
          ]
        },
        {
          "output_type": "stream",
          "name": "stderr",
          "text": [
            "Action: gender: 100%|██████████| 2/2 [00:00<00:00,  2.24it/s]\n"
          ]
        },
        {
          "output_type": "stream",
          "name": "stdout",
          "text": [
            "Detected person --> Age: 30 | Gender: {'Woman': np.float32(46.526264), 'Man': np.float32(53.47373)}\n"
          ]
        },
        {
          "output_type": "stream",
          "name": "stderr",
          "text": [
            "Action: gender: 100%|██████████| 2/2 [00:00<00:00,  2.37it/s]\n",
            "Action: gender: 100%|██████████| 2/2 [00:00<00:00,  2.26it/s]\n"
          ]
        },
        {
          "output_type": "stream",
          "name": "stdout",
          "text": [
            "Detected person --> Age: 30 | Gender: {'Woman': np.float32(43.37034), 'Man': np.float32(56.629658)}\n",
            "Detected person --> Age: 35 | Gender: {'Woman': np.float32(4.261323), 'Man': np.float32(95.73868)}\n"
          ]
        },
        {
          "output_type": "stream",
          "name": "stderr",
          "text": [
            "Action: gender: 100%|██████████| 2/2 [00:00<00:00,  2.10it/s]\n",
            "Action: gender: 100%|██████████| 2/2 [00:00<00:00,  2.17it/s]\n"
          ]
        },
        {
          "output_type": "stream",
          "name": "stdout",
          "text": [
            "Detected person --> Age: 31 | Gender: {'Woman': np.float32(29.660347), 'Man': np.float32(70.33965)}\n",
            "Detected person --> Age: 34 | Gender: {'Woman': np.float32(7.1950226), 'Man': np.float32(92.80498)}\n"
          ]
        },
        {
          "output_type": "stream",
          "name": "stderr",
          "text": [
            "Action: gender: 100%|██████████| 2/2 [00:00<00:00,  2.31it/s]\n",
            "Action: gender: 100%|██████████| 2/2 [00:00<00:00,  2.33it/s]\n"
          ]
        },
        {
          "output_type": "stream",
          "name": "stdout",
          "text": [
            "Detected person --> Age: 31 | Gender: {'Woman': np.float32(34.481766), 'Man': np.float32(65.518234)}\n",
            "Detected person --> Age: 31 | Gender: {'Woman': np.float32(5.037612), 'Man': np.float32(94.96239)}\n"
          ]
        },
        {
          "output_type": "stream",
          "name": "stderr",
          "text": [
            "Action: gender: 100%|██████████| 2/2 [00:00<00:00,  2.32it/s]\n",
            "Action: gender: 100%|██████████| 2/2 [00:01<00:00,  1.93it/s]\n"
          ]
        },
        {
          "output_type": "stream",
          "name": "stdout",
          "text": [
            "Detected person --> Age: 31 | Gender: {'Woman': np.float32(26.790546), 'Man': np.float32(73.20945)}\n",
            "Detected person --> Age: 32 | Gender: {'Woman': np.float32(4.2159495), 'Man': np.float32(95.78405)}\n"
          ]
        },
        {
          "output_type": "stream",
          "name": "stderr",
          "text": [
            "Action: gender: 100%|██████████| 2/2 [00:01<00:00,  1.97it/s]\n",
            "Action: gender: 100%|██████████| 2/2 [00:00<00:00,  2.32it/s]\n"
          ]
        },
        {
          "output_type": "stream",
          "name": "stdout",
          "text": [
            "Detected person --> Age: 31 | Gender: {'Woman': np.float32(35.155186), 'Man': np.float32(64.84482)}\n",
            "Detected person --> Age: 34 | Gender: {'Woman': np.float32(7.4923344), 'Man': np.float32(92.50767)}\n"
          ]
        },
        {
          "output_type": "stream",
          "name": "stderr",
          "text": [
            "Action: gender: 100%|██████████| 2/2 [00:00<00:00,  2.26it/s]\n",
            "Action: gender: 100%|██████████| 2/2 [00:00<00:00,  2.17it/s]\n"
          ]
        },
        {
          "output_type": "stream",
          "name": "stdout",
          "text": [
            "Detected person --> Age: 31 | Gender: {'Woman': np.float32(43.91359), 'Man': np.float32(56.08641)}\n",
            "Detected person --> Age: 33 | Gender: {'Woman': np.float32(9.175708), 'Man': np.float32(90.824295)}\n"
          ]
        },
        {
          "output_type": "stream",
          "name": "stderr",
          "text": [
            "Action: gender: 100%|██████████| 2/2 [00:00<00:00,  2.32it/s]\n",
            "Action: gender: 100%|██████████| 2/2 [00:00<00:00,  2.33it/s]\n",
            "Action: gender: 100%|██████████| 2/2 [00:00<00:00,  2.32it/s]\n"
          ]
        },
        {
          "output_type": "stream",
          "name": "stdout",
          "text": [
            "Detected person --> Age: 32 | Gender: {'Woman': np.float32(55.637463), 'Man': np.float32(44.362537)}\n",
            "Detected person --> Age: 32 | Gender: {'Woman': np.float32(9.22513), 'Man': np.float32(90.774864)}\n",
            "Detected person --> Age: 35 | Gender: {'Woman': np.float32(11.887863), 'Man': np.float32(88.11214)}\n"
          ]
        },
        {
          "output_type": "stream",
          "name": "stderr",
          "text": [
            "Action: gender: 100%|██████████| 2/2 [00:00<00:00,  2.12it/s]\n",
            "Action: gender: 100%|██████████| 2/2 [00:00<00:00,  2.15it/s]\n",
            "Action: gender: 100%|██████████| 2/2 [00:00<00:00,  2.29it/s]\n"
          ]
        },
        {
          "output_type": "stream",
          "name": "stdout",
          "text": [
            "Detected person --> Age: 33 | Gender: {'Woman': np.float32(7.876954), 'Man': np.float32(92.12305)}\n",
            "Detected person --> Age: 30 | Gender: {'Woman': np.float32(48.321922), 'Man': np.float32(51.678078)}\n",
            "Detected person --> Age: 32 | Gender: {'Woman': np.float32(15.179223), 'Man': np.float32(84.82078)}\n"
          ]
        },
        {
          "output_type": "stream",
          "name": "stderr",
          "text": [
            "Action: gender: 100%|██████████| 2/2 [00:00<00:00,  2.34it/s]\n",
            "Action: gender: 100%|██████████| 2/2 [00:01<00:00,  1.78it/s]\n",
            "Action: gender: 100%|██████████| 2/2 [00:00<00:00,  2.00it/s]\n"
          ]
        },
        {
          "output_type": "stream",
          "name": "stdout",
          "text": [
            "Detected person --> Age: 35 | Gender: {'Woman': np.float32(15.592441), 'Man': np.float32(84.407555)}\n",
            "Detected person --> Age: 30 | Gender: {'Woman': np.float32(55.566727), 'Man': np.float32(44.43327)}\n",
            "Detected person --> Age: 30 | Gender: {'Woman': np.float32(15.381185), 'Man': np.float32(84.61882)}\n"
          ]
        },
        {
          "output_type": "stream",
          "name": "stderr",
          "text": [
            "Action: gender: 100%|██████████| 2/2 [00:00<00:00,  2.38it/s]\n",
            "Action: gender: 100%|██████████| 2/2 [00:00<00:00,  2.32it/s]\n",
            "Action: gender: 100%|██████████| 2/2 [00:00<00:00,  2.33it/s]\n"
          ]
        },
        {
          "output_type": "stream",
          "name": "stdout",
          "text": [
            "Detected person --> Age: 35 | Gender: {'Woman': np.float32(12.939512), 'Man': np.float32(87.060486)}\n",
            "Detected person --> Age: 29 | Gender: {'Woman': np.float32(48.043736), 'Man': np.float32(51.95626)}\n",
            "Detected person --> Age: 33 | Gender: {'Woman': np.float32(17.003784), 'Man': np.float32(82.996216)}\n"
          ]
        },
        {
          "output_type": "stream",
          "name": "stderr",
          "text": [
            "Action: gender: 100%|██████████| 2/2 [00:00<00:00,  2.21it/s]\n",
            "Action: gender: 100%|██████████| 2/2 [00:00<00:00,  2.16it/s]\n",
            "Action: gender: 100%|██████████| 2/2 [00:00<00:00,  2.25it/s]\n"
          ]
        },
        {
          "output_type": "stream",
          "name": "stdout",
          "text": [
            "Detected person --> Age: 31 | Gender: {'Woman': np.float32(16.989069), 'Man': np.float32(83.01093)}\n",
            "Detected person --> Age: 32 | Gender: {'Woman': np.float32(15.156132), 'Man': np.float32(84.843864)}\n",
            "Detected person --> Age: 30 | Gender: {'Woman': np.float32(41.51412), 'Man': np.float32(58.48588)}\n"
          ]
        },
        {
          "output_type": "stream",
          "name": "stderr",
          "text": [
            "Action: gender: 100%|██████████| 2/2 [00:00<00:00,  2.04it/s]\n",
            "Action: gender: 100%|██████████| 2/2 [00:00<00:00,  2.20it/s]\n",
            "Action: gender: 100%|██████████| 2/2 [00:00<00:00,  2.21it/s]\n"
          ]
        },
        {
          "output_type": "stream",
          "name": "stdout",
          "text": [
            "Detected person --> Age: 29 | Gender: {'Woman': np.float32(13.662013), 'Man': np.float32(86.33798)}\n",
            "Detected person --> Age: 30 | Gender: {'Woman': np.float32(60.71489), 'Man': np.float32(39.28511)}\n",
            "Detected person --> Age: 34 | Gender: {'Woman': np.float32(16.664286), 'Man': np.float32(83.33572)}\n"
          ]
        },
        {
          "output_type": "stream",
          "name": "stderr",
          "text": [
            "Action: gender: 100%|██████████| 2/2 [00:00<00:00,  2.23it/s]\n",
            "Action: gender: 100%|██████████| 2/2 [00:01<00:00,  1.50it/s]\n"
          ]
        },
        {
          "output_type": "stream",
          "name": "stdout",
          "text": [
            "Detected person --> Age: 29 | Gender: {'Woman': np.float32(14.415097), 'Man': np.float32(85.58491)}\n",
            "Detected person --> Age: 32 | Gender: {'Woman': np.float32(32.35985), 'Man': np.float32(67.64015)}\n"
          ]
        },
        {
          "output_type": "stream",
          "name": "stderr",
          "text": [
            "Action: gender: 100%|██████████| 2/2 [00:00<00:00,  2.15it/s]\n",
            "Action: gender: 100%|██████████| 2/2 [00:00<00:00,  2.31it/s]\n"
          ]
        },
        {
          "output_type": "stream",
          "name": "stdout",
          "text": [
            "Detected person --> Age: 29 | Gender: {'Woman': np.float32(12.607919), 'Man': np.float32(87.392075)}\n",
            "Detected person --> Age: 33 | Gender: {'Woman': np.float32(27.8265), 'Man': np.float32(72.17351)}\n"
          ]
        },
        {
          "output_type": "stream",
          "name": "stderr",
          "text": [
            "Action: gender: 100%|██████████| 2/2 [00:00<00:00,  2.34it/s]\n"
          ]
        },
        {
          "output_type": "stream",
          "name": "stdout",
          "text": [
            "Detected person --> Age: 34 | Gender: {'Woman': np.float32(36.1817), 'Man': np.float32(63.8183)}\n"
          ]
        },
        {
          "output_type": "stream",
          "name": "stderr",
          "text": [
            "Action: gender: 100%|██████████| 2/2 [00:00<00:00,  2.38it/s]\n",
            "Action: gender: 100%|██████████| 2/2 [00:00<00:00,  2.31it/s]\n"
          ]
        },
        {
          "output_type": "stream",
          "name": "stdout",
          "text": [
            "Detected person --> Age: 28 | Gender: {'Woman': np.float32(10.714889), 'Man': np.float32(89.28512)}\n",
            "Detected person --> Age: 33 | Gender: {'Woman': np.float32(25.544626), 'Man': np.float32(74.455376)}\n"
          ]
        },
        {
          "output_type": "stream",
          "name": "stderr",
          "text": [
            "Action: gender: 100%|██████████| 2/2 [00:00<00:00,  2.33it/s]\n",
            "Action: gender: 100%|██████████| 2/2 [00:00<00:00,  2.32it/s]\n"
          ]
        },
        {
          "output_type": "stream",
          "name": "stdout",
          "text": [
            "Detected person --> Age: 27 | Gender: {'Woman': np.float32(10.504472), 'Man': np.float32(89.49553)}\n",
            "Detected person --> Age: 35 | Gender: {'Woman': np.float32(25.223217), 'Man': np.float32(74.77679)}\n"
          ]
        },
        {
          "output_type": "stream",
          "name": "stderr",
          "text": [
            "Action: gender: 100%|██████████| 2/2 [00:00<00:00,  2.31it/s]\n",
            "Action: gender: 100%|██████████| 2/2 [00:00<00:00,  2.27it/s]\n"
          ]
        },
        {
          "output_type": "stream",
          "name": "stdout",
          "text": [
            "Detected person --> Age: 27 | Gender: {'Woman': np.float32(10.522459), 'Man': np.float32(89.47754)}\n",
            "Detected person --> Age: 35 | Gender: {'Woman': np.float32(38.628967), 'Man': np.float32(61.37103)}\n"
          ]
        },
        {
          "output_type": "stream",
          "name": "stderr",
          "text": [
            "Action: gender: 100%|██████████| 2/2 [00:00<00:00,  2.12it/s]\n"
          ]
        },
        {
          "output_type": "stream",
          "name": "stdout",
          "text": [
            "Detected person --> Age: 34 | Gender: {'Woman': np.float32(29.112621), 'Man': np.float32(70.887375)}\n"
          ]
        },
        {
          "output_type": "stream",
          "name": "stderr",
          "text": [
            "Action: gender: 100%|██████████| 2/2 [00:01<00:00,  1.72it/s]\n",
            "Action: gender: 100%|██████████| 2/2 [00:01<00:00,  1.84it/s]\n"
          ]
        },
        {
          "output_type": "stream",
          "name": "stdout",
          "text": [
            "Detected person --> Age: 27 | Gender: {'Woman': np.float32(9.286358), 'Man': np.float32(90.713646)}\n",
            "Detected person --> Age: 34 | Gender: {'Woman': np.float32(36.524933), 'Man': np.float32(63.475067)}\n"
          ]
        },
        {
          "output_type": "stream",
          "name": "stderr",
          "text": [
            "Action: gender: 100%|██████████| 2/2 [00:00<00:00,  2.28it/s]\n"
          ]
        },
        {
          "output_type": "stream",
          "name": "stdout",
          "text": [
            "Detected person --> Age: 34 | Gender: {'Woman': np.float32(27.802834), 'Man': np.float32(72.19717)}\n"
          ]
        },
        {
          "output_type": "stream",
          "name": "stderr",
          "text": [
            "Action: gender: 100%|██████████| 2/2 [00:00<00:00,  2.12it/s]\n",
            "Action: gender: 100%|██████████| 2/2 [00:00<00:00,  2.06it/s]\n"
          ]
        },
        {
          "output_type": "stream",
          "name": "stdout",
          "text": [
            "Detected person --> Age: 28 | Gender: {'Woman': np.float32(11.483567), 'Man': np.float32(88.51644)}\n",
            "Detected person --> Age: 37 | Gender: {'Woman': np.float32(31.629013), 'Man': np.float32(68.37099)}\n"
          ]
        },
        {
          "output_type": "stream",
          "name": "stderr",
          "text": [
            "Action: gender: 100%|██████████| 2/2 [00:00<00:00,  2.13it/s]\n"
          ]
        },
        {
          "output_type": "stream",
          "name": "stdout",
          "text": [
            "Detected person --> Age: 38 | Gender: {'Woman': np.float32(35.45835), 'Man': np.float32(64.54164)}\n"
          ]
        },
        {
          "output_type": "stream",
          "name": "stderr",
          "text": [
            "Action: gender: 100%|██████████| 2/2 [00:00<00:00,  2.16it/s]\n",
            "Action: gender: 100%|██████████| 2/2 [00:00<00:00,  2.33it/s]\n"
          ]
        },
        {
          "output_type": "stream",
          "name": "stdout",
          "text": [
            "Detected person --> Age: 40 | Gender: {'Woman': np.float32(32.22772), 'Man': np.float32(67.772285)}\n",
            "Detected person --> Age: 37 | Gender: {'Woman': np.float32(4.610223), 'Man': np.float32(95.389786)}\n"
          ]
        },
        {
          "output_type": "stream",
          "name": "stderr",
          "text": [
            "Action: gender: 100%|██████████| 2/2 [00:00<00:00,  2.33it/s]\n",
            "Action: gender: 100%|██████████| 2/2 [00:00<00:00,  2.08it/s]\n"
          ]
        },
        {
          "output_type": "stream",
          "name": "stdout",
          "text": [
            "Detected person --> Age: 27 | Gender: {'Woman': np.float32(8.460363), 'Man': np.float32(91.539635)}\n",
            "Detected person --> Age: 40 | Gender: {'Woman': np.float32(37.39509), 'Man': np.float32(62.604916)}\n"
          ]
        },
        {
          "output_type": "stream",
          "name": "stderr",
          "text": [
            "Action: gender: 100%|██████████| 2/2 [00:00<00:00,  2.12it/s]\n"
          ]
        },
        {
          "output_type": "stream",
          "name": "stdout",
          "text": [
            "Detected person --> Age: 41 | Gender: {'Woman': np.float32(39.635696), 'Man': np.float32(60.3643)}\n"
          ]
        },
        {
          "output_type": "stream",
          "name": "stderr",
          "text": [
            "Action: gender: 100%|██████████| 2/2 [00:01<00:00,  1.84it/s]\n"
          ]
        },
        {
          "output_type": "stream",
          "name": "stdout",
          "text": [
            "Detected person --> Age: 40 | Gender: {'Woman': np.float32(46.734474), 'Man': np.float32(53.26553)}\n"
          ]
        },
        {
          "output_type": "stream",
          "name": "stderr",
          "text": [
            "Action: gender: 100%|██████████| 2/2 [00:01<00:00,  1.86it/s]\n"
          ]
        },
        {
          "output_type": "stream",
          "name": "stdout",
          "text": [
            "Detected person --> Age: 40 | Gender: {'Woman': np.float32(54.41298), 'Man': np.float32(45.58703)}\n"
          ]
        },
        {
          "output_type": "stream",
          "name": "stderr",
          "text": [
            "Action: gender: 100%|██████████| 2/2 [00:00<00:00,  2.01it/s]\n"
          ]
        },
        {
          "output_type": "stream",
          "name": "stdout",
          "text": [
            "Detected person --> Age: 41 | Gender: {'Woman': np.float32(53.38886), 'Man': np.float32(46.61114)}\n"
          ]
        },
        {
          "output_type": "stream",
          "name": "stderr",
          "text": [
            "Action: gender: 100%|██████████| 2/2 [00:01<00:00,  1.94it/s]\n",
            "Action: gender: 100%|██████████| 2/2 [00:00<00:00,  2.35it/s]\n"
          ]
        },
        {
          "output_type": "stream",
          "name": "stdout",
          "text": [
            "Detected person --> Age: 42 | Gender: {'Woman': np.float32(63.784344), 'Man': np.float32(36.215652)}\n",
            "Detected person --> Age: 33 | Gender: {'Woman': np.float32(2.815848), 'Man': np.float32(97.18416)}\n"
          ]
        },
        {
          "output_type": "stream",
          "name": "stderr",
          "text": [
            "Action: gender: 100%|██████████| 2/2 [00:00<00:00,  2.36it/s]\n",
            "Action: gender: 100%|██████████| 2/2 [00:00<00:00,  2.27it/s]\n"
          ]
        },
        {
          "output_type": "stream",
          "name": "stdout",
          "text": [
            "Detected person --> Age: 42 | Gender: {'Woman': np.float32(75.14041), 'Man': np.float32(24.859585)}\n",
            "Detected person --> Age: 33 | Gender: {'Woman': np.float32(5.850357), 'Man': np.float32(94.14964)}\n"
          ]
        },
        {
          "output_type": "stream",
          "name": "stderr",
          "text": [
            "Action: gender: 100%|██████████| 2/2 [00:00<00:00,  2.13it/s]\n",
            "Action: gender: 100%|██████████| 2/2 [00:00<00:00,  2.26it/s]\n"
          ]
        },
        {
          "output_type": "stream",
          "name": "stdout",
          "text": [
            "Detected person --> Age: 42 | Gender: {'Woman': np.float32(67.247406), 'Man': np.float32(32.75259)}\n",
            "Detected person --> Age: 38 | Gender: {'Woman': np.float32(6.6600604), 'Man': np.float32(93.33994)}\n"
          ]
        },
        {
          "output_type": "stream",
          "name": "stderr",
          "text": [
            "Action: gender: 100%|██████████| 2/2 [00:00<00:00,  2.34it/s]\n",
            "Action: gender: 100%|██████████| 2/2 [00:00<00:00,  2.34it/s]\n"
          ]
        },
        {
          "output_type": "stream",
          "name": "stdout",
          "text": [
            "Detected person --> Age: 43 | Gender: {'Woman': np.float32(76.39147), 'Man': np.float32(23.608528)}\n",
            "Detected person --> Age: 32 | Gender: {'Woman': np.float32(4.2086177), 'Man': np.float32(95.791374)}\n"
          ]
        },
        {
          "output_type": "stream",
          "name": "stderr",
          "text": [
            "Action: gender: 100%|██████████| 2/2 [00:00<00:00,  2.04it/s]\n",
            "Action: gender: 100%|██████████| 2/2 [00:01<00:00,  1.66it/s]\n"
          ]
        },
        {
          "output_type": "stream",
          "name": "stdout",
          "text": [
            "Detected person --> Age: 43 | Gender: {'Woman': np.float32(39.686127), 'Man': np.float32(60.313873)}\n",
            "Detected person --> Age: 28 | Gender: {'Woman': np.float32(1.5302604), 'Man': np.float32(98.46975)}\n"
          ]
        },
        {
          "output_type": "stream",
          "name": "stderr",
          "text": [
            "Action: gender: 100%|██████████| 2/2 [00:00<00:00,  2.25it/s]\n"
          ]
        },
        {
          "output_type": "stream",
          "name": "stdout",
          "text": [
            "Detected person --> Age: 43 | Gender: {'Woman': np.float32(36.320145), 'Man': np.float32(63.679855)}\n"
          ]
        },
        {
          "output_type": "stream",
          "name": "stderr",
          "text": [
            "Action: gender: 100%|██████████| 2/2 [00:00<00:00,  2.38it/s]\n",
            "Action: gender: 100%|██████████| 2/2 [00:00<00:00,  2.22it/s]\n"
          ]
        },
        {
          "output_type": "stream",
          "name": "stdout",
          "text": [
            "Detected person --> Age: 43 | Gender: {'Woman': np.float32(35.929253), 'Man': np.float32(64.07074)}\n",
            "Detected person --> Age: 25 | Gender: {'Woman': np.float32(1.5809946), 'Man': np.float32(98.41901)}\n"
          ]
        },
        {
          "output_type": "stream",
          "name": "stderr",
          "text": [
            "Action: gender: 100%|██████████| 2/2 [00:00<00:00,  2.18it/s]\n"
          ]
        },
        {
          "output_type": "stream",
          "name": "stdout",
          "text": [
            "Detected person --> Age: 42 | Gender: {'Woman': np.float32(45.20718), 'Man': np.float32(54.792816)}\n"
          ]
        },
        {
          "output_type": "stream",
          "name": "stderr",
          "text": [
            "Action: gender: 100%|██████████| 2/2 [00:00<00:00,  2.25it/s]\n"
          ]
        },
        {
          "output_type": "stream",
          "name": "stdout",
          "text": [
            "Detected person --> Age: 43 | Gender: {'Woman': np.float32(58.47155), 'Man': np.float32(41.528446)}\n"
          ]
        },
        {
          "output_type": "stream",
          "name": "stderr",
          "text": [
            "Action: gender: 100%|██████████| 2/2 [00:00<00:00,  2.07it/s]\n",
            "Action: gender: 100%|██████████| 2/2 [00:00<00:00,  2.16it/s]\n"
          ]
        },
        {
          "output_type": "stream",
          "name": "stdout",
          "text": [
            "Detected person --> Age: 41 | Gender: {'Woman': np.float32(54.032177), 'Man': np.float32(45.967827)}\n",
            "Detected person --> Age: 25 | Gender: {'Woman': np.float32(0.85119784), 'Man': np.float32(99.148796)}\n"
          ]
        },
        {
          "output_type": "stream",
          "name": "stderr",
          "text": [
            "Action: gender: 100%|██████████| 2/2 [00:00<00:00,  2.29it/s]\n"
          ]
        },
        {
          "output_type": "stream",
          "name": "stdout",
          "text": [
            "Detected person --> Age: 42 | Gender: {'Woman': np.float32(31.697256), 'Man': np.float32(68.30274)}\n"
          ]
        },
        {
          "output_type": "stream",
          "name": "stderr",
          "text": [
            "Action: gender: 100%|██████████| 2/2 [00:00<00:00,  2.32it/s]\n"
          ]
        },
        {
          "output_type": "stream",
          "name": "stdout",
          "text": [
            "Detected person --> Age: 40 | Gender: {'Woman': np.float32(30.727026), 'Man': np.float32(69.27297)}\n"
          ]
        },
        {
          "output_type": "stream",
          "name": "stderr",
          "text": [
            "Action: gender: 100%|██████████| 2/2 [00:00<00:00,  2.15it/s]\n"
          ]
        },
        {
          "output_type": "stream",
          "name": "stdout",
          "text": [
            "Detected person --> Age: 40 | Gender: {'Woman': np.float32(24.817041), 'Man': np.float32(75.18296)}\n"
          ]
        },
        {
          "output_type": "stream",
          "name": "stderr",
          "text": [
            "Action: gender: 100%|██████████| 2/2 [00:01<00:00,  1.78it/s]\n"
          ]
        },
        {
          "output_type": "stream",
          "name": "stdout",
          "text": [
            "Detected person --> Age: 40 | Gender: {'Woman': np.float32(39.719296), 'Man': np.float32(60.280712)}\n"
          ]
        },
        {
          "output_type": "stream",
          "name": "stderr",
          "text": [
            "Action: gender: 100%|██████████| 2/2 [00:00<00:00,  2.36it/s]\n"
          ]
        },
        {
          "output_type": "stream",
          "name": "stdout",
          "text": [
            "Detected person --> Age: 40 | Gender: {'Woman': np.float32(38.576824), 'Man': np.float32(61.423176)}\n"
          ]
        },
        {
          "output_type": "stream",
          "name": "stderr",
          "text": [
            "Action: gender: 100%|██████████| 2/2 [00:00<00:00,  2.30it/s]\n"
          ]
        },
        {
          "output_type": "stream",
          "name": "stdout",
          "text": [
            "Detected person --> Age: 40 | Gender: {'Woman': np.float32(51.12542), 'Man': np.float32(48.87458)}\n"
          ]
        },
        {
          "output_type": "stream",
          "name": "stderr",
          "text": [
            "Action: gender: 100%|██████████| 2/2 [00:00<00:00,  2.12it/s]\n"
          ]
        },
        {
          "output_type": "stream",
          "name": "stdout",
          "text": [
            "Detected person --> Age: 40 | Gender: {'Woman': np.float32(44.10175), 'Man': np.float32(55.898262)}\n"
          ]
        },
        {
          "output_type": "stream",
          "name": "stderr",
          "text": [
            "Action: gender: 100%|██████████| 2/2 [00:00<00:00,  2.11it/s]\n"
          ]
        },
        {
          "output_type": "stream",
          "name": "stdout",
          "text": [
            "Detected person --> Age: 41 | Gender: {'Woman': np.float32(57.37456), 'Man': np.float32(42.625435)}\n"
          ]
        },
        {
          "output_type": "stream",
          "name": "stderr",
          "text": [
            "Action: gender: 100%|██████████| 2/2 [00:00<00:00,  2.13it/s]\n"
          ]
        },
        {
          "output_type": "stream",
          "name": "stdout",
          "text": [
            "Detected person --> Age: 41 | Gender: {'Woman': np.float32(39.74764), 'Man': np.float32(60.25236)}\n"
          ]
        },
        {
          "output_type": "stream",
          "name": "stderr",
          "text": [
            "Action: gender: 100%|██████████| 2/2 [00:00<00:00,  2.15it/s]\n"
          ]
        },
        {
          "output_type": "stream",
          "name": "stdout",
          "text": [
            "Detected person --> Age: 41 | Gender: {'Woman': np.float32(40.102406), 'Man': np.float32(59.897594)}\n"
          ]
        },
        {
          "output_type": "stream",
          "name": "stderr",
          "text": [
            "Action: gender: 100%|██████████| 2/2 [00:00<00:00,  2.17it/s]\n"
          ]
        },
        {
          "output_type": "stream",
          "name": "stdout",
          "text": [
            "Detected person --> Age: 41 | Gender: {'Woman': np.float32(37.261593), 'Man': np.float32(62.738407)}\n"
          ]
        },
        {
          "output_type": "stream",
          "name": "stderr",
          "text": [
            "Action: gender: 100%|██████████| 2/2 [00:00<00:00,  2.35it/s]\n"
          ]
        },
        {
          "output_type": "stream",
          "name": "stdout",
          "text": [
            "Detected person --> Age: 40 | Gender: {'Woman': np.float32(18.42377), 'Man': np.float32(81.576225)}\n"
          ]
        },
        {
          "output_type": "stream",
          "name": "stderr",
          "text": [
            "Action: gender: 100%|██████████| 2/2 [00:00<00:00,  2.33it/s]\n"
          ]
        },
        {
          "output_type": "stream",
          "name": "stdout",
          "text": [
            "Detected person --> Age: 41 | Gender: {'Woman': np.float32(25.490974), 'Man': np.float32(74.50903)}\n"
          ]
        },
        {
          "output_type": "stream",
          "name": "stderr",
          "text": [
            "Action: gender: 100%|██████████| 2/2 [00:01<00:00,  1.91it/s]\n",
            "Action: gender: 100%|██████████| 2/2 [00:01<00:00,  1.92it/s]\n"
          ]
        },
        {
          "output_type": "stream",
          "name": "stdout",
          "text": [
            "Detected person --> Age: 41 | Gender: {'Woman': np.float32(31.840416), 'Man': np.float32(68.159584)}\n",
            "Detected person --> Age: 29 | Gender: {'Woman': np.float32(2.853039), 'Man': np.float32(97.14696)}\n"
          ]
        },
        {
          "output_type": "stream",
          "name": "stderr",
          "text": [
            "Action: gender: 100%|██████████| 2/2 [00:00<00:00,  2.28it/s]\n"
          ]
        },
        {
          "output_type": "stream",
          "name": "stdout",
          "text": [
            "Detected person --> Age: 40 | Gender: {'Woman': np.float32(37.72237), 'Man': np.float32(62.277626)}\n"
          ]
        },
        {
          "output_type": "stream",
          "name": "stderr",
          "text": [
            "Action: gender: 100%|██████████| 2/2 [00:00<00:00,  2.27it/s]\n",
            "Action: gender: 100%|██████████| 2/2 [00:00<00:00,  2.17it/s]\n"
          ]
        },
        {
          "output_type": "stream",
          "name": "stdout",
          "text": [
            "Detected person --> Age: 41 | Gender: {'Woman': np.float32(23.66674), 'Man': np.float32(76.33326)}\n",
            "Detected person --> Age: 31 | Gender: {'Woman': np.float32(3.1738226), 'Man': np.float32(96.82619)}\n"
          ]
        },
        {
          "output_type": "stream",
          "name": "stderr",
          "text": [
            "Action: gender: 100%|██████████| 2/2 [00:00<00:00,  2.39it/s]\n"
          ]
        },
        {
          "output_type": "stream",
          "name": "stdout",
          "text": [
            "Detected person --> Age: 41 | Gender: {'Woman': np.float32(25.538488), 'Man': np.float32(74.46151)}\n"
          ]
        },
        {
          "output_type": "stream",
          "name": "stderr",
          "text": [
            "Action: gender: 100%|██████████| 2/2 [00:00<00:00,  2.33it/s]\n"
          ]
        },
        {
          "output_type": "stream",
          "name": "stdout",
          "text": [
            "Detected person --> Age: 44 | Gender: {'Woman': np.float32(39.237392), 'Man': np.float32(60.762604)}\n"
          ]
        },
        {
          "output_type": "stream",
          "name": "stderr",
          "text": [
            "Action: gender: 100%|██████████| 2/2 [00:00<00:00,  2.08it/s]\n",
            "Action: gender: 100%|██████████| 2/2 [00:00<00:00,  2.09it/s]\n"
          ]
        },
        {
          "output_type": "stream",
          "name": "stdout",
          "text": [
            "Detected person --> Age: 43 | Gender: {'Woman': np.float32(22.891262), 'Man': np.float32(77.10874)}\n",
            "Detected person --> Age: 28 | Gender: {'Woman': np.float32(2.807591), 'Man': np.float32(97.19241)}\n"
          ]
        },
        {
          "output_type": "stream",
          "name": "stderr",
          "text": [
            "Action: gender: 100%|██████████| 2/2 [00:00<00:00,  2.39it/s]\n",
            "Action: gender: 100%|██████████| 2/2 [00:00<00:00,  2.34it/s]\n"
          ]
        },
        {
          "output_type": "stream",
          "name": "stdout",
          "text": [
            "Detected person --> Age: 41 | Gender: {'Woman': np.float32(33.684353), 'Man': np.float32(66.31565)}\n",
            "Detected person --> Age: 29 | Gender: {'Woman': np.float32(2.1695204), 'Man': np.float32(97.83049)}\n"
          ]
        },
        {
          "output_type": "stream",
          "name": "stderr",
          "text": [
            "Action: gender: 100%|██████████| 2/2 [00:01<00:00,  1.93it/s]\n",
            "Action: gender: 100%|██████████| 2/2 [00:01<00:00,  1.66it/s]\n"
          ]
        },
        {
          "output_type": "stream",
          "name": "stdout",
          "text": [
            "Detected person --> Age: 43 | Gender: {'Woman': np.float32(31.988287), 'Man': np.float32(68.01171)}\n",
            "Detected person --> Age: 32 | Gender: {'Woman': np.float32(2.6599565), 'Man': np.float32(97.34004)}\n"
          ]
        },
        {
          "output_type": "stream",
          "name": "stderr",
          "text": [
            "Action: gender: 100%|██████████| 2/2 [00:00<00:00,  2.07it/s]\n"
          ]
        },
        {
          "output_type": "stream",
          "name": "stdout",
          "text": [
            "Detected person --> Age: 41 | Gender: {'Woman': np.float32(32.03263), 'Man': np.float32(67.96737)}\n"
          ]
        },
        {
          "output_type": "stream",
          "name": "stderr",
          "text": [
            "Action: gender: 100%|██████████| 2/2 [00:00<00:00,  2.18it/s]\n",
            "Action: gender: 100%|██████████| 2/2 [00:00<00:00,  2.24it/s]\n"
          ]
        },
        {
          "output_type": "stream",
          "name": "stdout",
          "text": [
            "Detected person --> Age: 41 | Gender: {'Woman': np.float32(40.001854), 'Man': np.float32(59.998154)}\n",
            "Detected person --> Age: 32 | Gender: {'Woman': np.float32(3.3136725), 'Man': np.float32(96.686325)}\n"
          ]
        },
        {
          "output_type": "stream",
          "name": "stderr",
          "text": [
            "Action: gender: 100%|██████████| 2/2 [00:00<00:00,  2.13it/s]\n",
            "Action: gender: 100%|██████████| 2/2 [00:00<00:00,  2.09it/s]\n"
          ]
        },
        {
          "output_type": "stream",
          "name": "stdout",
          "text": [
            "Detected person --> Age: 40 | Gender: {'Woman': np.float32(49.412926), 'Man': np.float32(50.587074)}\n",
            "Detected person --> Age: 29 | Gender: {'Woman': np.float32(2.646322), 'Man': np.float32(97.353676)}\n"
          ]
        },
        {
          "output_type": "stream",
          "name": "stderr",
          "text": [
            "Action: gender: 100%|██████████| 2/2 [00:00<00:00,  2.08it/s]\n",
            "Action: gender: 100%|██████████| 2/2 [00:00<00:00,  2.06it/s]\n"
          ]
        },
        {
          "output_type": "stream",
          "name": "stdout",
          "text": [
            "Detected person --> Age: 32 | Gender: {'Woman': np.float32(2.8405156), 'Man': np.float32(97.159485)}\n",
            "Detected person --> Age: 39 | Gender: {'Woman': np.float32(23.127625), 'Man': np.float32(76.872375)}\n"
          ]
        },
        {
          "output_type": "stream",
          "name": "stderr",
          "text": [
            "Action: gender: 100%|██████████| 2/2 [00:00<00:00,  2.12it/s]\n"
          ]
        },
        {
          "output_type": "stream",
          "name": "stdout",
          "text": [
            "Detected person --> Age: 40 | Gender: {'Woman': np.float32(32.467297), 'Man': np.float32(67.5327)}\n"
          ]
        },
        {
          "output_type": "stream",
          "name": "stderr",
          "text": [
            "Action: gender: 100%|██████████| 2/2 [00:00<00:00,  2.26it/s]\n"
          ]
        },
        {
          "output_type": "stream",
          "name": "stdout",
          "text": [
            "Detected person --> Age: 41 | Gender: {'Woman': np.float32(54.655846), 'Man': np.float32(45.344166)}\n"
          ]
        },
        {
          "output_type": "stream",
          "name": "stderr",
          "text": [
            "Action: gender: 100%|██████████| 2/2 [00:01<00:00,  1.79it/s]\n",
            "Action: gender: 100%|██████████| 2/2 [00:01<00:00,  1.59it/s]\n"
          ]
        },
        {
          "output_type": "stream",
          "name": "stdout",
          "text": [
            "Detected person --> Age: 40 | Gender: {'Woman': np.float32(34.79356), 'Man': np.float32(65.20644)}\n",
            "Detected person --> Age: 29 | Gender: {'Woman': np.float32(2.1486132), 'Man': np.float32(97.85139)}\n"
          ]
        },
        {
          "output_type": "stream",
          "name": "stderr",
          "text": [
            "Action: gender: 100%|██████████| 2/2 [00:00<00:00,  2.31it/s]\n",
            "Action: gender: 100%|██████████| 2/2 [00:00<00:00,  2.15it/s]\n"
          ]
        },
        {
          "output_type": "stream",
          "name": "stdout",
          "text": [
            "Detected person --> Age: 40 | Gender: {'Woman': np.float32(36.565105), 'Man': np.float32(63.434895)}\n",
            "Detected person --> Age: 31 | Gender: {'Woman': np.float32(3.2185972), 'Man': np.float32(96.781395)}\n"
          ]
        },
        {
          "output_type": "stream",
          "name": "stderr",
          "text": [
            "Action: gender: 100%|██████████| 2/2 [00:00<00:00,  2.27it/s]\n",
            "Action: gender: 100%|██████████| 2/2 [00:00<00:00,  2.30it/s]\n"
          ]
        },
        {
          "output_type": "stream",
          "name": "stdout",
          "text": [
            "Detected person --> Age: 42 | Gender: {'Woman': np.float32(50.260193), 'Man': np.float32(49.739803)}\n",
            "Detected person --> Age: 29 | Gender: {'Woman': np.float32(2.4078114), 'Man': np.float32(97.59219)}\n"
          ]
        },
        {
          "output_type": "stream",
          "name": "stderr",
          "text": [
            "Action: gender: 100%|██████████| 2/2 [00:00<00:00,  2.32it/s]\n",
            "Action: gender: 100%|██████████| 2/2 [00:00<00:00,  2.32it/s]\n"
          ]
        },
        {
          "output_type": "stream",
          "name": "stdout",
          "text": [
            "Detected person --> Age: 43 | Gender: {'Woman': np.float32(49.995884), 'Man': np.float32(50.00412)}\n",
            "Detected person --> Age: 31 | Gender: {'Woman': np.float32(2.9609284), 'Man': np.float32(97.03907)}\n"
          ]
        },
        {
          "output_type": "stream",
          "name": "stderr",
          "text": [
            "Action: gender: 100%|██████████| 2/2 [00:00<00:00,  2.34it/s]\n",
            "Action: gender: 100%|██████████| 2/2 [00:00<00:00,  2.24it/s]\n"
          ]
        },
        {
          "output_type": "stream",
          "name": "stdout",
          "text": [
            "Detected person --> Age: 41 | Gender: {'Woman': np.float32(37.940895), 'Man': np.float32(62.059097)}\n",
            "Detected person --> Age: 28 | Gender: {'Woman': np.float32(2.2772872), 'Man': np.float32(97.72272)}\n"
          ]
        },
        {
          "output_type": "stream",
          "name": "stderr",
          "text": [
            "Action: gender: 100%|██████████| 2/2 [00:00<00:00,  2.11it/s]\n",
            "Action: gender: 100%|██████████| 2/2 [00:00<00:00,  2.33it/s]\n"
          ]
        },
        {
          "output_type": "stream",
          "name": "stdout",
          "text": [
            "Detected person --> Age: 41 | Gender: {'Woman': np.float32(44.75929), 'Man': np.float32(55.240707)}\n",
            "Detected person --> Age: 32 | Gender: {'Woman': np.float32(3.3797774), 'Man': np.float32(96.62022)}\n"
          ]
        },
        {
          "output_type": "stream",
          "name": "stderr",
          "text": [
            "Action: gender: 100%|██████████| 2/2 [00:01<00:00,  1.66it/s]\n",
            "Action: gender: 100%|██████████| 2/2 [00:00<00:00,  2.16it/s]\n"
          ]
        },
        {
          "output_type": "stream",
          "name": "stdout",
          "text": [
            "Detected person --> Age: 40 | Gender: {'Woman': np.float32(56.132816), 'Man': np.float32(43.867188)}\n",
            "Detected person --> Age: 28 | Gender: {'Woman': np.float32(2.952874), 'Man': np.float32(97.04713)}\n"
          ]
        },
        {
          "output_type": "stream",
          "name": "stderr",
          "text": [
            "Action: gender: 100%|██████████| 2/2 [00:00<00:00,  2.33it/s]\n",
            "Action: gender: 100%|██████████| 2/2 [00:00<00:00,  2.24it/s]\n"
          ]
        },
        {
          "output_type": "stream",
          "name": "stdout",
          "text": [
            "Detected person --> Age: 40 | Gender: {'Woman': np.float32(32.827324), 'Man': np.float32(67.17267)}\n",
            "Detected person --> Age: 27 | Gender: {'Woman': np.float32(2.5828707), 'Man': np.float32(97.41712)}\n"
          ]
        },
        {
          "output_type": "stream",
          "name": "stderr",
          "text": [
            "Action: gender: 100%|██████████| 2/2 [00:00<00:00,  2.14it/s]\n",
            "Action: gender: 100%|██████████| 2/2 [00:00<00:00,  2.22it/s]\n"
          ]
        },
        {
          "output_type": "stream",
          "name": "stdout",
          "text": [
            "Detected person --> Age: 41 | Gender: {'Woman': np.float32(27.600357), 'Man': np.float32(72.39964)}\n",
            "Detected person --> Age: 27 | Gender: {'Woman': np.float32(2.4578094), 'Man': np.float32(97.54219)}\n"
          ]
        },
        {
          "output_type": "stream",
          "name": "stderr",
          "text": [
            "Action: gender: 100%|██████████| 2/2 [00:00<00:00,  2.35it/s]\n",
            "Action: gender: 100%|██████████| 2/2 [00:00<00:00,  2.36it/s]\n"
          ]
        },
        {
          "output_type": "stream",
          "name": "stdout",
          "text": [
            "Detected person --> Age: 41 | Gender: {'Woman': np.float32(31.436691), 'Man': np.float32(68.56331)}\n",
            "Detected person --> Age: 29 | Gender: {'Woman': np.float32(3.8370728), 'Man': np.float32(96.16293)}\n"
          ]
        },
        {
          "output_type": "stream",
          "name": "stderr",
          "text": [
            "Action: gender: 100%|██████████| 2/2 [00:00<00:00,  2.07it/s]\n"
          ]
        },
        {
          "output_type": "stream",
          "name": "stdout",
          "text": [
            "Detected person --> Age: 40 | Gender: {'Woman': np.float32(29.061481), 'Man': np.float32(70.93852)}\n"
          ]
        },
        {
          "output_type": "stream",
          "name": "stderr",
          "text": [
            "Action: gender: 100%|██████████| 2/2 [00:00<00:00,  2.19it/s]\n"
          ]
        },
        {
          "output_type": "stream",
          "name": "stdout",
          "text": [
            "Detected person --> Age: 41 | Gender: {'Woman': np.float32(32.147312), 'Man': np.float32(67.85269)}\n"
          ]
        },
        {
          "output_type": "stream",
          "name": "stderr",
          "text": [
            "Action: gender: 100%|██████████| 2/2 [00:00<00:00,  2.36it/s]\n",
            "Action: gender: 100%|██████████| 2/2 [00:01<00:00,  1.87it/s]\n"
          ]
        },
        {
          "output_type": "stream",
          "name": "stdout",
          "text": [
            "Detected person --> Age: 41 | Gender: {'Woman': np.float32(22.085403), 'Man': np.float32(77.9146)}\n",
            "Detected person --> Age: 30 | Gender: {'Woman': np.float32(3.0546908), 'Man': np.float32(96.94531)}\n"
          ]
        },
        {
          "output_type": "stream",
          "name": "stderr",
          "text": [
            "Action: gender: 100%|██████████| 2/2 [00:01<00:00,  1.98it/s]\n"
          ]
        },
        {
          "output_type": "stream",
          "name": "stdout",
          "text": [
            "Detected person --> Age: 41 | Gender: {'Woman': np.float32(32.87858), 'Man': np.float32(67.121414)}\n"
          ]
        },
        {
          "output_type": "stream",
          "name": "stderr",
          "text": [
            "Action: gender: 100%|██████████| 2/2 [00:00<00:00,  2.08it/s]\n"
          ]
        },
        {
          "output_type": "stream",
          "name": "stdout",
          "text": [
            "Detected person --> Age: 41 | Gender: {'Woman': np.float32(23.352053), 'Man': np.float32(76.64794)}\n"
          ]
        },
        {
          "output_type": "stream",
          "name": "stderr",
          "text": [
            "Action: gender: 100%|██████████| 2/2 [00:00<00:00,  2.26it/s]\n",
            "Action: gender: 100%|██████████| 2/2 [00:00<00:00,  2.32it/s]\n"
          ]
        },
        {
          "output_type": "stream",
          "name": "stdout",
          "text": [
            "Detected person --> Age: 41 | Gender: {'Woman': np.float32(17.696695), 'Man': np.float32(82.30331)}\n",
            "Detected person --> Age: 28 | Gender: {'Woman': np.float32(3.7473474), 'Man': np.float32(96.25265)}\n"
          ]
        },
        {
          "output_type": "stream",
          "name": "stderr",
          "text": [
            "Action: gender: 100%|██████████| 2/2 [00:00<00:00,  2.35it/s]\n"
          ]
        },
        {
          "output_type": "stream",
          "name": "stdout",
          "text": [
            "Detected person --> Age: 41 | Gender: {'Woman': np.float32(21.64824), 'Man': np.float32(78.35177)}\n"
          ]
        },
        {
          "output_type": "stream",
          "name": "stderr",
          "text": [
            "Action: gender: 100%|██████████| 2/2 [00:00<00:00,  2.31it/s]\n"
          ]
        },
        {
          "output_type": "stream",
          "name": "stdout",
          "text": [
            "Detected person --> Age: 41 | Gender: {'Woman': np.float32(20.799168), 'Man': np.float32(79.20083)}\n"
          ]
        },
        {
          "output_type": "stream",
          "name": "stderr",
          "text": [
            "Action: gender: 100%|██████████| 2/2 [00:00<00:00,  2.23it/s]\n"
          ]
        },
        {
          "output_type": "stream",
          "name": "stdout",
          "text": [
            "Detected person --> Age: 39 | Gender: {'Woman': np.float32(14.466928), 'Man': np.float32(85.53307)}\n"
          ]
        },
        {
          "output_type": "stream",
          "name": "stderr",
          "text": [
            "Action: gender: 100%|██████████| 2/2 [00:00<00:00,  2.10it/s]\n"
          ]
        },
        {
          "output_type": "stream",
          "name": "stdout",
          "text": [
            "Detected person --> Age: 41 | Gender: {'Woman': np.float32(19.73234), 'Man': np.float32(80.26766)}\n"
          ]
        },
        {
          "output_type": "stream",
          "name": "stderr",
          "text": [
            "Action: gender: 100%|██████████| 2/2 [00:00<00:00,  2.21it/s]\n"
          ]
        },
        {
          "output_type": "stream",
          "name": "stdout",
          "text": [
            "Detected person --> Age: 41 | Gender: {'Woman': np.float32(21.801828), 'Man': np.float32(78.19817)}\n"
          ]
        },
        {
          "output_type": "stream",
          "name": "stderr",
          "text": [
            "Action: gender: 100%|██████████| 2/2 [00:00<00:00,  2.29it/s]\n"
          ]
        },
        {
          "output_type": "stream",
          "name": "stdout",
          "text": [
            "Detected person --> Age: 40 | Gender: {'Woman': np.float32(22.827377), 'Man': np.float32(77.17262)}\n"
          ]
        },
        {
          "output_type": "stream",
          "name": "stderr",
          "text": [
            "Action: gender: 100%|██████████| 2/2 [00:01<00:00,  1.76it/s]\n"
          ]
        },
        {
          "output_type": "stream",
          "name": "stdout",
          "text": [
            "Detected person --> Age: 43 | Gender: {'Woman': np.float32(51.732563), 'Man': np.float32(48.267433)}\n"
          ]
        },
        {
          "output_type": "stream",
          "name": "stderr",
          "text": [
            "Action: gender: 100%|██████████| 2/2 [00:00<00:00,  2.22it/s]\n"
          ]
        },
        {
          "output_type": "stream",
          "name": "stdout",
          "text": [
            "Detected person --> Age: 43 | Gender: {'Woman': np.float32(59.594166), 'Man': np.float32(40.40584)}\n"
          ]
        },
        {
          "output_type": "stream",
          "name": "stderr",
          "text": [
            "Action: gender: 100%|██████████| 2/2 [00:00<00:00,  2.10it/s]\n",
            "Action: gender: 100%|██████████| 2/2 [00:00<00:00,  2.12it/s]\n"
          ]
        },
        {
          "output_type": "stream",
          "name": "stdout",
          "text": [
            "Detected person --> Age: 42 | Gender: {'Woman': np.float32(25.28879), 'Man': np.float32(74.71121)}\n",
            "Detected person --> Age: 30 | Gender: {'Woman': np.float32(3.149887), 'Man': np.float32(96.85011)}\n"
          ]
        },
        {
          "output_type": "stream",
          "name": "stderr",
          "text": [
            "Action: gender: 100%|██████████| 2/2 [00:00<00:00,  2.06it/s]\n"
          ]
        },
        {
          "output_type": "stream",
          "name": "stdout",
          "text": [
            "Detected person --> Age: 40 | Gender: {'Woman': np.float32(35.24426), 'Man': np.float32(64.75574)}\n"
          ]
        },
        {
          "output_type": "stream",
          "name": "stderr",
          "text": [
            "Action: gender: 100%|██████████| 2/2 [00:00<00:00,  2.02it/s]\n"
          ]
        },
        {
          "output_type": "stream",
          "name": "stdout",
          "text": [
            "Detected person --> Age: 37 | Gender: {'Woman': np.float32(49.462536), 'Man': np.float32(50.53746)}\n"
          ]
        },
        {
          "output_type": "stream",
          "name": "stderr",
          "text": [
            "Action: gender: 100%|██████████| 2/2 [00:00<00:00,  2.09it/s]\n",
            "Action: gender: 100%|██████████| 2/2 [00:00<00:00,  2.11it/s]\n"
          ]
        },
        {
          "output_type": "stream",
          "name": "stdout",
          "text": [
            "Detected person --> Age: 30 | Gender: {'Woman': np.float32(2.9108884), 'Man': np.float32(97.08911)}\n",
            "Detected person --> Age: 38 | Gender: {'Woman': np.float32(27.123371), 'Man': np.float32(72.87663)}\n"
          ]
        },
        {
          "output_type": "stream",
          "name": "stderr",
          "text": [
            "Action: gender: 100%|██████████| 2/2 [00:00<00:00,  2.37it/s]\n"
          ]
        },
        {
          "output_type": "stream",
          "name": "stdout",
          "text": [
            "Detected person --> Age: 36 | Gender: {'Woman': np.float32(5.4360895), 'Man': np.float32(94.56391)}\n"
          ]
        },
        {
          "output_type": "stream",
          "name": "stderr",
          "text": [
            "Action: gender: 100%|██████████| 2/2 [00:00<00:00,  2.33it/s]\n"
          ]
        },
        {
          "output_type": "stream",
          "name": "stdout",
          "text": [
            "Detected person --> Age: 34 | Gender: {'Woman': np.float32(5.9945393), 'Man': np.float32(94.00546)}\n"
          ]
        },
        {
          "output_type": "stream",
          "name": "stderr",
          "text": [
            "Action: gender: 100%|██████████| 2/2 [00:00<00:00,  2.06it/s]\n"
          ]
        },
        {
          "output_type": "stream",
          "name": "stdout",
          "text": [
            "Detected person --> Age: 35 | Gender: {'Woman': np.float32(6.856623), 'Man': np.float32(93.14337)}\n"
          ]
        },
        {
          "output_type": "stream",
          "name": "stderr",
          "text": [
            "Action: gender: 100%|██████████| 2/2 [00:01<00:00,  1.64it/s]\n",
            "Action: gender: 100%|██████████| 2/2 [00:00<00:00,  2.37it/s]\n"
          ]
        },
        {
          "output_type": "stream",
          "name": "stdout",
          "text": [
            "Detected person --> Age: 30 | Gender: {'Woman': np.float32(3.8998218), 'Man': np.float32(96.10018)}\n",
            "Detected person --> Age: 39 | Gender: {'Woman': np.float32(10.684043), 'Man': np.float32(89.315956)}\n"
          ]
        },
        {
          "output_type": "stream",
          "name": "stderr",
          "text": [
            "Action: gender: 100%|██████████| 2/2 [00:00<00:00,  2.28it/s]\n"
          ]
        },
        {
          "output_type": "stream",
          "name": "stdout",
          "text": [
            "Detected person --> Age: 38 | Gender: {'Woman': np.float32(3.4318466), 'Man': np.float32(96.56815)}\n"
          ]
        },
        {
          "output_type": "stream",
          "name": "stderr",
          "text": [
            "Action: gender: 100%|██████████| 2/2 [00:00<00:00,  2.16it/s]\n"
          ]
        },
        {
          "output_type": "stream",
          "name": "stdout",
          "text": [
            "Detected person --> Age: 29 | Gender: {'Woman': np.float32(3.3156466), 'Man': np.float32(96.68436)}\n"
          ]
        },
        {
          "output_type": "stream",
          "name": "stderr",
          "text": [
            "Action: gender: 100%|██████████| 2/2 [00:00<00:00,  2.23it/s]\n"
          ]
        },
        {
          "output_type": "stream",
          "name": "stdout",
          "text": [
            "Detected person --> Age: 39 | Gender: {'Woman': np.float32(7.3541574), 'Man': np.float32(92.64585)}\n"
          ]
        },
        {
          "output_type": "stream",
          "name": "stderr",
          "text": [
            "Action: gender: 100%|██████████| 2/2 [00:00<00:00,  2.20it/s]\n"
          ]
        },
        {
          "output_type": "stream",
          "name": "stdout",
          "text": [
            "Detected person --> Age: 39 | Gender: {'Woman': np.float32(7.5494504), 'Man': np.float32(92.450554)}\n"
          ]
        },
        {
          "output_type": "stream",
          "name": "stderr",
          "text": [
            "Action: gender: 100%|██████████| 2/2 [00:00<00:00,  2.35it/s]\n"
          ]
        },
        {
          "output_type": "stream",
          "name": "stdout",
          "text": [
            "Detected person --> Age: 39 | Gender: {'Woman': np.float32(6.6586504), 'Man': np.float32(93.341354)}\n"
          ]
        },
        {
          "output_type": "stream",
          "name": "stderr",
          "text": [
            "Action: gender: 100%|██████████| 2/2 [00:00<00:00,  2.28it/s]\n"
          ]
        },
        {
          "output_type": "stream",
          "name": "stdout",
          "text": [
            "Detected person --> Age: 38 | Gender: {'Woman': np.float32(6.7316337), 'Man': np.float32(93.268364)}\n"
          ]
        },
        {
          "output_type": "stream",
          "name": "stderr",
          "text": [
            "Action: gender: 100%|██████████| 2/2 [00:00<00:00,  2.11it/s]\n"
          ]
        },
        {
          "output_type": "stream",
          "name": "stdout",
          "text": [
            "Detected person --> Age: 39 | Gender: {'Woman': np.float32(7.1334004), 'Man': np.float32(92.86659)}\n"
          ]
        },
        {
          "output_type": "stream",
          "name": "stderr",
          "text": [
            "Action: gender: 100%|██████████| 2/2 [00:00<00:00,  2.05it/s]\n"
          ]
        },
        {
          "output_type": "stream",
          "name": "stdout",
          "text": [
            "Detected person --> Age: 38 | Gender: {'Woman': np.float32(7.970129), 'Man': np.float32(92.02987)}\n"
          ]
        },
        {
          "output_type": "stream",
          "name": "stderr",
          "text": [
            "Action: gender: 100%|██████████| 2/2 [00:01<00:00,  1.92it/s]\n"
          ]
        },
        {
          "output_type": "stream",
          "name": "stdout",
          "text": [
            "Detected person --> Age: 38 | Gender: {'Woman': np.float32(10.558686), 'Man': np.float32(89.441315)}\n"
          ]
        },
        {
          "output_type": "stream",
          "name": "stderr",
          "text": [
            "Action: gender: 100%|██████████| 2/2 [00:01<00:00,  1.87it/s]\n"
          ]
        },
        {
          "output_type": "stream",
          "name": "stdout",
          "text": [
            "Detected person --> Age: 37 | Gender: {'Woman': np.float32(13.059911), 'Man': np.float32(86.940094)}\n"
          ]
        },
        {
          "output_type": "stream",
          "name": "stderr",
          "text": [
            "Action: gender: 100%|██████████| 2/2 [00:00<00:00,  2.13it/s]\n"
          ]
        },
        {
          "output_type": "stream",
          "name": "stdout",
          "text": [
            "Detected person --> Age: 38 | Gender: {'Woman': np.float32(12.119383), 'Man': np.float32(87.880615)}\n"
          ]
        },
        {
          "output_type": "stream",
          "name": "stderr",
          "text": [
            "Action: gender: 100%|██████████| 2/2 [00:00<00:00,  2.08it/s]\n"
          ]
        },
        {
          "output_type": "stream",
          "name": "stdout",
          "text": [
            "Detected person --> Age: 38 | Gender: {'Woman': np.float32(11.324656), 'Man': np.float32(88.67535)}\n"
          ]
        },
        {
          "output_type": "stream",
          "name": "stderr",
          "text": [
            "Action: gender: 100%|██████████| 2/2 [00:00<00:00,  2.10it/s]\n"
          ]
        },
        {
          "output_type": "stream",
          "name": "stdout",
          "text": [
            "Detected person --> Age: 36 | Gender: {'Woman': np.float32(10.872759), 'Man': np.float32(89.12724)}\n"
          ]
        },
        {
          "output_type": "stream",
          "name": "stderr",
          "text": [
            "Action: gender: 100%|██████████| 2/2 [00:00<00:00,  2.33it/s]\n"
          ]
        },
        {
          "output_type": "stream",
          "name": "stdout",
          "text": [
            "Detected person --> Age: 35 | Gender: {'Woman': np.float32(9.911165), 'Man': np.float32(90.08883)}\n"
          ]
        },
        {
          "output_type": "stream",
          "name": "stderr",
          "text": [
            "Action: gender: 100%|██████████| 2/2 [00:00<00:00,  2.08it/s]\n"
          ]
        },
        {
          "output_type": "stream",
          "name": "stdout",
          "text": [
            "Detected person --> Age: 34 | Gender: {'Woman': np.float32(10.4530525), 'Man': np.float32(89.54695)}\n"
          ]
        },
        {
          "output_type": "stream",
          "name": "stderr",
          "text": [
            "Action: gender: 100%|██████████| 2/2 [00:00<00:00,  2.35it/s]\n"
          ]
        },
        {
          "output_type": "stream",
          "name": "stdout",
          "text": [
            "Detected person --> Age: 35 | Gender: {'Woman': np.float32(9.864305), 'Man': np.float32(90.1357)}\n"
          ]
        },
        {
          "output_type": "stream",
          "name": "stderr",
          "text": [
            "Action: gender: 100%|██████████| 2/2 [00:00<00:00,  2.36it/s]\n"
          ]
        },
        {
          "output_type": "stream",
          "name": "stdout",
          "text": [
            "Detected person --> Age: 32 | Gender: {'Woman': np.float32(10.042774), 'Man': np.float32(89.95722)}\n"
          ]
        },
        {
          "output_type": "stream",
          "name": "stderr",
          "text": [
            "Action: gender: 100%|██████████| 2/2 [00:00<00:00,  2.32it/s]\n"
          ]
        },
        {
          "output_type": "stream",
          "name": "stdout",
          "text": [
            "Detected person --> Age: 34 | Gender: {'Woman': np.float32(12.005641), 'Man': np.float32(87.99436)}\n"
          ]
        },
        {
          "output_type": "stream",
          "name": "stderr",
          "text": [
            "Action: gender: 100%|██████████| 2/2 [00:00<00:00,  2.29it/s]\n"
          ]
        },
        {
          "output_type": "stream",
          "name": "stdout",
          "text": [
            "Detected person --> Age: 36 | Gender: {'Woman': np.float32(11.62953), 'Man': np.float32(88.370476)}\n"
          ]
        },
        {
          "output_type": "stream",
          "name": "stderr",
          "text": [
            "Action: gender: 100%|██████████| 2/2 [00:01<00:00,  1.77it/s]\n"
          ]
        },
        {
          "output_type": "stream",
          "name": "stdout",
          "text": [
            "Detected person --> Age: 35 | Gender: {'Woman': np.float32(11.760429), 'Man': np.float32(88.23958)}\n"
          ]
        },
        {
          "output_type": "stream",
          "name": "stderr",
          "text": [
            "Action: gender: 100%|██████████| 2/2 [00:01<00:00,  1.86it/s]\n"
          ]
        },
        {
          "output_type": "stream",
          "name": "stdout",
          "text": [
            "Detected person --> Age: 35 | Gender: {'Woman': np.float32(11.92096), 'Man': np.float32(88.07904)}\n"
          ]
        },
        {
          "output_type": "stream",
          "name": "stderr",
          "text": [
            "Action: gender: 100%|██████████| 2/2 [00:00<00:00,  2.07it/s]\n"
          ]
        },
        {
          "output_type": "stream",
          "name": "stdout",
          "text": [
            "Detected person --> Age: 35 | Gender: {'Woman': np.float32(11.803419), 'Man': np.float32(88.19658)}\n"
          ]
        },
        {
          "output_type": "stream",
          "name": "stderr",
          "text": [
            "Action: gender: 100%|██████████| 2/2 [00:00<00:00,  2.10it/s]\n"
          ]
        },
        {
          "output_type": "stream",
          "name": "stdout",
          "text": [
            "Detected person --> Age: 35 | Gender: {'Woman': np.float32(11.994934), 'Man': np.float32(88.00507)}\n"
          ]
        },
        {
          "output_type": "stream",
          "name": "stderr",
          "text": [
            "Action: gender: 100%|██████████| 2/2 [00:00<00:00,  2.09it/s]\n"
          ]
        },
        {
          "output_type": "stream",
          "name": "stdout",
          "text": [
            "Detected person --> Age: 35 | Gender: {'Woman': np.float32(11.951196), 'Man': np.float32(88.04881)}\n"
          ]
        },
        {
          "output_type": "stream",
          "name": "stderr",
          "text": [
            "Action: gender: 100%|██████████| 2/2 [00:00<00:00,  2.24it/s]\n"
          ]
        },
        {
          "output_type": "stream",
          "name": "stdout",
          "text": [
            "Detected person --> Age: 35 | Gender: {'Woman': np.float32(12.140593), 'Man': np.float32(87.85941)}\n"
          ]
        },
        {
          "output_type": "stream",
          "name": "stderr",
          "text": [
            "Action: gender: 100%|██████████| 2/2 [00:00<00:00,  2.39it/s]\n"
          ]
        },
        {
          "output_type": "stream",
          "name": "stdout",
          "text": [
            "Detected person --> Age: 35 | Gender: {'Woman': np.float32(12.282862), 'Man': np.float32(87.71715)}\n"
          ]
        },
        {
          "output_type": "stream",
          "name": "stderr",
          "text": [
            "Action: gender: 100%|██████████| 2/2 [00:00<00:00,  2.40it/s]\n"
          ]
        },
        {
          "output_type": "stream",
          "name": "stdout",
          "text": [
            "Detected person --> Age: 35 | Gender: {'Woman': np.float32(12.219138), 'Man': np.float32(87.78086)}\n"
          ]
        },
        {
          "output_type": "stream",
          "name": "stderr",
          "text": [
            "Action: gender: 100%|██████████| 2/2 [00:00<00:00,  2.34it/s]\n"
          ]
        },
        {
          "output_type": "stream",
          "name": "stdout",
          "text": [
            "Detected person --> Age: 36 | Gender: {'Woman': np.float32(12.347717), 'Man': np.float32(87.65229)}\n"
          ]
        },
        {
          "output_type": "stream",
          "name": "stderr",
          "text": [
            "Action: gender: 100%|██████████| 2/2 [00:00<00:00,  2.34it/s]\n"
          ]
        },
        {
          "output_type": "stream",
          "name": "stdout",
          "text": [
            "Detected person --> Age: 35 | Gender: {'Woman': np.float32(12.441615), 'Man': np.float32(87.55838)}\n"
          ]
        },
        {
          "output_type": "stream",
          "name": "stderr",
          "text": [
            "Action: gender: 100%|██████████| 2/2 [00:00<00:00,  2.33it/s]\n"
          ]
        },
        {
          "output_type": "stream",
          "name": "stdout",
          "text": [
            "Detected person --> Age: 35 | Gender: {'Woman': np.float32(12.42083), 'Man': np.float32(87.57917)}\n"
          ]
        },
        {
          "output_type": "stream",
          "name": "stderr",
          "text": [
            "Action: gender: 100%|██████████| 2/2 [00:01<00:00,  1.81it/s]\n"
          ]
        },
        {
          "output_type": "stream",
          "name": "stdout",
          "text": [
            "Detected person --> Age: 35 | Gender: {'Woman': np.float32(12.456634), 'Man': np.float32(87.543365)}\n"
          ]
        },
        {
          "output_type": "stream",
          "name": "stderr",
          "text": [
            "Action: gender: 100%|██████████| 2/2 [00:01<00:00,  1.89it/s]\n"
          ]
        },
        {
          "output_type": "stream",
          "name": "stdout",
          "text": [
            "Detected person --> Age: 36 | Gender: {'Woman': np.float32(12.334193), 'Man': np.float32(87.66581)}\n"
          ]
        },
        {
          "output_type": "stream",
          "name": "stderr",
          "text": [
            "Action: gender: 100%|██████████| 2/2 [00:00<00:00,  2.31it/s]\n"
          ]
        },
        {
          "output_type": "stream",
          "name": "stdout",
          "text": [
            "Detected person --> Age: 35 | Gender: {'Woman': np.float32(12.420989), 'Man': np.float32(87.57902)}\n"
          ]
        },
        {
          "output_type": "stream",
          "name": "stderr",
          "text": [
            "Action: gender: 100%|██████████| 2/2 [00:00<00:00,  2.30it/s]\n"
          ]
        },
        {
          "output_type": "stream",
          "name": "stdout",
          "text": [
            "Detected person --> Age: 36 | Gender: {'Woman': np.float32(12.619198), 'Man': np.float32(87.380806)}\n"
          ]
        },
        {
          "output_type": "stream",
          "name": "stderr",
          "text": [
            "Action: gender: 100%|██████████| 2/2 [00:00<00:00,  2.31it/s]\n"
          ]
        },
        {
          "output_type": "stream",
          "name": "stdout",
          "text": [
            "Detected person --> Age: 36 | Gender: {'Woman': np.float32(12.572338), 'Man': np.float32(87.427666)}\n"
          ]
        },
        {
          "output_type": "stream",
          "name": "stderr",
          "text": [
            "Action: gender: 100%|██████████| 2/2 [00:00<00:00,  2.35it/s]\n"
          ]
        },
        {
          "output_type": "stream",
          "name": "stdout",
          "text": [
            "Detected person --> Age: 35 | Gender: {'Woman': np.float32(12.586657), 'Man': np.float32(87.413345)}\n"
          ]
        },
        {
          "output_type": "stream",
          "name": "stderr",
          "text": [
            "Action: gender: 100%|██████████| 2/2 [00:00<00:00,  2.30it/s]\n"
          ]
        },
        {
          "output_type": "stream",
          "name": "stdout",
          "text": [
            "Detected person --> Age: 35 | Gender: {'Woman': np.float32(12.517478), 'Man': np.float32(87.48252)}\n"
          ]
        },
        {
          "output_type": "stream",
          "name": "stderr",
          "text": [
            "Action: gender: 100%|██████████| 2/2 [00:00<00:00,  2.34it/s]\n"
          ]
        },
        {
          "output_type": "stream",
          "name": "stdout",
          "text": [
            "Detected person --> Age: 35 | Gender: {'Woman': np.float32(12.20307), 'Man': np.float32(87.796936)}\n"
          ]
        },
        {
          "output_type": "stream",
          "name": "stderr",
          "text": [
            "Action: gender: 100%|██████████| 2/2 [00:00<00:00,  2.33it/s]\n"
          ]
        },
        {
          "output_type": "stream",
          "name": "stdout",
          "text": [
            "Detected person --> Age: 35 | Gender: {'Woman': np.float32(12.216738), 'Man': np.float32(87.78326)}\n"
          ]
        },
        {
          "output_type": "stream",
          "name": "stderr",
          "text": [
            "Action: gender: 100%|██████████| 2/2 [00:00<00:00,  2.28it/s]\n"
          ]
        },
        {
          "output_type": "stream",
          "name": "stdout",
          "text": [
            "Detected person --> Age: 35 | Gender: {'Woman': np.float32(12.263546), 'Man': np.float32(87.73646)}\n"
          ]
        },
        {
          "output_type": "stream",
          "name": "stderr",
          "text": [
            "Action: gender: 100%|██████████| 2/2 [00:00<00:00,  2.31it/s]\n"
          ]
        },
        {
          "output_type": "stream",
          "name": "stdout",
          "text": [
            "Detected person --> Age: 35 | Gender: {'Woman': np.float32(12.29445), 'Man': np.float32(87.70555)}\n"
          ]
        },
        {
          "output_type": "stream",
          "name": "stderr",
          "text": [
            "Action: gender: 100%|██████████| 2/2 [00:00<00:00,  2.02it/s]\n"
          ]
        },
        {
          "output_type": "stream",
          "name": "stdout",
          "text": [
            "Detected person --> Age: 35 | Gender: {'Woman': np.float32(12.476197), 'Man': np.float32(87.5238)}\n"
          ]
        },
        {
          "output_type": "stream",
          "name": "stderr",
          "text": [
            "Action: gender: 100%|██████████| 2/2 [00:01<00:00,  1.81it/s]\n"
          ]
        },
        {
          "output_type": "stream",
          "name": "stdout",
          "text": [
            "Detected person --> Age: 35 | Gender: {'Woman': np.float32(12.609575), 'Man': np.float32(87.39043)}\n"
          ]
        },
        {
          "output_type": "stream",
          "name": "stderr",
          "text": [
            "Action: gender: 100%|██████████| 2/2 [00:00<00:00,  2.35it/s]\n"
          ]
        },
        {
          "output_type": "stream",
          "name": "stdout",
          "text": [
            "Detected person --> Age: 35 | Gender: {'Woman': np.float32(12.645536), 'Man': np.float32(87.35446)}\n"
          ]
        },
        {
          "output_type": "stream",
          "name": "stderr",
          "text": [
            "Action: gender: 100%|██████████| 2/2 [00:00<00:00,  2.14it/s]\n"
          ]
        },
        {
          "output_type": "stream",
          "name": "stdout",
          "text": [
            "Detected person --> Age: 35 | Gender: {'Woman': np.float32(12.635465), 'Man': np.float32(87.36454)}\n"
          ]
        },
        {
          "output_type": "stream",
          "name": "stderr",
          "text": [
            "Action: gender: 100%|██████████| 2/2 [00:00<00:00,  2.26it/s]\n"
          ]
        },
        {
          "output_type": "stream",
          "name": "stdout",
          "text": [
            "Detected person --> Age: 35 | Gender: {'Woman': np.float32(12.601945), 'Man': np.float32(87.398056)}\n"
          ]
        },
        {
          "output_type": "stream",
          "name": "stderr",
          "text": [
            "Action: gender: 100%|██████████| 2/2 [00:00<00:00,  2.14it/s]\n"
          ]
        },
        {
          "output_type": "stream",
          "name": "stdout",
          "text": [
            "Detected person --> Age: 35 | Gender: {'Woman': np.float32(12.549631), 'Man': np.float32(87.45037)}\n"
          ]
        },
        {
          "output_type": "stream",
          "name": "stderr",
          "text": [
            "Action: gender: 100%|██████████| 2/2 [00:00<00:00,  2.32it/s]\n"
          ]
        },
        {
          "output_type": "stream",
          "name": "stdout",
          "text": [
            "Detected person --> Age: 35 | Gender: {'Woman': np.float32(12.362163), 'Man': np.float32(87.63783)}\n"
          ]
        },
        {
          "output_type": "stream",
          "name": "stderr",
          "text": [
            "Action: gender: 100%|██████████| 2/2 [00:00<00:00,  2.13it/s]\n"
          ]
        },
        {
          "output_type": "stream",
          "name": "stdout",
          "text": [
            "Detected person --> Age: 35 | Gender: {'Woman': np.float32(12.551427), 'Man': np.float32(87.44857)}\n"
          ]
        },
        {
          "output_type": "stream",
          "name": "stderr",
          "text": [
            "Action: gender: 100%|██████████| 2/2 [00:00<00:00,  2.09it/s]\n"
          ]
        },
        {
          "output_type": "stream",
          "name": "stdout",
          "text": [
            "Detected person --> Age: 35 | Gender: {'Woman': np.float32(12.653982), 'Man': np.float32(87.34602)}\n"
          ]
        },
        {
          "output_type": "stream",
          "name": "stderr",
          "text": [
            "Action: gender: 100%|██████████| 2/2 [00:00<00:00,  2.25it/s]\n"
          ]
        },
        {
          "output_type": "stream",
          "name": "stdout",
          "text": [
            "Detected person --> Age: 36 | Gender: {'Woman': np.float32(12.737181), 'Man': np.float32(87.26282)}\n"
          ]
        },
        {
          "output_type": "stream",
          "name": "stderr",
          "text": [
            "Action: gender: 100%|██████████| 2/2 [00:00<00:00,  2.14it/s]\n"
          ]
        },
        {
          "output_type": "stream",
          "name": "stdout",
          "text": [
            "Detected person --> Age: 35 | Gender: {'Woman': np.float32(12.438217), 'Man': np.float32(87.56178)}\n"
          ]
        },
        {
          "output_type": "stream",
          "name": "stderr",
          "text": [
            "Action: gender: 100%|██████████| 2/2 [00:01<00:00,  1.66it/s]\n"
          ]
        },
        {
          "output_type": "stream",
          "name": "stdout",
          "text": [
            "Detected person --> Age: 35 | Gender: {'Woman': np.float32(12.530014), 'Man': np.float32(87.469986)}\n"
          ]
        },
        {
          "output_type": "stream",
          "name": "stderr",
          "text": [
            "Action: gender: 100%|██████████| 2/2 [00:01<00:00,  1.99it/s]\n"
          ]
        },
        {
          "output_type": "stream",
          "name": "stdout",
          "text": [
            "Detected person --> Age: 35 | Gender: {'Woman': np.float32(12.489228), 'Man': np.float32(87.51077)}\n"
          ]
        },
        {
          "output_type": "stream",
          "name": "stderr",
          "text": [
            "Action: gender: 100%|██████████| 2/2 [00:00<00:00,  2.25it/s]\n"
          ]
        },
        {
          "output_type": "stream",
          "name": "stdout",
          "text": [
            "Detected person --> Age: 35 | Gender: {'Woman': np.float32(12.644343), 'Man': np.float32(87.35565)}\n"
          ]
        },
        {
          "output_type": "stream",
          "name": "stderr",
          "text": [
            "Action: gender: 100%|██████████| 2/2 [00:00<00:00,  2.09it/s]\n"
          ]
        },
        {
          "output_type": "stream",
          "name": "stdout",
          "text": [
            "Detected person --> Age: 35 | Gender: {'Woman': np.float32(12.503144), 'Man': np.float32(87.49686)}\n"
          ]
        },
        {
          "output_type": "stream",
          "name": "stderr",
          "text": [
            "Action: gender: 100%|██████████| 2/2 [00:00<00:00,  2.11it/s]\n"
          ]
        },
        {
          "output_type": "stream",
          "name": "stdout",
          "text": [
            "Detected person --> Age: 36 | Gender: {'Woman': np.float32(12.670506), 'Man': np.float32(87.32949)}\n"
          ]
        },
        {
          "output_type": "stream",
          "name": "stderr",
          "text": [
            "Action: gender: 100%|██████████| 2/2 [00:00<00:00,  2.17it/s]\n"
          ]
        },
        {
          "output_type": "stream",
          "name": "stdout",
          "text": [
            "Detected person --> Age: 35 | Gender: {'Woman': np.float32(12.701225), 'Man': np.float32(87.298775)}\n"
          ]
        },
        {
          "output_type": "stream",
          "name": "stderr",
          "text": [
            "Action: gender: 100%|██████████| 2/2 [00:00<00:00,  2.14it/s]\n"
          ]
        },
        {
          "output_type": "stream",
          "name": "stdout",
          "text": [
            "Detected person --> Age: 36 | Gender: {'Woman': np.float32(12.617858), 'Man': np.float32(87.38214)}\n"
          ]
        },
        {
          "output_type": "stream",
          "name": "stderr",
          "text": [
            "Action: gender: 100%|██████████| 2/2 [00:00<00:00,  2.35it/s]\n"
          ]
        },
        {
          "output_type": "stream",
          "name": "stdout",
          "text": [
            "Detected person --> Age: 35 | Gender: {'Woman': np.float32(12.684991), 'Man': np.float32(87.31501)}\n"
          ]
        },
        {
          "output_type": "stream",
          "name": "stderr",
          "text": [
            "Action: gender: 100%|██████████| 2/2 [00:00<00:00,  2.33it/s]\n"
          ]
        },
        {
          "output_type": "stream",
          "name": "stdout",
          "text": [
            "Detected person --> Age: 36 | Gender: {'Woman': np.float32(12.686384), 'Man': np.float32(87.313614)}\n"
          ]
        },
        {
          "output_type": "stream",
          "name": "stderr",
          "text": [
            "Action: gender: 100%|██████████| 2/2 [00:00<00:00,  2.30it/s]\n"
          ]
        },
        {
          "output_type": "stream",
          "name": "stdout",
          "text": [
            "Detected person --> Age: 35 | Gender: {'Woman': np.float32(12.481252), 'Man': np.float32(87.518745)}\n"
          ]
        },
        {
          "output_type": "stream",
          "name": "stderr",
          "text": [
            "Action: gender: 100%|██████████| 2/2 [00:00<00:00,  2.17it/s]\n"
          ]
        },
        {
          "output_type": "stream",
          "name": "stdout",
          "text": [
            "Detected person --> Age: 35 | Gender: {'Woman': np.float32(12.631056), 'Man': np.float32(87.36895)}\n"
          ]
        },
        {
          "output_type": "stream",
          "name": "stderr",
          "text": [
            "Action: gender: 100%|██████████| 2/2 [00:01<00:00,  1.79it/s]\n"
          ]
        },
        {
          "output_type": "stream",
          "name": "stdout",
          "text": [
            "Detected person --> Age: 35 | Gender: {'Woman': np.float32(12.714081), 'Man': np.float32(87.28592)}\n"
          ]
        },
        {
          "output_type": "stream",
          "name": "stderr",
          "text": [
            "Action: gender: 100%|██████████| 2/2 [00:00<00:00,  2.05it/s]\n"
          ]
        },
        {
          "output_type": "stream",
          "name": "stdout",
          "text": [
            "Detected person --> Age: 35 | Gender: {'Woman': np.float32(12.756322), 'Man': np.float32(87.243675)}\n"
          ]
        },
        {
          "output_type": "stream",
          "name": "stderr",
          "text": [
            "Action: gender: 100%|██████████| 2/2 [00:00<00:00,  2.16it/s]\n"
          ]
        },
        {
          "output_type": "stream",
          "name": "stdout",
          "text": [
            "Detected person --> Age: 35 | Gender: {'Woman': np.float32(12.721401), 'Man': np.float32(87.278595)}\n"
          ]
        },
        {
          "output_type": "stream",
          "name": "stderr",
          "text": [
            "Action: gender: 100%|██████████| 2/2 [00:00<00:00,  2.31it/s]\n"
          ]
        },
        {
          "output_type": "stream",
          "name": "stdout",
          "text": [
            "Detected person --> Age: 35 | Gender: {'Woman': np.float32(12.388214), 'Man': np.float32(87.611786)}\n"
          ]
        },
        {
          "output_type": "stream",
          "name": "stderr",
          "text": [
            "Action: gender: 100%|██████████| 2/2 [00:00<00:00,  2.24it/s]\n"
          ]
        },
        {
          "output_type": "stream",
          "name": "stdout",
          "text": [
            "Detected person --> Age: 35 | Gender: {'Woman': np.float32(12.552449), 'Man': np.float32(87.44755)}\n"
          ]
        },
        {
          "output_type": "stream",
          "name": "stderr",
          "text": [
            "Action: gender: 100%|██████████| 2/2 [00:00<00:00,  2.11it/s]\n"
          ]
        },
        {
          "output_type": "stream",
          "name": "stdout",
          "text": [
            "Detected person --> Age: 35 | Gender: {'Woman': np.float32(12.607549), 'Man': np.float32(87.39245)}\n"
          ]
        },
        {
          "output_type": "stream",
          "name": "stderr",
          "text": [
            "Action: gender: 100%|██████████| 2/2 [00:00<00:00,  2.19it/s]\n"
          ]
        },
        {
          "output_type": "stream",
          "name": "stdout",
          "text": [
            "Detected person --> Age: 35 | Gender: {'Woman': np.float32(12.556709), 'Man': np.float32(87.44329)}\n"
          ]
        },
        {
          "output_type": "stream",
          "name": "stderr",
          "text": [
            "Action: gender: 100%|██████████| 2/2 [00:00<00:00,  2.30it/s]\n"
          ]
        },
        {
          "output_type": "stream",
          "name": "stdout",
          "text": [
            "Detected person --> Age: 35 | Gender: {'Woman': np.float32(12.586379), 'Man': np.float32(87.41362)}\n"
          ]
        },
        {
          "output_type": "stream",
          "name": "stderr",
          "text": [
            "Action: gender: 100%|██████████| 2/2 [00:00<00:00,  2.23it/s]\n"
          ]
        },
        {
          "output_type": "stream",
          "name": "stdout",
          "text": [
            "Detected person --> Age: 35 | Gender: {'Woman': np.float32(12.718992), 'Man': np.float32(87.281006)}\n"
          ]
        },
        {
          "output_type": "stream",
          "name": "stderr",
          "text": [
            "Action: gender: 100%|██████████| 2/2 [00:00<00:00,  2.15it/s]\n"
          ]
        },
        {
          "output_type": "stream",
          "name": "stdout",
          "text": [
            "Detected person --> Age: 35 | Gender: {'Woman': np.float32(12.654032), 'Man': np.float32(87.34597)}\n"
          ]
        },
        {
          "output_type": "stream",
          "name": "stderr",
          "text": [
            "Action: gender: 100%|██████████| 2/2 [00:00<00:00,  2.31it/s]\n"
          ]
        },
        {
          "output_type": "stream",
          "name": "stdout",
          "text": [
            "Detected person --> Age: 35 | Gender: {'Woman': np.float32(12.505285), 'Man': np.float32(87.49471)}\n"
          ]
        },
        {
          "output_type": "stream",
          "name": "stderr",
          "text": [
            "Action: gender: 100%|██████████| 2/2 [00:01<00:00,  1.63it/s]\n"
          ]
        },
        {
          "output_type": "stream",
          "name": "stdout",
          "text": [
            "Detected person --> Age: 35 | Gender: {'Woman': np.float32(12.536576), 'Man': np.float32(87.46342)}\n"
          ]
        },
        {
          "output_type": "stream",
          "name": "stderr",
          "text": [
            "Action: gender: 100%|██████████| 2/2 [00:00<00:00,  2.19it/s]\n"
          ]
        },
        {
          "output_type": "stream",
          "name": "stdout",
          "text": [
            "Detected person --> Age: 35 | Gender: {'Woman': np.float32(12.67546), 'Man': np.float32(87.32454)}\n"
          ]
        },
        {
          "output_type": "stream",
          "name": "stderr",
          "text": [
            "Action: gender: 100%|██████████| 2/2 [00:00<00:00,  2.14it/s]\n"
          ]
        },
        {
          "output_type": "stream",
          "name": "stdout",
          "text": [
            "Detected person --> Age: 35 | Gender: {'Woman': np.float32(12.570435), 'Man': np.float32(87.429565)}\n"
          ]
        },
        {
          "output_type": "stream",
          "name": "stderr",
          "text": [
            "Action: gender: 100%|██████████| 2/2 [00:00<00:00,  2.33it/s]\n"
          ]
        },
        {
          "output_type": "stream",
          "name": "stdout",
          "text": [
            "Detected person --> Age: 35 | Gender: {'Woman': np.float32(12.684649), 'Man': np.float32(87.315346)}\n"
          ]
        },
        {
          "output_type": "stream",
          "name": "stderr",
          "text": [
            "Action: gender: 100%|██████████| 2/2 [00:00<00:00,  2.31it/s]\n"
          ]
        },
        {
          "output_type": "stream",
          "name": "stdout",
          "text": [
            "Detected person --> Age: 35 | Gender: {'Woman': np.float32(12.523224), 'Man': np.float32(87.47677)}\n"
          ]
        },
        {
          "output_type": "stream",
          "name": "stderr",
          "text": [
            "Action: gender: 100%|██████████| 2/2 [00:00<00:00,  2.37it/s]\n"
          ]
        },
        {
          "output_type": "stream",
          "name": "stdout",
          "text": [
            "Detected person --> Age: 35 | Gender: {'Woman': np.float32(12.546169), 'Man': np.float32(87.45383)}\n"
          ]
        },
        {
          "output_type": "stream",
          "name": "stderr",
          "text": [
            "Action: gender: 100%|██████████| 2/2 [00:00<00:00,  2.35it/s]\n"
          ]
        },
        {
          "output_type": "stream",
          "name": "stdout",
          "text": [
            "Detected person --> Age: 35 | Gender: {'Woman': np.float32(12.7330675), 'Man': np.float32(87.26694)}\n"
          ]
        },
        {
          "output_type": "stream",
          "name": "stderr",
          "text": [
            "Action: gender: 100%|██████████| 2/2 [00:00<00:00,  2.34it/s]\n"
          ]
        },
        {
          "output_type": "stream",
          "name": "stdout",
          "text": [
            "Detected person --> Age: 35 | Gender: {'Woman': np.float32(12.708953), 'Man': np.float32(87.291046)}\n"
          ]
        },
        {
          "output_type": "stream",
          "name": "stderr",
          "text": [
            "Action: gender: 100%|██████████| 2/2 [00:00<00:00,  2.09it/s]\n"
          ]
        },
        {
          "output_type": "stream",
          "name": "stdout",
          "text": [
            "Detected person --> Age: 35 | Gender: {'Woman': np.float32(12.598507), 'Man': np.float32(87.40149)}\n"
          ]
        },
        {
          "output_type": "stream",
          "name": "stderr",
          "text": [
            "Action: gender: 100%|██████████| 2/2 [00:00<00:00,  2.12it/s]\n"
          ]
        },
        {
          "output_type": "stream",
          "name": "stdout",
          "text": [
            "Detected person --> Age: 35 | Gender: {'Woman': np.float32(12.513026), 'Man': np.float32(87.48698)}\n"
          ]
        },
        {
          "output_type": "stream",
          "name": "stderr",
          "text": [
            "Action: gender: 100%|██████████| 2/2 [00:00<00:00,  2.27it/s]\n"
          ]
        },
        {
          "output_type": "stream",
          "name": "stdout",
          "text": [
            "Detected person --> Age: 35 | Gender: {'Woman': np.float32(12.714365), 'Man': np.float32(87.28564)}\n"
          ]
        },
        {
          "output_type": "stream",
          "name": "stderr",
          "text": [
            "Action: gender: 100%|██████████| 2/2 [00:01<00:00,  1.68it/s]\n"
          ]
        },
        {
          "output_type": "stream",
          "name": "stdout",
          "text": [
            "Detected person --> Age: 35 | Gender: {'Woman': np.float32(12.56543), 'Man': np.float32(87.43456)}\n"
          ]
        },
        {
          "output_type": "stream",
          "name": "stderr",
          "text": [
            "Action: gender: 100%|██████████| 2/2 [00:00<00:00,  2.01it/s]\n"
          ]
        },
        {
          "output_type": "stream",
          "name": "stdout",
          "text": [
            "Detected person --> Age: 35 | Gender: {'Woman': np.float32(12.582218), 'Man': np.float32(87.41778)}\n"
          ]
        },
        {
          "output_type": "stream",
          "name": "stderr",
          "text": [
            "Action: gender: 100%|██████████| 2/2 [00:00<00:00,  2.33it/s]\n"
          ]
        },
        {
          "output_type": "stream",
          "name": "stdout",
          "text": [
            "Detected person --> Age: 35 | Gender: {'Woman': np.float32(12.563303), 'Man': np.float32(87.4367)}\n"
          ]
        },
        {
          "output_type": "stream",
          "name": "stderr",
          "text": [
            "Action: gender: 100%|██████████| 2/2 [00:00<00:00,  2.32it/s]\n"
          ]
        },
        {
          "output_type": "stream",
          "name": "stdout",
          "text": [
            "Detected person --> Age: 35 | Gender: {'Woman': np.float32(12.511242), 'Man': np.float32(87.48876)}\n"
          ]
        },
        {
          "output_type": "stream",
          "name": "stderr",
          "text": [
            "Action: gender: 100%|██████████| 2/2 [00:00<00:00,  2.35it/s]\n"
          ]
        },
        {
          "output_type": "stream",
          "name": "stdout",
          "text": [
            "Detected person --> Age: 36 | Gender: {'Woman': np.float32(12.516258), 'Man': np.float32(87.48375)}\n"
          ]
        },
        {
          "output_type": "stream",
          "name": "stderr",
          "text": [
            "Action: gender: 100%|██████████| 2/2 [00:00<00:00,  2.32it/s]\n"
          ]
        },
        {
          "output_type": "stream",
          "name": "stdout",
          "text": [
            "Detected person --> Age: 36 | Gender: {'Woman': np.float32(12.561917), 'Man': np.float32(87.43809)}\n"
          ]
        },
        {
          "output_type": "stream",
          "name": "stderr",
          "text": [
            "Action: gender: 100%|██████████| 2/2 [00:00<00:00,  2.33it/s]\n"
          ]
        },
        {
          "output_type": "stream",
          "name": "stdout",
          "text": [
            "Detected person --> Age: 36 | Gender: {'Woman': np.float32(12.423418), 'Man': np.float32(87.576584)}\n"
          ]
        },
        {
          "output_type": "stream",
          "name": "stderr",
          "text": [
            "Action: gender: 100%|██████████| 2/2 [00:00<00:00,  2.32it/s]\n"
          ]
        },
        {
          "output_type": "stream",
          "name": "stdout",
          "text": [
            "Detected person --> Age: 36 | Gender: {'Woman': np.float32(12.562318), 'Man': np.float32(87.43768)}\n"
          ]
        },
        {
          "output_type": "stream",
          "name": "stderr",
          "text": [
            "Action: gender: 100%|██████████| 2/2 [00:00<00:00,  2.32it/s]\n"
          ]
        },
        {
          "output_type": "stream",
          "name": "stdout",
          "text": [
            "Detected person --> Age: 36 | Gender: {'Woman': np.float32(12.516477), 'Man': np.float32(87.48353)}\n"
          ]
        },
        {
          "output_type": "stream",
          "name": "stderr",
          "text": [
            "Action: gender: 100%|██████████| 2/2 [00:00<00:00,  2.32it/s]\n"
          ]
        },
        {
          "output_type": "stream",
          "name": "stdout",
          "text": [
            "Detected person --> Age: 35 | Gender: {'Woman': np.float32(12.542464), 'Man': np.float32(87.457535)}\n"
          ]
        },
        {
          "output_type": "stream",
          "name": "stderr",
          "text": [
            "Action: gender: 100%|██████████| 2/2 [00:00<00:00,  2.34it/s]\n"
          ]
        },
        {
          "output_type": "stream",
          "name": "stdout",
          "text": [
            "Detected person --> Age: 35 | Gender: {'Woman': np.float32(12.227966), 'Man': np.float32(87.77203)}\n"
          ]
        },
        {
          "output_type": "stream",
          "name": "stderr",
          "text": [
            "Action: gender: 100%|██████████| 2/2 [00:01<00:00,  1.87it/s]\n"
          ]
        },
        {
          "output_type": "stream",
          "name": "stdout",
          "text": [
            "Detected person --> Age: 35 | Gender: {'Woman': np.float32(11.822639), 'Man': np.float32(88.17737)}\n"
          ]
        },
        {
          "output_type": "stream",
          "name": "stderr",
          "text": [
            "Action: gender: 100%|██████████| 2/2 [00:01<00:00,  1.86it/s]\n"
          ]
        },
        {
          "output_type": "stream",
          "name": "stdout",
          "text": [
            "Detected person --> Age: 34 | Gender: {'Woman': np.float32(11.571937), 'Man': np.float32(88.42806)}\n"
          ]
        },
        {
          "output_type": "stream",
          "name": "stderr",
          "text": [
            "Action: gender: 100%|██████████| 2/2 [00:00<00:00,  2.31it/s]\n"
          ]
        },
        {
          "output_type": "stream",
          "name": "stdout",
          "text": [
            "Detected person --> Age: 28 | Gender: {'Woman': np.float32(33.592194), 'Man': np.float32(66.40781)}\n"
          ]
        },
        {
          "output_type": "stream",
          "name": "stderr",
          "text": [
            "Action: gender: 100%|██████████| 2/2 [00:00<00:00,  2.09it/s]\n"
          ]
        },
        {
          "output_type": "stream",
          "name": "stdout",
          "text": [
            "Detected person --> Age: 31 | Gender: {'Woman': np.float32(39.027534), 'Man': np.float32(60.97247)}\n"
          ]
        },
        {
          "output_type": "stream",
          "name": "stderr",
          "text": [
            "Action: gender: 100%|██████████| 2/2 [00:00<00:00,  2.15it/s]\n"
          ]
        },
        {
          "output_type": "stream",
          "name": "stdout",
          "text": [
            "Detected person --> Age: 28 | Gender: {'Woman': np.float32(49.822193), 'Man': np.float32(50.17781)}\n"
          ]
        },
        {
          "output_type": "stream",
          "name": "stderr",
          "text": [
            "Action: gender: 100%|██████████| 2/2 [00:00<00:00,  2.33it/s]\n"
          ]
        },
        {
          "output_type": "stream",
          "name": "stdout",
          "text": [
            "Detected person --> Age: 29 | Gender: {'Woman': np.float32(53.682907), 'Man': np.float32(46.317093)}\n"
          ]
        },
        {
          "output_type": "stream",
          "name": "stderr",
          "text": [
            "Action: gender: 100%|██████████| 2/2 [00:00<00:00,  2.33it/s]\n"
          ]
        },
        {
          "output_type": "stream",
          "name": "stdout",
          "text": [
            "Detected person --> Age: 33 | Gender: {'Woman': np.float32(94.40628), 'Man': np.float32(5.593723)}\n"
          ]
        },
        {
          "output_type": "stream",
          "name": "stderr",
          "text": [
            "Action: gender: 100%|██████████| 2/2 [00:00<00:00,  2.33it/s]\n"
          ]
        },
        {
          "output_type": "stream",
          "name": "stdout",
          "text": [
            "Detected person --> Age: 27 | Gender: {'Woman': np.float32(79.657295), 'Man': np.float32(20.342709)}\n"
          ]
        },
        {
          "output_type": "stream",
          "name": "stderr",
          "text": [
            "Action: gender: 100%|██████████| 2/2 [00:00<00:00,  2.26it/s]\n"
          ]
        },
        {
          "output_type": "stream",
          "name": "stdout",
          "text": [
            "Detected person --> Age: 28 | Gender: {'Woman': np.float32(74.12387), 'Man': np.float32(25.876131)}\n"
          ]
        },
        {
          "output_type": "stream",
          "name": "stderr",
          "text": [
            "Action: gender: 100%|██████████| 2/2 [00:00<00:00,  2.28it/s]\n"
          ]
        },
        {
          "output_type": "stream",
          "name": "stdout",
          "text": [
            "Detected person --> Age: 30 | Gender: {'Woman': np.float32(76.5784), 'Man': np.float32(23.421597)}\n"
          ]
        },
        {
          "output_type": "stream",
          "name": "stderr",
          "text": [
            "Action: gender: 100%|██████████| 2/2 [00:00<00:00,  2.07it/s]\n"
          ]
        },
        {
          "output_type": "stream",
          "name": "stdout",
          "text": [
            "Detected person --> Age: 29 | Gender: {'Woman': np.float32(71.63168), 'Man': np.float32(28.368319)}\n"
          ]
        },
        {
          "output_type": "stream",
          "name": "stderr",
          "text": [
            "Action: gender: 100%|██████████| 2/2 [00:01<00:00,  1.77it/s]\n"
          ]
        },
        {
          "output_type": "stream",
          "name": "stdout",
          "text": [
            "Detected person --> Age: 29 | Gender: {'Woman': np.float32(66.67568), 'Man': np.float32(33.324318)}\n"
          ]
        },
        {
          "output_type": "stream",
          "name": "stderr",
          "text": [
            "Action: gender: 100%|██████████| 2/2 [00:00<00:00,  2.15it/s]\n"
          ]
        },
        {
          "output_type": "stream",
          "name": "stdout",
          "text": [
            "Detected person --> Age: 29 | Gender: {'Woman': np.float32(40.447174), 'Man': np.float32(59.552826)}\n"
          ]
        },
        {
          "output_type": "stream",
          "name": "stderr",
          "text": [
            "Action: gender: 100%|██████████| 2/2 [00:00<00:00,  2.33it/s]\n"
          ]
        },
        {
          "output_type": "stream",
          "name": "stdout",
          "text": [
            "Detected person --> Age: 27 | Gender: {'Woman': np.float32(80.1925), 'Man': np.float32(19.807495)}\n"
          ]
        },
        {
          "output_type": "stream",
          "name": "stderr",
          "text": [
            "Action: gender: 100%|██████████| 2/2 [00:00<00:00,  2.30it/s]\n"
          ]
        },
        {
          "output_type": "stream",
          "name": "stdout",
          "text": [
            "Detected person --> Age: 27 | Gender: {'Woman': np.float32(56.60805), 'Man': np.float32(43.391945)}\n"
          ]
        },
        {
          "output_type": "stream",
          "name": "stderr",
          "text": [
            "Action: gender: 100%|██████████| 2/2 [00:00<00:00,  2.17it/s]\n"
          ]
        },
        {
          "output_type": "stream",
          "name": "stdout",
          "text": [
            "Detected person --> Age: 26 | Gender: {'Woman': np.float32(74.64244), 'Man': np.float32(25.357563)}\n"
          ]
        },
        {
          "output_type": "stream",
          "name": "stderr",
          "text": [
            "Action: gender: 100%|██████████| 2/2 [00:00<00:00,  2.29it/s]\n"
          ]
        },
        {
          "output_type": "stream",
          "name": "stdout",
          "text": [
            "Detected person --> Age: 27 | Gender: {'Woman': np.float32(52.68863), 'Man': np.float32(47.31137)}\n"
          ]
        },
        {
          "output_type": "stream",
          "name": "stderr",
          "text": [
            "Action: gender: 100%|██████████| 2/2 [00:00<00:00,  2.13it/s]\n"
          ]
        },
        {
          "output_type": "stream",
          "name": "stdout",
          "text": [
            "Detected person --> Age: 25 | Gender: {'Woman': np.float32(20.721586), 'Man': np.float32(79.27841)}\n"
          ]
        },
        {
          "output_type": "stream",
          "name": "stderr",
          "text": [
            "Action: gender: 100%|██████████| 2/2 [00:00<00:00,  2.31it/s]\n"
          ]
        },
        {
          "output_type": "stream",
          "name": "stdout",
          "text": [
            "Detected person --> Age: 23 | Gender: {'Woman': np.float32(42.92143), 'Man': np.float32(57.07857)}\n"
          ]
        },
        {
          "output_type": "stream",
          "name": "stderr",
          "text": [
            "Action: gender: 100%|██████████| 2/2 [00:00<00:00,  2.28it/s]\n"
          ]
        },
        {
          "output_type": "stream",
          "name": "stdout",
          "text": [
            "Detected person --> Age: 23 | Gender: {'Woman': np.float32(65.71365), 'Man': np.float32(34.286343)}\n"
          ]
        },
        {
          "output_type": "stream",
          "name": "stderr",
          "text": [
            "Action: gender: 100%|██████████| 2/2 [00:00<00:00,  2.12it/s]\n"
          ]
        },
        {
          "output_type": "stream",
          "name": "stdout",
          "text": [
            "Detected person --> Age: 23 | Gender: {'Woman': np.float32(43.443993), 'Man': np.float32(56.556004)}\n"
          ]
        },
        {
          "output_type": "stream",
          "name": "stderr",
          "text": [
            "Action: gender: 100%|██████████| 2/2 [00:00<00:00,  2.15it/s]\n"
          ]
        },
        {
          "output_type": "stream",
          "name": "stdout",
          "text": [
            "Detected person --> Age: 25 | Gender: {'Woman': np.float32(82.75066), 'Man': np.float32(17.249336)}\n"
          ]
        },
        {
          "output_type": "stream",
          "name": "stderr",
          "text": [
            "Action: gender: 100%|██████████| 2/2 [00:01<00:00,  1.67it/s]\n"
          ]
        },
        {
          "output_type": "stream",
          "name": "stdout",
          "text": [
            "Detected person --> Age: 25 | Gender: {'Woman': np.float32(60.10521), 'Man': np.float32(39.894783)}\n"
          ]
        },
        {
          "output_type": "stream",
          "name": "stderr",
          "text": [
            "Action: gender: 100%|██████████| 2/2 [00:00<00:00,  2.17it/s]\n"
          ]
        },
        {
          "output_type": "stream",
          "name": "stdout",
          "text": [
            "Detected person --> Age: 25 | Gender: {'Woman': np.float32(91.07507), 'Man': np.float32(8.9249325)}\n"
          ]
        },
        {
          "output_type": "stream",
          "name": "stderr",
          "text": [
            "Action: gender: 100%|██████████| 2/2 [00:00<00:00,  2.04it/s]\n"
          ]
        },
        {
          "output_type": "stream",
          "name": "stdout",
          "text": [
            "Detected person --> Age: 25 | Gender: {'Woman': np.float32(95.63047), 'Man': np.float32(4.3695292)}\n"
          ]
        },
        {
          "output_type": "stream",
          "name": "stderr",
          "text": [
            "Action: gender: 100%|██████████| 2/2 [00:00<00:00,  2.31it/s]\n"
          ]
        },
        {
          "output_type": "stream",
          "name": "stdout",
          "text": [
            "Detected person --> Age: 25 | Gender: {'Woman': np.float32(96.417946), 'Man': np.float32(3.5820615)}\n"
          ]
        },
        {
          "output_type": "stream",
          "name": "stderr",
          "text": [
            "Action: gender: 100%|██████████| 2/2 [00:00<00:00,  2.35it/s]\n"
          ]
        },
        {
          "output_type": "stream",
          "name": "stdout",
          "text": [
            "Detected person --> Age: 25 | Gender: {'Woman': np.float32(86.40838), 'Man': np.float32(13.591628)}\n"
          ]
        },
        {
          "output_type": "stream",
          "name": "stderr",
          "text": [
            "Action: gender: 100%|██████████| 2/2 [00:00<00:00,  2.30it/s]\n"
          ]
        },
        {
          "output_type": "stream",
          "name": "stdout",
          "text": [
            "Detected person --> Age: 25 | Gender: {'Woman': np.float32(82.038536), 'Man': np.float32(17.961472)}\n"
          ]
        },
        {
          "output_type": "stream",
          "name": "stderr",
          "text": [
            "Action: gender: 100%|██████████| 2/2 [00:00<00:00,  2.12it/s]\n"
          ]
        },
        {
          "output_type": "stream",
          "name": "stdout",
          "text": [
            "Detected person --> Age: 25 | Gender: {'Woman': np.float32(85.9104), 'Man': np.float32(14.089598)}\n"
          ]
        },
        {
          "output_type": "stream",
          "name": "stderr",
          "text": [
            "Action: gender: 100%|██████████| 2/2 [00:00<00:00,  2.17it/s]\n"
          ]
        },
        {
          "output_type": "stream",
          "name": "stdout",
          "text": [
            "Detected person --> Age: 27 | Gender: {'Woman': np.float32(52.37129), 'Man': np.float32(47.628708)}\n"
          ]
        },
        {
          "output_type": "stream",
          "name": "stderr",
          "text": [
            "Action: gender: 100%|██████████| 2/2 [00:00<00:00,  2.12it/s]\n"
          ]
        },
        {
          "output_type": "stream",
          "name": "stdout",
          "text": [
            "Detected person --> Age: 27 | Gender: {'Woman': np.float32(93.72326), 'Man': np.float32(6.2767496)}\n"
          ]
        },
        {
          "output_type": "stream",
          "name": "stderr",
          "text": [
            "Action: gender: 100%|██████████| 2/2 [00:00<00:00,  2.30it/s]\n"
          ]
        },
        {
          "output_type": "stream",
          "name": "stdout",
          "text": [
            "Detected person --> Age: 26 | Gender: {'Woman': np.float32(82.09499), 'Man': np.float32(17.905014)}\n"
          ]
        },
        {
          "output_type": "stream",
          "name": "stderr",
          "text": [
            "Action: gender: 100%|██████████| 2/2 [00:00<00:00,  2.17it/s]\n"
          ]
        },
        {
          "output_type": "stream",
          "name": "stdout",
          "text": [
            "Detected person --> Age: 27 | Gender: {'Woman': np.float32(93.20943), 'Man': np.float32(6.790568)}\n"
          ]
        },
        {
          "output_type": "stream",
          "name": "stderr",
          "text": [
            "Action: gender: 100%|██████████| 2/2 [00:01<00:00,  1.72it/s]\n"
          ]
        },
        {
          "output_type": "stream",
          "name": "stdout",
          "text": [
            "Detected person --> Age: 26 | Gender: {'Woman': np.float32(92.35096), 'Man': np.float32(7.6490364)}\n"
          ]
        },
        {
          "output_type": "stream",
          "name": "stderr",
          "text": [
            "Action: gender: 100%|██████████| 2/2 [00:00<00:00,  2.14it/s]\n"
          ]
        },
        {
          "output_type": "stream",
          "name": "stdout",
          "text": [
            "Detected person --> Age: 27 | Gender: {'Woman': np.float32(86.7766), 'Man': np.float32(13.223396)}\n"
          ]
        },
        {
          "output_type": "stream",
          "name": "stderr",
          "text": [
            "Action: gender: 100%|██████████| 2/2 [00:00<00:00,  2.34it/s]\n"
          ]
        },
        {
          "output_type": "stream",
          "name": "stdout",
          "text": [
            "Detected person --> Age: 28 | Gender: {'Woman': np.float32(92.69754), 'Man': np.float32(7.3024645)}\n"
          ]
        },
        {
          "output_type": "stream",
          "name": "stderr",
          "text": [
            "Action: gender: 100%|██████████| 2/2 [00:00<00:00,  2.33it/s]\n"
          ]
        },
        {
          "output_type": "stream",
          "name": "stdout",
          "text": [
            "Detected person --> Age: 30 | Gender: {'Woman': np.float32(92.10664), 'Man': np.float32(7.8933544)}\n"
          ]
        },
        {
          "output_type": "stream",
          "name": "stderr",
          "text": [
            "Action: gender: 100%|██████████| 2/2 [00:00<00:00,  2.28it/s]\n"
          ]
        },
        {
          "output_type": "stream",
          "name": "stdout",
          "text": [
            "Detected person --> Age: 32 | Gender: {'Woman': np.float32(95.258224), 'Man': np.float32(4.741773)}\n"
          ]
        },
        {
          "output_type": "stream",
          "name": "stderr",
          "text": [
            "Action: gender: 100%|██████████| 2/2 [00:00<00:00,  2.28it/s]\n"
          ]
        },
        {
          "output_type": "stream",
          "name": "stdout",
          "text": [
            "Detected person --> Age: 33 | Gender: {'Woman': np.float32(97.189606), 'Man': np.float32(2.8103921)}\n"
          ]
        },
        {
          "output_type": "stream",
          "name": "stderr",
          "text": [
            "Action: gender: 100%|██████████| 2/2 [00:00<00:00,  2.15it/s]\n"
          ]
        },
        {
          "output_type": "stream",
          "name": "stdout",
          "text": [
            "Detected person --> Age: 34 | Gender: {'Woman': np.float32(91.639915), 'Man': np.float32(8.360081)}\n"
          ]
        },
        {
          "output_type": "stream",
          "name": "stderr",
          "text": [
            "Action: gender: 100%|██████████| 2/2 [00:00<00:00,  2.34it/s]\n"
          ]
        },
        {
          "output_type": "stream",
          "name": "stdout",
          "text": [
            "Detected person --> Age: 31 | Gender: {'Woman': np.float32(86.89825), 'Man': np.float32(13.101757)}\n"
          ]
        },
        {
          "output_type": "stream",
          "name": "stderr",
          "text": [
            "Action: gender: 100%|██████████| 2/2 [00:00<00:00,  2.34it/s]\n"
          ]
        },
        {
          "output_type": "stream",
          "name": "stdout",
          "text": [
            "Detected person --> Age: 30 | Gender: {'Woman': np.float32(85.90593), 'Man': np.float32(14.094078)}\n"
          ]
        },
        {
          "output_type": "stream",
          "name": "stderr",
          "text": [
            "Action: gender: 100%|██████████| 2/2 [00:00<00:00,  2.35it/s]\n"
          ]
        },
        {
          "output_type": "stream",
          "name": "stdout",
          "text": [
            "Detected person --> Age: 30 | Gender: {'Woman': np.float32(60.636856), 'Man': np.float32(39.363148)}\n"
          ]
        },
        {
          "output_type": "stream",
          "name": "stderr",
          "text": [
            "Action: gender: 100%|██████████| 2/2 [00:01<00:00,  1.69it/s]\n"
          ]
        },
        {
          "output_type": "stream",
          "name": "stdout",
          "text": [
            "Detected person --> Age: 31 | Gender: {'Woman': np.float32(48.88395), 'Man': np.float32(51.11605)}\n"
          ]
        },
        {
          "output_type": "stream",
          "name": "stderr",
          "text": [
            "Action: gender: 100%|██████████| 2/2 [00:01<00:00,  1.43it/s]\n"
          ]
        },
        {
          "output_type": "stream",
          "name": "stdout",
          "text": [
            "Detected person --> Age: 30 | Gender: {'Woman': np.float32(64.68955), 'Man': np.float32(35.310448)}\n"
          ]
        },
        {
          "output_type": "stream",
          "name": "stderr",
          "text": [
            "Action: gender: 100%|██████████| 2/2 [00:00<00:00,  2.39it/s]\n"
          ]
        },
        {
          "output_type": "stream",
          "name": "stdout",
          "text": [
            "Detected person --> Age: 33 | Gender: {'Woman': np.float32(49.65938), 'Man': np.float32(50.34062)}\n"
          ]
        },
        {
          "output_type": "stream",
          "name": "stderr",
          "text": [
            "Action: gender: 100%|██████████| 2/2 [00:00<00:00,  2.18it/s]\n"
          ]
        },
        {
          "output_type": "stream",
          "name": "stdout",
          "text": [
            "Detected person --> Age: 32 | Gender: {'Woman': np.float32(50.671303), 'Man': np.float32(49.328693)}\n"
          ]
        },
        {
          "output_type": "stream",
          "name": "stderr",
          "text": [
            "Action: gender: 100%|██████████| 2/2 [00:00<00:00,  2.32it/s]\n"
          ]
        },
        {
          "output_type": "stream",
          "name": "stdout",
          "text": [
            "Detected person --> Age: 30 | Gender: {'Woman': np.float32(40.408424), 'Man': np.float32(59.59157)}\n"
          ]
        },
        {
          "output_type": "stream",
          "name": "stderr",
          "text": [
            "Action: gender: 100%|██████████| 2/2 [00:00<00:00,  2.33it/s]\n"
          ]
        },
        {
          "output_type": "stream",
          "name": "stdout",
          "text": [
            "Detected person --> Age: 32 | Gender: {'Woman': np.float32(80.5333), 'Man': np.float32(19.466703)}\n"
          ]
        },
        {
          "output_type": "stream",
          "name": "stderr",
          "text": [
            "Action: gender: 100%|██████████| 2/2 [00:00<00:00,  2.29it/s]\n"
          ]
        },
        {
          "output_type": "stream",
          "name": "stdout",
          "text": [
            "Detected person --> Age: 30 | Gender: {'Woman': np.float32(80.64106), 'Man': np.float32(19.358942)}\n"
          ]
        },
        {
          "output_type": "stream",
          "name": "stderr",
          "text": [
            "Action: gender: 100%|██████████| 2/2 [00:00<00:00,  2.37it/s]\n"
          ]
        },
        {
          "output_type": "stream",
          "name": "stdout",
          "text": [
            "Detected person --> Age: 33 | Gender: {'Woman': np.float32(47.76575), 'Man': np.float32(52.234257)}\n"
          ]
        },
        {
          "output_type": "stream",
          "name": "stderr",
          "text": [
            "Action: gender: 100%|██████████| 2/2 [00:00<00:00,  2.31it/s]\n"
          ]
        },
        {
          "output_type": "stream",
          "name": "stdout",
          "text": [
            "Detected person --> Age: 31 | Gender: {'Woman': np.float32(63.36223), 'Man': np.float32(36.637764)}\n"
          ]
        },
        {
          "output_type": "stream",
          "name": "stderr",
          "text": [
            "Action: gender: 100%|██████████| 2/2 [00:00<00:00,  2.30it/s]\n"
          ]
        },
        {
          "output_type": "stream",
          "name": "stdout",
          "text": [
            "Detected person --> Age: 33 | Gender: {'Woman': np.float32(62.40247), 'Man': np.float32(37.597527)}\n"
          ]
        },
        {
          "output_type": "stream",
          "name": "stderr",
          "text": [
            "Action: gender: 100%|██████████| 2/2 [00:00<00:00,  2.32it/s]\n"
          ]
        },
        {
          "output_type": "stream",
          "name": "stdout",
          "text": [
            "Detected person --> Age: 33 | Gender: {'Woman': np.float32(71.97463), 'Man': np.float32(28.025364)}\n"
          ]
        },
        {
          "output_type": "stream",
          "name": "stderr",
          "text": [
            "Action: gender: 100%|██████████| 2/2 [00:00<00:00,  2.30it/s]\n"
          ]
        },
        {
          "output_type": "stream",
          "name": "stdout",
          "text": [
            "Detected person --> Age: 35 | Gender: {'Woman': np.float32(75.775604), 'Man': np.float32(24.22439)}\n"
          ]
        },
        {
          "output_type": "stream",
          "name": "stderr",
          "text": [
            "Action: gender: 100%|██████████| 2/2 [00:01<00:00,  1.66it/s]\n"
          ]
        },
        {
          "output_type": "stream",
          "name": "stdout",
          "text": [
            "Detected person --> Age: 35 | Gender: {'Woman': np.float32(90.838776), 'Man': np.float32(9.161218)}\n"
          ]
        },
        {
          "output_type": "stream",
          "name": "stderr",
          "text": [
            "Action: gender: 100%|██████████| 2/2 [00:00<00:00,  2.36it/s]\n"
          ]
        },
        {
          "output_type": "stream",
          "name": "stdout",
          "text": [
            "Detected person --> Age: 34 | Gender: {'Woman': np.float32(95.76209), 'Man': np.float32(4.237903)}\n"
          ]
        },
        {
          "output_type": "stream",
          "name": "stderr",
          "text": [
            "Action: gender: 100%|██████████| 2/2 [00:00<00:00,  2.33it/s]\n"
          ]
        },
        {
          "output_type": "stream",
          "name": "stdout",
          "text": [
            "Detected person --> Age: 34 | Gender: {'Woman': np.float32(94.2747), 'Man': np.float32(5.7252984)}\n"
          ]
        },
        {
          "output_type": "stream",
          "name": "stderr",
          "text": [
            "Action: gender: 100%|██████████| 2/2 [00:00<00:00,  2.34it/s]\n"
          ]
        },
        {
          "output_type": "stream",
          "name": "stdout",
          "text": [
            "Detected person --> Age: 35 | Gender: {'Woman': np.float32(80.17598), 'Man': np.float32(19.824026)}\n"
          ]
        },
        {
          "output_type": "stream",
          "name": "stderr",
          "text": [
            "Action: gender: 100%|██████████| 2/2 [00:00<00:00,  2.11it/s]\n"
          ]
        },
        {
          "output_type": "stream",
          "name": "stdout",
          "text": [
            "Detected person --> Age: 37 | Gender: {'Woman': np.float32(97.793755), 'Man': np.float32(2.2062545)}\n"
          ]
        },
        {
          "output_type": "stream",
          "name": "stderr",
          "text": [
            "Action: gender: 100%|██████████| 2/2 [00:00<00:00,  2.10it/s]\n"
          ]
        },
        {
          "output_type": "stream",
          "name": "stdout",
          "text": [
            "Detected person --> Age: 35 | Gender: {'Woman': np.float32(95.73748), 'Man': np.float32(4.2625184)}\n"
          ]
        },
        {
          "output_type": "stream",
          "name": "stderr",
          "text": [
            "Action: gender: 100%|██████████| 2/2 [00:00<00:00,  2.35it/s]\n"
          ]
        },
        {
          "output_type": "stream",
          "name": "stdout",
          "text": [
            "Detected person --> Age: 35 | Gender: {'Woman': np.float32(93.57422), 'Man': np.float32(6.425781)}\n"
          ]
        },
        {
          "output_type": "stream",
          "name": "stderr",
          "text": [
            "Action: gender: 100%|██████████| 2/2 [00:00<00:00,  2.09it/s]\n"
          ]
        },
        {
          "output_type": "stream",
          "name": "stdout",
          "text": [
            "Detected person --> Age: 36 | Gender: {'Woman': np.float32(89.095055), 'Man': np.float32(10.904945)}\n"
          ]
        },
        {
          "output_type": "stream",
          "name": "stderr",
          "text": [
            "Action: gender: 100%|██████████| 2/2 [00:00<00:00,  2.34it/s]\n"
          ]
        },
        {
          "output_type": "stream",
          "name": "stdout",
          "text": [
            "Detected person --> Age: 35 | Gender: {'Woman': np.float32(89.31512), 'Man': np.float32(10.68488)}\n"
          ]
        },
        {
          "output_type": "stream",
          "name": "stderr",
          "text": [
            "Action: gender: 100%|██████████| 2/2 [00:00<00:00,  2.09it/s]\n"
          ]
        },
        {
          "output_type": "stream",
          "name": "stdout",
          "text": [
            "Detected person --> Age: 35 | Gender: {'Woman': np.float32(83.50578), 'Man': np.float32(16.49422)}\n"
          ]
        },
        {
          "output_type": "stream",
          "name": "stderr",
          "text": [
            "Action: gender: 100%|██████████| 2/2 [00:01<00:00,  1.87it/s]\n"
          ]
        },
        {
          "output_type": "stream",
          "name": "stdout",
          "text": [
            "Detected person --> Age: 37 | Gender: {'Woman': np.float32(49.2961), 'Man': np.float32(50.7039)}\n"
          ]
        },
        {
          "output_type": "stream",
          "name": "stderr",
          "text": [
            "Action: gender: 100%|██████████| 2/2 [00:01<00:00,  1.64it/s]\n"
          ]
        },
        {
          "output_type": "stream",
          "name": "stdout",
          "text": [
            "Detected person --> Age: 34 | Gender: {'Woman': np.float32(62.356926), 'Man': np.float32(37.64307)}\n"
          ]
        },
        {
          "output_type": "stream",
          "name": "stderr",
          "text": [
            "Action: gender: 100%|██████████| 2/2 [00:00<00:00,  2.25it/s]\n"
          ]
        },
        {
          "output_type": "stream",
          "name": "stdout",
          "text": [
            "Detected person --> Age: 34 | Gender: {'Woman': np.float32(77.23401), 'Man': np.float32(22.765985)}\n"
          ]
        },
        {
          "output_type": "stream",
          "name": "stderr",
          "text": [
            "Action: gender: 100%|██████████| 2/2 [00:00<00:00,  2.32it/s]\n"
          ]
        },
        {
          "output_type": "stream",
          "name": "stdout",
          "text": [
            "Detected person --> Age: 36 | Gender: {'Woman': np.float32(86.80337), 'Man': np.float32(13.196627)}\n"
          ]
        },
        {
          "output_type": "stream",
          "name": "stderr",
          "text": [
            "Action: gender: 100%|██████████| 2/2 [00:00<00:00,  2.33it/s]\n"
          ]
        },
        {
          "output_type": "stream",
          "name": "stdout",
          "text": [
            "Detected person --> Age: 34 | Gender: {'Woman': np.float32(70.14873), 'Man': np.float32(29.851276)}\n"
          ]
        },
        {
          "output_type": "stream",
          "name": "stderr",
          "text": [
            "Action: gender: 100%|██████████| 2/2 [00:00<00:00,  2.31it/s]\n"
          ]
        },
        {
          "output_type": "stream",
          "name": "stdout",
          "text": [
            "Detected person --> Age: 37 | Gender: {'Woman': np.float32(87.05765), 'Man': np.float32(12.942346)}\n"
          ]
        },
        {
          "output_type": "stream",
          "name": "stderr",
          "text": [
            "Action: gender: 100%|██████████| 2/2 [00:00<00:00,  2.32it/s]\n"
          ]
        },
        {
          "output_type": "stream",
          "name": "stdout",
          "text": [
            "Detected person --> Age: 36 | Gender: {'Woman': np.float32(90.01002), 'Man': np.float32(9.989984)}\n"
          ]
        },
        {
          "output_type": "stream",
          "name": "stderr",
          "text": [
            "Action: gender: 100%|██████████| 2/2 [00:00<00:00,  2.32it/s]\n"
          ]
        },
        {
          "output_type": "stream",
          "name": "stdout",
          "text": [
            "Detected person --> Age: 36 | Gender: {'Woman': np.float32(94.38813), 'Man': np.float32(5.611869)}\n"
          ]
        },
        {
          "output_type": "stream",
          "name": "stderr",
          "text": [
            "Action: gender: 100%|██████████| 2/2 [00:00<00:00,  2.35it/s]\n"
          ]
        },
        {
          "output_type": "stream",
          "name": "stdout",
          "text": [
            "Detected person --> Age: 37 | Gender: {'Woman': np.float32(75.392334), 'Man': np.float32(24.607662)}\n"
          ]
        },
        {
          "output_type": "stream",
          "name": "stderr",
          "text": [
            "Action: gender: 100%|██████████| 2/2 [00:00<00:00,  2.32it/s]\n"
          ]
        },
        {
          "output_type": "stream",
          "name": "stdout",
          "text": [
            "Detected person --> Age: 34 | Gender: {'Woman': np.float32(74.66105), 'Man': np.float32(25.338953)}\n"
          ]
        },
        {
          "output_type": "stream",
          "name": "stderr",
          "text": [
            "Action: gender: 100%|██████████| 2/2 [00:00<00:00,  2.18it/s]\n"
          ]
        },
        {
          "output_type": "stream",
          "name": "stdout",
          "text": [
            "Detected person --> Age: 33 | Gender: {'Woman': np.float32(74.72174), 'Man': np.float32(25.278255)}\n"
          ]
        },
        {
          "output_type": "stream",
          "name": "stderr",
          "text": [
            "Action: gender: 100%|██████████| 2/2 [00:01<00:00,  1.80it/s]\n"
          ]
        },
        {
          "output_type": "stream",
          "name": "stdout",
          "text": [
            "Detected person --> Age: 33 | Gender: {'Woman': np.float32(76.822075), 'Man': np.float32(23.177929)}\n"
          ]
        },
        {
          "output_type": "stream",
          "name": "stderr",
          "text": [
            "Action: gender: 100%|██████████| 2/2 [00:01<00:00,  1.77it/s]\n"
          ]
        },
        {
          "output_type": "stream",
          "name": "stdout",
          "text": [
            "Detected person --> Age: 37 | Gender: {'Woman': np.float32(83.473495), 'Man': np.float32(16.526505)}\n"
          ]
        },
        {
          "output_type": "stream",
          "name": "stderr",
          "text": [
            "Action: gender: 100%|██████████| 2/2 [00:00<00:00,  2.15it/s]\n"
          ]
        },
        {
          "output_type": "stream",
          "name": "stdout",
          "text": [
            "Detected person --> Age: 36 | Gender: {'Woman': np.float32(70.161995), 'Man': np.float32(29.838005)}\n"
          ]
        },
        {
          "output_type": "stream",
          "name": "stderr",
          "text": [
            "Action: gender: 100%|██████████| 2/2 [00:00<00:00,  2.30it/s]\n"
          ]
        },
        {
          "output_type": "stream",
          "name": "stdout",
          "text": [
            "Detected person --> Age: 37 | Gender: {'Woman': np.float32(81.52347), 'Man': np.float32(18.476538)}\n"
          ]
        },
        {
          "output_type": "stream",
          "name": "stderr",
          "text": [
            "Action: gender: 100%|██████████| 2/2 [00:00<00:00,  2.06it/s]\n"
          ]
        },
        {
          "output_type": "stream",
          "name": "stdout",
          "text": [
            "Detected person --> Age: 35 | Gender: {'Woman': np.float32(91.42215), 'Man': np.float32(8.577845)}\n"
          ]
        },
        {
          "output_type": "stream",
          "name": "stderr",
          "text": [
            "Action: gender: 100%|██████████| 2/2 [00:00<00:00,  2.05it/s]\n"
          ]
        },
        {
          "output_type": "stream",
          "name": "stdout",
          "text": [
            "Detected person --> Age: 36 | Gender: {'Woman': np.float32(88.7305), 'Man': np.float32(11.269496)}\n"
          ]
        },
        {
          "output_type": "stream",
          "name": "stderr",
          "text": [
            "Action: gender: 100%|██████████| 2/2 [00:00<00:00,  2.15it/s]\n"
          ]
        },
        {
          "output_type": "stream",
          "name": "stdout",
          "text": [
            "Detected person --> Age: 35 | Gender: {'Woman': np.float32(82.80665), 'Man': np.float32(17.193357)}\n"
          ]
        },
        {
          "output_type": "stream",
          "name": "stderr",
          "text": [
            "Action: gender: 100%|██████████| 2/2 [00:00<00:00,  2.30it/s]\n"
          ]
        },
        {
          "output_type": "stream",
          "name": "stdout",
          "text": [
            "Detected person --> Age: 34 | Gender: {'Woman': np.float32(76.84038), 'Man': np.float32(23.159618)}\n"
          ]
        },
        {
          "output_type": "stream",
          "name": "stderr",
          "text": [
            "Action: gender: 100%|██████████| 2/2 [00:00<00:00,  2.17it/s]\n"
          ]
        },
        {
          "output_type": "stream",
          "name": "stdout",
          "text": [
            "Detected person --> Age: 34 | Gender: {'Woman': np.float32(80.88209), 'Man': np.float32(19.117912)}\n"
          ]
        },
        {
          "output_type": "stream",
          "name": "stderr",
          "text": [
            "Action: gender: 100%|██████████| 2/2 [00:00<00:00,  2.16it/s]\n"
          ]
        },
        {
          "output_type": "stream",
          "name": "stdout",
          "text": [
            "Detected person --> Age: 34 | Gender: {'Woman': np.float32(68.38372), 'Man': np.float32(31.61628)}\n"
          ]
        },
        {
          "output_type": "stream",
          "name": "stderr",
          "text": [
            "Action: gender: 100%|██████████| 2/2 [00:00<00:00,  2.23it/s]\n"
          ]
        },
        {
          "output_type": "stream",
          "name": "stdout",
          "text": [
            "Detected person --> Age: 35 | Gender: {'Woman': np.float32(85.35923), 'Man': np.float32(14.640774)}\n"
          ]
        },
        {
          "output_type": "stream",
          "name": "stderr",
          "text": [
            "Action: gender: 100%|██████████| 2/2 [00:01<00:00,  1.60it/s]\n"
          ]
        },
        {
          "output_type": "stream",
          "name": "stdout",
          "text": [
            "Detected person --> Age: 34 | Gender: {'Woman': np.float32(84.446686), 'Man': np.float32(15.55331)}\n"
          ]
        },
        {
          "output_type": "stream",
          "name": "stderr",
          "text": [
            "Action: gender: 100%|██████████| 2/2 [00:00<00:00,  2.30it/s]\n"
          ]
        },
        {
          "output_type": "stream",
          "name": "stdout",
          "text": [
            "Detected person --> Age: 33 | Gender: {'Woman': np.float32(80.53408), 'Man': np.float32(19.46592)}\n"
          ]
        },
        {
          "output_type": "stream",
          "name": "stderr",
          "text": [
            "Action: gender: 100%|██████████| 2/2 [00:00<00:00,  2.30it/s]\n"
          ]
        },
        {
          "output_type": "stream",
          "name": "stdout",
          "text": [
            "Detected person --> Age: 33 | Gender: {'Woman': np.float32(85.55122), 'Man': np.float32(14.448774)}\n"
          ]
        },
        {
          "output_type": "stream",
          "name": "stderr",
          "text": [
            "Action: gender: 100%|██████████| 2/2 [00:00<00:00,  2.32it/s]\n"
          ]
        },
        {
          "output_type": "stream",
          "name": "stdout",
          "text": [
            "Detected person --> Age: 31 | Gender: {'Woman': np.float32(70.685684), 'Man': np.float32(29.314322)}\n"
          ]
        },
        {
          "output_type": "stream",
          "name": "stderr",
          "text": [
            "Action: gender: 100%|██████████| 2/2 [00:00<00:00,  2.33it/s]\n"
          ]
        },
        {
          "output_type": "stream",
          "name": "stdout",
          "text": [
            "Detected person --> Age: 32 | Gender: {'Woman': np.float32(49.549164), 'Man': np.float32(50.450836)}\n"
          ]
        },
        {
          "output_type": "stream",
          "name": "stderr",
          "text": [
            "Action: gender: 100%|██████████| 2/2 [00:00<00:00,  2.13it/s]\n"
          ]
        },
        {
          "output_type": "stream",
          "name": "stdout",
          "text": [
            "Detected person --> Age: 34 | Gender: {'Woman': np.float32(77.99858), 'Man': np.float32(22.001425)}\n"
          ]
        },
        {
          "output_type": "stream",
          "name": "stderr",
          "text": [
            "Action: gender: 100%|██████████| 2/2 [00:00<00:00,  2.07it/s]\n"
          ]
        },
        {
          "output_type": "stream",
          "name": "stdout",
          "text": [
            "Detected person --> Age: 34 | Gender: {'Woman': np.float32(84.78807), 'Man': np.float32(15.211931)}\n"
          ]
        },
        {
          "output_type": "stream",
          "name": "stderr",
          "text": [
            "Action: gender: 100%|██████████| 2/2 [00:00<00:00,  2.25it/s]\n"
          ]
        },
        {
          "output_type": "stream",
          "name": "stdout",
          "text": [
            "Detected person --> Age: 33 | Gender: {'Woman': np.float32(81.35477), 'Man': np.float32(18.645233)}\n"
          ]
        },
        {
          "output_type": "stream",
          "name": "stderr",
          "text": [
            "Action: gender: 100%|██████████| 2/2 [00:00<00:00,  2.33it/s]\n"
          ]
        },
        {
          "output_type": "stream",
          "name": "stdout",
          "text": [
            "Detected person --> Age: 33 | Gender: {'Woman': np.float32(82.88742), 'Man': np.float32(17.11258)}\n"
          ]
        },
        {
          "output_type": "stream",
          "name": "stderr",
          "text": [
            "Action: gender: 100%|██████████| 2/2 [00:00<00:00,  2.32it/s]\n"
          ]
        },
        {
          "output_type": "stream",
          "name": "stdout",
          "text": [
            "Detected person --> Age: 36 | Gender: {'Woman': np.float32(90.36101), 'Man': np.float32(9.6389885)}\n"
          ]
        },
        {
          "output_type": "stream",
          "name": "stderr",
          "text": [
            "Action: gender: 100%|██████████| 2/2 [00:00<00:00,  2.28it/s]\n"
          ]
        },
        {
          "output_type": "stream",
          "name": "stdout",
          "text": [
            "Detected person --> Age: 34 | Gender: {'Woman': np.float32(80.389404), 'Man': np.float32(19.610596)}\n"
          ]
        },
        {
          "output_type": "stream",
          "name": "stderr",
          "text": [
            "Action: gender: 100%|██████████| 2/2 [00:01<00:00,  1.72it/s]\n"
          ]
        },
        {
          "output_type": "stream",
          "name": "stdout",
          "text": [
            "Detected person --> Age: 36 | Gender: {'Woman': np.float32(87.247856), 'Man': np.float32(12.75215)}\n"
          ]
        },
        {
          "output_type": "stream",
          "name": "stderr",
          "text": [
            "Action: gender: 100%|██████████| 2/2 [00:00<00:00,  2.31it/s]\n"
          ]
        },
        {
          "output_type": "stream",
          "name": "stdout",
          "text": [
            "Detected person --> Age: 36 | Gender: {'Woman': np.float32(82.650795), 'Man': np.float32(17.3492)}\n"
          ]
        },
        {
          "output_type": "stream",
          "name": "stderr",
          "text": [
            "Action: gender: 100%|██████████| 2/2 [00:00<00:00,  2.30it/s]\n"
          ]
        },
        {
          "output_type": "stream",
          "name": "stdout",
          "text": [
            "Detected person --> Age: 35 | Gender: {'Woman': np.float32(80.45665), 'Man': np.float32(19.543352)}\n"
          ]
        },
        {
          "output_type": "stream",
          "name": "stderr",
          "text": [
            "Action: gender: 100%|██████████| 2/2 [00:00<00:00,  2.30it/s]\n"
          ]
        },
        {
          "output_type": "stream",
          "name": "stdout",
          "text": [
            "Detected person --> Age: 36 | Gender: {'Woman': np.float32(84.59984), 'Man': np.float32(15.400156)}\n"
          ]
        },
        {
          "output_type": "stream",
          "name": "stderr",
          "text": [
            "Action: gender: 100%|██████████| 2/2 [00:00<00:00,  2.33it/s]\n"
          ]
        },
        {
          "output_type": "stream",
          "name": "stdout",
          "text": [
            "Detected person --> Age: 35 | Gender: {'Woman': np.float32(88.14646), 'Man': np.float32(11.853538)}\n"
          ]
        },
        {
          "output_type": "stream",
          "name": "stderr",
          "text": [
            "Action: gender: 100%|██████████| 2/2 [00:00<00:00,  2.12it/s]\n"
          ]
        },
        {
          "output_type": "stream",
          "name": "stdout",
          "text": [
            "Detected person --> Age: 34 | Gender: {'Woman': np.float32(85.621605), 'Man': np.float32(14.378397)}\n"
          ]
        },
        {
          "output_type": "stream",
          "name": "stderr",
          "text": [
            "Action: gender: 100%|██████████| 2/2 [00:00<00:00,  2.10it/s]\n"
          ]
        },
        {
          "output_type": "stream",
          "name": "stdout",
          "text": [
            "Detected person --> Age: 34 | Gender: {'Woman': np.float32(86.026215), 'Man': np.float32(13.973784)}\n"
          ]
        },
        {
          "output_type": "stream",
          "name": "stderr",
          "text": [
            "Action: gender: 100%|██████████| 2/2 [00:00<00:00,  2.37it/s]\n"
          ]
        },
        {
          "output_type": "stream",
          "name": "stdout",
          "text": [
            "Detected person --> Age: 34 | Gender: {'Woman': np.float32(88.06408), 'Man': np.float32(11.935924)}\n"
          ]
        },
        {
          "output_type": "stream",
          "name": "stderr",
          "text": [
            "Action: gender: 100%|██████████| 2/2 [00:00<00:00,  2.34it/s]\n"
          ]
        },
        {
          "output_type": "stream",
          "name": "stdout",
          "text": [
            "Detected person --> Age: 33 | Gender: {'Woman': np.float32(91.523674), 'Man': np.float32(8.476324)}\n"
          ]
        },
        {
          "output_type": "stream",
          "name": "stderr",
          "text": [
            "Action: gender: 100%|██████████| 2/2 [00:00<00:00,  2.32it/s]\n"
          ]
        },
        {
          "output_type": "stream",
          "name": "stdout",
          "text": [
            "Detected person --> Age: 35 | Gender: {'Woman': np.float32(93.160385), 'Man': np.float32(6.8396196)}\n"
          ]
        },
        {
          "output_type": "stream",
          "name": "stderr",
          "text": [
            "Action: gender: 100%|██████████| 2/2 [00:00<00:00,  2.33it/s]\n"
          ]
        },
        {
          "output_type": "stream",
          "name": "stdout",
          "text": [
            "Detected person --> Age: 36 | Gender: {'Woman': np.float32(95.07712), 'Man': np.float32(4.922874)}\n"
          ]
        },
        {
          "output_type": "stream",
          "name": "stderr",
          "text": [
            "Action: gender: 100%|██████████| 2/2 [00:01<00:00,  1.63it/s]\n"
          ]
        },
        {
          "output_type": "stream",
          "name": "stdout",
          "text": [
            "Detected person --> Age: 34 | Gender: {'Woman': np.float32(89.07861), 'Man': np.float32(10.921387)}\n"
          ]
        },
        {
          "output_type": "stream",
          "name": "stderr",
          "text": [
            "Action: gender: 100%|██████████| 2/2 [00:00<00:00,  2.25it/s]\n"
          ]
        },
        {
          "output_type": "stream",
          "name": "stdout",
          "text": [
            "Detected person --> Age: 33 | Gender: {'Woman': np.float32(90.63911), 'Man': np.float32(9.360891)}\n"
          ]
        },
        {
          "output_type": "stream",
          "name": "stderr",
          "text": [
            "Action: gender: 100%|██████████| 2/2 [00:00<00:00,  2.15it/s]\n"
          ]
        },
        {
          "output_type": "stream",
          "name": "stdout",
          "text": [
            "Detected person --> Age: 34 | Gender: {'Woman': np.float32(85.07242), 'Man': np.float32(14.927588)}\n"
          ]
        },
        {
          "output_type": "stream",
          "name": "stderr",
          "text": [
            "Action: gender: 100%|██████████| 2/2 [00:00<00:00,  2.26it/s]\n"
          ]
        },
        {
          "output_type": "stream",
          "name": "stdout",
          "text": [
            "Detected person --> Age: 35 | Gender: {'Woman': np.float32(88.45989), 'Man': np.float32(11.540107)}\n"
          ]
        },
        {
          "output_type": "stream",
          "name": "stderr",
          "text": [
            "Action: gender: 100%|██████████| 2/2 [00:00<00:00,  2.15it/s]\n"
          ]
        },
        {
          "output_type": "stream",
          "name": "stdout",
          "text": [
            "Detected person --> Age: 35 | Gender: {'Woman': np.float32(83.97362), 'Man': np.float32(16.026384)}\n"
          ]
        },
        {
          "output_type": "stream",
          "name": "stderr",
          "text": [
            "Action: gender: 100%|██████████| 2/2 [00:00<00:00,  2.22it/s]\n"
          ]
        },
        {
          "output_type": "stream",
          "name": "stdout",
          "text": [
            "Detected person --> Age: 34 | Gender: {'Woman': np.float32(80.49494), 'Man': np.float32(19.50506)}\n"
          ]
        },
        {
          "output_type": "stream",
          "name": "stderr",
          "text": [
            "Action: gender: 100%|██████████| 2/2 [00:00<00:00,  2.10it/s]\n"
          ]
        },
        {
          "output_type": "stream",
          "name": "stdout",
          "text": [
            "Detected person --> Age: 34 | Gender: {'Woman': np.float32(85.49432), 'Man': np.float32(14.505674)}\n"
          ]
        },
        {
          "output_type": "stream",
          "name": "stderr",
          "text": [
            "Action: gender: 100%|██████████| 2/2 [00:00<00:00,  2.14it/s]\n"
          ]
        },
        {
          "output_type": "stream",
          "name": "stdout",
          "text": [
            "Detected person --> Age: 34 | Gender: {'Woman': np.float32(73.58504), 'Man': np.float32(26.41496)}\n"
          ]
        },
        {
          "output_type": "stream",
          "name": "stderr",
          "text": [
            "Action: gender: 100%|██████████| 2/2 [00:00<00:00,  2.10it/s]\n"
          ]
        },
        {
          "output_type": "stream",
          "name": "stdout",
          "text": [
            "Detected person --> Age: 35 | Gender: {'Woman': np.float32(84.49072), 'Man': np.float32(15.509279)}\n"
          ]
        },
        {
          "output_type": "stream",
          "name": "stderr",
          "text": [
            "Action: gender: 100%|██████████| 2/2 [00:00<00:00,  2.22it/s]\n"
          ]
        },
        {
          "output_type": "stream",
          "name": "stdout",
          "text": [
            "Detected person --> Age: 33 | Gender: {'Woman': np.float32(78.29255), 'Man': np.float32(21.70745)}\n"
          ]
        },
        {
          "output_type": "stream",
          "name": "stderr",
          "text": [
            "Action: gender: 100%|██████████| 2/2 [00:01<00:00,  1.94it/s]\n"
          ]
        },
        {
          "output_type": "stream",
          "name": "stdout",
          "text": [
            "Detected person --> Age: 36 | Gender: {'Woman': np.float32(73.85291), 'Man': np.float32(26.147083)}\n"
          ]
        },
        {
          "output_type": "stream",
          "name": "stderr",
          "text": [
            "Action: gender: 100%|██████████| 2/2 [00:01<00:00,  1.85it/s]\n"
          ]
        },
        {
          "output_type": "stream",
          "name": "stdout",
          "text": [
            "Detected person --> Age: 35 | Gender: {'Woman': np.float32(69.90975), 'Man': np.float32(30.090254)}\n"
          ]
        },
        {
          "output_type": "stream",
          "name": "stderr",
          "text": [
            "Action: gender: 100%|██████████| 2/2 [00:00<00:00,  2.32it/s]\n"
          ]
        },
        {
          "output_type": "stream",
          "name": "stdout",
          "text": [
            "Detected person --> Age: 35 | Gender: {'Woman': np.float32(64.475815), 'Man': np.float32(35.52418)}\n"
          ]
        },
        {
          "output_type": "stream",
          "name": "stderr",
          "text": [
            "Action: gender: 100%|██████████| 2/2 [00:00<00:00,  2.07it/s]\n"
          ]
        },
        {
          "output_type": "stream",
          "name": "stdout",
          "text": [
            "Detected person --> Age: 33 | Gender: {'Woman': np.float32(64.57752), 'Man': np.float32(35.422478)}\n"
          ]
        },
        {
          "output_type": "stream",
          "name": "stderr",
          "text": [
            "Action: gender: 100%|██████████| 2/2 [00:00<00:00,  2.28it/s]\n"
          ]
        },
        {
          "output_type": "stream",
          "name": "stdout",
          "text": [
            "Detected person --> Age: 32 | Gender: {'Woman': np.float32(43.447983), 'Man': np.float32(56.55202)}\n"
          ]
        },
        {
          "output_type": "stream",
          "name": "stderr",
          "text": [
            "Action: gender: 100%|██████████| 2/2 [00:00<00:00,  2.30it/s]\n"
          ]
        },
        {
          "output_type": "stream",
          "name": "stdout",
          "text": [
            "Detected person --> Age: 32 | Gender: {'Woman': np.float32(13.777503), 'Man': np.float32(86.222496)}\n"
          ]
        },
        {
          "output_type": "stream",
          "name": "stderr",
          "text": [
            "Action: gender: 100%|██████████| 2/2 [00:00<00:00,  2.33it/s]\n"
          ]
        },
        {
          "output_type": "stream",
          "name": "stdout",
          "text": [
            "Detected person --> Age: 28 | Gender: {'Woman': np.float32(10.617041), 'Man': np.float32(89.382965)}\n"
          ]
        },
        {
          "output_type": "stream",
          "name": "stderr",
          "text": [
            "Action: gender: 100%|██████████| 2/2 [00:00<00:00,  2.32it/s]\n"
          ]
        },
        {
          "output_type": "stream",
          "name": "stdout",
          "text": [
            "Detected person --> Age: 28 | Gender: {'Woman': np.float32(12.278027), 'Man': np.float32(87.72198)}\n"
          ]
        },
        {
          "output_type": "stream",
          "name": "stderr",
          "text": [
            "Action: gender: 100%|██████████| 2/2 [00:00<00:00,  2.35it/s]\n"
          ]
        },
        {
          "output_type": "stream",
          "name": "stdout",
          "text": [
            "Detected person --> Age: 27 | Gender: {'Woman': np.float32(13.777666), 'Man': np.float32(86.222336)}\n"
          ]
        },
        {
          "output_type": "stream",
          "name": "stderr",
          "text": [
            "Action: gender: 100%|██████████| 2/2 [00:00<00:00,  2.36it/s]\n"
          ]
        },
        {
          "output_type": "stream",
          "name": "stdout",
          "text": [
            "Detected person --> Age: 26 | Gender: {'Woman': np.float32(10.920055), 'Man': np.float32(89.07995)}\n"
          ]
        },
        {
          "output_type": "stream",
          "name": "stderr",
          "text": [
            "Action: gender: 100%|██████████| 2/2 [00:00<00:00,  2.13it/s]\n"
          ]
        },
        {
          "output_type": "stream",
          "name": "stdout",
          "text": [
            "Detected person --> Age: 40 | Gender: {'Woman': np.float32(8.834408), 'Man': np.float32(91.16559)}\n"
          ]
        },
        {
          "output_type": "stream",
          "name": "stderr",
          "text": [
            "Action: gender: 100%|██████████| 2/2 [00:01<00:00,  1.91it/s]\n"
          ]
        },
        {
          "output_type": "stream",
          "name": "stdout",
          "text": [
            "Detected person --> Age: 34 | Gender: {'Woman': np.float32(10.406776), 'Man': np.float32(89.593216)}\n"
          ]
        },
        {
          "output_type": "stream",
          "name": "stderr",
          "text": [
            "Action: gender: 100%|██████████| 2/2 [00:01<00:00,  1.92it/s]\n"
          ]
        },
        {
          "output_type": "stream",
          "name": "stdout",
          "text": [
            "Detected person --> Age: 28 | Gender: {'Woman': np.float32(10.366584), 'Man': np.float32(89.633415)}\n"
          ]
        },
        {
          "output_type": "stream",
          "name": "stderr",
          "text": [
            "Action: gender: 100%|██████████| 2/2 [00:00<00:00,  2.02it/s]\n"
          ]
        },
        {
          "output_type": "stream",
          "name": "stdout",
          "text": [
            "Detected person --> Age: 32 | Gender: {'Woman': np.float32(12.41638), 'Man': np.float32(87.583626)}\n"
          ]
        },
        {
          "output_type": "stream",
          "name": "stderr",
          "text": [
            "Action: gender: 100%|██████████| 2/2 [00:00<00:00,  2.15it/s]\n"
          ]
        },
        {
          "output_type": "stream",
          "name": "stdout",
          "text": [
            "Detected person --> Age: 32 | Gender: {'Woman': np.float32(13.575443), 'Man': np.float32(86.42456)}\n"
          ]
        },
        {
          "output_type": "stream",
          "name": "stderr",
          "text": [
            "Action: gender: 100%|██████████| 2/2 [00:00<00:00,  2.31it/s]\n"
          ]
        },
        {
          "output_type": "stream",
          "name": "stdout",
          "text": [
            "Detected person --> Age: 33 | Gender: {'Woman': np.float32(11.352953), 'Man': np.float32(88.64705)}\n"
          ]
        },
        {
          "output_type": "stream",
          "name": "stderr",
          "text": [
            "Action: gender: 100%|██████████| 2/2 [00:00<00:00,  2.38it/s]\n"
          ]
        },
        {
          "output_type": "stream",
          "name": "stdout",
          "text": [
            "Detected person --> Age: 36 | Gender: {'Woman': np.float32(10.551407), 'Man': np.float32(89.44859)}\n"
          ]
        },
        {
          "output_type": "stream",
          "name": "stderr",
          "text": [
            "Action: gender: 100%|██████████| 2/2 [00:00<00:00,  2.25it/s]\n"
          ]
        },
        {
          "output_type": "stream",
          "name": "stdout",
          "text": [
            "Detected person --> Age: 36 | Gender: {'Woman': np.float32(11.273764), 'Man': np.float32(88.72624)}\n"
          ]
        },
        {
          "output_type": "stream",
          "name": "stderr",
          "text": [
            "Action: gender: 100%|██████████| 2/2 [00:00<00:00,  2.04it/s]\n"
          ]
        },
        {
          "output_type": "stream",
          "name": "stdout",
          "text": [
            "Detected person --> Age: 35 | Gender: {'Woman': np.float32(11.288176), 'Man': np.float32(88.71183)}\n"
          ]
        },
        {
          "output_type": "stream",
          "name": "stderr",
          "text": [
            "Action: gender: 100%|██████████| 2/2 [00:00<00:00,  2.07it/s]\n"
          ]
        },
        {
          "output_type": "stream",
          "name": "stdout",
          "text": [
            "Detected person --> Age: 35 | Gender: {'Woman': np.float32(11.166427), 'Man': np.float32(88.83358)}\n"
          ]
        },
        {
          "output_type": "stream",
          "name": "stderr",
          "text": [
            "Action: gender: 100%|██████████| 2/2 [00:00<00:00,  2.06it/s]\n"
          ]
        },
        {
          "output_type": "stream",
          "name": "stdout",
          "text": [
            "Detected person --> Age: 35 | Gender: {'Woman': np.float32(11.289367), 'Man': np.float32(88.71063)}\n"
          ]
        },
        {
          "output_type": "stream",
          "name": "stderr",
          "text": [
            "Action: gender: 100%|██████████| 2/2 [00:00<00:00,  2.20it/s]\n"
          ]
        },
        {
          "output_type": "stream",
          "name": "stdout",
          "text": [
            "Detected person --> Age: 35 | Gender: {'Woman': np.float32(11.314295), 'Man': np.float32(88.6857)}\n"
          ]
        },
        {
          "output_type": "stream",
          "name": "stderr",
          "text": [
            "Action: gender: 100%|██████████| 2/2 [00:01<00:00,  1.64it/s]\n"
          ]
        },
        {
          "output_type": "stream",
          "name": "stdout",
          "text": [
            "Detected person --> Age: 35 | Gender: {'Woman': np.float32(11.484404), 'Man': np.float32(88.515594)}\n"
          ]
        },
        {
          "output_type": "stream",
          "name": "stderr",
          "text": [
            "Action: gender: 100%|██████████| 2/2 [00:00<00:00,  2.33it/s]\n"
          ]
        },
        {
          "output_type": "stream",
          "name": "stdout",
          "text": [
            "Detected person --> Age: 35 | Gender: {'Woman': np.float32(11.330427), 'Man': np.float32(88.66957)}\n"
          ]
        },
        {
          "output_type": "stream",
          "name": "stderr",
          "text": [
            "Action: gender: 100%|██████████| 2/2 [00:00<00:00,  2.28it/s]\n"
          ]
        },
        {
          "output_type": "stream",
          "name": "stdout",
          "text": [
            "Detected person --> Age: 35 | Gender: {'Woman': np.float32(11.736013), 'Man': np.float32(88.263985)}\n"
          ]
        },
        {
          "output_type": "stream",
          "name": "stderr",
          "text": [
            "Action: gender: 100%|██████████| 2/2 [00:00<00:00,  2.31it/s]\n"
          ]
        },
        {
          "output_type": "stream",
          "name": "stdout",
          "text": [
            "Detected person --> Age: 35 | Gender: {'Woman': np.float32(11.77443), 'Man': np.float32(88.22557)}\n"
          ]
        },
        {
          "output_type": "stream",
          "name": "stderr",
          "text": [
            "Action: gender: 100%|██████████| 2/2 [00:00<00:00,  2.30it/s]\n"
          ]
        },
        {
          "output_type": "stream",
          "name": "stdout",
          "text": [
            "Detected person --> Age: 35 | Gender: {'Woman': np.float32(12.093096), 'Man': np.float32(87.906906)}\n"
          ]
        },
        {
          "output_type": "stream",
          "name": "stderr",
          "text": [
            "Action: gender: 100%|██████████| 2/2 [00:00<00:00,  2.31it/s]\n"
          ]
        },
        {
          "output_type": "stream",
          "name": "stdout",
          "text": [
            "Detected person --> Age: 35 | Gender: {'Woman': np.float32(12.044366), 'Man': np.float32(87.955635)}\n"
          ]
        },
        {
          "output_type": "stream",
          "name": "stderr",
          "text": [
            "Action: gender: 100%|██████████| 2/2 [00:00<00:00,  2.31it/s]\n"
          ]
        },
        {
          "output_type": "stream",
          "name": "stdout",
          "text": [
            "Detected person --> Age: 35 | Gender: {'Woman': np.float32(12.051168), 'Man': np.float32(87.94884)}\n"
          ]
        },
        {
          "output_type": "stream",
          "name": "stderr",
          "text": [
            "Action: gender: 100%|██████████| 2/2 [00:00<00:00,  2.31it/s]\n"
          ]
        },
        {
          "output_type": "stream",
          "name": "stdout",
          "text": [
            "Detected person --> Age: 35 | Gender: {'Woman': np.float32(12.160274), 'Man': np.float32(87.83973)}\n"
          ]
        },
        {
          "output_type": "stream",
          "name": "stderr",
          "text": [
            "Action: gender: 100%|██████████| 2/2 [00:00<00:00,  2.31it/s]\n"
          ]
        },
        {
          "output_type": "stream",
          "name": "stdout",
          "text": [
            "Detected person --> Age: 35 | Gender: {'Woman': np.float32(12.317747), 'Man': np.float32(87.68225)}\n"
          ]
        },
        {
          "output_type": "stream",
          "name": "stderr",
          "text": [
            "Action: gender: 100%|██████████| 2/2 [00:00<00:00,  2.19it/s]\n"
          ]
        },
        {
          "output_type": "stream",
          "name": "stdout",
          "text": [
            "Detected person --> Age: 35 | Gender: {'Woman': np.float32(12.273847), 'Man': np.float32(87.72615)}\n"
          ]
        },
        {
          "output_type": "stream",
          "name": "stderr",
          "text": [
            "Action: gender: 100%|██████████| 2/2 [00:00<00:00,  2.12it/s]\n"
          ]
        },
        {
          "output_type": "stream",
          "name": "stdout",
          "text": [
            "Detected person --> Age: 35 | Gender: {'Woman': np.float32(12.3949585), 'Man': np.float32(87.60505)}\n"
          ]
        },
        {
          "output_type": "stream",
          "name": "stderr",
          "text": [
            "Action: gender: 100%|██████████| 2/2 [00:01<00:00,  1.56it/s]\n"
          ]
        },
        {
          "output_type": "stream",
          "name": "stdout",
          "text": [
            "Detected person --> Age: 35 | Gender: {'Woman': np.float32(12.307097), 'Man': np.float32(87.6929)}\n"
          ]
        },
        {
          "output_type": "stream",
          "name": "stderr",
          "text": [
            "Action: gender: 100%|██████████| 2/2 [00:00<00:00,  2.25it/s]\n"
          ]
        },
        {
          "output_type": "stream",
          "name": "stdout",
          "text": [
            "Detected person --> Age: 35 | Gender: {'Woman': np.float32(12.321873), 'Man': np.float32(87.67812)}\n"
          ]
        },
        {
          "output_type": "stream",
          "name": "stderr",
          "text": [
            "Action: gender: 100%|██████████| 2/2 [00:00<00:00,  2.30it/s]\n"
          ]
        },
        {
          "output_type": "stream",
          "name": "stdout",
          "text": [
            "Detected person --> Age: 35 | Gender: {'Woman': np.float32(12.569098), 'Man': np.float32(87.43091)}\n"
          ]
        },
        {
          "output_type": "stream",
          "name": "stderr",
          "text": [
            "Action: gender: 100%|██████████| 2/2 [00:00<00:00,  2.09it/s]\n"
          ]
        },
        {
          "output_type": "stream",
          "name": "stdout",
          "text": [
            "Detected person --> Age: 35 | Gender: {'Woman': np.float32(12.463142), 'Man': np.float32(87.53686)}\n"
          ]
        },
        {
          "output_type": "stream",
          "name": "stderr",
          "text": [
            "Action: gender: 100%|██████████| 2/2 [00:00<00:00,  2.13it/s]\n"
          ]
        },
        {
          "output_type": "stream",
          "name": "stdout",
          "text": [
            "Detected person --> Age: 35 | Gender: {'Woman': np.float32(12.560905), 'Man': np.float32(87.439095)}\n"
          ]
        },
        {
          "output_type": "stream",
          "name": "stderr",
          "text": [
            "Action: gender: 100%|██████████| 2/2 [00:00<00:00,  2.06it/s]\n"
          ]
        },
        {
          "output_type": "stream",
          "name": "stdout",
          "text": [
            "Detected person --> Age: 35 | Gender: {'Woman': np.float32(12.508707), 'Man': np.float32(87.491295)}\n"
          ]
        },
        {
          "output_type": "stream",
          "name": "stderr",
          "text": [
            "Action: gender: 100%|██████████| 2/2 [00:00<00:00,  2.05it/s]\n"
          ]
        },
        {
          "output_type": "stream",
          "name": "stdout",
          "text": [
            "Detected person --> Age: 35 | Gender: {'Woman': np.float32(12.633477), 'Man': np.float32(87.36652)}\n"
          ]
        },
        {
          "output_type": "stream",
          "name": "stderr",
          "text": [
            "Action: gender: 100%|██████████| 2/2 [00:00<00:00,  2.17it/s]\n"
          ]
        },
        {
          "output_type": "stream",
          "name": "stdout",
          "text": [
            "Detected person --> Age: 35 | Gender: {'Woman': np.float32(12.60524), 'Man': np.float32(87.39476)}\n"
          ]
        },
        {
          "output_type": "stream",
          "name": "stderr",
          "text": [
            "Action: gender: 100%|██████████| 2/2 [00:00<00:00,  2.22it/s]\n"
          ]
        },
        {
          "output_type": "stream",
          "name": "stdout",
          "text": [
            "Detected person --> Age: 35 | Gender: {'Woman': np.float32(12.573748), 'Man': np.float32(87.426254)}\n"
          ]
        },
        {
          "output_type": "stream",
          "name": "stderr",
          "text": [
            "Action: gender: 100%|██████████| 2/2 [00:00<00:00,  2.14it/s]\n"
          ]
        },
        {
          "output_type": "stream",
          "name": "stdout",
          "text": [
            "Detected person --> Age: 35 | Gender: {'Woman': np.float32(12.697011), 'Man': np.float32(87.302986)}\n"
          ]
        },
        {
          "output_type": "stream",
          "name": "stderr",
          "text": [
            "Action: gender: 100%|██████████| 2/2 [00:00<00:00,  2.12it/s]\n"
          ]
        },
        {
          "output_type": "stream",
          "name": "stdout",
          "text": [
            "Detected person --> Age: 35 | Gender: {'Woman': np.float32(12.644844), 'Man': np.float32(87.355156)}\n"
          ]
        },
        {
          "output_type": "stream",
          "name": "stderr",
          "text": [
            "Action: gender: 100%|██████████| 2/2 [00:01<00:00,  1.74it/s]\n"
          ]
        },
        {
          "output_type": "stream",
          "name": "stdout",
          "text": [
            "Detected person --> Age: 35 | Gender: {'Woman': np.float32(12.7577915), 'Man': np.float32(87.24221)}\n"
          ]
        },
        {
          "output_type": "stream",
          "name": "stderr",
          "text": [
            "Action: gender: 100%|██████████| 2/2 [00:00<00:00,  2.26it/s]\n"
          ]
        },
        {
          "output_type": "stream",
          "name": "stdout",
          "text": [
            "Detected person --> Age: 35 | Gender: {'Woman': np.float32(12.69437), 'Man': np.float32(87.305626)}\n"
          ]
        },
        {
          "output_type": "stream",
          "name": "stderr",
          "text": [
            "Action: gender: 100%|██████████| 2/2 [00:00<00:00,  2.29it/s]\n"
          ]
        },
        {
          "output_type": "stream",
          "name": "stdout",
          "text": [
            "Detected person --> Age: 35 | Gender: {'Woman': np.float32(12.523285), 'Man': np.float32(87.476715)}\n"
          ]
        },
        {
          "output_type": "stream",
          "name": "stderr",
          "text": [
            "Action: gender: 100%|██████████| 2/2 [00:00<00:00,  2.13it/s]\n"
          ]
        },
        {
          "output_type": "stream",
          "name": "stdout",
          "text": [
            "Detected person --> Age: 35 | Gender: {'Woman': np.float32(12.509279), 'Man': np.float32(87.490715)}\n"
          ]
        },
        {
          "output_type": "stream",
          "name": "stderr",
          "text": [
            "Action: gender: 100%|██████████| 2/2 [00:00<00:00,  2.25it/s]\n"
          ]
        },
        {
          "output_type": "stream",
          "name": "stdout",
          "text": [
            "Detected person --> Age: 35 | Gender: {'Woman': np.float32(12.621321), 'Man': np.float32(87.37868)}\n"
          ]
        },
        {
          "output_type": "stream",
          "name": "stderr",
          "text": [
            "Action: gender: 100%|██████████| 2/2 [00:00<00:00,  2.31it/s]\n"
          ]
        },
        {
          "output_type": "stream",
          "name": "stdout",
          "text": [
            "Detected person --> Age: 35 | Gender: {'Woman': np.float32(12.6856), 'Man': np.float32(87.3144)}\n"
          ]
        },
        {
          "output_type": "stream",
          "name": "stderr",
          "text": [
            "Action: gender: 100%|██████████| 2/2 [00:00<00:00,  2.26it/s]\n"
          ]
        },
        {
          "output_type": "stream",
          "name": "stdout",
          "text": [
            "Detected person --> Age: 35 | Gender: {'Woman': np.float32(12.586916), 'Man': np.float32(87.413086)}\n"
          ]
        },
        {
          "output_type": "stream",
          "name": "stderr",
          "text": [
            "Action: gender: 100%|██████████| 2/2 [00:00<00:00,  2.26it/s]\n"
          ]
        },
        {
          "output_type": "stream",
          "name": "stdout",
          "text": [
            "Detected person --> Age: 35 | Gender: {'Woman': np.float32(12.685673), 'Man': np.float32(87.31433)}\n"
          ]
        },
        {
          "output_type": "stream",
          "name": "stderr",
          "text": [
            "Action: gender: 100%|██████████| 2/2 [00:00<00:00,  2.15it/s]\n"
          ]
        },
        {
          "output_type": "stream",
          "name": "stdout",
          "text": [
            "Detected person --> Age: 35 | Gender: {'Woman': np.float32(12.529582), 'Man': np.float32(87.47042)}\n"
          ]
        },
        {
          "output_type": "stream",
          "name": "stderr",
          "text": [
            "Action: gender: 100%|██████████| 2/2 [00:00<00:00,  2.23it/s]\n"
          ]
        },
        {
          "output_type": "stream",
          "name": "stdout",
          "text": [
            "Detected person --> Age: 35 | Gender: {'Woman': np.float32(12.471701), 'Man': np.float32(87.5283)}\n"
          ]
        },
        {
          "output_type": "stream",
          "name": "stderr",
          "text": [
            "Action: gender: 100%|██████████| 2/2 [00:01<00:00,  1.86it/s]\n"
          ]
        },
        {
          "output_type": "stream",
          "name": "stdout",
          "text": [
            "Detected person --> Age: 35 | Gender: {'Woman': np.float32(12.620563), 'Man': np.float32(87.37944)}\n"
          ]
        },
        {
          "output_type": "stream",
          "name": "stderr",
          "text": [
            "Action: gender: 100%|██████████| 2/2 [00:01<00:00,  1.67it/s]\n"
          ]
        },
        {
          "output_type": "stream",
          "name": "stdout",
          "text": [
            "Detected person --> Age: 35 | Gender: {'Woman': np.float32(12.593731), 'Man': np.float32(87.40627)}\n"
          ]
        },
        {
          "output_type": "stream",
          "name": "stderr",
          "text": [
            "Action: gender: 100%|██████████| 2/2 [00:00<00:00,  2.12it/s]\n"
          ]
        },
        {
          "output_type": "stream",
          "name": "stdout",
          "text": [
            "Detected person --> Age: 35 | Gender: {'Woman': np.float32(12.584477), 'Man': np.float32(87.41553)}\n"
          ]
        },
        {
          "output_type": "stream",
          "name": "stderr",
          "text": [
            "Action: gender: 100%|██████████| 2/2 [00:00<00:00,  2.31it/s]\n"
          ]
        },
        {
          "output_type": "stream",
          "name": "stdout",
          "text": [
            "Detected person --> Age: 35 | Gender: {'Woman': np.float32(12.4916935), 'Man': np.float32(87.50831)}\n"
          ]
        },
        {
          "output_type": "stream",
          "name": "stderr",
          "text": [
            "Action: gender: 100%|██████████| 2/2 [00:00<00:00,  2.05it/s]\n"
          ]
        },
        {
          "output_type": "stream",
          "name": "stdout",
          "text": [
            "Detected person --> Age: 35 | Gender: {'Woman': np.float32(12.5636215), 'Man': np.float32(87.436386)}\n"
          ]
        },
        {
          "output_type": "stream",
          "name": "stderr",
          "text": [
            "Action: gender: 100%|██████████| 2/2 [00:00<00:00,  2.09it/s]\n"
          ]
        },
        {
          "output_type": "stream",
          "name": "stdout",
          "text": [
            "Detected person --> Age: 35 | Gender: {'Woman': np.float32(12.578996), 'Man': np.float32(87.421)}\n"
          ]
        },
        {
          "output_type": "stream",
          "name": "stderr",
          "text": [
            "Action: gender: 100%|██████████| 2/2 [00:00<00:00,  2.26it/s]\n"
          ]
        },
        {
          "output_type": "stream",
          "name": "stdout",
          "text": [
            "Detected person --> Age: 35 | Gender: {'Woman': np.float32(12.616041), 'Man': np.float32(87.38396)}\n"
          ]
        },
        {
          "output_type": "stream",
          "name": "stderr",
          "text": [
            "Action: gender: 100%|██████████| 2/2 [00:00<00:00,  2.19it/s]\n"
          ]
        },
        {
          "output_type": "stream",
          "name": "stdout",
          "text": [
            "Detected person --> Age: 35 | Gender: {'Woman': np.float32(12.624757), 'Man': np.float32(87.375244)}\n"
          ]
        },
        {
          "output_type": "stream",
          "name": "stderr",
          "text": [
            "Action: gender: 100%|██████████| 2/2 [00:00<00:00,  2.28it/s]\n"
          ]
        },
        {
          "output_type": "stream",
          "name": "stdout",
          "text": [
            "Detected person --> Age: 35 | Gender: {'Woman': np.float32(12.621781), 'Man': np.float32(87.37822)}\n"
          ]
        },
        {
          "output_type": "stream",
          "name": "stderr",
          "text": [
            "Action: gender: 100%|██████████| 2/2 [00:00<00:00,  2.32it/s]\n"
          ]
        },
        {
          "output_type": "stream",
          "name": "stdout",
          "text": [
            "Detected person --> Age: 35 | Gender: {'Woman': np.float32(12.6160755), 'Man': np.float32(87.38393)}\n"
          ]
        },
        {
          "output_type": "stream",
          "name": "stderr",
          "text": [
            "Action: gender: 100%|██████████| 2/2 [00:00<00:00,  2.28it/s]\n"
          ]
        },
        {
          "output_type": "stream",
          "name": "stdout",
          "text": [
            "Detected person --> Age: 35 | Gender: {'Woman': np.float32(12.595372), 'Man': np.float32(87.40463)}\n"
          ]
        },
        {
          "output_type": "stream",
          "name": "stderr",
          "text": [
            "Action: gender: 100%|██████████| 2/2 [00:01<00:00,  1.72it/s]\n"
          ]
        },
        {
          "output_type": "stream",
          "name": "stdout",
          "text": [
            "Detected person --> Age: 35 | Gender: {'Woman': np.float32(12.610303), 'Man': np.float32(87.3897)}\n"
          ]
        },
        {
          "output_type": "stream",
          "name": "stderr",
          "text": [
            "Action: gender: 100%|██████████| 2/2 [00:01<00:00,  1.91it/s]\n"
          ]
        },
        {
          "output_type": "stream",
          "name": "stdout",
          "text": [
            "Detected person --> Age: 35 | Gender: {'Woman': np.float32(12.6087265), 'Man': np.float32(87.39127)}\n"
          ]
        },
        {
          "output_type": "stream",
          "name": "stderr",
          "text": [
            "Action: gender: 100%|██████████| 2/2 [00:00<00:00,  2.22it/s]\n"
          ]
        },
        {
          "output_type": "stream",
          "name": "stdout",
          "text": [
            "Detected person --> Age: 36 | Gender: {'Woman': np.float32(12.589137), 'Man': np.float32(87.41086)}\n"
          ]
        },
        {
          "output_type": "stream",
          "name": "stderr",
          "text": [
            "Action: gender: 100%|██████████| 2/2 [00:00<00:00,  2.16it/s]\n"
          ]
        },
        {
          "output_type": "stream",
          "name": "stdout",
          "text": [
            "Detected person --> Age: 35 | Gender: {'Woman': np.float32(12.528001), 'Man': np.float32(87.472)}\n"
          ]
        },
        {
          "output_type": "stream",
          "name": "stderr",
          "text": [
            "Action: gender: 100%|██████████| 2/2 [00:00<00:00,  2.27it/s]"
          ]
        },
        {
          "output_type": "stream",
          "name": "stdout",
          "text": [
            "Detected person --> Age: 35 | Gender: {'Woman': np.float32(12.620022), 'Man': np.float32(87.37998)}\n"
          ]
        },
        {
          "output_type": "stream",
          "name": "stderr",
          "text": [
            "\n"
          ]
        },
        {
          "output_type": "execute_result",
          "data": {
            "text/plain": [
              "   Age                                  Gender                 Time\n",
              "0   36   {'Woman': 12.524462, 'Man': 87.47553}  2025-08-01 08:56:05\n",
              "1   36   {'Woman': 12.445368, 'Man': 87.55464}  2025-08-01 08:56:07\n",
              "2   36   {'Woman': 12.445112, 'Man': 87.55489}  2025-08-01 08:56:07\n",
              "3   36   {'Woman': 12.447479, 'Man': 87.55252}  2025-08-01 08:56:08\n",
              "4   36  {'Woman': 12.450559, 'Man': 87.549446}  2025-08-01 08:56:09"
            ],
            "text/html": [
              "\n",
              "  <div id=\"df-41ca9010-ae68-4bec-b527-c4fa90c95d76\" class=\"colab-df-container\">\n",
              "    <div>\n",
              "<style scoped>\n",
              "    .dataframe tbody tr th:only-of-type {\n",
              "        vertical-align: middle;\n",
              "    }\n",
              "\n",
              "    .dataframe tbody tr th {\n",
              "        vertical-align: top;\n",
              "    }\n",
              "\n",
              "    .dataframe thead th {\n",
              "        text-align: right;\n",
              "    }\n",
              "</style>\n",
              "<table border=\"1\" class=\"dataframe\">\n",
              "  <thead>\n",
              "    <tr style=\"text-align: right;\">\n",
              "      <th></th>\n",
              "      <th>Age</th>\n",
              "      <th>Gender</th>\n",
              "      <th>Time</th>\n",
              "    </tr>\n",
              "  </thead>\n",
              "  <tbody>\n",
              "    <tr>\n",
              "      <th>0</th>\n",
              "      <td>36</td>\n",
              "      <td>{'Woman': 12.524462, 'Man': 87.47553}</td>\n",
              "      <td>2025-08-01 08:56:05</td>\n",
              "    </tr>\n",
              "    <tr>\n",
              "      <th>1</th>\n",
              "      <td>36</td>\n",
              "      <td>{'Woman': 12.445368, 'Man': 87.55464}</td>\n",
              "      <td>2025-08-01 08:56:07</td>\n",
              "    </tr>\n",
              "    <tr>\n",
              "      <th>2</th>\n",
              "      <td>36</td>\n",
              "      <td>{'Woman': 12.445112, 'Man': 87.55489}</td>\n",
              "      <td>2025-08-01 08:56:07</td>\n",
              "    </tr>\n",
              "    <tr>\n",
              "      <th>3</th>\n",
              "      <td>36</td>\n",
              "      <td>{'Woman': 12.447479, 'Man': 87.55252}</td>\n",
              "      <td>2025-08-01 08:56:08</td>\n",
              "    </tr>\n",
              "    <tr>\n",
              "      <th>4</th>\n",
              "      <td>36</td>\n",
              "      <td>{'Woman': 12.450559, 'Man': 87.549446}</td>\n",
              "      <td>2025-08-01 08:56:09</td>\n",
              "    </tr>\n",
              "  </tbody>\n",
              "</table>\n",
              "</div>\n",
              "    <div class=\"colab-df-buttons\">\n",
              "\n",
              "  <div class=\"colab-df-container\">\n",
              "    <button class=\"colab-df-convert\" onclick=\"convertToInteractive('df-41ca9010-ae68-4bec-b527-c4fa90c95d76')\"\n",
              "            title=\"Convert this dataframe to an interactive table.\"\n",
              "            style=\"display:none;\">\n",
              "\n",
              "  <svg xmlns=\"http://www.w3.org/2000/svg\" height=\"24px\" viewBox=\"0 -960 960 960\">\n",
              "    <path d=\"M120-120v-720h720v720H120Zm60-500h600v-160H180v160Zm220 220h160v-160H400v160Zm0 220h160v-160H400v160ZM180-400h160v-160H180v160Zm440 0h160v-160H620v160ZM180-180h160v-160H180v160Zm440 0h160v-160H620v160Z\"/>\n",
              "  </svg>\n",
              "    </button>\n",
              "\n",
              "  <style>\n",
              "    .colab-df-container {\n",
              "      display:flex;\n",
              "      gap: 12px;\n",
              "    }\n",
              "\n",
              "    .colab-df-convert {\n",
              "      background-color: #E8F0FE;\n",
              "      border: none;\n",
              "      border-radius: 50%;\n",
              "      cursor: pointer;\n",
              "      display: none;\n",
              "      fill: #1967D2;\n",
              "      height: 32px;\n",
              "      padding: 0 0 0 0;\n",
              "      width: 32px;\n",
              "    }\n",
              "\n",
              "    .colab-df-convert:hover {\n",
              "      background-color: #E2EBFA;\n",
              "      box-shadow: 0px 1px 2px rgba(60, 64, 67, 0.3), 0px 1px 3px 1px rgba(60, 64, 67, 0.15);\n",
              "      fill: #174EA6;\n",
              "    }\n",
              "\n",
              "    .colab-df-buttons div {\n",
              "      margin-bottom: 4px;\n",
              "    }\n",
              "\n",
              "    [theme=dark] .colab-df-convert {\n",
              "      background-color: #3B4455;\n",
              "      fill: #D2E3FC;\n",
              "    }\n",
              "\n",
              "    [theme=dark] .colab-df-convert:hover {\n",
              "      background-color: #434B5C;\n",
              "      box-shadow: 0px 1px 3px 1px rgba(0, 0, 0, 0.15);\n",
              "      filter: drop-shadow(0px 1px 2px rgba(0, 0, 0, 0.3));\n",
              "      fill: #FFFFFF;\n",
              "    }\n",
              "  </style>\n",
              "\n",
              "    <script>\n",
              "      const buttonEl =\n",
              "        document.querySelector('#df-41ca9010-ae68-4bec-b527-c4fa90c95d76 button.colab-df-convert');\n",
              "      buttonEl.style.display =\n",
              "        google.colab.kernel.accessAllowed ? 'block' : 'none';\n",
              "\n",
              "      async function convertToInteractive(key) {\n",
              "        const element = document.querySelector('#df-41ca9010-ae68-4bec-b527-c4fa90c95d76');\n",
              "        const dataTable =\n",
              "          await google.colab.kernel.invokeFunction('convertToInteractive',\n",
              "                                                    [key], {});\n",
              "        if (!dataTable) return;\n",
              "\n",
              "        const docLinkHtml = 'Like what you see? Visit the ' +\n",
              "          '<a target=\"_blank\" href=https://colab.research.google.com/notebooks/data_table.ipynb>data table notebook</a>'\n",
              "          + ' to learn more about interactive tables.';\n",
              "        element.innerHTML = '';\n",
              "        dataTable['output_type'] = 'display_data';\n",
              "        await google.colab.output.renderOutput(dataTable, element);\n",
              "        const docLink = document.createElement('div');\n",
              "        docLink.innerHTML = docLinkHtml;\n",
              "        element.appendChild(docLink);\n",
              "      }\n",
              "    </script>\n",
              "  </div>\n",
              "\n",
              "\n",
              "    <div id=\"df-e2d163e0-5c2a-485b-9d59-1f8a0364fc71\">\n",
              "      <button class=\"colab-df-quickchart\" onclick=\"quickchart('df-e2d163e0-5c2a-485b-9d59-1f8a0364fc71')\"\n",
              "                title=\"Suggest charts\"\n",
              "                style=\"display:none;\">\n",
              "\n",
              "<svg xmlns=\"http://www.w3.org/2000/svg\" height=\"24px\"viewBox=\"0 0 24 24\"\n",
              "     width=\"24px\">\n",
              "    <g>\n",
              "        <path d=\"M19 3H5c-1.1 0-2 .9-2 2v14c0 1.1.9 2 2 2h14c1.1 0 2-.9 2-2V5c0-1.1-.9-2-2-2zM9 17H7v-7h2v7zm4 0h-2V7h2v10zm4 0h-2v-4h2v4z\"/>\n",
              "    </g>\n",
              "</svg>\n",
              "      </button>\n",
              "\n",
              "<style>\n",
              "  .colab-df-quickchart {\n",
              "      --bg-color: #E8F0FE;\n",
              "      --fill-color: #1967D2;\n",
              "      --hover-bg-color: #E2EBFA;\n",
              "      --hover-fill-color: #174EA6;\n",
              "      --disabled-fill-color: #AAA;\n",
              "      --disabled-bg-color: #DDD;\n",
              "  }\n",
              "\n",
              "  [theme=dark] .colab-df-quickchart {\n",
              "      --bg-color: #3B4455;\n",
              "      --fill-color: #D2E3FC;\n",
              "      --hover-bg-color: #434B5C;\n",
              "      --hover-fill-color: #FFFFFF;\n",
              "      --disabled-bg-color: #3B4455;\n",
              "      --disabled-fill-color: #666;\n",
              "  }\n",
              "\n",
              "  .colab-df-quickchart {\n",
              "    background-color: var(--bg-color);\n",
              "    border: none;\n",
              "    border-radius: 50%;\n",
              "    cursor: pointer;\n",
              "    display: none;\n",
              "    fill: var(--fill-color);\n",
              "    height: 32px;\n",
              "    padding: 0;\n",
              "    width: 32px;\n",
              "  }\n",
              "\n",
              "  .colab-df-quickchart:hover {\n",
              "    background-color: var(--hover-bg-color);\n",
              "    box-shadow: 0 1px 2px rgba(60, 64, 67, 0.3), 0 1px 3px 1px rgba(60, 64, 67, 0.15);\n",
              "    fill: var(--button-hover-fill-color);\n",
              "  }\n",
              "\n",
              "  .colab-df-quickchart-complete:disabled,\n",
              "  .colab-df-quickchart-complete:disabled:hover {\n",
              "    background-color: var(--disabled-bg-color);\n",
              "    fill: var(--disabled-fill-color);\n",
              "    box-shadow: none;\n",
              "  }\n",
              "\n",
              "  .colab-df-spinner {\n",
              "    border: 2px solid var(--fill-color);\n",
              "    border-color: transparent;\n",
              "    border-bottom-color: var(--fill-color);\n",
              "    animation:\n",
              "      spin 1s steps(1) infinite;\n",
              "  }\n",
              "\n",
              "  @keyframes spin {\n",
              "    0% {\n",
              "      border-color: transparent;\n",
              "      border-bottom-color: var(--fill-color);\n",
              "      border-left-color: var(--fill-color);\n",
              "    }\n",
              "    20% {\n",
              "      border-color: transparent;\n",
              "      border-left-color: var(--fill-color);\n",
              "      border-top-color: var(--fill-color);\n",
              "    }\n",
              "    30% {\n",
              "      border-color: transparent;\n",
              "      border-left-color: var(--fill-color);\n",
              "      border-top-color: var(--fill-color);\n",
              "      border-right-color: var(--fill-color);\n",
              "    }\n",
              "    40% {\n",
              "      border-color: transparent;\n",
              "      border-right-color: var(--fill-color);\n",
              "      border-top-color: var(--fill-color);\n",
              "    }\n",
              "    60% {\n",
              "      border-color: transparent;\n",
              "      border-right-color: var(--fill-color);\n",
              "    }\n",
              "    80% {\n",
              "      border-color: transparent;\n",
              "      border-right-color: var(--fill-color);\n",
              "      border-bottom-color: var(--fill-color);\n",
              "    }\n",
              "    90% {\n",
              "      border-color: transparent;\n",
              "      border-bottom-color: var(--fill-color);\n",
              "    }\n",
              "  }\n",
              "</style>\n",
              "\n",
              "      <script>\n",
              "        async function quickchart(key) {\n",
              "          const quickchartButtonEl =\n",
              "            document.querySelector('#' + key + ' button');\n",
              "          quickchartButtonEl.disabled = true;  // To prevent multiple clicks.\n",
              "          quickchartButtonEl.classList.add('colab-df-spinner');\n",
              "          try {\n",
              "            const charts = await google.colab.kernel.invokeFunction(\n",
              "                'suggestCharts', [key], {});\n",
              "          } catch (error) {\n",
              "            console.error('Error during call to suggestCharts:', error);\n",
              "          }\n",
              "          quickchartButtonEl.classList.remove('colab-df-spinner');\n",
              "          quickchartButtonEl.classList.add('colab-df-quickchart-complete');\n",
              "        }\n",
              "        (() => {\n",
              "          let quickchartButtonEl =\n",
              "            document.querySelector('#df-e2d163e0-5c2a-485b-9d59-1f8a0364fc71 button');\n",
              "          quickchartButtonEl.style.display =\n",
              "            google.colab.kernel.accessAllowed ? 'block' : 'none';\n",
              "        })();\n",
              "      </script>\n",
              "    </div>\n",
              "\n",
              "    </div>\n",
              "  </div>\n"
            ],
            "application/vnd.google.colaboratory.intrinsic+json": {
              "type": "dataframe",
              "variable_name": "df",
              "summary": "{\n  \"name\": \"df\",\n  \"rows\": 1298,\n  \"fields\": [\n    {\n      \"column\": \"Age\",\n      \"properties\": {\n        \"dtype\": \"number\",\n        \"std\": 3,\n        \"min\": 23,\n        \"max\": 44,\n        \"num_unique_values\": 22,\n        \"samples\": [\n          36,\n          31,\n          30\n        ],\n        \"semantic_type\": \"\",\n        \"description\": \"\"\n      }\n    },\n    {\n      \"column\": \"Gender\",\n      \"properties\": {\n        \"dtype\": \"object\",\n        \"semantic_type\": \"\",\n        \"description\": \"\"\n      }\n    },\n    {\n      \"column\": \"Time\",\n      \"properties\": {\n        \"dtype\": \"object\",\n        \"num_unique_values\": 1075,\n        \"samples\": [\n          \"2025-08-01 09:04:44\",\n          \"2025-08-01 09:01:34\",\n          \"2025-08-01 09:01:27\"\n        ],\n        \"semantic_type\": \"\",\n        \"description\": \"\"\n      }\n    }\n  ]\n}"
            }
          },
          "metadata": {},
          "execution_count": 7
        }
      ],
      "source": [
        "from deepface import DeepFace\n",
        "import cv2\n",
        "from datetime import datetime\n",
        "import pandas as pd\n",
        "\n",
        "# Load video file\n",
        "cap = cv2.VideoCapture(\"face-demographics-walking-and-pause.mp4\")\n",
        "\n",
        "# Data will be stored here\n",
        "senior_data = []\n",
        "\n",
        "while cap.isOpened():\n",
        "    ret, frame = cap.read()\n",
        "    if not ret:\n",
        "        break\n",
        "\n",
        "    try:\n",
        "        # Analyze the frame\n",
        "        results = DeepFace.analyze(frame, actions=['age', 'gender'], enforce_detection=False)\n",
        "\n",
        "        # Handle both single and multiple faces\n",
        "        if not isinstance(results, list):\n",
        "            results = [results]\n",
        "\n",
        "        for person in results:\n",
        "            age = person['age']\n",
        "            gender = person['gender']\n",
        "\n",
        "            # Show what's being detected\n",
        "            print(f\"Detected person --> Age: {age} | Gender: {gender}\")\n",
        "\n",
        "            # TEMPORARY: Save all people (even under 60) just for testing\n",
        "            now = datetime.now().strftime(\"%Y-%m-%d %H:%M:%S\")\n",
        "            senior_data.append([int(age), gender, now])\n",
        "\n",
        "    except Exception as e:\n",
        "        print(\"Error analyzing frame:\", e)\n",
        "\n",
        "cap.release()\n",
        "\n",
        "# Save the data to a CSV\n",
        "df = pd.DataFrame(senior_data, columns=[\"Age\", \"Gender\", \"Time\"])\n",
        "df.to_csv(\"senior_visits.csv\", index=False)\n",
        "df.head()\n"
      ]
    },
    {
      "cell_type": "code",
      "source": [
        "from google.colab import files\n",
        "uploaded = files.upload()\n"
      ],
      "metadata": {
        "colab": {
          "base_uri": "https://localhost:8080/",
          "height": 73
        },
        "id": "XlUGgE6b1lEr",
        "outputId": "60d5ed43-3093-437d-f3d3-c8dd0d4c1b94"
      },
      "execution_count": 6,
      "outputs": [
        {
          "output_type": "display_data",
          "data": {
            "text/plain": [
              "<IPython.core.display.HTML object>"
            ],
            "text/html": [
              "\n",
              "     <input type=\"file\" id=\"files-86e733ee-5dba-45aa-ae39-d555fd81d3db\" name=\"files[]\" multiple disabled\n",
              "        style=\"border:none\" />\n",
              "     <output id=\"result-86e733ee-5dba-45aa-ae39-d555fd81d3db\">\n",
              "      Upload widget is only available when the cell has been executed in the\n",
              "      current browser session. Please rerun this cell to enable.\n",
              "      </output>\n",
              "      <script>// Copyright 2017 Google LLC\n",
              "//\n",
              "// Licensed under the Apache License, Version 2.0 (the \"License\");\n",
              "// you may not use this file except in compliance with the License.\n",
              "// You may obtain a copy of the License at\n",
              "//\n",
              "//      http://www.apache.org/licenses/LICENSE-2.0\n",
              "//\n",
              "// Unless required by applicable law or agreed to in writing, software\n",
              "// distributed under the License is distributed on an \"AS IS\" BASIS,\n",
              "// WITHOUT WARRANTIES OR CONDITIONS OF ANY KIND, either express or implied.\n",
              "// See the License for the specific language governing permissions and\n",
              "// limitations under the License.\n",
              "\n",
              "/**\n",
              " * @fileoverview Helpers for google.colab Python module.\n",
              " */\n",
              "(function(scope) {\n",
              "function span(text, styleAttributes = {}) {\n",
              "  const element = document.createElement('span');\n",
              "  element.textContent = text;\n",
              "  for (const key of Object.keys(styleAttributes)) {\n",
              "    element.style[key] = styleAttributes[key];\n",
              "  }\n",
              "  return element;\n",
              "}\n",
              "\n",
              "// Max number of bytes which will be uploaded at a time.\n",
              "const MAX_PAYLOAD_SIZE = 100 * 1024;\n",
              "\n",
              "function _uploadFiles(inputId, outputId) {\n",
              "  const steps = uploadFilesStep(inputId, outputId);\n",
              "  const outputElement = document.getElementById(outputId);\n",
              "  // Cache steps on the outputElement to make it available for the next call\n",
              "  // to uploadFilesContinue from Python.\n",
              "  outputElement.steps = steps;\n",
              "\n",
              "  return _uploadFilesContinue(outputId);\n",
              "}\n",
              "\n",
              "// This is roughly an async generator (not supported in the browser yet),\n",
              "// where there are multiple asynchronous steps and the Python side is going\n",
              "// to poll for completion of each step.\n",
              "// This uses a Promise to block the python side on completion of each step,\n",
              "// then passes the result of the previous step as the input to the next step.\n",
              "function _uploadFilesContinue(outputId) {\n",
              "  const outputElement = document.getElementById(outputId);\n",
              "  const steps = outputElement.steps;\n",
              "\n",
              "  const next = steps.next(outputElement.lastPromiseValue);\n",
              "  return Promise.resolve(next.value.promise).then((value) => {\n",
              "    // Cache the last promise value to make it available to the next\n",
              "    // step of the generator.\n",
              "    outputElement.lastPromiseValue = value;\n",
              "    return next.value.response;\n",
              "  });\n",
              "}\n",
              "\n",
              "/**\n",
              " * Generator function which is called between each async step of the upload\n",
              " * process.\n",
              " * @param {string} inputId Element ID of the input file picker element.\n",
              " * @param {string} outputId Element ID of the output display.\n",
              " * @return {!Iterable<!Object>} Iterable of next steps.\n",
              " */\n",
              "function* uploadFilesStep(inputId, outputId) {\n",
              "  const inputElement = document.getElementById(inputId);\n",
              "  inputElement.disabled = false;\n",
              "\n",
              "  const outputElement = document.getElementById(outputId);\n",
              "  outputElement.innerHTML = '';\n",
              "\n",
              "  const pickedPromise = new Promise((resolve) => {\n",
              "    inputElement.addEventListener('change', (e) => {\n",
              "      resolve(e.target.files);\n",
              "    });\n",
              "  });\n",
              "\n",
              "  const cancel = document.createElement('button');\n",
              "  inputElement.parentElement.appendChild(cancel);\n",
              "  cancel.textContent = 'Cancel upload';\n",
              "  const cancelPromise = new Promise((resolve) => {\n",
              "    cancel.onclick = () => {\n",
              "      resolve(null);\n",
              "    };\n",
              "  });\n",
              "\n",
              "  // Wait for the user to pick the files.\n",
              "  const files = yield {\n",
              "    promise: Promise.race([pickedPromise, cancelPromise]),\n",
              "    response: {\n",
              "      action: 'starting',\n",
              "    }\n",
              "  };\n",
              "\n",
              "  cancel.remove();\n",
              "\n",
              "  // Disable the input element since further picks are not allowed.\n",
              "  inputElement.disabled = true;\n",
              "\n",
              "  if (!files) {\n",
              "    return {\n",
              "      response: {\n",
              "        action: 'complete',\n",
              "      }\n",
              "    };\n",
              "  }\n",
              "\n",
              "  for (const file of files) {\n",
              "    const li = document.createElement('li');\n",
              "    li.append(span(file.name, {fontWeight: 'bold'}));\n",
              "    li.append(span(\n",
              "        `(${file.type || 'n/a'}) - ${file.size} bytes, ` +\n",
              "        `last modified: ${\n",
              "            file.lastModifiedDate ? file.lastModifiedDate.toLocaleDateString() :\n",
              "                                    'n/a'} - `));\n",
              "    const percent = span('0% done');\n",
              "    li.appendChild(percent);\n",
              "\n",
              "    outputElement.appendChild(li);\n",
              "\n",
              "    const fileDataPromise = new Promise((resolve) => {\n",
              "      const reader = new FileReader();\n",
              "      reader.onload = (e) => {\n",
              "        resolve(e.target.result);\n",
              "      };\n",
              "      reader.readAsArrayBuffer(file);\n",
              "    });\n",
              "    // Wait for the data to be ready.\n",
              "    let fileData = yield {\n",
              "      promise: fileDataPromise,\n",
              "      response: {\n",
              "        action: 'continue',\n",
              "      }\n",
              "    };\n",
              "\n",
              "    // Use a chunked sending to avoid message size limits. See b/62115660.\n",
              "    let position = 0;\n",
              "    do {\n",
              "      const length = Math.min(fileData.byteLength - position, MAX_PAYLOAD_SIZE);\n",
              "      const chunk = new Uint8Array(fileData, position, length);\n",
              "      position += length;\n",
              "\n",
              "      const base64 = btoa(String.fromCharCode.apply(null, chunk));\n",
              "      yield {\n",
              "        response: {\n",
              "          action: 'append',\n",
              "          file: file.name,\n",
              "          data: base64,\n",
              "        },\n",
              "      };\n",
              "\n",
              "      let percentDone = fileData.byteLength === 0 ?\n",
              "          100 :\n",
              "          Math.round((position / fileData.byteLength) * 100);\n",
              "      percent.textContent = `${percentDone}% done`;\n",
              "\n",
              "    } while (position < fileData.byteLength);\n",
              "  }\n",
              "\n",
              "  // All done.\n",
              "  yield {\n",
              "    response: {\n",
              "      action: 'complete',\n",
              "    }\n",
              "  };\n",
              "}\n",
              "\n",
              "scope.google = scope.google || {};\n",
              "scope.google.colab = scope.google.colab || {};\n",
              "scope.google.colab._files = {\n",
              "  _uploadFiles,\n",
              "  _uploadFilesContinue,\n",
              "};\n",
              "})(self);\n",
              "</script> "
            ]
          },
          "metadata": {}
        },
        {
          "output_type": "stream",
          "name": "stdout",
          "text": [
            "Saving face-demographics-walking-and-pause.mp4 to face-demographics-walking-and-pause.mp4\n"
          ]
        }
      ]
    },
    {
      "cell_type": "code",
      "source": [
        "from google.colab import files\n",
        "files.download(\"senior_visits.csv\")\n"
      ],
      "metadata": {
        "colab": {
          "base_uri": "https://localhost:8080/",
          "height": 17
        },
        "id": "FCzbuxTY2FVV",
        "outputId": "4d076490-4212-4ac8-d43c-24ef0ab3a8a6"
      },
      "execution_count": 8,
      "outputs": [
        {
          "output_type": "display_data",
          "data": {
            "text/plain": [
              "<IPython.core.display.Javascript object>"
            ],
            "application/javascript": [
              "\n",
              "    async function download(id, filename, size) {\n",
              "      if (!google.colab.kernel.accessAllowed) {\n",
              "        return;\n",
              "      }\n",
              "      const div = document.createElement('div');\n",
              "      const label = document.createElement('label');\n",
              "      label.textContent = `Downloading \"${filename}\": `;\n",
              "      div.appendChild(label);\n",
              "      const progress = document.createElement('progress');\n",
              "      progress.max = size;\n",
              "      div.appendChild(progress);\n",
              "      document.body.appendChild(div);\n",
              "\n",
              "      const buffers = [];\n",
              "      let downloaded = 0;\n",
              "\n",
              "      const channel = await google.colab.kernel.comms.open(id);\n",
              "      // Send a message to notify the kernel that we're ready.\n",
              "      channel.send({})\n",
              "\n",
              "      for await (const message of channel.messages) {\n",
              "        // Send a message to notify the kernel that we're ready.\n",
              "        channel.send({})\n",
              "        if (message.buffers) {\n",
              "          for (const buffer of message.buffers) {\n",
              "            buffers.push(buffer);\n",
              "            downloaded += buffer.byteLength;\n",
              "            progress.value = downloaded;\n",
              "          }\n",
              "        }\n",
              "      }\n",
              "      const blob = new Blob(buffers, {type: 'application/binary'});\n",
              "      const a = document.createElement('a');\n",
              "      a.href = window.URL.createObjectURL(blob);\n",
              "      a.download = filename;\n",
              "      div.appendChild(a);\n",
              "      a.click();\n",
              "      div.remove();\n",
              "    }\n",
              "  "
            ]
          },
          "metadata": {}
        },
        {
          "output_type": "display_data",
          "data": {
            "text/plain": [
              "<IPython.core.display.Javascript object>"
            ],
            "application/javascript": [
              "download(\"download_fd3ab49a-6ae9-4072-9621-97fa381771ca\", \"senior_visits.csv\", 112988)"
            ]
          },
          "metadata": {}
        }
      ]
    }
  ]
}